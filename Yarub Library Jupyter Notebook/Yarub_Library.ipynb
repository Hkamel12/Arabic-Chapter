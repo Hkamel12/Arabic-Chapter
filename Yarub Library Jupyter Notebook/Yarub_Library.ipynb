{
  "nbformat": 4,
  "nbformat_minor": 0,
  "metadata": {
    "colab": {
      "name": "Yarub Library ",
      "provenance": [],
      "collapsed_sections": []
    },
    "kernelspec": {
      "name": "python3",
      "display_name": "Python 3"
    }
  },
  "cells": [
    {
      "cell_type": "markdown",
      "metadata": {
        "id": "uoUi4Km35iwj"
      },
      "source": [
        "## **Yarub**\n",
        "\n",
        "This is a head start to Modern standard arabic training dataset library which provides Morphological, Named Entity recognization, Sentiment Analysis, Word Embedding, Dialect Identification,Part of speech and so on training dataset.\n",
        "\n",
        "Downloading the library with specific version using pip command."
      ]
    },
    {
      "cell_type": "code",
      "metadata": {
        "id": "H9O0aMhAMC1R",
        "colab": {
          "base_uri": "https://localhost:8080/"
        },
        "outputId": "fa28f940-19ea-41b0-f2be-43a5f2a389f3"
      },
      "source": [
        "!pip install yarub==0.1.0"
      ],
      "execution_count": 1,
      "outputs": [
        {
          "output_type": "stream",
          "text": [
            "Collecting yarub==0.1.0\n",
            "  Downloading https://files.pythonhosted.org/packages/87/46/4dddf91066b739d9a07cc6d13b6fd01f97f8b570421af17f9d9e7d0e8b2b/yarub-0.1.0-py3-none-any.whl\n",
            "Installing collected packages: yarub\n",
            "Successfully installed yarub-0.1.0\n"
          ],
          "name": "stdout"
        }
      ]
    },
    {
      "cell_type": "markdown",
      "metadata": {
        "id": "O5rmMpRR598i"
      },
      "source": [
        " # Load Library package after successful installation.\n",
        "\n"
      ]
    },
    {
      "cell_type": "code",
      "metadata": {
        "id": "fx_30LMHP8l8"
      },
      "source": [
        "from yarub import *\n",
        "from yarub import load_sentiment,load_ner,load_dialect,load_word_embedding,load_morphology,load_pos"
      ],
      "execution_count": 2,
      "outputs": []
    },
    {
      "cell_type": "markdown",
      "metadata": {
        "id": "7ijQqE8n6NMI"
      },
      "source": [
        "#Load the dataset in your system.\n",
        "\n",
        "---\n",
        "\n"
      ]
    },
    {
      "cell_type": "code",
      "metadata": {
        "colab": {
          "base_uri": "https://localhost:8080/"
        },
        "id": "Hx3Hxt1-QJPs",
        "outputId": "cf840a16-d63e-4007-9e09-3e95c3aeac49"
      },
      "source": [
        "df = load_sentiment() "
      ],
      "execution_count": 3,
      "outputs": [
        {
          "output_type": "stream",
          "text": [
            "[INFO] Downloading\n",
            "[INFO] Extracting\n",
            "[INFO] Done\n"
          ],
          "name": "stdout"
        }
      ]
    },
    {
      "cell_type": "code",
      "metadata": {
        "colab": {
          "base_uri": "https://localhost:8080/"
        },
        "id": "Ofi4z4yhQMWP",
        "outputId": "56e91f98-366e-413b-af27-2b0a9d06ce63"
      },
      "source": [
        "df1 = load_ner()"
      ],
      "execution_count": 4,
      "outputs": [
        {
          "output_type": "stream",
          "text": [
            "[INFO] Downloading\n",
            "[INFO] Done\n"
          ],
          "name": "stdout"
        }
      ]
    },
    {
      "cell_type": "code",
      "metadata": {
        "colab": {
          "base_uri": "https://localhost:8080/"
        },
        "id": "30JcPsc4QxPp",
        "outputId": "a4ea1ce1-0f3a-45cb-ea49-517d4d7c5ea6"
      },
      "source": [
        "df2 = load_dialect() "
      ],
      "execution_count": 5,
      "outputs": [
        {
          "output_type": "stream",
          "text": [
            "[INFO] Downloading\n",
            "[INFO] Extracting\n",
            "[INFO] Done\n"
          ],
          "name": "stdout"
        }
      ]
    },
    {
      "cell_type": "code",
      "metadata": {
        "colab": {
          "base_uri": "https://localhost:8080/"
        },
        "id": "wn6yeuaeQq6o",
        "outputId": "3ba62ee5-48fc-48a1-d1b1-aa53ee99b54a"
      },
      "source": [
        "df3 = load_word_embedding() "
      ],
      "execution_count": 6,
      "outputs": [
        {
          "output_type": "stream",
          "text": [
            "[INFO] Downloading\n",
            "[INFO] Extracting\n",
            "[INFO] Done\n"
          ],
          "name": "stdout"
        }
      ]
    },
    {
      "cell_type": "code",
      "metadata": {
        "colab": {
          "base_uri": "https://localhost:8080/"
        },
        "id": "vypgm0gSQ9Ae",
        "outputId": "3cf51a29-cc35-4a12-c16f-8aafc7843565"
      },
      "source": [
        "df4 = load_morphology()"
      ],
      "execution_count": 7,
      "outputs": [
        {
          "output_type": "stream",
          "text": [
            "[INFO] Downloading\n",
            "[INFO] Extracting\n",
            "[INFO] Done\n"
          ],
          "name": "stdout"
        }
      ]
    },
    {
      "cell_type": "code",
      "metadata": {
        "colab": {
          "base_uri": "https://localhost:8080/"
        },
        "id": "0ZHL2ZPTRBU8",
        "outputId": "631bad50-e23c-4225-fc29-c1add328bf9e"
      },
      "source": [
        "df5 = load_pos()"
      ],
      "execution_count": 8,
      "outputs": [
        {
          "output_type": "stream",
          "text": [
            "[INFO] Downloading\n",
            "[INFO] Extracting\n",
            "[INFO] Done\n"
          ],
          "name": "stdout"
        }
      ]
    },
    {
      "cell_type": "code",
      "metadata": {
        "id": "aqDf7OmF5fTu"
      },
      "source": [
        ""
      ],
      "execution_count": null,
      "outputs": []
    },
    {
      "cell_type": "code",
      "metadata": {
        "id": "pFWfo0pDRDyc"
      },
      "source": [
        ""
      ],
      "execution_count": null,
      "outputs": []
    }
  ]
}