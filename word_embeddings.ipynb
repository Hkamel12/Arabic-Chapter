{
  "nbformat": 4,
  "nbformat_minor": 0,
  "metadata": {
    "colab": {
      "name": "word-embeddings.ipynb",
      "provenance": [],
      "collapsed_sections": [
        "fEAgRAK43tsY"
      ]
    },
    "kernelspec": {
      "name": "python3",
      "display_name": "Python 3"
    },
    "language_info": {
      "name": "python"
    },
    "accelerator": "GPU",
    "widgets": {
      "application/vnd.jupyter.widget-state+json": {
        "fb9c3ba0c565498c97578ba9e119075f": {
          "model_module": "@jupyter-widgets/controls",
          "model_name": "HBoxModel",
          "state": {
            "_view_name": "HBoxView",
            "_dom_classes": [],
            "_model_name": "HBoxModel",
            "_view_module": "@jupyter-widgets/controls",
            "_model_module_version": "1.5.0",
            "_view_count": null,
            "_view_module_version": "1.5.0",
            "box_style": "",
            "layout": "IPY_MODEL_eb89145a0ce9440aa1c4f51f4711127b",
            "_model_module": "@jupyter-widgets/controls",
            "children": [
              "IPY_MODEL_3c7098650a564ccba7de026b6b1ccedd",
              "IPY_MODEL_362f5a20c5f04a3dbbb883bfce1719a8"
            ]
          }
        },
        "eb89145a0ce9440aa1c4f51f4711127b": {
          "model_module": "@jupyter-widgets/base",
          "model_name": "LayoutModel",
          "state": {
            "_view_name": "LayoutView",
            "grid_template_rows": null,
            "right": null,
            "justify_content": null,
            "_view_module": "@jupyter-widgets/base",
            "overflow": null,
            "_model_module_version": "1.2.0",
            "_view_count": null,
            "flex_flow": null,
            "width": null,
            "min_width": null,
            "border": null,
            "align_items": null,
            "bottom": null,
            "_model_module": "@jupyter-widgets/base",
            "top": null,
            "grid_column": null,
            "overflow_y": null,
            "overflow_x": null,
            "grid_auto_flow": null,
            "grid_area": null,
            "grid_template_columns": null,
            "flex": null,
            "_model_name": "LayoutModel",
            "justify_items": null,
            "grid_row": null,
            "max_height": null,
            "align_content": null,
            "visibility": null,
            "align_self": null,
            "height": null,
            "min_height": null,
            "padding": null,
            "grid_auto_rows": null,
            "grid_gap": null,
            "max_width": null,
            "order": null,
            "_view_module_version": "1.2.0",
            "grid_template_areas": null,
            "object_position": null,
            "object_fit": null,
            "grid_auto_columns": null,
            "margin": null,
            "display": null,
            "left": null
          }
        },
        "3c7098650a564ccba7de026b6b1ccedd": {
          "model_module": "@jupyter-widgets/controls",
          "model_name": "FloatProgressModel",
          "state": {
            "_view_name": "ProgressView",
            "style": "IPY_MODEL_ce19c8842aa546459031698dc292d32b",
            "_dom_classes": [],
            "description": "100%",
            "_model_name": "FloatProgressModel",
            "bar_style": "success",
            "max": 76222,
            "_view_module": "@jupyter-widgets/controls",
            "_model_module_version": "1.5.0",
            "value": 76222,
            "_view_count": null,
            "_view_module_version": "1.5.0",
            "orientation": "horizontal",
            "min": 0,
            "description_tooltip": null,
            "_model_module": "@jupyter-widgets/controls",
            "layout": "IPY_MODEL_4e15347f0e0743b2aff86ab087ad2a6c"
          }
        },
        "362f5a20c5f04a3dbbb883bfce1719a8": {
          "model_module": "@jupyter-widgets/controls",
          "model_name": "HTMLModel",
          "state": {
            "_view_name": "HTMLView",
            "style": "IPY_MODEL_414b011a26bb45969df0c392bb35e2dd",
            "_dom_classes": [],
            "description": "",
            "_model_name": "HTMLModel",
            "placeholder": "​",
            "_view_module": "@jupyter-widgets/controls",
            "_model_module_version": "1.5.0",
            "value": " 76222/76222 [00:01&lt;00:00, 69158.56it/s]",
            "_view_count": null,
            "_view_module_version": "1.5.0",
            "description_tooltip": null,
            "_model_module": "@jupyter-widgets/controls",
            "layout": "IPY_MODEL_99ca8ceea54e4a349e2c87600b53745f"
          }
        },
        "ce19c8842aa546459031698dc292d32b": {
          "model_module": "@jupyter-widgets/controls",
          "model_name": "ProgressStyleModel",
          "state": {
            "_view_name": "StyleView",
            "_model_name": "ProgressStyleModel",
            "description_width": "initial",
            "_view_module": "@jupyter-widgets/base",
            "_model_module_version": "1.5.0",
            "_view_count": null,
            "_view_module_version": "1.2.0",
            "bar_color": null,
            "_model_module": "@jupyter-widgets/controls"
          }
        },
        "4e15347f0e0743b2aff86ab087ad2a6c": {
          "model_module": "@jupyter-widgets/base",
          "model_name": "LayoutModel",
          "state": {
            "_view_name": "LayoutView",
            "grid_template_rows": null,
            "right": null,
            "justify_content": null,
            "_view_module": "@jupyter-widgets/base",
            "overflow": null,
            "_model_module_version": "1.2.0",
            "_view_count": null,
            "flex_flow": null,
            "width": null,
            "min_width": null,
            "border": null,
            "align_items": null,
            "bottom": null,
            "_model_module": "@jupyter-widgets/base",
            "top": null,
            "grid_column": null,
            "overflow_y": null,
            "overflow_x": null,
            "grid_auto_flow": null,
            "grid_area": null,
            "grid_template_columns": null,
            "flex": null,
            "_model_name": "LayoutModel",
            "justify_items": null,
            "grid_row": null,
            "max_height": null,
            "align_content": null,
            "visibility": null,
            "align_self": null,
            "height": null,
            "min_height": null,
            "padding": null,
            "grid_auto_rows": null,
            "grid_gap": null,
            "max_width": null,
            "order": null,
            "_view_module_version": "1.2.0",
            "grid_template_areas": null,
            "object_position": null,
            "object_fit": null,
            "grid_auto_columns": null,
            "margin": null,
            "display": null,
            "left": null
          }
        },
        "414b011a26bb45969df0c392bb35e2dd": {
          "model_module": "@jupyter-widgets/controls",
          "model_name": "DescriptionStyleModel",
          "state": {
            "_view_name": "StyleView",
            "_model_name": "DescriptionStyleModel",
            "description_width": "",
            "_view_module": "@jupyter-widgets/base",
            "_model_module_version": "1.5.0",
            "_view_count": null,
            "_view_module_version": "1.2.0",
            "_model_module": "@jupyter-widgets/controls"
          }
        },
        "99ca8ceea54e4a349e2c87600b53745f": {
          "model_module": "@jupyter-widgets/base",
          "model_name": "LayoutModel",
          "state": {
            "_view_name": "LayoutView",
            "grid_template_rows": null,
            "right": null,
            "justify_content": null,
            "_view_module": "@jupyter-widgets/base",
            "overflow": null,
            "_model_module_version": "1.2.0",
            "_view_count": null,
            "flex_flow": null,
            "width": null,
            "min_width": null,
            "border": null,
            "align_items": null,
            "bottom": null,
            "_model_module": "@jupyter-widgets/base",
            "top": null,
            "grid_column": null,
            "overflow_y": null,
            "overflow_x": null,
            "grid_auto_flow": null,
            "grid_area": null,
            "grid_template_columns": null,
            "flex": null,
            "_model_name": "LayoutModel",
            "justify_items": null,
            "grid_row": null,
            "max_height": null,
            "align_content": null,
            "visibility": null,
            "align_self": null,
            "height": null,
            "min_height": null,
            "padding": null,
            "grid_auto_rows": null,
            "grid_gap": null,
            "max_width": null,
            "order": null,
            "_view_module_version": "1.2.0",
            "grid_template_areas": null,
            "object_position": null,
            "object_fit": null,
            "grid_auto_columns": null,
            "margin": null,
            "display": null,
            "left": null
          }
        },
        "c0b9c1e3f8454f02bd3c694193a45164": {
          "model_module": "@jupyter-widgets/controls",
          "model_name": "HBoxModel",
          "state": {
            "_view_name": "HBoxView",
            "_dom_classes": [],
            "_model_name": "HBoxModel",
            "_view_module": "@jupyter-widgets/controls",
            "_model_module_version": "1.5.0",
            "_view_count": null,
            "_view_module_version": "1.5.0",
            "box_style": "",
            "layout": "IPY_MODEL_3a1a4007f02947f88dba1d20c1cd36ed",
            "_model_module": "@jupyter-widgets/controls",
            "children": [
              "IPY_MODEL_6af0713649f640fa88c52680b9d34ae8",
              "IPY_MODEL_fa3292d66a164db0a6683e9690a96ad1"
            ]
          }
        },
        "3a1a4007f02947f88dba1d20c1cd36ed": {
          "model_module": "@jupyter-widgets/base",
          "model_name": "LayoutModel",
          "state": {
            "_view_name": "LayoutView",
            "grid_template_rows": null,
            "right": null,
            "justify_content": null,
            "_view_module": "@jupyter-widgets/base",
            "overflow": null,
            "_model_module_version": "1.2.0",
            "_view_count": null,
            "flex_flow": null,
            "width": null,
            "min_width": null,
            "border": null,
            "align_items": null,
            "bottom": null,
            "_model_module": "@jupyter-widgets/base",
            "top": null,
            "grid_column": null,
            "overflow_y": null,
            "overflow_x": null,
            "grid_auto_flow": null,
            "grid_area": null,
            "grid_template_columns": null,
            "flex": null,
            "_model_name": "LayoutModel",
            "justify_items": null,
            "grid_row": null,
            "max_height": null,
            "align_content": null,
            "visibility": null,
            "align_self": null,
            "height": null,
            "min_height": null,
            "padding": null,
            "grid_auto_rows": null,
            "grid_gap": null,
            "max_width": null,
            "order": null,
            "_view_module_version": "1.2.0",
            "grid_template_areas": null,
            "object_position": null,
            "object_fit": null,
            "grid_auto_columns": null,
            "margin": null,
            "display": null,
            "left": null
          }
        },
        "6af0713649f640fa88c52680b9d34ae8": {
          "model_module": "@jupyter-widgets/controls",
          "model_name": "FloatProgressModel",
          "state": {
            "_view_name": "ProgressView",
            "style": "IPY_MODEL_6534a78649af4c17bc29a65af0cc0928",
            "_dom_classes": [],
            "description": "100%",
            "_model_name": "FloatProgressModel",
            "bar_style": "success",
            "max": 29353,
            "_view_module": "@jupyter-widgets/controls",
            "_model_module_version": "1.5.0",
            "value": 29353,
            "_view_count": null,
            "_view_module_version": "1.5.0",
            "orientation": "horizontal",
            "min": 0,
            "description_tooltip": null,
            "_model_module": "@jupyter-widgets/controls",
            "layout": "IPY_MODEL_c1dd2c7b4fd74026b40e9a36b9348b57"
          }
        },
        "fa3292d66a164db0a6683e9690a96ad1": {
          "model_module": "@jupyter-widgets/controls",
          "model_name": "HTMLModel",
          "state": {
            "_view_name": "HTMLView",
            "style": "IPY_MODEL_08555903b5b042608a7a7a029d309f9d",
            "_dom_classes": [],
            "description": "",
            "_model_name": "HTMLModel",
            "placeholder": "​",
            "_view_module": "@jupyter-widgets/controls",
            "_model_module_version": "1.5.0",
            "value": " 29353/29353 [00:00&lt;00:00, 60827.92it/s]",
            "_view_count": null,
            "_view_module_version": "1.5.0",
            "description_tooltip": null,
            "_model_module": "@jupyter-widgets/controls",
            "layout": "IPY_MODEL_a68c25112373425ba25923662ff5b0c2"
          }
        },
        "6534a78649af4c17bc29a65af0cc0928": {
          "model_module": "@jupyter-widgets/controls",
          "model_name": "ProgressStyleModel",
          "state": {
            "_view_name": "StyleView",
            "_model_name": "ProgressStyleModel",
            "description_width": "initial",
            "_view_module": "@jupyter-widgets/base",
            "_model_module_version": "1.5.0",
            "_view_count": null,
            "_view_module_version": "1.2.0",
            "bar_color": null,
            "_model_module": "@jupyter-widgets/controls"
          }
        },
        "c1dd2c7b4fd74026b40e9a36b9348b57": {
          "model_module": "@jupyter-widgets/base",
          "model_name": "LayoutModel",
          "state": {
            "_view_name": "LayoutView",
            "grid_template_rows": null,
            "right": null,
            "justify_content": null,
            "_view_module": "@jupyter-widgets/base",
            "overflow": null,
            "_model_module_version": "1.2.0",
            "_view_count": null,
            "flex_flow": null,
            "width": null,
            "min_width": null,
            "border": null,
            "align_items": null,
            "bottom": null,
            "_model_module": "@jupyter-widgets/base",
            "top": null,
            "grid_column": null,
            "overflow_y": null,
            "overflow_x": null,
            "grid_auto_flow": null,
            "grid_area": null,
            "grid_template_columns": null,
            "flex": null,
            "_model_name": "LayoutModel",
            "justify_items": null,
            "grid_row": null,
            "max_height": null,
            "align_content": null,
            "visibility": null,
            "align_self": null,
            "height": null,
            "min_height": null,
            "padding": null,
            "grid_auto_rows": null,
            "grid_gap": null,
            "max_width": null,
            "order": null,
            "_view_module_version": "1.2.0",
            "grid_template_areas": null,
            "object_position": null,
            "object_fit": null,
            "grid_auto_columns": null,
            "margin": null,
            "display": null,
            "left": null
          }
        },
        "08555903b5b042608a7a7a029d309f9d": {
          "model_module": "@jupyter-widgets/controls",
          "model_name": "DescriptionStyleModel",
          "state": {
            "_view_name": "StyleView",
            "_model_name": "DescriptionStyleModel",
            "description_width": "",
            "_view_module": "@jupyter-widgets/base",
            "_model_module_version": "1.5.0",
            "_view_count": null,
            "_view_module_version": "1.2.0",
            "_model_module": "@jupyter-widgets/controls"
          }
        },
        "a68c25112373425ba25923662ff5b0c2": {
          "model_module": "@jupyter-widgets/base",
          "model_name": "LayoutModel",
          "state": {
            "_view_name": "LayoutView",
            "grid_template_rows": null,
            "right": null,
            "justify_content": null,
            "_view_module": "@jupyter-widgets/base",
            "overflow": null,
            "_model_module_version": "1.2.0",
            "_view_count": null,
            "flex_flow": null,
            "width": null,
            "min_width": null,
            "border": null,
            "align_items": null,
            "bottom": null,
            "_model_module": "@jupyter-widgets/base",
            "top": null,
            "grid_column": null,
            "overflow_y": null,
            "overflow_x": null,
            "grid_auto_flow": null,
            "grid_area": null,
            "grid_template_columns": null,
            "flex": null,
            "_model_name": "LayoutModel",
            "justify_items": null,
            "grid_row": null,
            "max_height": null,
            "align_content": null,
            "visibility": null,
            "align_self": null,
            "height": null,
            "min_height": null,
            "padding": null,
            "grid_auto_rows": null,
            "grid_gap": null,
            "max_width": null,
            "order": null,
            "_view_module_version": "1.2.0",
            "grid_template_areas": null,
            "object_position": null,
            "object_fit": null,
            "grid_auto_columns": null,
            "margin": null,
            "display": null,
            "left": null
          }
        }
      }
    }
  },
  "cells": [
    {
      "cell_type": "markdown",
      "metadata": {
        "id": "k8FA58-Sbfhh"
      },
      "source": [
        "# Imports"
      ]
    },
    {
      "cell_type": "code",
      "metadata": {
        "colab": {
          "base_uri": "https://localhost:8080/"
        },
        "id": "sg7vPde0NEwS",
        "outputId": "85667046-221a-4b5b-baad-01b292b54c3e"
      },
      "source": [
        "! git clone -b Word-Embedding https://github.com/OmdenaAI/Arabic-Chapter/"
      ],
      "execution_count": 2,
      "outputs": [
        {
          "output_type": "stream",
          "text": [
            "fatal: destination path 'Arabic-Chapter' already exists and is not an empty directory.\n"
          ],
          "name": "stdout"
        }
      ]
    },
    {
      "cell_type": "code",
      "metadata": {
        "colab": {
          "base_uri": "https://localhost:8080/"
        },
        "id": "rcSynE6yNuXH",
        "outputId": "f8de8254-a738-4ecc-ebcf-99ad1f7ddf6f"
      },
      "source": [
        "% cd /content/Arabic-Chapter/"
      ],
      "execution_count": 3,
      "outputs": [
        {
          "output_type": "stream",
          "text": [
            "/content/Arabic-Chapter\n"
          ],
          "name": "stdout"
        }
      ]
    },
    {
      "cell_type": "markdown",
      "metadata": {
        "id": "hNkjtdTUblJ3"
      },
      "source": [
        "# Main"
      ]
    },
    {
      "cell_type": "markdown",
      "metadata": {
        "id": "fEAgRAK43tsY"
      },
      "source": [
        "## Neural Nets"
      ]
    },
    {
      "cell_type": "code",
      "metadata": {
        "id": "QmyPwWuiNab3"
      },
      "source": [
        "import pandas as pd\n",
        "import numpy as np\n",
        "from tqdm.notebook import tqdm\n",
        "\n",
        "from utils import helper, preprocess\n",
        "from utils.config import config\n",
        "from models.Word2Vec import Word2Vec"
      ],
      "execution_count": 3,
      "outputs": []
    },
    {
      "cell_type": "code",
      "metadata": {
        "id": "QmOgYNusNp_j"
      },
      "source": [
        "train_pos = pd.read_csv(\"data/train_Arabic_tweets_positive_20190413.tsv\", sep='\\t', names=[\"label\", \"tweet\"])\n",
        "train_neg = pd.read_csv(\"data/train_Arabic_tweets_negative_20190413.tsv\", sep='\\t', names=[\"label\", \"tweet\"])\n",
        "test_pos = pd.read_csv(\"data/test_Arabic_tweets_positive_20190413.tsv\", sep='\\t', names=[\"label\", \"tweet\"])\n",
        "test_neg = pd.read_csv(\"data/test_Arabic_tweets_negative_20190413.tsv\", sep='\\t', names=[\"label\", \"tweet\"])\n",
        "train = pd.concat([train_pos, train_neg])#.sample(frac=1, random_state=0)\n",
        "test = pd.concat([test_pos, test_neg])"
      ],
      "execution_count": 4,
      "outputs": []
    },
    {
      "cell_type": "code",
      "metadata": {
        "colab": {
          "base_uri": "https://localhost:8080/"
        },
        "id": "UQR6cbLOdw6s",
        "outputId": "002095fa-33b1-4db6-fc02-663a2102d530"
      },
      "source": [
        "text = list(train.tweet)\n",
        "label = list(train.label)\n",
        "\n",
        "#Keras Neural net features\n",
        "embeddings = Word2Vec(preprocess.tokenizer, vocab_size=config['vocab_size'], maxlen=config['maxlen'], embedding_vector=config['embedding_vector'], method=config['method'])\n",
        "text = embeddings.tokenize(text, stop_words=config['stop_words'], punctuations=config['punctuations'])\n",
        "text, label, unique_words, word_dict = embeddings.encode(text, label)\n",
        "text, label = np.array(text), np.array(label)\n"
      ],
      "execution_count": 5,
      "outputs": [
        {
          "output_type": "stream",
          "text": [
            "100%|██████████| 45275/45275 [00:08<00:00, 5604.00it/s]\n",
            "100%|██████████| 45275/45275 [00:03<00:00, 12174.88it/s]\n"
          ],
          "name": "stderr"
        },
        {
          "output_type": "stream",
          "text": [
            "Epoch 1/20\n",
            "1132/1132 [==============================] - 30s 23ms/step - loss: 0.6606 - accuracy: 0.6283 - val_loss: 0.9676 - val_accuracy: 0.0000e+00\n",
            "\n",
            "Epoch 00001: val_loss improved from inf to 0.96764, saving model to models/word_embeddings_NN.h5\n",
            "Epoch 2/20\n",
            "1132/1132 [==============================] - 25s 22ms/step - loss: 0.6590 - accuracy: 0.6284 - val_loss: 1.0092 - val_accuracy: 0.0000e+00\n",
            "\n",
            "Epoch 00002: val_loss did not improve from 0.96764\n",
            "Epoch 3/20\n",
            "1132/1132 [==============================] - 24s 22ms/step - loss: 0.6576 - accuracy: 0.6284 - val_loss: 0.9853 - val_accuracy: 0.0000e+00\n",
            "\n",
            "Epoch 00003: val_loss did not improve from 0.96764\n",
            "Epoch 4/20\n",
            "1132/1132 [==============================] - 24s 22ms/step - loss: 0.6550 - accuracy: 0.6284 - val_loss: 0.9923 - val_accuracy: 0.0000e+00\n",
            "\n",
            "Epoch 00004: val_loss did not improve from 0.96764\n",
            "Epoch 5/20\n",
            "1132/1132 [==============================] - 24s 22ms/step - loss: 0.6501 - accuracy: 0.6284 - val_loss: 0.9553 - val_accuracy: 0.0000e+00\n",
            "\n",
            "Epoch 00005: val_loss improved from 0.96764 to 0.95526, saving model to models/word_embeddings_NN.h5\n",
            "Epoch 6/20\n",
            "1132/1132 [==============================] - 25s 22ms/step - loss: 0.6383 - accuracy: 0.6293 - val_loss: 0.9720 - val_accuracy: 0.0053\n",
            "\n",
            "Epoch 00006: val_loss did not improve from 0.95526\n",
            "Epoch 7/20\n",
            "1132/1132 [==============================] - 25s 22ms/step - loss: 0.6083 - accuracy: 0.6638 - val_loss: 0.8804 - val_accuracy: 0.2358\n",
            "\n",
            "Epoch 00007: val_loss improved from 0.95526 to 0.88037, saving model to models/word_embeddings_NN.h5\n",
            "Epoch 8/20\n",
            "1132/1132 [==============================] - 25s 22ms/step - loss: 0.5293 - accuracy: 0.7379 - val_loss: 0.7480 - val_accuracy: 0.5287\n",
            "\n",
            "Epoch 00008: val_loss improved from 0.88037 to 0.74798, saving model to models/word_embeddings_NN.h5\n",
            "Epoch 9/20\n",
            "1132/1132 [==============================] - 25s 22ms/step - loss: 0.4387 - accuracy: 0.7943 - val_loss: 0.2081 - val_accuracy: 0.9557\n",
            "\n",
            "Epoch 00009: val_loss improved from 0.74798 to 0.20810, saving model to models/word_embeddings_NN.h5\n",
            "Epoch 10/20\n",
            "1132/1132 [==============================] - 25s 22ms/step - loss: 0.3606 - accuracy: 0.8403 - val_loss: 1.7156 - val_accuracy: 0.3087\n",
            "\n",
            "Epoch 00010: val_loss did not improve from 0.20810\n",
            "Epoch 11/20\n",
            "1132/1132 [==============================] - 25s 22ms/step - loss: 0.3045 - accuracy: 0.8726 - val_loss: 0.2577 - val_accuracy: 0.9018\n",
            "\n",
            "Epoch 00011: val_loss did not improve from 0.20810\n",
            "Epoch 12/20\n",
            "1132/1132 [==============================] - 25s 22ms/step - loss: 0.2647 - accuracy: 0.8936 - val_loss: 0.3159 - val_accuracy: 0.8615\n",
            "\n",
            "Epoch 00012: val_loss did not improve from 0.20810\n",
            "Epoch 13/20\n",
            "1132/1132 [==============================] - 25s 22ms/step - loss: 0.2320 - accuracy: 0.9105 - val_loss: 0.3127 - val_accuracy: 0.8697\n",
            "\n",
            "Epoch 00013: val_loss did not improve from 0.20810\n",
            "Epoch 00013: early stopping\n"
          ],
          "name": "stdout"
        }
      ]
    },
    {
      "cell_type": "code",
      "metadata": {
        "id": "kH3BKehvSJII"
      },
      "source": [
        "model = embeddings.train_keras(text=text, label=label, epochs=config['epochs'], validation_split=config['test_size'])"
      ],
      "execution_count": null,
      "outputs": []
    },
    {
      "cell_type": "code",
      "metadata": {
        "colab": {
          "base_uri": "https://localhost:8080/"
        },
        "id": "aLs_7xt-rEHc",
        "outputId": "9669a42a-14b8-4645-d7b3-cdecb08d1163"
      },
      "source": [
        "word_embeddings = model.get_layer(\"embedding\").get_weights()[0]\n",
        "word_embeddings[0]"
      ],
      "execution_count": 12,
      "outputs": [
        {
          "output_type": "execute_result",
          "data": {
            "text/plain": [
              "array([-0.0096106 ,  0.03305908, -0.02835516,  0.03725642,  0.07237826,\n",
              "        0.03352902, -0.06692044,  0.1076899 ,  0.14881808, -0.0720993 ,\n",
              "        0.06620847,  0.04270552, -0.00979008, -0.03189142, -0.03209103,\n",
              "        0.00666018,  0.01647544,  0.0540922 , -0.06741755, -0.04468779,\n",
              "       -0.04223862,  0.01178254,  0.05260447,  0.07448044,  0.04204837,\n",
              "       -0.12512347,  0.04988005, -0.04347748, -0.05666597, -0.05425873,\n",
              "        0.07730792, -0.08430462,  0.11486478, -0.11339506, -0.09214076,\n",
              "        0.01517092,  0.06165873, -0.12934233,  0.04064712, -0.01449664,\n",
              "       -0.05350719,  0.00784005, -0.10695789, -0.0434512 ,  0.06571231,\n",
              "       -0.17378618,  0.05577042,  0.0777794 ,  0.04125278, -0.00528057],\n",
              "      dtype=float32)"
            ]
          },
          "metadata": {
            "tags": []
          },
          "execution_count": 12
        }
      ]
    },
    {
      "cell_type": "code",
      "metadata": {
        "id": "b_7Fq0MitNXU"
      },
      "source": [
        "embeddings = helper.get_embeddings(unique_words, word_dict, word_embeddings, len(unique_words))"
      ],
      "execution_count": 13,
      "outputs": []
    },
    {
      "cell_type": "code",
      "metadata": {
        "colab": {
          "base_uri": "https://localhost:8080/"
        },
        "id": "SKcby7tLQ3cx",
        "outputId": "344996a4-568c-4f7b-abc7-87538877df08"
      },
      "source": [
        "embeddings['مدينة']"
      ],
      "execution_count": 15,
      "outputs": [
        {
          "output_type": "execute_result",
          "data": {
            "text/plain": [
              "array([-0.02707701,  0.03722898, -0.02394028,  0.01537044, -0.01987288,\n",
              "       -0.01512546,  0.02277893, -0.0012152 ,  0.02761947,  0.0159828 ,\n",
              "        0.02079432, -0.04713788,  0.03402409, -0.00768286,  0.04432173,\n",
              "       -0.0385219 , -0.03012923,  0.0296484 , -0.02949761, -0.00445793,\n",
              "       -0.01991098, -0.00495299, -0.01034752,  0.02859915,  0.02925693,\n",
              "       -0.03770174,  0.02620887, -0.02215844,  0.01638568,  0.02204752,\n",
              "        0.00940879,  0.00537003, -0.02069404, -0.00958155,  0.02648169,\n",
              "        0.04396056,  0.04369683,  0.02344037, -0.04868635, -0.04545708,\n",
              "        0.0399685 , -0.00140494,  0.03639134,  0.03756477, -0.01693914,\n",
              "       -0.00197585, -0.02662023, -0.04910902, -0.03725194, -0.00563649],\n",
              "      dtype=float32)"
            ]
          },
          "metadata": {
            "tags": []
          },
          "execution_count": 15
        }
      ]
    },
    {
      "cell_type": "code",
      "metadata": {
        "colab": {
          "base_uri": "https://localhost:8080/",
          "height": 1000
        },
        "id": "nGAknOCCtbRR",
        "outputId": "65a49a26-3c68-42a2-c766-931abc043afe"
      },
      "source": [
        "helper.plot(word_dict, embeddings, \"embeddings_NN\") \n",
        "helper.save_embeddings(embeddings, \"embeddings_NN\")"
      ],
      "execution_count": 9,
      "outputs": [
        {
          "output_type": "stream",
          "text": [
            "/usr/local/lib/python3.7/dist-packages/matplotlib/backends/backend_agg.py:214: RuntimeWarning: Glyph 128155 missing from current font.\n",
            "  font.set_text(s, 0.0, flags=flags)\n",
            "/usr/local/lib/python3.7/dist-packages/matplotlib/backends/backend_agg.py:183: RuntimeWarning: Glyph 128155 missing from current font.\n",
            "  font.set_text(s, 0, flags=flags)\n",
            "/usr/local/lib/python3.7/dist-packages/matplotlib/backends/backend_agg.py:214: RuntimeWarning: Glyph 128285 missing from current font.\n",
            "  font.set_text(s, 0.0, flags=flags)\n",
            "/usr/local/lib/python3.7/dist-packages/matplotlib/backends/backend_agg.py:214: RuntimeWarning: Glyph 128171 missing from current font.\n",
            "  font.set_text(s, 0.0, flags=flags)\n",
            "/usr/local/lib/python3.7/dist-packages/matplotlib/backends/backend_agg.py:214: RuntimeWarning: Glyph 127872 missing from current font.\n",
            "  font.set_text(s, 0.0, flags=flags)\n",
            "/usr/local/lib/python3.7/dist-packages/matplotlib/backends/backend_agg.py:183: RuntimeWarning: Glyph 128285 missing from current font.\n",
            "  font.set_text(s, 0, flags=flags)\n",
            "/usr/local/lib/python3.7/dist-packages/matplotlib/backends/backend_agg.py:183: RuntimeWarning: Glyph 128171 missing from current font.\n",
            "  font.set_text(s, 0, flags=flags)\n",
            "/usr/local/lib/python3.7/dist-packages/matplotlib/backends/backend_agg.py:183: RuntimeWarning: Glyph 127872 missing from current font.\n",
            "  font.set_text(s, 0, flags=flags)\n",
            "/usr/local/lib/python3.7/dist-packages/matplotlib/backends/backend_agg.py:214: RuntimeWarning: Glyph 127800 missing from current font.\n",
            "  font.set_text(s, 0.0, flags=flags)\n",
            "/usr/local/lib/python3.7/dist-packages/matplotlib/backends/backend_agg.py:183: RuntimeWarning: Glyph 127800 missing from current font.\n",
            "  font.set_text(s, 0, flags=flags)\n",
            "/usr/local/lib/python3.7/dist-packages/matplotlib/backends/backend_agg.py:214: RuntimeWarning: Glyph 64830 missing from current font.\n",
            "  font.set_text(s, 0.0, flags=flags)\n",
            "/usr/local/lib/python3.7/dist-packages/matplotlib/backends/backend_agg.py:183: RuntimeWarning: Glyph 64830 missing from current font.\n",
            "  font.set_text(s, 0, flags=flags)\n"
          ],
          "name": "stderr"
        },
        {
          "output_type": "display_data",
          "data": {
            "image/png": "[encoded data removed]",
            "text/plain": [
              "<Figure size 720x720 with 1 Axes>"
            ]
          },
          "metadata": {
            "tags": [],
            "needs_background": "light"
          }
        }
      ]
    },
    {
      "cell_type": "code",
      "metadata": {
        "colab": {
          "base_uri": "https://localhost:8080/",
          "height": 120,
          "referenced_widgets": [
            "fb9c3ba0c565498c97578ba9e119075f",
            "eb89145a0ce9440aa1c4f51f4711127b",
            "3c7098650a564ccba7de026b6b1ccedd",
            "362f5a20c5f04a3dbbb883bfce1719a8",
            "ce19c8842aa546459031698dc292d32b",
            "4e15347f0e0743b2aff86ab087ad2a6c",
            "414b011a26bb45969df0c392bb35e2dd",
            "99ca8ceea54e4a349e2c87600b53745f"
          ]
        },
        "id": "82AVSdFlOCFn",
        "outputId": "77f877be-efd5-4712-d3a1-2adc5f086a5e"
      },
      "source": [
        "def vec_sim(word, top_n):\n",
        "    v_w1 = embeddings[word]\n",
        "    word_sim = {}\n",
        "\n",
        "    for i in tqdm(unique_words, total=len(unique_words)):\n",
        "      # Find the similary score for each word in vocab\n",
        "      v_w2 = embeddings[i]\n",
        "      theta_sum = np.dot(v_w1, v_w2)\n",
        "      theta_den = np.linalg.norm(v_w1) * np.linalg.norm(v_w2)\n",
        "      theta = theta_sum / theta_den\n",
        "\n",
        "      word_sim[i] = theta\n",
        "\n",
        "    words_sorted = sorted(word_sim.items(), key=lambda kv: kv[1], reverse=True)\n",
        "\n",
        "    for word, sim in words_sorted[:top_n]:\n",
        "      print(word, sim)\n",
        "\n",
        "# Find similar words\n",
        "vec_sim(\"مدينة\", 3)"
      ],
      "execution_count": 17,
      "outputs": [
        {
          "output_type": "display_data",
          "data": {
            "application/vnd.jupyter.widget-view+json": {
              "model_id": "fb9c3ba0c565498c97578ba9e119075f",
              "version_minor": 0,
              "version_major": 2
            },
            "text/plain": [
              "HBox(children=(FloatProgress(value=0.0, max=76222.0), HTML(value='')))"
            ]
          },
          "metadata": {
            "tags": []
          }
        },
        {
          "output_type": "stream",
          "text": [
            "\n",
            "مدينة 1.0\n",
            "فوقي 0.61554587\n",
            "ومابقي 0.57996714\n"
          ],
          "name": "stdout"
        }
      ]
    },
    {
      "cell_type": "markdown",
      "metadata": {
        "id": "e1rQVsRx3zbE"
      },
      "source": [
        "## Word2Vec - CBOW"
      ]
    },
    {
      "cell_type": "code",
      "metadata": {
        "id": "PspycxSV39Ju"
      },
      "source": [
        "import pandas as pd\n",
        "import numpy as np\n",
        "import tensorflow as tf\n",
        "\n",
        "from tqdm.notebook import tqdm\n",
        "\n",
        "from utils import helper, preprocess\n",
        "from utils.config import config\n",
        "from models.Word2Vec import Word2Vec"
      ],
      "execution_count": 14,
      "outputs": []
    },
    {
      "cell_type": "code",
      "metadata": {
        "id": "LP3RL-EB39Jv"
      },
      "source": [
        "train_pos = pd.read_csv(\"data/train_Arabic_tweets_positive_20190413.tsv\", sep='\\t', names=[\"label\", \"tweet\"])\n",
        "train_neg = pd.read_csv(\"data/train_Arabic_tweets_negative_20190413.tsv\", sep='\\t', names=[\"label\", \"tweet\"])\n",
        "test_pos = pd.read_csv(\"data/test_Arabic_tweets_positive_20190413.tsv\", sep='\\t', names=[\"label\", \"tweet\"])\n",
        "test_neg = pd.read_csv(\"data/test_Arabic_tweets_negative_20190413.tsv\", sep='\\t', names=[\"label\", \"tweet\"])\n",
        "train = pd.concat([train_pos, train_neg])#.sample(frac=1, random_state=0)\n",
        "test = pd.concat([test_pos, test_neg])"
      ],
      "execution_count": 5,
      "outputs": []
    },
    {
      "cell_type": "code",
      "metadata": {
        "colab": {
          "base_uri": "https://localhost:8080/"
        },
        "id": "Ksi2rmdC39Jv",
        "outputId": "860b353c-7208-4be3-fd8a-5bdaa7e32492"
      },
      "source": [
        "text = list(train.tweet)[:10000]\n",
        "\n",
        "# Word2vec\n",
        "embeddings = Word2Vec(preprocess.tokenizer, vocab_size=config['vocab_size'], maxlen=config['maxlen'], embedding_vector=config['embedding_vector'], method=config['method'])\n",
        "text = embeddings.tokenize(text, stop_words=config['stop_words'], punctuations=config['punctuations'])\n",
        "# print(text[0])\n",
        "# print(\"\\n\")\n",
        "words, label, unique_words, word_dict = embeddings.encode_w2v(text, window_size=config['window_size'])\n",
        "words, label = np.array(words), np.array(label)"
      ],
      "execution_count": 6,
      "outputs": [
        {
          "output_type": "stream",
          "text": [
            "100%|██████████| 10000/10000 [00:01<00:00, 5547.63it/s]\n",
            "100%|██████████| 196673/196673 [00:00<00:00, 266909.11it/s]\n"
          ],
          "name": "stderr"
        }
      ]
    },
    {
      "cell_type": "code",
      "metadata": {
        "colab": {
          "base_uri": "https://localhost:8080/"
        },
        "id": "0Wl6KyAM4_w5",
        "outputId": "fbed1821-31fc-42c3-d633-a5827ed453e2"
      },
      "source": [
        "text[0]"
      ],
      "execution_count": 6,
      "outputs": [
        {
          "output_type": "execute_result",
          "data": {
            "text/plain": [
              "['نحن',\n",
              " 'الذين',\n",
              " 'يتحول',\n",
              " 'كل',\n",
              " 'نود',\n",
              " 'أن',\n",
              " 'نقوله',\n",
              " 'دعاء',\n",
              " 'لله',\n",
              " 'لا',\n",
              " 'تبحثوا',\n",
              " 'فينا',\n",
              " 'عن',\n",
              " 'قوة',\n",
              " 'إننا',\n",
              " 'مكسورون',\n",
              " 'القوة',\n",
              " 'التي…']"
            ]
          },
          "metadata": {
            "tags": []
          },
          "execution_count": 6
        }
      ]
    },
    {
      "cell_type": "code",
      "metadata": {
        "colab": {
          "base_uri": "https://localhost:8080/"
        },
        "id": "MpzHuA_f4f8m",
        "outputId": "71bb722a-b29a-4620-cfc1-522e8a1f7ac0"
      },
      "source": [
        "words[0], label[0]"
      ],
      "execution_count": 7,
      "outputs": [
        {
          "output_type": "execute_result",
          "data": {
            "text/plain": [
              "(array([28676,  9311]), array([21753]))"
            ]
          },
          "metadata": {
            "tags": []
          },
          "execution_count": 7
        }
      ]
    },
    {
      "cell_type": "code",
      "metadata": {
        "colab": {
          "base_uri": "https://localhost:8080/"
        },
        "id": "TM0rHa3s4LrB",
        "outputId": "6c671bb9-9978-4d39-b6c1-ecc9d77d54b2"
      },
      "source": [
        "model = embeddings.train_w2v(words, label, epochs=config['epochs'], validation_split=config['test_size'])"
      ],
      "execution_count": 8,
      "outputs": [
        {
          "output_type": "stream",
          "text": [
            "Epoch 1/20\n",
            "4917/4917 [==============================] - 111s 22ms/step - loss: 11.7343 - accuracy: 0.0145 - val_loss: 11.7090 - val_accuracy: 0.0152\n",
            "\n",
            "Epoch 00001: val_loss improved from inf to 11.70903, saving model to models/word_embeddings_w2v.h5\n",
            "Epoch 2/20\n",
            "4917/4917 [==============================] - 111s 23ms/step - loss: 11.6814 - accuracy: 0.0146 - val_loss: 11.6480 - val_accuracy: 0.0152\n",
            "\n",
            "Epoch 00002: val_loss improved from 11.70903 to 11.64800, saving model to models/word_embeddings_w2v.h5\n",
            "Epoch 3/20\n",
            "4917/4917 [==============================] - 110s 22ms/step - loss: 11.1725 - accuracy: 0.0143 - val_loss: 10.0564 - val_accuracy: 0.0132\n",
            "\n",
            "Epoch 00003: val_loss improved from 11.64800 to 10.05637, saving model to models/word_embeddings_w2v.h5\n",
            "Epoch 4/20\n",
            "4917/4917 [==============================] - 109s 22ms/step - loss: 9.4791 - accuracy: 0.0132 - val_loss: 9.4484 - val_accuracy: 0.0046\n",
            "\n",
            "Epoch 00004: val_loss improved from 10.05637 to 9.44836, saving model to models/word_embeddings_w2v.h5\n",
            "Epoch 5/20\n",
            "4917/4917 [==============================] - 110s 22ms/step - loss: 9.1191 - accuracy: 0.0119 - val_loss: 9.4415 - val_accuracy: 0.0121\n",
            "\n",
            "Epoch 00005: val_loss improved from 9.44836 to 9.44150, saving model to models/word_embeddings_w2v.h5\n",
            "Epoch 6/20\n",
            "4917/4917 [==============================] - 110s 22ms/step - loss: 9.0193 - accuracy: 0.0117 - val_loss: 9.4303 - val_accuracy: 0.0152\n",
            "\n",
            "Epoch 00006: val_loss improved from 9.44150 to 9.43026, saving model to models/word_embeddings_w2v.h5\n",
            "Epoch 7/20\n",
            "4917/4917 [==============================] - 110s 22ms/step - loss: 8.9640 - accuracy: 0.0116 - val_loss: 9.4393 - val_accuracy: 0.0152\n",
            "\n",
            "Epoch 00007: val_loss did not improve from 9.43026\n",
            "Epoch 8/20\n",
            "4917/4917 [==============================] - 110s 22ms/step - loss: 8.9255 - accuracy: 0.0119 - val_loss: 9.4465 - val_accuracy: 0.0020\n",
            "\n",
            "Epoch 00008: val_loss did not improve from 9.43026\n",
            "Epoch 9/20\n",
            "4917/4917 [==============================] - 110s 22ms/step - loss: 8.8956 - accuracy: 0.0121 - val_loss: 9.4582 - val_accuracy: 0.0132\n",
            "\n",
            "Epoch 00009: val_loss did not improve from 9.43026\n",
            "Epoch 10/20\n",
            "4917/4917 [==============================] - 109s 22ms/step - loss: 8.8697 - accuracy: 0.0122 - val_loss: 9.4390 - val_accuracy: 0.0132\n",
            "\n",
            "Epoch 00010: val_loss did not improve from 9.43026\n",
            "Epoch 00010: early stopping\n"
          ],
          "name": "stdout"
        }
      ]
    },
    {
      "cell_type": "code",
      "metadata": {
        "id": "g04hSeygbdQD"
      },
      "source": [
        "model = tf.keras.models.load_model(\"/content/Arabic-Chapter/models/word_embeddings_w2v.h5\")"
      ],
      "execution_count": 7,
      "outputs": []
    },
    {
      "cell_type": "code",
      "metadata": {
        "colab": {
          "base_uri": "https://localhost:8080/"
        },
        "id": "rM__vxm739Jw",
        "outputId": "fb1489ab-7900-4b4d-fda6-a0170875b86f"
      },
      "source": [
        "word_embeddings = model.get_layer(\"embedding\").get_weights()[0]\n",
        "word_embeddings[0]"
      ],
      "execution_count": 8,
      "outputs": [
        {
          "output_type": "execute_result",
          "data": {
            "text/plain": [
              "array([ 0.01435949, -0.01956448,  0.00986885, -0.01632073, -0.01117974,\n",
              "       -0.03691963, -0.01136785, -0.02029503,  0.02082002, -0.01652777,\n",
              "       -0.04442152,  0.02235116, -0.00252982,  0.01491512,  0.04353438,\n",
              "       -0.04495598, -0.01809297, -0.01153   ,  0.04156549, -0.02113437,\n",
              "       -0.00397139,  0.00414608,  0.00125252,  0.04027688, -0.03642813,\n",
              "       -0.00293092, -0.01914087, -0.03686436, -0.00929801, -0.02537062,\n",
              "       -0.04860413,  0.01841185, -0.03112571,  0.01866894, -0.0277565 ,\n",
              "        0.03703723, -0.03375514,  0.04962576,  0.03345209, -0.00834049,\n",
              "       -0.00684296, -0.01872794, -0.0320138 ,  0.00185501, -0.04259627,\n",
              "        0.03705073, -0.00109315,  0.04938721,  0.03736651, -0.01264704],\n",
              "      dtype=float32)"
            ]
          },
          "metadata": {
            "tags": []
          },
          "execution_count": 8
        }
      ]
    },
    {
      "cell_type": "code",
      "metadata": {
        "id": "MBUdNYlR39Jw"
      },
      "source": [
        "embeddings = helper.get_embeddings(unique_words, word_dict, word_embeddings, len(unique_words))"
      ],
      "execution_count": 9,
      "outputs": []
    },
    {
      "cell_type": "code",
      "metadata": {
        "colab": {
          "base_uri": "https://localhost:8080/",
          "height": 1000
        },
        "id": "fYr-qdvz39Jw",
        "outputId": "4e5ca91b-ed24-4d53-a602-f01ae6fdb2b3"
      },
      "source": [
        "helper.plot(word_dict, embeddings, \"embeddings_w2v\")\n",
        "helper.save_embeddings(embeddings, \"embeddings_w2v\") "
      ],
      "execution_count": 10,
      "outputs": [
        {
          "output_type": "stream",
          "text": [
            "/usr/local/lib/python3.7/dist-packages/matplotlib/backends/backend_agg.py:214: RuntimeWarning: Glyph 1757 missing from current font.\n",
            "  font.set_text(s, 0.0, flags=flags)\n",
            "/usr/local/lib/python3.7/dist-packages/matplotlib/backends/backend_agg.py:183: RuntimeWarning: Glyph 1757 missing from current font.\n",
            "  font.set_text(s, 0, flags=flags)\n",
            "/usr/local/lib/python3.7/dist-packages/matplotlib/backends/backend_agg.py:214: RuntimeWarning: Glyph 128064 missing from current font.\n",
            "  font.set_text(s, 0.0, flags=flags)\n",
            "/usr/local/lib/python3.7/dist-packages/matplotlib/backends/backend_agg.py:183: RuntimeWarning: Glyph 128064 missing from current font.\n",
            "  font.set_text(s, 0, flags=flags)\n",
            "/usr/local/lib/python3.7/dist-packages/matplotlib/backends/backend_agg.py:214: RuntimeWarning: Glyph 128071 missing from current font.\n",
            "  font.set_text(s, 0.0, flags=flags)\n",
            "/usr/local/lib/python3.7/dist-packages/matplotlib/backends/backend_agg.py:214: RuntimeWarning: Glyph 127995 missing from current font.\n",
            "  font.set_text(s, 0.0, flags=flags)\n",
            "/usr/local/lib/python3.7/dist-packages/matplotlib/backends/backend_agg.py:183: RuntimeWarning: Glyph 128071 missing from current font.\n",
            "  font.set_text(s, 0, flags=flags)\n",
            "/usr/local/lib/python3.7/dist-packages/matplotlib/backends/backend_agg.py:183: RuntimeWarning: Glyph 127995 missing from current font.\n",
            "  font.set_text(s, 0, flags=flags)\n",
            "/usr/local/lib/python3.7/dist-packages/matplotlib/backends/backend_agg.py:214: RuntimeWarning: Glyph 12298 missing from current font.\n",
            "  font.set_text(s, 0.0, flags=flags)\n",
            "/usr/local/lib/python3.7/dist-packages/matplotlib/backends/backend_agg.py:214: RuntimeWarning: Glyph 1729 missing from current font.\n",
            "  font.set_text(s, 0.0, flags=flags)\n",
            "/usr/local/lib/python3.7/dist-packages/matplotlib/backends/backend_agg.py:183: RuntimeWarning: Glyph 12298 missing from current font.\n",
            "  font.set_text(s, 0, flags=flags)\n",
            "/usr/local/lib/python3.7/dist-packages/matplotlib/backends/backend_agg.py:183: RuntimeWarning: Glyph 1729 missing from current font.\n",
            "  font.set_text(s, 0, flags=flags)\n",
            "/usr/local/lib/python3.7/dist-packages/matplotlib/backends/backend_agg.py:214: RuntimeWarning: Glyph 1649 missing from current font.\n",
            "  font.set_text(s, 0.0, flags=flags)\n",
            "/usr/local/lib/python3.7/dist-packages/matplotlib/backends/backend_agg.py:183: RuntimeWarning: Glyph 1649 missing from current font.\n",
            "  font.set_text(s, 0, flags=flags)\n",
            "/usr/local/lib/python3.7/dist-packages/matplotlib/backends/backend_agg.py:214: RuntimeWarning: Glyph 128205 missing from current font.\n",
            "  font.set_text(s, 0.0, flags=flags)\n",
            "/usr/local/lib/python3.7/dist-packages/matplotlib/backends/backend_agg.py:183: RuntimeWarning: Glyph 128205 missing from current font.\n",
            "  font.set_text(s, 0, flags=flags)\n",
            "/usr/local/lib/python3.7/dist-packages/matplotlib/backends/backend_agg.py:214: RuntimeWarning: Glyph 64337 missing from current font.\n",
            "  font.set_text(s, 0.0, flags=flags)\n",
            "/usr/local/lib/python3.7/dist-packages/matplotlib/backends/backend_agg.py:214: RuntimeWarning: Glyph 65010 missing from current font.\n",
            "  font.set_text(s, 0.0, flags=flags)\n",
            "/usr/local/lib/python3.7/dist-packages/matplotlib/backends/backend_agg.py:183: RuntimeWarning: Glyph 64337 missing from current font.\n",
            "  font.set_text(s, 0, flags=flags)\n",
            "/usr/local/lib/python3.7/dist-packages/matplotlib/backends/backend_agg.py:183: RuntimeWarning: Glyph 65010 missing from current font.\n",
            "  font.set_text(s, 0, flags=flags)\n",
            "/usr/local/lib/python3.7/dist-packages/matplotlib/backends/backend_agg.py:214: RuntimeWarning: Glyph 127800 missing from current font.\n",
            "  font.set_text(s, 0.0, flags=flags)\n",
            "/usr/local/lib/python3.7/dist-packages/matplotlib/backends/backend_agg.py:183: RuntimeWarning: Glyph 127800 missing from current font.\n",
            "  font.set_text(s, 0, flags=flags)\n"
          ],
          "name": "stderr"
        },
        {
          "output_type": "display_data",
          "data": {
            "image/png": "[encoded data removed]",
            "text/plain": [
              "<Figure size 720x720 with 1 Axes>"
            ]
          },
          "metadata": {
            "tags": [],
            "needs_background": "light"
          }
        }
      ]
    },
    {
      "cell_type": "code",
      "metadata": {
        "colab": {
          "base_uri": "https://localhost:8080/",
          "height": 120,
          "referenced_widgets": [
            "c0b9c1e3f8454f02bd3c694193a45164",
            "3a1a4007f02947f88dba1d20c1cd36ed",
            "6af0713649f640fa88c52680b9d34ae8",
            "fa3292d66a164db0a6683e9690a96ad1",
            "6534a78649af4c17bc29a65af0cc0928",
            "c1dd2c7b4fd74026b40e9a36b9348b57",
            "08555903b5b042608a7a7a029d309f9d",
            "a68c25112373425ba25923662ff5b0c2"
          ]
        },
        "id": "iMNsWIyIU-x0",
        "outputId": "bbf6f31c-c84a-4451-e448-07c5fc0f9f4a"
      },
      "source": [
        "def vec_sim(word, top_n):\n",
        "    v_w1 = embeddings[word]\n",
        "    word_sim = {}\n",
        "\n",
        "    for i in tqdm(unique_words, total=len(unique_words)):\n",
        "      # Find the similary score for each word in vocab\n",
        "      v_w2 = embeddings[i]\n",
        "      theta_sum = np.dot(v_w1, v_w2)\n",
        "      theta_den = np.linalg.norm(v_w1) * np.linalg.norm(v_w2)\n",
        "      theta = theta_sum / theta_den\n",
        "\n",
        "      word_sim[i] = theta\n",
        "\n",
        "    words_sorted = sorted(word_sim.items(), key=lambda kv: kv[1], reverse=True)\n",
        "\n",
        "    for word, sim in words_sorted[:top_n]:\n",
        "      print(word, sim)\n",
        "\n",
        "# Find similar words\n",
        "vec_sim(\"مدينة\", 3)"
      ],
      "execution_count": 15,
      "outputs": [
        {
          "output_type": "display_data",
          "data": {
            "application/vnd.jupyter.widget-view+json": {
              "model_id": "c0b9c1e3f8454f02bd3c694193a45164",
              "version_minor": 0,
              "version_major": 2
            },
            "text/plain": [
              "HBox(children=(FloatProgress(value=0.0, max=29353.0), HTML(value='')))"
            ]
          },
          "metadata": {
            "tags": []
          }
        },
        {
          "output_type": "stream",
          "text": [
            "\n",
            "مدينة 1.0\n",
            "بمقطع 0.5957887\n",
            "بلاك 0.5195513\n"
          ],
          "name": "stdout"
        }
      ]
    }
  ]
}