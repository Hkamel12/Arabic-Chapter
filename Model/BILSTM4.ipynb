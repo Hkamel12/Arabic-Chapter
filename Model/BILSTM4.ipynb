{
 "cells": [
  {
   "cell_type": "markdown",
   "metadata": {
    "id": "8tPxVvP8HMtC"
   },
   "source": [
    "# BILSTM - MAX_LEN 500 - EMBEDDINGS gensim300 - TEST_ACC 99.738"
   ]
  },
  {
   "cell_type": "code",
   "execution_count": 2,
   "metadata": {
    "id": "_XrR1q1lHMtE"
   },
   "outputs": [],
   "source": [
    "import pandas as pd\n",
    "import os\n",
    "import numpy as np\n",
    "import matplotlib.pyplot as plt\n",
    "from keras.preprocessing.sequence import pad_sequences\n",
    "from keras.utils.np_utils import to_categorical\n",
    "from keras.preprocessing.text import Tokenizer\n",
    "from keras.models import Sequential,Model\n",
    "from keras.layers import Input,Embedding,Bidirectional,LSTM,TimeDistributed,Dense\n",
    "from keras.callbacks import ModelCheckpoint, EarlyStopping, Callback, TensorBoard,ReduceLROnPlateau"
   ]
  },
  {
   "cell_type": "markdown",
   "metadata": {
    "id": "GYzp7jGFHMtF"
   },
   "source": [
    "## PreProcess Data"
   ]
  },
  {
   "cell_type": "code",
   "execution_count": 4,
   "metadata": {
    "id": "djKDkmS5HMtF"
   },
   "outputs": [],
   "source": [
    "def process_csv(csv):\n",
    "    df = pd.read_csv(csv)\n",
    "    df=df.drop(columns=['Case','lemma', 'Gender','Number','State','Gloss','Proclitic 1','Proclitic 2','Proclitic 0','Aspect','Mood','Person','Voice','Enclitic 0'])\n",
    "    df=df.drop_duplicates()\n",
    "    df[\"POS\"] = df[\"POS\"].apply(lambda x: x.replace(\"Proper Noun\", \"ProperNoun\"))\n",
    "    df1 = pd.DataFrame(columns = ['x','y'])\n",
    "    for i in df['sentence_id'].unique():\n",
    "        df1 = df1.append({'x':df[df['sentence_id'] == i]['word'].tolist() , 'y':df[df['sentence_id'] == i]['POS'].tolist()}, ignore_index=True)\n",
    "    return df1"
   ]
  },
  {
   "cell_type": "code",
   "execution_count": 5,
   "metadata": {
    "colab": {
     "base_uri": "https://localhost:8080/",
     "height": 249
    },
    "id": "1inWynt1HMtF",
    "outputId": "fd62c700-4a9f-458d-b14c-68095adcb0cf"
   },
   "outputs": [
    {
     "name": "stderr",
     "output_type": "stream",
     "text": [
      "/usr/local/lib/python3.7/dist-packages/IPython/core/interactiveshell.py:2822: DtypeWarning: Columns (18) have mixed types.Specify dtype option on import or set low_memory=False.\n",
      "  if self.run_code(code, result):\n"
     ]
    },
    {
     "data": {
      "text/html": [
       "<div>\n",
       "<style scoped>\n",
       "    .dataframe tbody tr th:only-of-type {\n",
       "        vertical-align: middle;\n",
       "    }\n",
       "\n",
       "    .dataframe tbody tr th {\n",
       "        vertical-align: top;\n",
       "    }\n",
       "\n",
       "    .dataframe thead th {\n",
       "        text-align: right;\n",
       "    }\n",
       "</style>\n",
       "<table border=\"1\" class=\"dataframe\">\n",
       "  <thead>\n",
       "    <tr style=\"text-align: right;\">\n",
       "      <th></th>\n",
       "      <th>x</th>\n",
       "      <th>y</th>\n",
       "    </tr>\n",
       "  </thead>\n",
       "  <tbody>\n",
       "    <tr>\n",
       "      <th>0</th>\n",
       "      <td>[السعودية, :, القبض, على, 13, مقيما, عربيا, تو...</td>\n",
       "      <td>[ProperNoun, Punctuation, Noun, Preposition, D...</td>\n",
       "    </tr>\n",
       "    <tr>\n",
       "      <th>1</th>\n",
       "      <td>[الصحة, العالمية, تتوقع, سيطرة, تدريجية, على, ...</td>\n",
       "      <td>[Noun, Adjective, Verb, Noun, Adjective, Prepo...</td>\n",
       "    </tr>\n",
       "    <tr>\n",
       "      <th>2</th>\n",
       "      <td>[وزير, خارجية, الأردن, :, تنسيق, مع, مصر, بشأن...</td>\n",
       "      <td>[Noun, Adjective, ProperNoun, Punctuation, Nou...</td>\n",
       "    </tr>\n",
       "    <tr>\n",
       "      <th>3</th>\n",
       "      <td>[مصرع, شخص, فى, تحطم, مروحية, روسية]</td>\n",
       "      <td>[Noun, Noun, Preposition, Noun, Noun, Adjective]</td>\n",
       "    </tr>\n",
       "    <tr>\n",
       "      <th>4</th>\n",
       "      <td>[نيو, جيرسى, تعلن, إغلاق, بعض, الشوارع, الرئيس...</td>\n",
       "      <td>[ProperNoun, ProperNoun, Verb, Noun, Quantity ...</td>\n",
       "    </tr>\n",
       "  </tbody>\n",
       "</table>\n",
       "</div>"
      ],
      "text/plain": [
       "                                                   x                                                  y\n",
       "0  [السعودية, :, القبض, على, 13, مقيما, عربيا, تو...  [ProperNoun, Punctuation, Noun, Preposition, D...\n",
       "1  [الصحة, العالمية, تتوقع, سيطرة, تدريجية, على, ...  [Noun, Adjective, Verb, Noun, Adjective, Prepo...\n",
       "2  [وزير, خارجية, الأردن, :, تنسيق, مع, مصر, بشأن...  [Noun, Adjective, ProperNoun, Punctuation, Nou...\n",
       "3               [مصرع, شخص, فى, تحطم, مروحية, روسية]   [Noun, Noun, Preposition, Noun, Noun, Adjective]\n",
       "4  [نيو, جيرسى, تعلن, إغلاق, بعض, الشوارع, الرئيس...  [ProperNoun, ProperNoun, Verb, Noun, Quantity ..."
      ]
     },
     "execution_count": 5,
     "metadata": {
      "tags": []
     },
     "output_type": "execute_result"
    }
   ],
   "source": [
    "csvs = ['description_mor.csv', 'title_mor.csv']\n",
    "final_df = pd.DataFrame()\n",
    "for csv in csvs:\n",
    "    df = process_csv('Dataset/'+csv)\n",
    "    final_df = pd.concat([final_df,df])\n",
    "final_df = final_df.sample(frac = 1)\n",
    "final_df.reset_index(drop=True, inplace=True)\n",
    "final_df.head()"
   ]
  },
  {
   "cell_type": "code",
   "execution_count": 6,
   "metadata": {
    "id": "Y8pIR1iFHMtG"
   },
   "outputs": [],
   "source": [
    "embedding_dim = 300\n",
    "MAX_SEQUENCE_LENGTH = 500"
   ]
  },
  {
   "cell_type": "code",
   "execution_count": 7,
   "metadata": {
    "id": "ZSzlOyz4HMtG"
   },
   "outputs": [],
   "source": [
    "x_tokenizer = Tokenizer(oov_token = \"<OOV>\")                    \n",
    "x_tokenizer.fit_on_texts(final_df['x'].tolist())  \n",
    "VOCABULARY_SIZE = len(x_tokenizer.word_index) + 1                  \n",
    "x = x_tokenizer.texts_to_sequences(final_df['x'].tolist())  "
   ]
  },
  {
   "cell_type": "code",
   "execution_count": 8,
   "metadata": {
    "id": "Cuz7GAgvHMtH"
   },
   "outputs": [],
   "source": [
    "y_tokenizer = Tokenizer()\n",
    "y_tokenizer.fit_on_texts(final_df['y'].tolist())\n",
    "y = y_tokenizer.texts_to_sequences(final_df['y'].tolist())"
   ]
  },
  {
   "cell_type": "code",
   "execution_count": 9,
   "metadata": {
    "id": "z0cWHFNAHMtH"
   },
   "outputs": [],
   "source": [
    "x = pad_sequences(x, maxlen=MAX_SEQUENCE_LENGTH, padding='post', truncating='post')\n",
    "y = pad_sequences(y, maxlen=MAX_SEQUENCE_LENGTH, padding='post', truncating='post')\n",
    "y = to_categorical(y)"
   ]
  },
  {
   "cell_type": "code",
   "execution_count": 10,
   "metadata": {
    "id": "5HeVqHhgHMtH"
   },
   "outputs": [],
   "source": [
    "x_train = np.array(x[:int(len(x)*0.7)])\n",
    "x_val = np.array(x[int(len(x)*0.7):int(len(x)*0.9)])\n",
    "x_test = np.array(x[int(len(x)*0.9):])\n",
    "assert len(x_train)+len(x_val)+len(x_test) == len(x)"
   ]
  },
  {
   "cell_type": "code",
   "execution_count": 11,
   "metadata": {
    "id": "tKtCpv0EHMtI"
   },
   "outputs": [],
   "source": [
    "y_train = np.array(y[:int(len(y)*0.7)])\n",
    "y_val = np.array(y[int(len(y)*0.7):int(len(y)*0.9)])\n",
    "y_test = np.array(y[int(len(y)*0.9):])\n",
    "assert len(y_train)+len(y_val)+len(y_test) == len(y)"
   ]
  },
  {
   "cell_type": "code",
   "execution_count": 12,
   "metadata": {
    "colab": {
     "base_uri": "https://localhost:8080/"
    },
    "id": "ztRhVz89HMtI",
    "outputId": "fd06eb62-e2a8-4b58-d13f-b89e31e2e232"
   },
   "outputs": [
    {
     "name": "stdout",
     "output_type": "stream",
     "text": [
      "Training data shape (x y)  (10000, 500) (10000, 500, 33)\n",
      "Validation data shape (x y)  (2858, 500) (2858, 500, 33)\n",
      "Test data shape (x y)  (1429, 500) (1429, 500, 33)\n"
     ]
    }
   ],
   "source": [
    "print(\"Training data shape (x y) \", x_train.shape,y_train.shape)\n",
    "print(\"Validation data shape (x y) \", x_val.shape,y_val.shape)\n",
    "print(\"Test data shape (x y) \", x_test.shape,y_test.shape)"
   ]
  },
  {
   "cell_type": "markdown",
   "metadata": {
    "id": "9uBGBvqrHMtI"
   },
   "source": [
    "## Embedding Matrix"
   ]
  },
  {
   "cell_type": "code",
   "execution_count": 1,
   "metadata": {
    "colab": {
     "base_uri": "https://localhost:8080/"
    },
    "id": "SDS-FQnGHMtI",
    "outputId": "0d2b6dde-9954-4d89-90e9-5e5dfb949d1c"
   },
   "outputs": [
    {
     "name": "stdout",
     "output_type": "stream",
     "text": [
      "--2021-06-09 21:16:37--  https://bakrianoo.ewr1.vultrobjects.com/aravec/full_grams_cbow_300_twitter.zip\n",
      "Resolving bakrianoo.ewr1.vultrobjects.com (bakrianoo.ewr1.vultrobjects.com)... 108.61.0.122, 2001:19f0:0:22::100\n",
      "Connecting to bakrianoo.ewr1.vultrobjects.com (bakrianoo.ewr1.vultrobjects.com)|108.61.0.122|:443... connected.\n",
      "HTTP request sent, awaiting response... 200 OK\n",
      "Length: 3325529808 (3.1G) [application/zip]\n",
      "Saving to: ‘full_grams_cbow_300_twitter.zip’\n",
      "\n",
      "full_grams_cbow_300 100%[===================>]   3.10G  41.3MB/s    in 81s     \n",
      "\n",
      "2021-06-09 21:17:58 (39.1 MB/s) - ‘full_grams_cbow_300_twitter.zip’ saved [3325529808/3325529808]\n",
      "\n",
      "Archive:  full_grams_cbow_300_twitter.zip\n",
      "  inflating: full_grams_cbow_300_twitter.mdl  \n",
      "  inflating: full_grams_cbow_300_twitter.mdl.trainables.syn1neg.npy  \n",
      "  inflating: full_grams_cbow_300_twitter.mdl.wv.vectors.npy  \n"
     ]
    }
   ],
   "source": [
    "!wget https://bakrianoo.ewr1.vultrobjects.com/aravec/full_grams_cbow_300_twitter.zip\n",
    "!unzip full_grams_cbow_300_twitter.zip"
   ]
  },
  {
   "cell_type": "code",
   "execution_count": 13,
   "metadata": {
    "id": "bfhVvf4xHMtJ"
   },
   "outputs": [],
   "source": [
    "import gensim\n",
    "embedding_model = gensim.models.Word2Vec.load('full_grams_cbow_300_twitter.mdl')\n",
    "embeddings = {}\n",
    "for word,vector in zip(embedding_model.wv.vocab,embedding_model.wv.vectors):\n",
    "    coefs = np.array(vector, dtype='float32')\n",
    "    embeddings[word] = coefs\n",
    "embeddings_weights = np.zeros((VOCABULARY_SIZE, embedding_dim))\n",
    "for word, i in x_tokenizer.word_index.items():\n",
    "    embedding_vector = embeddings.get(word)\n",
    "    if embedding_vector is not None:\n",
    "        embeddings_weights[i] = embedding_vector"
   ]
  },
  {
   "cell_type": "markdown",
   "metadata": {
    "id": "FdcVpyVeHMtK"
   },
   "source": [
    "## Create Model"
   ]
  },
  {
   "cell_type": "code",
   "execution_count": 14,
   "metadata": {
    "colab": {
     "base_uri": "https://localhost:8080/"
    },
    "id": "dcxFJaZnHMtK",
    "outputId": "52ec3ceb-f4f5-45f1-b01f-d513c713790a"
   },
   "outputs": [
    {
     "name": "stdout",
     "output_type": "stream",
     "text": [
      "WARNING:tensorflow:Please add `keras.layers.InputLayer` instead of `keras.Input` to Sequential model. `keras.Input` is intended to be used by Functional model.\n",
      "Model: \"sequential\"\n",
      "_________________________________________________________________\n",
      "Layer (type)                 Output Shape              Param #   \n",
      "=================================================================\n",
      "embedding (Embedding)        (None, 500, 300)          9859500   \n",
      "_________________________________________________________________\n",
      "bidirectional (Bidirectional (None, 500, 512)          1140736   \n",
      "_________________________________________________________________\n",
      "bidirectional_1 (Bidirection (None, 500, 512)          1574912   \n",
      "_________________________________________________________________\n",
      "bidirectional_2 (Bidirection (None, 500, 512)          1574912   \n",
      "_________________________________________________________________\n",
      "bidirectional_3 (Bidirection (None, 500, 512)          1574912   \n",
      "_________________________________________________________________\n",
      "time_distributed (TimeDistri (None, 500, 33)           16929     \n",
      "=================================================================\n",
      "Total params: 15,741,901\n",
      "Trainable params: 15,741,901\n",
      "Non-trainable params: 0\n",
      "_________________________________________________________________\n"
     ]
    }
   ],
   "source": [
    "tagger = Sequential()\n",
    "tagger.add(Input((MAX_SEQUENCE_LENGTH)))\n",
    "tagger.add(Embedding(input_dim = VOCABULARY_SIZE,output_dim = embedding_dim, input_length  = MAX_SEQUENCE_LENGTH,weights = [embeddings_weights],\n",
    "                             trainable = True))\n",
    "tagger.add(Bidirectional(LSTM(256, return_sequences=True)))\n",
    "tagger.add(Bidirectional(LSTM(256, return_sequences=True)))\n",
    "tagger.add(Bidirectional(LSTM(256, return_sequences=True)))\n",
    "tagger.add(Bidirectional(LSTM(256, return_sequences=True)))\n",
    "tagger\n",
    "tagger.add(TimeDistributed(Dense(y.shape[2], activation='softmax')))\n",
    "tagger.compile(loss='categorical_crossentropy', optimizer='adam',metrics=['accuracy'])\n",
    "tagger.summary()"
   ]
  },
  {
   "cell_type": "markdown",
   "metadata": {
    "id": "2eNpzjiiHMtK"
   },
   "source": [
    "## Train Model"
   ]
  },
  {
   "cell_type": "code",
   "execution_count": 15,
   "metadata": {
    "id": "VCqXSDOqHMtL"
   },
   "outputs": [],
   "source": [
    "checkpoint = ModelCheckpoint('model4_checkpoint.h5', monitor='val_accuracy', verbose=1, save_best_only=True, mode='max')\n",
    "reducelr = ReduceLROnPlateau(monitor='val_loss', factor=0.5, patience=10, verbose=1, mode='min' , min_lr=0.0001)"
   ]
  },
  {
   "cell_type": "code",
   "execution_count": 17,
   "metadata": {
    "colab": {
     "base_uri": "https://localhost:8080/"
    },
    "id": "VYhrE2c0HMtL",
    "outputId": "2932dbb7-87d3-4c69-d1c3-e6a1fa0d6dba"
   },
   "outputs": [
    {
     "name": "stdout",
     "output_type": "stream",
     "text": [
      "Epoch 1/40\n",
      "79/79 [==============================] - 95s 1s/step - loss: 0.2180 - accuracy: 0.9745 - val_loss: 0.0686 - val_accuracy: 0.9805\n",
      "\n",
      "Epoch 00001: val_accuracy improved from -inf to 0.98047, saving model to model4_checkpoint.h5\n",
      "Epoch 2/40\n",
      "79/79 [==============================] - 83s 1s/step - loss: 0.0664 - accuracy: 0.9812 - val_loss: 0.0673 - val_accuracy: 0.9810\n",
      "\n",
      "Epoch 00002: val_accuracy improved from 0.98047 to 0.98102, saving model to model4_checkpoint.h5\n",
      "Epoch 3/40\n",
      "79/79 [==============================] - 83s 1s/step - loss: 0.0635 - accuracy: 0.9816 - val_loss: 0.0622 - val_accuracy: 0.9821\n",
      "\n",
      "Epoch 00003: val_accuracy improved from 0.98102 to 0.98210, saving model to model4_checkpoint.h5\n",
      "Epoch 4/40\n",
      "79/79 [==============================] - 83s 1s/step - loss: 0.0563 - accuracy: 0.9837 - val_loss: 0.0523 - val_accuracy: 0.9843\n",
      "\n",
      "Epoch 00004: val_accuracy improved from 0.98210 to 0.98431, saving model to model4_checkpoint.h5\n",
      "Epoch 5/40\n",
      "79/79 [==============================] - 83s 1s/step - loss: 0.0394 - accuracy: 0.9880 - val_loss: 0.0303 - val_accuracy: 0.9912\n",
      "\n",
      "Epoch 00005: val_accuracy improved from 0.98431 to 0.99123, saving model to model4_checkpoint.h5\n",
      "Epoch 6/40\n",
      "79/79 [==============================] - 84s 1s/step - loss: 0.0222 - accuracy: 0.9938 - val_loss: 0.0200 - val_accuracy: 0.9946\n",
      "\n",
      "Epoch 00006: val_accuracy improved from 0.99123 to 0.99457, saving model to model4_checkpoint.h5\n",
      "Epoch 7/40\n",
      "79/79 [==============================] - 84s 1s/step - loss: 0.0130 - accuracy: 0.9966 - val_loss: 0.0163 - val_accuracy: 0.9957\n",
      "\n",
      "Epoch 00007: val_accuracy improved from 0.99457 to 0.99572, saving model to model4_checkpoint.h5\n",
      "Epoch 8/40\n",
      "79/79 [==============================] - 84s 1s/step - loss: 0.0084 - accuracy: 0.9979 - val_loss: 0.0138 - val_accuracy: 0.9965\n",
      "\n",
      "Epoch 00008: val_accuracy improved from 0.99572 to 0.99646, saving model to model4_checkpoint.h5\n",
      "Epoch 9/40\n",
      "79/79 [==============================] - 84s 1s/step - loss: 0.0059 - accuracy: 0.9986 - val_loss: 0.0130 - val_accuracy: 0.9967\n",
      "\n",
      "Epoch 00009: val_accuracy improved from 0.99646 to 0.99671, saving model to model4_checkpoint.h5\n",
      "Epoch 10/40\n",
      "79/79 [==============================] - 84s 1s/step - loss: 0.0043 - accuracy: 0.9989 - val_loss: 0.0127 - val_accuracy: 0.9969\n",
      "\n",
      "Epoch 00010: val_accuracy improved from 0.99671 to 0.99689, saving model to model4_checkpoint.h5\n",
      "Epoch 11/40\n",
      "79/79 [==============================] - 84s 1s/step - loss: 0.0032 - accuracy: 0.9992 - val_loss: 0.0128 - val_accuracy: 0.9971\n",
      "\n",
      "Epoch 00011: val_accuracy improved from 0.99689 to 0.99709, saving model to model4_checkpoint.h5\n",
      "Epoch 12/40\n",
      "79/79 [==============================] - 84s 1s/step - loss: 0.0026 - accuracy: 0.9994 - val_loss: 0.0137 - val_accuracy: 0.9971\n",
      "\n",
      "Epoch 00012: val_accuracy did not improve from 0.99709\n",
      "Epoch 13/40\n",
      "79/79 [==============================] - 84s 1s/step - loss: 0.0021 - accuracy: 0.9995 - val_loss: 0.0138 - val_accuracy: 0.9970\n",
      "\n",
      "Epoch 00013: val_accuracy did not improve from 0.99709\n",
      "Epoch 14/40\n",
      "79/79 [==============================] - 84s 1s/step - loss: 0.0018 - accuracy: 0.9996 - val_loss: 0.0135 - val_accuracy: 0.9972\n",
      "\n",
      "Epoch 00014: val_accuracy improved from 0.99709 to 0.99722, saving model to model4_checkpoint.h5\n",
      "Epoch 15/40\n",
      "79/79 [==============================] - 84s 1s/step - loss: 0.0015 - accuracy: 0.9997 - val_loss: 0.0140 - val_accuracy: 0.9972\n",
      "\n",
      "Epoch 00015: val_accuracy improved from 0.99722 to 0.99724, saving model to model4_checkpoint.h5\n",
      "Epoch 16/40\n",
      "79/79 [==============================] - 84s 1s/step - loss: 0.0012 - accuracy: 0.9997 - val_loss: 0.0145 - val_accuracy: 0.9971\n",
      "\n",
      "Epoch 00016: val_accuracy did not improve from 0.99724\n",
      "Epoch 17/40\n",
      "79/79 [==============================] - 84s 1s/step - loss: 0.0011 - accuracy: 0.9998 - val_loss: 0.0143 - val_accuracy: 0.9973\n",
      "\n",
      "Epoch 00017: val_accuracy improved from 0.99724 to 0.99732, saving model to model4_checkpoint.h5\n",
      "Epoch 18/40\n",
      "79/79 [==============================] - 84s 1s/step - loss: 9.4126e-04 - accuracy: 0.9998 - val_loss: 0.0151 - val_accuracy: 0.9972\n",
      "\n",
      "Epoch 00018: val_accuracy did not improve from 0.99732\n",
      "Epoch 19/40\n",
      "79/79 [==============================] - 83s 1s/step - loss: 7.7875e-04 - accuracy: 0.9998 - val_loss: 0.0147 - val_accuracy: 0.9973\n",
      "\n",
      "Epoch 00019: val_accuracy did not improve from 0.99732\n",
      "Epoch 20/40\n",
      "79/79 [==============================] - 84s 1s/step - loss: 6.8768e-04 - accuracy: 0.9998 - val_loss: 0.0158 - val_accuracy: 0.9972\n",
      "\n",
      "Epoch 00020: val_accuracy did not improve from 0.99732\n",
      "\n",
      "Epoch 00020: ReduceLROnPlateau reducing learning rate to 0.0005000000237487257.\n",
      "Epoch 21/40\n",
      "79/79 [==============================] - 86s 1s/step - loss: 5.2578e-04 - accuracy: 0.9999 - val_loss: 0.0155 - val_accuracy: 0.9973\n",
      "\n",
      "Epoch 00021: val_accuracy improved from 0.99732 to 0.99733, saving model to model4_checkpoint.h5\n",
      "Epoch 22/40\n",
      "79/79 [==============================] - 84s 1s/step - loss: 4.2400e-04 - accuracy: 0.9999 - val_loss: 0.0157 - val_accuracy: 0.9973\n",
      "\n",
      "Epoch 00022: val_accuracy improved from 0.99733 to 0.99734, saving model to model4_checkpoint.h5\n",
      "Epoch 23/40\n",
      "79/79 [==============================] - 84s 1s/step - loss: 3.8064e-04 - accuracy: 0.9999 - val_loss: 0.0163 - val_accuracy: 0.9973\n",
      "\n",
      "Epoch 00023: val_accuracy did not improve from 0.99734\n",
      "Epoch 24/40\n",
      "79/79 [==============================] - 86s 1s/step - loss: 3.5331e-04 - accuracy: 0.9999 - val_loss: 0.0162 - val_accuracy: 0.9973\n",
      "\n",
      "Epoch 00024: val_accuracy did not improve from 0.99734\n",
      "Epoch 25/40\n",
      "79/79 [==============================] - 84s 1s/step - loss: 3.0974e-04 - accuracy: 1.0000 - val_loss: 0.0164 - val_accuracy: 0.9973\n",
      "\n",
      "Epoch 00025: val_accuracy did not improve from 0.99734\n",
      "Epoch 26/40\n",
      "79/79 [==============================] - 84s 1s/step - loss: 2.9116e-04 - accuracy: 1.0000 - val_loss: 0.0163 - val_accuracy: 0.9974\n",
      "\n",
      "Epoch 00026: val_accuracy improved from 0.99734 to 0.99736, saving model to model4_checkpoint.h5\n",
      "Epoch 27/40\n",
      "79/79 [==============================] - 83s 1s/step - loss: 2.6609e-04 - accuracy: 1.0000 - val_loss: 0.0162 - val_accuracy: 0.9973\n",
      "\n",
      "Epoch 00027: val_accuracy did not improve from 0.99736\n",
      "Epoch 28/40\n",
      "79/79 [==============================] - 84s 1s/step - loss: 2.4492e-04 - accuracy: 1.0000 - val_loss: 0.0169 - val_accuracy: 0.9973\n",
      "\n",
      "Epoch 00028: val_accuracy did not improve from 0.99736\n",
      "Epoch 29/40\n",
      "79/79 [==============================] - 83s 1s/step - loss: 2.3678e-04 - accuracy: 1.0000 - val_loss: 0.0172 - val_accuracy: 0.9973\n",
      "\n",
      "Epoch 00029: val_accuracy did not improve from 0.99736\n",
      "Epoch 30/40\n",
      "79/79 [==============================] - 83s 1s/step - loss: 2.1154e-04 - accuracy: 1.0000 - val_loss: 0.0171 - val_accuracy: 0.9973\n",
      "\n",
      "Epoch 00030: val_accuracy did not improve from 0.99736\n",
      "\n",
      "Epoch 00030: ReduceLROnPlateau reducing learning rate to 0.0002500000118743628.\n",
      "Epoch 31/40\n",
      "79/79 [==============================] - 84s 1s/step - loss: 1.9229e-04 - accuracy: 1.0000 - val_loss: 0.0172 - val_accuracy: 0.9973\n",
      "\n",
      "Epoch 00031: val_accuracy did not improve from 0.99736\n",
      "Epoch 32/40\n",
      "79/79 [==============================] - 83s 1s/step - loss: 1.7937e-04 - accuracy: 1.0000 - val_loss: 0.0172 - val_accuracy: 0.9973\n",
      "\n",
      "Epoch 00032: val_accuracy did not improve from 0.99736\n",
      "Epoch 33/40\n",
      "79/79 [==============================] - 84s 1s/step - loss: 1.7439e-04 - accuracy: 1.0000 - val_loss: 0.0173 - val_accuracy: 0.9973\n",
      "\n",
      "Epoch 00033: val_accuracy did not improve from 0.99736\n",
      "Epoch 34/40\n",
      "79/79 [==============================] - 83s 1s/step - loss: 1.6676e-04 - accuracy: 1.0000 - val_loss: 0.0173 - val_accuracy: 0.9973\n",
      "\n",
      "Epoch 00034: val_accuracy did not improve from 0.99736\n",
      "Epoch 35/40\n",
      "79/79 [==============================] - 84s 1s/step - loss: 1.6042e-04 - accuracy: 1.0000 - val_loss: 0.0173 - val_accuracy: 0.9973\n",
      "\n",
      "Epoch 00035: val_accuracy did not improve from 0.99736\n",
      "Epoch 36/40\n",
      "79/79 [==============================] - 83s 1s/step - loss: 1.5860e-04 - accuracy: 1.0000 - val_loss: 0.0176 - val_accuracy: 0.9973\n",
      "\n",
      "Epoch 00036: val_accuracy did not improve from 0.99736\n",
      "Epoch 37/40\n",
      "79/79 [==============================] - 83s 1s/step - loss: 1.5054e-04 - accuracy: 1.0000 - val_loss: 0.0176 - val_accuracy: 0.9973\n",
      "\n",
      "Epoch 00037: val_accuracy did not improve from 0.99736\n",
      "Epoch 38/40\n",
      "79/79 [==============================] - 83s 1s/step - loss: 1.4706e-04 - accuracy: 1.0000 - val_loss: 0.0176 - val_accuracy: 0.9973\n",
      "\n",
      "Epoch 00038: val_accuracy did not improve from 0.99736\n",
      "Epoch 39/40\n",
      "79/79 [==============================] - 84s 1s/step - loss: 1.4453e-04 - accuracy: 1.0000 - val_loss: 0.0178 - val_accuracy: 0.9973\n",
      "\n",
      "Epoch 00039: val_accuracy did not improve from 0.99736\n",
      "Epoch 40/40\n",
      "79/79 [==============================] - 84s 1s/step - loss: 1.4086e-04 - accuracy: 1.0000 - val_loss: 0.0178 - val_accuracy: 0.9973\n",
      "\n",
      "Epoch 00040: val_accuracy did not improve from 0.99736\n",
      "\n",
      "Epoch 00040: ReduceLROnPlateau reducing learning rate to 0.0001250000059371814.\n"
     ]
    }
   ],
   "source": [
    "result = tagger.fit(x_train, y_train, validation_data= (x_val, y_val), epochs = 40, batch_size= 128, shuffle = True,callbacks=[checkpoint,reducelr])"
   ]
  },
  {
   "cell_type": "markdown",
   "metadata": {
    "id": "IFNSgYzFHMtL"
   },
   "source": [
    "## Evaluate Model"
   ]
  },
  {
   "cell_type": "code",
   "execution_count": 18,
   "metadata": {
    "colab": {
     "base_uri": "https://localhost:8080/",
     "height": 573
    },
    "id": "GJd8LeALHMtL",
    "outputId": "2070f33d-1cd1-4b77-b40d-3c334499e199"
   },
   "outputs": [
    {
     "data": {
      "image/png": "[encoded data removed]",
      "text/plain": [
       "<Figure size 432x288 with 1 Axes>"
      ]
     },
     "metadata": {
      "needs_background": "light",
      "tags": []
     },
     "output_type": "display_data"
    },
    {
     "data": {
      "image/png": "[encoded data removed]",
      "text/plain": [
       "<Figure size 432x288 with 1 Axes>"
      ]
     },
     "metadata": {
      "needs_background": "light",
      "tags": []
     },
     "output_type": "display_data"
    }
   ],
   "source": [
    "plt.plot(result.history['accuracy'])\n",
    "plt.plot(result.history['val_accuracy'])\n",
    "plt.title('model accuracy')\n",
    "plt.ylabel('accuracy')\n",
    "plt.xlabel('epoch')\n",
    "plt.legend(['train','val'],loc='upper left')\n",
    "plt.show()\n",
    "\n",
    "plt.plot(result.history['loss'])\n",
    "plt.plot(result.history['val_loss'])\n",
    "plt.title('model loss')\n",
    "plt.ylabel('loss')\n",
    "plt.xlabel('epoch')\n",
    "plt.legend(['train','val'],loc='upper right')\n",
    "plt.show()"
   ]
  },
  {
   "cell_type": "code",
   "execution_count": 19,
   "metadata": {
    "id": "rEHvZaZNHMtM"
   },
   "outputs": [],
   "source": [
    "tagger.load_weights('model4_checkpoint.h5')"
   ]
  },
  {
   "cell_type": "code",
   "execution_count": 20,
   "metadata": {
    "colab": {
     "base_uri": "https://localhost:8080/"
    },
    "id": "RjplcZ-nHMtM",
    "outputId": "84984573-8f45-4b91-fcda-48afa0ade6e0"
   },
   "outputs": [
    {
     "name": "stdout",
     "output_type": "stream",
     "text": [
      "45/45 [==============================] - 6s 130ms/step - loss: 0.0165 - accuracy: 0.9974\n",
      "Loss: 0.016536153852939606\n",
      "Accuracy: 0.9973813891410828\n"
     ]
    }
   ],
   "source": [
    "loss, accuracy = tagger.evaluate(x_test, y_test)\n",
    "print('Loss:',loss)\n",
    "print('Accuracy:',accuracy)"
   ]
  },
  {
   "cell_type": "markdown",
   "metadata": {
    "id": "AcAcNiLSHMtM"
   },
   "source": [
    "## Predict "
   ]
  },
  {
   "cell_type": "code",
   "execution_count": 21,
   "metadata": {
    "id": "OtIb3vkcHMtM"
   },
   "outputs": [],
   "source": [
    "def pos_tagger(sent):\n",
    "    words = sent.split()\n",
    "    words = [x_tokenizer.texts_to_sequences(words)]\n",
    "    words = pad_sequences(words, maxlen=MAX_SEQUENCE_LENGTH, padding=\"post\", truncating=\"post\")\n",
    "    words = np.squeeze(words,axis=-1)\n",
    "    tags = np.squeeze(tagger.predict(words).argmax(-1))\n",
    "    tags = [y_tokenizer.index_word[tag] for tag in tags if tag != 0]\n",
    "    return tags"
   ]
  },
  {
   "cell_type": "code",
   "execution_count": 22,
   "metadata": {
    "colab": {
     "base_uri": "https://localhost:8080/"
    },
    "id": "xtHwfWKsHMtM",
    "outputId": "4302f6c3-120d-4b96-c4ec-7e67c87648df"
   },
   "outputs": [
    {
     "name": "stdout",
     "output_type": "stream",
     "text": [
      "جون propernoun\n",
      "يحب verb\n",
      "البيت noun\n",
      "الأزرق noun\n",
      "في preposition\n",
      "نهاية noun\n",
      "الشارع noun\n"
     ]
    }
   ],
   "source": [
    "sentence = \"جون يحب البيت الأزرق في نهاية الشارع\"\n",
    "output = pos_tagger(sentence)\n",
    "pred_tags = [(sentence.split()[i],output[i]) for i in range(len(sentence.split()))]\n",
    "for w,t in pred_tags:\n",
    "    print(w,t)"
   ]
  },
  {
   "cell_type": "markdown",
   "metadata": {
    "id": "OeH0s8C6HMtN"
   },
   "source": [
    "## Evaluate Prediction"
   ]
  },
  {
   "cell_type": "code",
   "execution_count": 23,
   "metadata": {
    "colab": {
     "base_uri": "https://localhost:8080/"
    },
    "id": "2rapMwmXHMtN",
    "outputId": "0dce08c0-c3b5-4761-87d0-01fbdc4a5c7e"
   },
   "outputs": [
    {
     "data": {
      "text/plain": [
       "100.0"
      ]
     },
     "execution_count": 23,
     "metadata": {
      "tags": []
     },
     "output_type": "execute_result"
    }
   ],
   "source": [
    "from evaluate_pred import *\n",
    "evaluate(sentence, pred_tags)"
   ]
  },
  {
   "cell_type": "code",
   "execution_count": null,
   "metadata": {
    "id": "5PXZ81z5fY-H"
   },
   "outputs": [],
   "source": []
  }
 ],
 "metadata": {
  "accelerator": "GPU",
  "colab": {
   "name": "Model4.ipynb",
   "provenance": []
  },
  "kernelspec": {
   "display_name": "Python 3",
   "language": "python",
   "name": "python3"
  },
  "language_info": {
   "codemirror_mode": {
    "name": "ipython",
    "version": 3
   },
   "file_extension": ".py",
   "mimetype": "text/x-python",
   "name": "python",
   "nbconvert_exporter": "python",
   "pygments_lexer": "ipython3",
   "version": "3.7.10"
  }
 },
 "nbformat": 4,
 "nbformat_minor": 1
}
