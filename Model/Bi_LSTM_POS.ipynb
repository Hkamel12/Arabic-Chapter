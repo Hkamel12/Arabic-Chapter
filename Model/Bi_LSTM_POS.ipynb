{
  "nbformat": 4,
  "nbformat_minor": 0,
  "metadata": {
    "colab": {
      "name": "Bi-LSTM_POS.ipynb",
      "provenance": [],
      "collapsed_sections": []
    },
    "kernelspec": {
      "name": "python3",
      "display_name": "Python 3"
    },
    "language_info": {
      "name": "python"
    },
    "accelerator": "GPU"
  },
  "cells": [
    {
      "cell_type": "code",
      "metadata": {
        "colab": {
          "base_uri": "https://localhost:8080/"
        },
        "id": "Oqg9iLirIbE9",
        "outputId": "686e2437-3813-4505-d070-ffe3b2bebf31"
      },
      "source": [
        "!pip install pyconll"
      ],
      "execution_count": 1,
      "outputs": [
        {
          "output_type": "stream",
          "text": [
            "Collecting pyconll\n",
            "  Downloading https://files.pythonhosted.org/packages/0a/4c/edf12b4b211f8a0f7f85a52ed4b50cd453ac96e9b751427e0296eb7ae42a/pyconll-3.1.0-py3-none-any.whl\n",
            "Installing collected packages: pyconll\n",
            "Successfully installed pyconll-3.1.0\n"
          ],
          "name": "stdout"
        }
      ]
    },
    {
      "cell_type": "code",
      "metadata": {
        "colab": {
          "base_uri": "https://localhost:8080/"
        },
        "id": "Mq4qZgxTIc8K",
        "outputId": "dd77041e-779a-415a-c640-429c141bdba9"
      },
      "source": [
        "!git clone https://github.com/UniversalDependencies/UD_Arabic-PADT"
      ],
      "execution_count": 2,
      "outputs": [
        {
          "output_type": "stream",
          "text": [
            "Cloning into 'UD_Arabic-PADT'...\n",
            "remote: Enumerating objects: 595, done.\u001b[K\n",
            "remote: Counting objects: 100% (35/35), done.\u001b[K\n",
            "remote: Compressing objects: 100% (26/26), done.\u001b[K\n",
            "remote: Total 595 (delta 19), reused 24 (delta 9), pack-reused 560\u001b[K\n",
            "Receiving objects: 100% (595/595), 121.10 MiB | 30.25 MiB/s, done.\n",
            "Resolving deltas: 100% (428/428), done.\n"
          ],
          "name": "stdout"
        }
      ]
    },
    {
      "cell_type": "code",
      "metadata": {
        "id": "L_acU-slo0lH"
      },
      "source": [
        "import numpy as np\n",
        "import pyconll\n",
        "from matplotlib import pyplot as plt\n",
        "import seaborn as sns\n",
        "from keras.preprocessing.sequence import pad_sequences\n",
        "from keras.utils.np_utils import to_categorical\n",
        "from keras.models import Sequential\n",
        "from keras.layers import *\n",
        "from keras.optimizers import Adam,SGD\n",
        "from keras.models import Model\n",
        "from keras.preprocessing.text import Tokenizer\n",
        "from keras.callbacks import ModelCheckpoint, EarlyStopping, Callback, TensorBoard,ReduceLROnPlateau\n",
        "from sklearn.metrics import recall_score, precision_score, classification_report, accuracy_score, confusion_matrix, f1_score\n",
        "from sklearn.model_selection import train_test_split\n",
        "from sklearn.utils import shuffle\n",
        "from tqdm import tqdm\n",
        "from sklearn.metrics import confusion_matrix\n",
        "from mlxtend.plotting import plot_confusion_matrix\n",
        "import gensim\n",
        "import re\n",
        "import itertools\n",
        "from nltk import ngrams\n",
        "import warnings\n",
        "warnings.filterwarnings('ignore')"
      ],
      "execution_count": 227,
      "outputs": []
    },
    {
      "cell_type": "code",
      "metadata": {
        "id": "sWPEXnPlIc1c"
      },
      "source": [
        "UD_Arabic_TRAIN = '/content/UD_Arabic-PADT/ar_padt-ud-train.conllu'\n",
        "UD_Arabic_DEV = '/content/UD_Arabic-PADT/ar_padt-ud-dev.conllu'\n",
        "UD_Arabic_TEST = '/content/UD_Arabic-PADT/ar_padt-ud-test.conllu'"
      ],
      "execution_count": 3,
      "outputs": []
    },
    {
      "cell_type": "code",
      "metadata": {
        "id": "7xkPWT6ZIc4C"
      },
      "source": [
        "def read_conllu(path):\n",
        "    data = pyconll.load_from_file(path)\n",
        "    tagged_sentences=[]\n",
        "    t=0\n",
        "    for sentence in data:\n",
        "        tagged_sentence=[]\n",
        "        for token in sentence:\n",
        "            if token.upos and token.form:\n",
        "                t+=1\n",
        "                tagged_sentence.append((token.form.lower(), token.upos))\n",
        "        tagged_sentences.append(tagged_sentence)\n",
        "    return tagged_sentences"
      ],
      "execution_count": 4,
      "outputs": []
    },
    {
      "cell_type": "code",
      "metadata": {
        "id": "n0POD1ZRIc52"
      },
      "source": [
        "train_sentences = read_conllu(UD_Arabic_TRAIN)\n",
        "val_sentences = read_conllu(UD_Arabic_DEV)\n",
        "test_sentences = read_conllu(UD_Arabic_TEST)"
      ],
      "execution_count": 7,
      "outputs": []
    },
    {
      "cell_type": "code",
      "metadata": {
        "colab": {
          "base_uri": "https://localhost:8080/"
        },
        "id": "_JuHIk4eIc-b",
        "outputId": "191abbf6-deac-45d3-9f84-b8871aa151ba"
      },
      "source": [
        "print(\"Tagged sentences in train set: \", len(train_sentences))\n",
        "print(\"Tagged words in train set:\", len([item for sublist in train_sentences for item in sublist]))\n",
        "print(40*'=')\n",
        "print(\"Tagged sentences in dev set: \", len(val_sentences))\n",
        "print(\"Tagged words in dev set:\", len([item for sublist in val_sentences for item in sublist]))\n",
        "print(40*'=')\n",
        "print(\"Tagged sentences in test set: \", len(test_sentences))\n",
        "print(\"Tagged words in test set:\", len([item for sublist in test_sentences for item in sublist]))\n",
        "print(40*'*')\n",
        "print(\"Total sentences in dataset:\", len(train_sentences)+len(val_sentences)+len(test_sentences))"
      ],
      "execution_count": 8,
      "outputs": [
        {
          "output_type": "stream",
          "text": [
            "Tagged sentences in train set:  6075\n",
            "Tagged words in train set: 223881\n",
            "========================================\n",
            "Tagged sentences in dev set:  909\n",
            "Tagged words in dev set: 30239\n",
            "========================================\n",
            "Tagged sentences in test set:  680\n",
            "Tagged words in test set: 28264\n",
            "****************************************\n",
            "Total sentences in dataset: 7664\n"
          ],
          "name": "stdout"
        }
      ]
    },
    {
      "cell_type": "code",
      "metadata": {
        "colab": {
          "base_uri": "https://localhost:8080/"
        },
        "id": "si1IJe-fIdAa",
        "outputId": "7f99ea2d-9789-4fd0-8b74-2533f788c614"
      },
      "source": [
        "print(train_sentences[0])"
      ],
      "execution_count": 9,
      "outputs": [
        {
          "output_type": "stream",
          "text": [
            "[('برلين', 'X'), ('ترفض', 'VERB'), ('حصول', 'NOUN'), ('شركة', 'NOUN'), ('اميركية', 'ADJ'), ('على', 'ADP'), ('رخصة', 'NOUN'), ('تصنيع', 'NOUN'), ('دبابة', 'NOUN'), ('\"', 'PUNCT'), ('ليوبارد', 'X'), ('\"', 'PUNCT'), ('الالمانية', 'ADJ')]\n"
          ],
          "name": "stdout"
        }
      ]
    },
    {
      "cell_type": "code",
      "metadata": {
        "id": "FMBowfQ5IdCR"
      },
      "source": [
        "def tag_sequence(sentences):\n",
        "    return [[tag for word, tag in sentence] for sentence in sentences]\n",
        "\n",
        "def text_sequence(sentences):\n",
        "    return [[word for word, tag in sentence] for sentence in sentences]"
      ],
      "execution_count": 10,
      "outputs": []
    },
    {
      "cell_type": "code",
      "metadata": {
        "colab": {
          "base_uri": "https://localhost:8080/"
        },
        "id": "O0p64n5lIdEe",
        "outputId": "625a1b9d-3c40-43a5-edf1-39830cd1f72c"
      },
      "source": [
        "tags = set([item for sublist in train_sentences+test_sentences+val_sentences for _, item in sublist])\n",
        "print('TOTAL TAGS: ', len(tags))"
      ],
      "execution_count": 11,
      "outputs": [
        {
          "output_type": "stream",
          "text": [
            "TOTAL TAGS:  17\n"
          ],
          "name": "stdout"
        }
      ]
    },
    {
      "cell_type": "code",
      "metadata": {
        "colab": {
          "base_uri": "https://localhost:8080/",
          "height": 265
        },
        "id": "zCOsp2E7IdQ-",
        "outputId": "5c54f934-43af-4ba8-f423-e334026cb84a"
      },
      "source": [
        "plt.style.use(\"ggplot\")\n",
        "plt.hist([len(s) for s in train_sentences], bins=50)\n",
        "plt.show()"
      ],
      "execution_count": 228,
      "outputs": [
        {
          "output_type": "display_data",
          "data": {
            "image/png": "[encoded data removed]",
            "text/plain": [
              "<Figure size 432x288 with 1 Axes>"
            ]
          },
          "metadata": {
            "tags": []
          }
        }
      ]
    },
    {
      "cell_type": "code",
      "metadata": {
        "colab": {
          "base_uri": "https://localhost:8080/"
        },
        "id": "6Aubzdo4IdVQ",
        "outputId": "1397dbcd-21c8-499f-a7a4-01972a1fc9cb"
      },
      "source": [
        "print('Max sentence length:',len(max(train_sentences+val_sentences, key=len)))"
      ],
      "execution_count": 13,
      "outputs": [
        {
          "output_type": "stream",
          "text": [
            "Max sentence length: 398\n"
          ],
          "name": "stdout"
        }
      ]
    },
    {
      "cell_type": "markdown",
      "metadata": {
        "id": "kytZ_hphRWBO"
      },
      "source": [
        "\n",
        "To avoid truncating sequences during padding we split our sentences to MAX_SEQUENCE_LENGTH. For example, if MAX_SEQUENCE_LENGTH=70, a sentence with length 150 splits in 3 sentences: 150=70+70+10"
      ]
    },
    {
      "cell_type": "code",
      "metadata": {
        "id": "vyanTbJ4RD-8"
      },
      "source": [
        "def  split(sentences, max):\n",
        "    new=[]\n",
        "    for data in sentences:\n",
        "        new.append(([data[x:x+max] for x in range(0, len(data), max)]))\n",
        "    new = [val for sublist in new for val in sublist]\n",
        "    return new"
      ],
      "execution_count": null,
      "outputs": []
    },
    {
      "cell_type": "code",
      "metadata": {
        "id": "EZIjW5QFRECk"
      },
      "source": [
        "MAX_SEQUENCE_LENGTH = 70\n",
        "\n",
        "train_sentences = split(train_sentences, MAX_SEQUENCE_LENGTH)\n",
        "val_sentences = split(val_sentences, MAX_SEQUENCE_LENGTH)\n",
        "test_sentences = split(test_sentences, MAX_SEQUENCE_LENGTH)"
      ],
      "execution_count": null,
      "outputs": []
    },
    {
      "cell_type": "code",
      "metadata": {
        "colab": {
          "base_uri": "https://localhost:8080/"
        },
        "id": "cWRLW4nU-g0E",
        "outputId": "4c81b263-bb99-4a76-9d7f-cacfa9ccf145"
      },
      "source": [
        "train_sentences[0]"
      ],
      "execution_count": 14,
      "outputs": [
        {
          "output_type": "execute_result",
          "data": {
            "text/plain": [
              "[('برلين', 'X'),\n",
              " ('ترفض', 'VERB'),\n",
              " ('حصول', 'NOUN'),\n",
              " ('شركة', 'NOUN'),\n",
              " ('اميركية', 'ADJ'),\n",
              " ('على', 'ADP'),\n",
              " ('رخصة', 'NOUN'),\n",
              " ('تصنيع', 'NOUN'),\n",
              " ('دبابة', 'NOUN'),\n",
              " ('\"', 'PUNCT'),\n",
              " ('ليوبارد', 'X'),\n",
              " ('\"', 'PUNCT'),\n",
              " ('الالمانية', 'ADJ')]"
            ]
          },
          "metadata": {
            "tags": []
          },
          "execution_count": 14
        }
      ]
    },
    {
      "cell_type": "code",
      "metadata": {
        "id": "tewOCi-sREGW"
      },
      "source": [
        "train_sentences = train_sentences + val_sentences + test_sentences"
      ],
      "execution_count": 15,
      "outputs": []
    },
    {
      "cell_type": "code",
      "metadata": {
        "id": "jbN7HjzfRcXl"
      },
      "source": [
        "train_text = text_sequence(train_sentences)\n",
        "train_tags = tag_sequence(train_sentences)"
      ],
      "execution_count": 16,
      "outputs": []
    },
    {
      "cell_type": "code",
      "metadata": {
        "colab": {
          "base_uri": "https://localhost:8080/"
        },
        "id": "4az4CekpSE7T",
        "outputId": "40d8e9f7-2b05-4333-80e3-dc552fec42ad"
      },
      "source": [
        "len(train_text)"
      ],
      "execution_count": 17,
      "outputs": [
        {
          "output_type": "execute_result",
          "data": {
            "text/plain": [
              "7664"
            ]
          },
          "metadata": {
            "tags": []
          },
          "execution_count": 17
        }
      ]
    },
    {
      "cell_type": "code",
      "metadata": {
        "colab": {
          "base_uri": "https://localhost:8080/"
        },
        "id": "O9BJG49ARca8",
        "outputId": "a8b7c962-1278-4403-ce98-561ee59e5803"
      },
      "source": [
        "train_text[0], train_tags[0]"
      ],
      "execution_count": 18,
      "outputs": [
        {
          "output_type": "execute_result",
          "data": {
            "text/plain": [
              "(['برلين',\n",
              "  'ترفض',\n",
              "  'حصول',\n",
              "  'شركة',\n",
              "  'اميركية',\n",
              "  'على',\n",
              "  'رخصة',\n",
              "  'تصنيع',\n",
              "  'دبابة',\n",
              "  '\"',\n",
              "  'ليوبارد',\n",
              "  '\"',\n",
              "  'الالمانية'],\n",
              " ['X',\n",
              "  'VERB',\n",
              "  'NOUN',\n",
              "  'NOUN',\n",
              "  'ADJ',\n",
              "  'ADP',\n",
              "  'NOUN',\n",
              "  'NOUN',\n",
              "  'NOUN',\n",
              "  'PUNCT',\n",
              "  'X',\n",
              "  'PUNCT',\n",
              "  'ADJ'])"
            ]
          },
          "metadata": {
            "tags": []
          },
          "execution_count": 18
        }
      ]
    },
    {
      "cell_type": "code",
      "metadata": {
        "id": "rbLb461yELYh"
      },
      "source": [
        "embedding_dim = 300\n",
        "MAX_SEQUENCE_LENGTH = 398\n",
        "trunc_type='post'\n",
        "padding_type='post'\n",
        "oov_tok = \"<OOV>\""
      ],
      "execution_count": 88,
      "outputs": []
    },
    {
      "cell_type": "code",
      "metadata": {
        "id": "qmkAHDFOqJft"
      },
      "source": [
        "word_tokenizer = Tokenizer(oov_token = oov_tok)                    \n",
        "word_tokenizer.fit_on_texts(train_text)  \n",
        "VOCABULARY_SIZE = len(word_tokenizer.word_index) + 1                  \n",
        "X_encoded_train = word_tokenizer.texts_to_sequences(train_text)  "
      ],
      "execution_count": 89,
      "outputs": []
    },
    {
      "cell_type": "code",
      "metadata": {
        "id": "69y_8192qN9N"
      },
      "source": [
        "tag_tokenizer = Tokenizer()\n",
        "tag_tokenizer.fit_on_texts(train_tags)\n",
        "Y_encoded_train = tag_tokenizer.texts_to_sequences(train_tags)"
      ],
      "execution_count": 174,
      "outputs": []
    },
    {
      "cell_type": "code",
      "metadata": {
        "colab": {
          "base_uri": "https://localhost:8080/"
        },
        "id": "VdWK0b6-qrMD",
        "outputId": "cc6ecfd9-b616-49c7-ad95-e5fbd85edb01"
      },
      "source": [
        "print(\"** Raw data point **\", \"\\n\", \"-\"*100, \"\\n\")\n",
        "print('X: ', train_text[0], '\\n')\n",
        "print('Y: ', train_tags[0], '\\n')\n",
        "print()\n",
        "print(\"** Encoded data point **\", \"\\n\", \"-\"*100, \"\\n\")\n",
        "print('X: ', X_encoded_train[0], '\\n')\n",
        "print('Y: ', Y_encoded_train[0], '\\n')"
      ],
      "execution_count": 91,
      "outputs": [
        {
          "output_type": "stream",
          "text": [
            "** Raw data point ** \n",
            " ---------------------------------------------------------------------------------------------------- \n",
            "\n",
            "X:  ['برلين', 'ترفض', 'حصول', 'شركة', 'اميركية', 'على', 'رخصة', 'تصنيع', 'دبابة', '\"', 'ليوبارد', '\"', 'الالمانية'] \n",
            "\n",
            "Y:  ['X', 'VERB', 'NOUN', 'NOUN', 'ADJ', 'ADP', 'NOUN', 'NOUN', 'NOUN', 'PUNCT', 'X', 'PUNCT', 'ADJ'] \n",
            "\n",
            "\n",
            "** Encoded data point ** \n",
            " ---------------------------------------------------------------------------------------------------- \n",
            "\n",
            "X:  [3936, 2492, 971, 89, 2082, 12, 3937, 1966, 3582, 10, 4888, 10, 1967] \n",
            "\n",
            "Y:  [7, 5, 1, 1, 3, 2, 1, 1, 1, 4, 7, 4, 3] \n",
            "\n"
          ],
          "name": "stdout"
        }
      ]
    },
    {
      "cell_type": "code",
      "metadata": {
        "id": "azqGdC_cRcc-"
      },
      "source": [
        "X_padded_train = pad_sequences(X_encoded_train, maxlen=MAX_SEQUENCE_LENGTH, padding=padding_type, truncating=trunc_type)\n",
        "Y_padded_train = pad_sequences(Y_encoded_train, maxlen=MAX_SEQUENCE_LENGTH, padding=padding_type, truncating=trunc_type)\n",
        "\n",
        "X_train = X_padded_train\n",
        "Y_train = Y_padded_train"
      ],
      "execution_count": 92,
      "outputs": []
    },
    {
      "cell_type": "code",
      "metadata": {
        "colab": {
          "base_uri": "https://localhost:8080/"
        },
        "id": "bOdI_PzJQBqn",
        "outputId": "4648b204-823f-443c-bb15-e7b8b1d4b466"
      },
      "source": [
        "X_train.shape"
      ],
      "execution_count": 93,
      "outputs": [
        {
          "output_type": "execute_result",
          "data": {
            "text/plain": [
              "(7664, 398)"
            ]
          },
          "metadata": {
            "tags": []
          },
          "execution_count": 93
        }
      ]
    },
    {
      "cell_type": "code",
      "metadata": {
        "id": "-K1FzGPTjKO6"
      },
      "source": [
        "Y_train = to_categorical(Y_train)"
      ],
      "execution_count": 94,
      "outputs": []
    },
    {
      "cell_type": "code",
      "metadata": {
        "colab": {
          "base_uri": "https://localhost:8080/"
        },
        "id": "vo25MnnvjUvf",
        "outputId": "049d96c4-5bbb-42ce-fbff-a3f395ebc5d2"
      },
      "source": [
        "Y_train.shape"
      ],
      "execution_count": 95,
      "outputs": [
        {
          "output_type": "execute_result",
          "data": {
            "text/plain": [
              "(7664, 398, 18)"
            ]
          },
          "metadata": {
            "tags": []
          },
          "execution_count": 95
        }
      ]
    },
    {
      "cell_type": "code",
      "metadata": {
        "id": "DrKZ6hmtzpjx"
      },
      "source": [
        "X_train, X_test, Y_train, Y_test = train_test_split(X_train, Y_train, test_size=0.15, random_state=41)"
      ],
      "execution_count": 96,
      "outputs": []
    },
    {
      "cell_type": "code",
      "metadata": {
        "id": "PvyT_NfKRchx"
      },
      "source": [
        "X_train, X_valid , Y_train, Y_valid = train_test_split(X_train, Y_train, test_size = 0.15, random_state = 41)"
      ],
      "execution_count": 97,
      "outputs": []
    },
    {
      "cell_type": "code",
      "metadata": {
        "colab": {
          "base_uri": "https://localhost:8080/"
        },
        "id": "65pwIqTmkErB",
        "outputId": "e4e51472-d813-4965-cabb-b79d0364fc4a"
      },
      "source": [
        "# print number of samples in each set\n",
        "print(\"TRAINING DATA\")\n",
        "print('Shape of input sequences: {}'.format(X_train.shape))\n",
        "print('Shape of output sequences: {}'.format(Y_train.shape))\n",
        "print(\"-\"*50)\n",
        "print(\"VALIDATION DATA\")\n",
        "print('Shape of input sequences: {}'.format(X_valid.shape))\n",
        "print('Shape of output sequences: {}'.format(Y_valid.shape))\n",
        "print(\"-\"*50)\n",
        "print(\"TESTING DATA\")\n",
        "print('Shape of input sequences: {}'.format(X_test.shape))\n",
        "print('Shape of output sequences: {}'.format(Y_test.shape))"
      ],
      "execution_count": 98,
      "outputs": [
        {
          "output_type": "stream",
          "text": [
            "TRAINING DATA\n",
            "Shape of input sequences: (5536, 398)\n",
            "Shape of output sequences: (5536, 398, 18)\n",
            "--------------------------------------------------\n",
            "VALIDATION DATA\n",
            "Shape of input sequences: (978, 398)\n",
            "Shape of output sequences: (978, 398, 18)\n",
            "--------------------------------------------------\n",
            "TESTING DATA\n",
            "Shape of input sequences: (1150, 398)\n",
            "Shape of output sequences: (1150, 398, 18)\n"
          ],
          "name": "stdout"
        }
      ]
    },
    {
      "cell_type": "code",
      "metadata": {
        "colab": {
          "base_uri": "https://localhost:8080/"
        },
        "id": "I5rQxoTikviY",
        "outputId": "b70d2100-2a63-4c46-c525-8c4b55ebb095"
      },
      "source": [
        "NUM_CLASSES = Y_train.shape[2]\n",
        "NUM_CLASSES"
      ],
      "execution_count": 99,
      "outputs": [
        {
          "output_type": "execute_result",
          "data": {
            "text/plain": [
              "18"
            ]
          },
          "metadata": {
            "tags": []
          },
          "execution_count": 99
        }
      ]
    },
    {
      "cell_type": "code",
      "metadata": {
        "id": "xiFzcnnblQsn"
      },
      "source": [
        "model = Sequential()\n",
        "model.add(InputLayer((MAX_SEQUENCE_LENGTH)))\n",
        "model.add(Embedding(input_dim = VOCABULARY_SIZE,\n",
        "                             output_dim    = embedding_dim,\n",
        "                             input_length  = MAX_SEQUENCE_LENGTH,\n",
        "                             trainable     = True\n",
        "))\n",
        "model.add(Bidirectional(LSTM(256, return_sequences=True)))\n",
        "model.add(Bidirectional(LSTM(256, return_sequences=True)))\n",
        "model.add(Bidirectional(LSTM(256, return_sequences=True)))\n",
        "model.add(Bidirectional(LSTM(256, return_sequences=True)))\n",
        "\n",
        "model.add(TimeDistributed(Dense(NUM_CLASSES, activation='softmax')))\n",
        "model.compile(loss='categorical_crossentropy', optimizer='adam',metrics=['accuracy'])"
      ],
      "execution_count": 100,
      "outputs": []
    },
    {
      "cell_type": "code",
      "metadata": {
        "id": "-oanRm_fndl_",
        "colab": {
          "base_uri": "https://localhost:8080/"
        },
        "outputId": "d03fcb6f-fdce-488e-cb59-708bccb0f052"
      },
      "source": [
        "model.summary()"
      ],
      "execution_count": 101,
      "outputs": [
        {
          "output_type": "stream",
          "text": [
            "Model: \"sequential_5\"\n",
            "_________________________________________________________________\n",
            "Layer (type)                 Output Shape              Param #   \n",
            "=================================================================\n",
            "embedding_5 (Embedding)      (None, 398, 300)          7471800   \n",
            "_________________________________________________________________\n",
            "bidirectional_16 (Bidirectio (None, 398, 512)          1140736   \n",
            "_________________________________________________________________\n",
            "bidirectional_17 (Bidirectio (None, 398, 512)          1574912   \n",
            "_________________________________________________________________\n",
            "bidirectional_18 (Bidirectio (None, 398, 512)          1574912   \n",
            "_________________________________________________________________\n",
            "bidirectional_19 (Bidirectio (None, 398, 512)          1574912   \n",
            "_________________________________________________________________\n",
            "time_distributed_5 (TimeDist (None, 398, 18)           9234      \n",
            "=================================================================\n",
            "Total params: 13,346,506\n",
            "Trainable params: 13,346,506\n",
            "Non-trainable params: 0\n",
            "_________________________________________________________________\n"
          ],
          "name": "stdout"
        }
      ]
    },
    {
      "cell_type": "code",
      "metadata": {
        "id": "3Tcs2pOsRck7"
      },
      "source": [
        "checkpoint = ModelCheckpoint('model_checkpoint.h5', monitor='val_accuracy', verbose=1, save_best_only=True, mode='max')\n",
        "reducelr = ReduceLROnPlateau(monitor='val_loss', factor=0.5, patience=10, verbose=1, mode='min' , min_lr=0.0001)"
      ],
      "execution_count": 102,
      "outputs": []
    },
    {
      "cell_type": "code",
      "metadata": {
        "colab": {
          "base_uri": "https://localhost:8080/"
        },
        "id": "GmgzAET4Rcr8",
        "outputId": "b662fc76-a8c9-4e57-a05e-809842032fb8"
      },
      "source": [
        "result = model.fit(X_train, Y_train, validation_data= (X_valid, Y_valid), epochs = 40, batch_size= 128, shuffle = True,callbacks=[checkpoint,reducelr])"
      ],
      "execution_count": 103,
      "outputs": [
        {
          "output_type": "stream",
          "text": [
            "Epoch 1/40\n",
            "44/44 [==============================] - 51s 897ms/step - loss: 0.6803 - accuracy: 0.8301 - val_loss: 0.1984 - val_accuracy: 0.9386\n",
            "\n",
            "Epoch 00001: val_accuracy improved from -inf to 0.93864, saving model to model_checkpoint.h5\n",
            "Epoch 2/40\n",
            "44/44 [==============================] - 36s 818ms/step - loss: 0.1955 - accuracy: 0.9388 - val_loss: 0.1877 - val_accuracy: 0.9392\n",
            "\n",
            "Epoch 00002: val_accuracy improved from 0.93864 to 0.93922, saving model to model_checkpoint.h5\n",
            "Epoch 3/40\n",
            "44/44 [==============================] - 36s 813ms/step - loss: 0.1833 - accuracy: 0.9399 - val_loss: 0.1761 - val_accuracy: 0.9415\n",
            "\n",
            "Epoch 00003: val_accuracy improved from 0.93922 to 0.94148, saving model to model_checkpoint.h5\n",
            "Epoch 4/40\n",
            "44/44 [==============================] - 36s 819ms/step - loss: 0.1652 - accuracy: 0.9444 - val_loss: 0.1409 - val_accuracy: 0.9526\n",
            "\n",
            "Epoch 00004: val_accuracy improved from 0.94148 to 0.95258, saving model to model_checkpoint.h5\n",
            "Epoch 5/40\n",
            "44/44 [==============================] - 36s 818ms/step - loss: 0.1173 - accuracy: 0.9624 - val_loss: 0.0673 - val_accuracy: 0.9791\n",
            "\n",
            "Epoch 00005: val_accuracy improved from 0.95258 to 0.97906, saving model to model_checkpoint.h5\n",
            "Epoch 6/40\n",
            "44/44 [==============================] - 36s 820ms/step - loss: 0.0547 - accuracy: 0.9831 - val_loss: 0.0487 - val_accuracy: 0.9855\n",
            "\n",
            "Epoch 00006: val_accuracy improved from 0.97906 to 0.98549, saving model to model_checkpoint.h5\n",
            "Epoch 7/40\n",
            "44/44 [==============================] - 36s 818ms/step - loss: 0.0360 - accuracy: 0.9899 - val_loss: 0.0374 - val_accuracy: 0.9901\n",
            "\n",
            "Epoch 00007: val_accuracy improved from 0.98549 to 0.99008, saving model to model_checkpoint.h5\n",
            "Epoch 8/40\n",
            "44/44 [==============================] - 36s 817ms/step - loss: 0.0268 - accuracy: 0.9930 - val_loss: 0.0311 - val_accuracy: 0.9922\n",
            "\n",
            "Epoch 00008: val_accuracy improved from 0.99008 to 0.99222, saving model to model_checkpoint.h5\n",
            "Epoch 9/40\n",
            "44/44 [==============================] - 36s 818ms/step - loss: 0.0167 - accuracy: 0.9961 - val_loss: 0.0279 - val_accuracy: 0.9931\n",
            "\n",
            "Epoch 00009: val_accuracy improved from 0.99222 to 0.99305, saving model to model_checkpoint.h5\n",
            "Epoch 10/40\n",
            "44/44 [==============================] - 36s 816ms/step - loss: 0.0119 - accuracy: 0.9972 - val_loss: 0.0266 - val_accuracy: 0.9933\n",
            "\n",
            "Epoch 00010: val_accuracy improved from 0.99305 to 0.99330, saving model to model_checkpoint.h5\n",
            "Epoch 11/40\n",
            "44/44 [==============================] - 36s 818ms/step - loss: 0.0090 - accuracy: 0.9978 - val_loss: 0.0270 - val_accuracy: 0.9934\n",
            "\n",
            "Epoch 00011: val_accuracy improved from 0.99330 to 0.99342, saving model to model_checkpoint.h5\n",
            "Epoch 12/40\n",
            "44/44 [==============================] - 36s 818ms/step - loss: 0.0075 - accuracy: 0.9981 - val_loss: 0.0275 - val_accuracy: 0.9934\n",
            "\n",
            "Epoch 00012: val_accuracy improved from 0.99342 to 0.99342, saving model to model_checkpoint.h5\n",
            "Epoch 13/40\n",
            "44/44 [==============================] - 36s 815ms/step - loss: 0.0061 - accuracy: 0.9984 - val_loss: 0.0290 - val_accuracy: 0.9933\n",
            "\n",
            "Epoch 00013: val_accuracy did not improve from 0.99342\n",
            "Epoch 14/40\n",
            "44/44 [==============================] - 36s 818ms/step - loss: 0.0055 - accuracy: 0.9986 - val_loss: 0.0306 - val_accuracy: 0.9934\n",
            "\n",
            "Epoch 00014: val_accuracy improved from 0.99342 to 0.99344, saving model to model_checkpoint.h5\n",
            "Epoch 15/40\n",
            "44/44 [==============================] - 36s 818ms/step - loss: 0.0046 - accuracy: 0.9988 - val_loss: 0.0311 - val_accuracy: 0.9934\n",
            "\n",
            "Epoch 00015: val_accuracy did not improve from 0.99344\n",
            "Epoch 16/40\n",
            "44/44 [==============================] - 36s 812ms/step - loss: 0.0038 - accuracy: 0.9991 - val_loss: 0.0317 - val_accuracy: 0.9933\n",
            "\n",
            "Epoch 00016: val_accuracy did not improve from 0.99344\n",
            "Epoch 17/40\n",
            "44/44 [==============================] - 36s 815ms/step - loss: 0.0032 - accuracy: 0.9992 - val_loss: 0.0332 - val_accuracy: 0.9934\n",
            "\n",
            "Epoch 00017: val_accuracy improved from 0.99344 to 0.99345, saving model to model_checkpoint.h5\n",
            "Epoch 18/40\n",
            "44/44 [==============================] - 36s 815ms/step - loss: 0.0026 - accuracy: 0.9994 - val_loss: 0.0346 - val_accuracy: 0.9932\n",
            "\n",
            "Epoch 00018: val_accuracy did not improve from 0.99345\n",
            "Epoch 19/40\n",
            "44/44 [==============================] - 36s 814ms/step - loss: 0.0024 - accuracy: 0.9995 - val_loss: 0.0340 - val_accuracy: 0.9931\n",
            "\n",
            "Epoch 00019: val_accuracy did not improve from 0.99345\n",
            "Epoch 20/40\n",
            "44/44 [==============================] - 36s 817ms/step - loss: 0.0021 - accuracy: 0.9995 - val_loss: 0.0350 - val_accuracy: 0.9932\n",
            "\n",
            "Epoch 00020: val_accuracy did not improve from 0.99345\n",
            "\n",
            "Epoch 00020: ReduceLROnPlateau reducing learning rate to 0.0005000000237487257.\n",
            "Epoch 21/40\n",
            "44/44 [==============================] - 36s 816ms/step - loss: 0.0017 - accuracy: 0.9997 - val_loss: 0.0364 - val_accuracy: 0.9933\n",
            "\n",
            "Epoch 00021: val_accuracy did not improve from 0.99345\n",
            "Epoch 22/40\n",
            "44/44 [==============================] - 36s 817ms/step - loss: 0.0014 - accuracy: 0.9998 - val_loss: 0.0374 - val_accuracy: 0.9934\n",
            "\n",
            "Epoch 00022: val_accuracy did not improve from 0.99345\n",
            "Epoch 23/40\n",
            "44/44 [==============================] - 36s 815ms/step - loss: 0.0011 - accuracy: 0.9998 - val_loss: 0.0381 - val_accuracy: 0.9933\n",
            "\n",
            "Epoch 00023: val_accuracy did not improve from 0.99345\n",
            "Epoch 24/40\n",
            "44/44 [==============================] - 36s 815ms/step - loss: 9.9446e-04 - accuracy: 0.9998 - val_loss: 0.0376 - val_accuracy: 0.9933\n",
            "\n",
            "Epoch 00024: val_accuracy did not improve from 0.99345\n",
            "Epoch 25/40\n",
            "44/44 [==============================] - 36s 816ms/step - loss: 9.7875e-04 - accuracy: 0.9998 - val_loss: 0.0399 - val_accuracy: 0.9933\n",
            "\n",
            "Epoch 00025: val_accuracy did not improve from 0.99345\n",
            "Epoch 26/40\n",
            "44/44 [==============================] - 36s 816ms/step - loss: 9.0769e-04 - accuracy: 0.9999 - val_loss: 0.0405 - val_accuracy: 0.9933\n",
            "\n",
            "Epoch 00026: val_accuracy did not improve from 0.99345\n",
            "Epoch 27/40\n",
            "44/44 [==============================] - 36s 815ms/step - loss: 7.7635e-04 - accuracy: 0.9999 - val_loss: 0.0396 - val_accuracy: 0.9931\n",
            "\n",
            "Epoch 00027: val_accuracy did not improve from 0.99345\n",
            "Epoch 28/40\n",
            "44/44 [==============================] - 36s 818ms/step - loss: 7.4331e-04 - accuracy: 0.9999 - val_loss: 0.0402 - val_accuracy: 0.9931\n",
            "\n",
            "Epoch 00028: val_accuracy did not improve from 0.99345\n",
            "Epoch 29/40\n",
            "44/44 [==============================] - 36s 820ms/step - loss: 7.4166e-04 - accuracy: 0.9999 - val_loss: 0.0407 - val_accuracy: 0.9931\n",
            "\n",
            "Epoch 00029: val_accuracy did not improve from 0.99345\n",
            "Epoch 30/40\n",
            "44/44 [==============================] - 36s 823ms/step - loss: 6.7881e-04 - accuracy: 0.9999 - val_loss: 0.0423 - val_accuracy: 0.9932\n",
            "\n",
            "Epoch 00030: val_accuracy did not improve from 0.99345\n",
            "\n",
            "Epoch 00030: ReduceLROnPlateau reducing learning rate to 0.0002500000118743628.\n",
            "Epoch 31/40\n",
            "44/44 [==============================] - 36s 822ms/step - loss: 5.7565e-04 - accuracy: 0.9999 - val_loss: 0.0420 - val_accuracy: 0.9932\n",
            "\n",
            "Epoch 00031: val_accuracy did not improve from 0.99345\n",
            "Epoch 32/40\n",
            "44/44 [==============================] - 36s 820ms/step - loss: 5.6249e-04 - accuracy: 0.9999 - val_loss: 0.0420 - val_accuracy: 0.9932\n",
            "\n",
            "Epoch 00032: val_accuracy did not improve from 0.99345\n",
            "Epoch 33/40\n",
            "44/44 [==============================] - 36s 819ms/step - loss: 5.0429e-04 - accuracy: 0.9999 - val_loss: 0.0426 - val_accuracy: 0.9932\n",
            "\n",
            "Epoch 00033: val_accuracy did not improve from 0.99345\n",
            "Epoch 34/40\n",
            "44/44 [==============================] - 36s 823ms/step - loss: 4.9970e-04 - accuracy: 0.9999 - val_loss: 0.0434 - val_accuracy: 0.9932\n",
            "\n",
            "Epoch 00034: val_accuracy did not improve from 0.99345\n",
            "Epoch 35/40\n",
            "44/44 [==============================] - 36s 820ms/step - loss: 4.3563e-04 - accuracy: 0.9999 - val_loss: 0.0431 - val_accuracy: 0.9932\n",
            "\n",
            "Epoch 00035: val_accuracy did not improve from 0.99345\n",
            "Epoch 36/40\n",
            "44/44 [==============================] - 36s 818ms/step - loss: 4.6004e-04 - accuracy: 0.9999 - val_loss: 0.0440 - val_accuracy: 0.9932\n",
            "\n",
            "Epoch 00036: val_accuracy did not improve from 0.99345\n",
            "Epoch 37/40\n",
            "44/44 [==============================] - 36s 816ms/step - loss: 4.3504e-04 - accuracy: 0.9999 - val_loss: 0.0433 - val_accuracy: 0.9931\n",
            "\n",
            "Epoch 00037: val_accuracy did not improve from 0.99345\n",
            "Epoch 38/40\n",
            "44/44 [==============================] - 36s 816ms/step - loss: 4.4050e-04 - accuracy: 0.9999 - val_loss: 0.0441 - val_accuracy: 0.9932\n",
            "\n",
            "Epoch 00038: val_accuracy did not improve from 0.99345\n",
            "Epoch 39/40\n",
            "44/44 [==============================] - 36s 819ms/step - loss: 3.9875e-04 - accuracy: 1.0000 - val_loss: 0.0445 - val_accuracy: 0.9932\n",
            "\n",
            "Epoch 00039: val_accuracy did not improve from 0.99345\n",
            "Epoch 40/40\n",
            "44/44 [==============================] - 36s 817ms/step - loss: 3.9011e-04 - accuracy: 1.0000 - val_loss: 0.0449 - val_accuracy: 0.9931\n",
            "\n",
            "Epoch 00040: val_accuracy did not improve from 0.99345\n",
            "\n",
            "Epoch 00040: ReduceLROnPlateau reducing learning rate to 0.0001250000059371814.\n"
          ],
          "name": "stdout"
        }
      ]
    },
    {
      "cell_type": "code",
      "metadata": {
        "colab": {
          "base_uri": "https://localhost:8080/",
          "height": 581
        },
        "id": "dw_n3FwJwM1x",
        "outputId": "0576a199-e6a8-4932-dba9-5b5df7e16c54"
      },
      "source": [
        "#Plot Accuracy\n",
        "plt.plot(result.history['accuracy'])\n",
        "plt.plot(result.history['val_accuracy'])\n",
        "plt.title('model accuracy')\n",
        "plt.ylabel('accuracy')\n",
        "plt.xlabel('epoch')\n",
        "plt.legend(['train','val'],loc='upper left')\n",
        "plt.show()\n",
        "\n",
        "#Plot Loss\n",
        "plt.plot(result.history['loss'])\n",
        "plt.plot(result.history['val_loss'])\n",
        "plt.title('model loss')\n",
        "plt.ylabel('loss')\n",
        "plt.xlabel('epoch')\n",
        "plt.legend(['train','val'],loc='upper right')\n",
        "plt.show()"
      ],
      "execution_count": 104,
      "outputs": [
        {
          "output_type": "display_data",
          "data": {
            "image/png": "[encoded data removed]",
            "text/plain": [
              "<Figure size 432x288 with 1 Axes>"
            ]
          },
          "metadata": {
            "tags": []
          }
        },
        {
          "output_type": "display_data",
          "data": {
            "image/png": "[encoded data removed]",
            "text/plain": [
              "<Figure size 432x288 with 1 Axes>"
            ]
          },
          "metadata": {
            "tags": []
          }
        }
      ]
    },
    {
      "cell_type": "code",
      "metadata": {
        "id": "Jtw8YJV4sUJd"
      },
      "source": [
        "model.load_weights('model_checkpoint.h5')"
      ],
      "execution_count": 105,
      "outputs": []
    },
    {
      "cell_type": "code",
      "metadata": {
        "colab": {
          "base_uri": "https://localhost:8080/"
        },
        "id": "WnsfY1WvwMMo",
        "outputId": "e906916e-9b6c-42d6-cf66-faec312e1570"
      },
      "source": [
        "loss, accuracy = model.evaluate(X_test, Y_test, verbose = 1)\n",
        "print(\"Loss: {0},\\nAccuracy: {1}\".format(loss, accuracy))"
      ],
      "execution_count": 106,
      "outputs": [
        {
          "output_type": "stream",
          "text": [
            "36/36 [==============================] - 4s 104ms/step - loss: 0.0348 - accuracy: 0.9930\n",
            "Loss: 0.03484053164720535,\n",
            "Accuracy: 0.9930369257926941\n"
          ],
          "name": "stdout"
        }
      ]
    },
    {
      "cell_type": "code",
      "metadata": {
        "id": "07EV5yOW1u0a"
      },
      "source": [
        "def classify(sentence):\n",
        "  sentence = sentence.split()\n",
        "  seq = [word_tokenizer.texts_to_sequences(sentence)]\n",
        "  pad_seq = pad_sequences(seq, maxlen=MAX_SEQUENCE_LENGTH, padding=padding_type, truncating=trunc_type)\n",
        "  pad_seq = np.squeeze(pad_seq,axis=-1)\n",
        "  pred = np.squeeze(model.predict(pad_seq).argmax(-1))\n",
        "  output = [tag_tokenizer.index_word[tag] for tag in pred if tag != 0]\n",
        "  return output"
      ],
      "execution_count": 107,
      "outputs": []
    },
    {
      "cell_type": "code",
      "metadata": {
        "colab": {
          "base_uri": "https://localhost:8080/"
        },
        "id": "_G-kDFWBCirU",
        "outputId": "7b8f8837-dbfc-4655-9ea3-bf839aa21d04"
      },
      "source": [
        "sentence = \"محمد ذهب الى المسجد ليصلى العشاء\"\n",
        "output = classify(sentence)\n",
        "word_tag = [(sentence.split()[i],output[i]) for i in range(len(sentence.split()))]\n",
        "print(word_tag)"
      ],
      "execution_count": 110,
      "outputs": [
        {
          "output_type": "stream",
          "text": [
            "[('محمد', 'x'), ('ذهب', 'verb'), ('الى', 'adp'), ('المسجد', 'noun'), ('ليصلى', 'adj'), ('العشاء', 'noun')]\n"
          ],
          "name": "stdout"
        }
      ]
    },
    {
      "cell_type": "code",
      "metadata": {
        "colab": {
          "base_uri": "https://localhost:8080/"
        },
        "id": "Jqgofo3E8u5y",
        "outputId": "f29be5ae-6c39-4e82-81bd-e213ae67da52"
      },
      "source": [
        "Y_test_plot = Y_test.argmax(-1)\n",
        "pred = np.squeeze(model.predict(X_test).argmax(-1))\n",
        "print(Y_test_plot.shape)\n",
        "print(pred.shape)"
      ],
      "execution_count": 322,
      "outputs": [
        {
          "output_type": "stream",
          "text": [
            "(1150, 398)\n",
            "(1150, 398)\n"
          ],
          "name": "stdout"
        }
      ]
    },
    {
      "cell_type": "code",
      "metadata": {
        "id": "iHMmWY-NdItR"
      },
      "source": [
        "tag_names = tag_tokenizer.index_word.copy()\n",
        "tag_names[0] = 'padded with zero'\n",
        "cm_target_names = [tag_names[i] for i in range(18)]"
      ],
      "execution_count": 323,
      "outputs": []
    },
    {
      "cell_type": "code",
      "metadata": {
        "colab": {
          "base_uri": "https://localhost:8080/"
        },
        "id": "bhgMAPHNapOp",
        "outputId": "17c52232-c9a3-4be1-fa4f-02aaa3370093"
      },
      "source": [
        "name='Bi-LSTM Model'\n",
        "print('\\n------------ Result of {} ----------\\n'.format(name))\n",
        "print(classification_report(Y_test_plot.flatten(), pred.flatten(),digits=4,target_names=cm_target_names))"
      ],
      "execution_count": 324,
      "outputs": [
        {
          "output_type": "stream",
          "text": [
            "\n",
            "------------ Result of Bi-LSTM Model ----------\n",
            "\n",
            "                  precision    recall  f1-score   support\n",
            "\n",
            "padded with zero     1.0000    1.0000    1.0000    415495\n",
            "            noun     0.9629    0.9245    0.9433     13928\n",
            "             adp     0.9872    0.9951    0.9911      6350\n",
            "             adj     0.6834    0.9551    0.7967      4300\n",
            "           punct     0.9982    0.9997    0.9990      3409\n",
            "            verb     0.9502    0.8601    0.9029      3217\n",
            "           cconj     0.9945    0.9888    0.9917      2952\n",
            "               x     0.8361    0.5909    0.6924      2564\n",
            "            pron     0.9796    0.9857    0.9826      1607\n",
            "             num     0.9850    0.8861    0.9329      1185\n",
            "             det     0.9491    0.9511    0.9501       941\n",
            "           sconj     0.9584    0.9926    0.9752       813\n",
            "            part     0.9195    0.8743    0.8964       366\n",
            "             aux     0.8424    0.8081    0.8249       344\n",
            "             adv     0.8741    0.8489    0.8613       139\n",
            "             sym     0.8298    0.7358    0.7800        53\n",
            "           propn     0.8889    0.4571    0.6038        35\n",
            "            intj     0.0000    0.0000    0.0000         2\n",
            "\n",
            "        accuracy                         0.9930    457700\n",
            "       macro avg     0.8689    0.8252    0.8402    457700\n",
            "    weighted avg     0.9939    0.9930    0.9931    457700\n",
            "\n"
          ],
          "name": "stdout"
        }
      ]
    },
    {
      "cell_type": "code",
      "metadata": {
        "id": "C1UTqK-jIcsq"
      },
      "source": [
        "def plot_cm(f1,cm,target_names,title='Confusion matrix',cmap=None,normalize=True,i=1):\n",
        "\n",
        "    accuracy = np.trace(cm) / float(np.sum(cm))\n",
        "    misclass = 1 - accuracy\n",
        "    plt.figure(figsize=(14, 14))\n",
        "    if cmap is None:\n",
        "        cmap = plt.get_cmap('Blues')\n",
        "\n",
        "    plt.imshow(cm, interpolation='nearest', cmap=cmap)\n",
        "    plt.title(title)\n",
        "    #plt.colorbar()\n",
        "\n",
        "    if target_names is not None:\n",
        "        tick_marks = np.arange(len(target_names))\n",
        "        plt.xticks(tick_marks, target_names, rotation=45)\n",
        "        plt.yticks(tick_marks, target_names)\n",
        "\n",
        "    if normalize:\n",
        "        cm = cm.astype('float') / cm.sum(axis=1)[:, np.newaxis]\n",
        "\n",
        "\n",
        "    thresh = cm.max() / 1.5 if normalize else cm.max() / 2\n",
        "    for i, j in itertools.product(range(cm.shape[0]), range(cm.shape[1])):\n",
        "        if normalize:\n",
        "            if i == j:\n",
        "                plt.text(j, i, \"{:0.4f}\".format(cm[i, j]),fontsize=11,\n",
        "                     horizontalalignment=\"center\",weight='bold',\n",
        "                     color=\"white\" if cm[i, j] > thresh else \"black\")\n",
        "            else:\n",
        "                plt.text(j, i, \"{:0.4f}\".format(cm[i, j]),fontsize=11,\n",
        "                     horizontalalignment=\"center\",\n",
        "                     color=\"white\" if cm[i, j] > thresh else \"black\")\n",
        "        else:\n",
        "            if i == j:\n",
        "                plt.text(j, i, \"{:,}\".format(cm[i, j]),fontsize=11,\n",
        "                     horizontalalignment=\"center\",weight='bold',\n",
        "                     color=\"white\" if cm[i, j] > thresh else \"black\")\n",
        "            else:\n",
        "                plt.text(j, i, \"{:,}\".format(cm[i, j]),fontsize=11,\n",
        "                     horizontalalignment=\"center\",\n",
        "                     color=\"white\" if cm[i, j] > thresh else \"black\")\n",
        "\n",
        "        \n",
        "    plt.tight_layout()\n",
        "    plt.ylabel('True label')\n",
        "    plt.xlabel('Predicted label\\naccuracy={:0.4f}; misclass={:0.4f}; f1-score={:0.4f}'.format(accuracy, misclass, f1))"
      ],
      "execution_count": 325,
      "outputs": []
    },
    {
      "cell_type": "code",
      "metadata": {
        "colab": {
          "base_uri": "https://localhost:8080/",
          "height": 1000
        },
        "id": "axhOIPdTdb8P",
        "outputId": "30b6e3f5-ad8f-4154-fb56-f89f13d7387f"
      },
      "source": [
        "cnf_matrix = confusion_matrix(Y_test_plot.flatten(), pred.flatten())\n",
        "plot_cm(f1_score(Y_test_plot.flatten(), pred.flatten(), average='macro'), cnf_matrix, target_names=cm_target_names, title=name, normalize=False)"
      ],
      "execution_count": 326,
      "outputs": [
        {
          "output_type": "display_data",
          "data": {
            "image/png": "[encoded data removed]",
            "text/plain": [
              "<Figure size 1008x1008 with 1 Axes>"
            ]
          },
          "metadata": {
            "tags": []
          }
        }
      ]
    },
    {
      "cell_type": "code",
      "metadata": {
        "id": "Nx852CsGk71q"
      },
      "source": [
        ""
      ],
      "execution_count": null,
      "outputs": []
    }
  ]
}