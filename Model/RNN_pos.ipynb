{
  "nbformat": 4,
  "nbformat_minor": 0,
  "metadata": {
    "colab": {
      "name": "RNN_pos.ipynb",
      "provenance": [],
      "collapsed_sections": []
    },
    "kernelspec": {
      "name": "python3",
      "display_name": "Python 3"
    },
    "language_info": {
      "name": "python"
    },
    "accelerator": "GPU"
  },
  "cells": [
    {
      "cell_type": "code",
      "metadata": {
        "colab": {
          "base_uri": "https://localhost:8080/"
        },
        "id": "Oqg9iLirIbE9",
        "outputId": "879288a1-366a-40ee-8c00-37adc4c5ca40"
      },
      "source": [
        "!pip install pyconll"
      ],
      "execution_count": 1,
      "outputs": [
        {
          "output_type": "stream",
          "text": [
            "Collecting pyconll\n",
            "  Downloading https://files.pythonhosted.org/packages/0a/4c/edf12b4b211f8a0f7f85a52ed4b50cd453ac96e9b751427e0296eb7ae42a/pyconll-3.1.0-py3-none-any.whl\n",
            "Installing collected packages: pyconll\n",
            "Successfully installed pyconll-3.1.0\n"
          ],
          "name": "stdout"
        }
      ]
    },
    {
      "cell_type": "code",
      "metadata": {
        "colab": {
          "base_uri": "https://localhost:8080/"
        },
        "id": "9uCxlmuoO2yl",
        "outputId": "14cc993d-a979-4ee3-ea13-ced8b33274e5"
      },
      "source": [
        "!wget https://bakrianoo.ewr1.vultrobjects.com/aravec/full_grams_cbow_300_twitter.zip\n",
        "!unzip full_grams_cbow_300_twitter.zip"
      ],
      "execution_count": 2,
      "outputs": [
        {
          "output_type": "stream",
          "text": [
            "--2021-06-06 02:52:07--  https://bakrianoo.ewr1.vultrobjects.com/aravec/full_grams_cbow_300_twitter.zip\n",
            "Resolving bakrianoo.ewr1.vultrobjects.com (bakrianoo.ewr1.vultrobjects.com)... 108.61.0.122, 2001:19f0:0:22::100\n",
            "Connecting to bakrianoo.ewr1.vultrobjects.com (bakrianoo.ewr1.vultrobjects.com)|108.61.0.122|:443... connected.\n",
            "HTTP request sent, awaiting response... 200 OK\n",
            "Length: 3325529808 (3.1G) [application/zip]\n",
            "Saving to: ‘full_grams_cbow_300_twitter.zip’\n",
            "\n",
            "full_grams_cbow_300 100%[===================>]   3.10G  47.0MB/s    in 74s     \n",
            "\n",
            "2021-06-06 02:53:21 (42.7 MB/s) - ‘full_grams_cbow_300_twitter.zip’ saved [3325529808/3325529808]\n",
            "\n",
            "Archive:  full_grams_cbow_300_twitter.zip\n",
            "  inflating: full_grams_cbow_300_twitter.mdl  \n",
            "  inflating: full_grams_cbow_300_twitter.mdl.trainables.syn1neg.npy  \n",
            "  inflating: full_grams_cbow_300_twitter.mdl.wv.vectors.npy  \n"
          ],
          "name": "stdout"
        }
      ]
    },
    {
      "cell_type": "code",
      "metadata": {
        "colab": {
          "base_uri": "https://localhost:8080/"
        },
        "id": "Mq4qZgxTIc8K",
        "outputId": "5bccd1e0-bcc9-4243-cc41-73a92800d7bf"
      },
      "source": [
        "!git clone https://github.com/UniversalDependencies/UD_Arabic-PADT"
      ],
      "execution_count": 4,
      "outputs": [
        {
          "output_type": "stream",
          "text": [
            "Cloning into 'UD_Arabic-PADT'...\n",
            "remote: Enumerating objects: 595, done.\u001b[K\n",
            "remote: Counting objects: 100% (35/35), done.\u001b[K\n",
            "remote: Compressing objects: 100% (26/26), done.\u001b[K\n",
            "remote: Total 595 (delta 19), reused 24 (delta 9), pack-reused 560\u001b[K\n",
            "Receiving objects: 100% (595/595), 121.10 MiB | 31.96 MiB/s, done.\n",
            "Resolving deltas: 100% (428/428), done.\n"
          ],
          "name": "stdout"
        }
      ]
    },
    {
      "cell_type": "code",
      "metadata": {
        "id": "L_acU-slo0lH"
      },
      "source": [
        "import numpy as np\n",
        "import pyconll\n",
        "from matplotlib import pyplot as plt\n",
        "import seaborn as sns\n",
        "from keras.preprocessing.sequence import pad_sequences\n",
        "from keras.utils.np_utils import to_categorical\n",
        "from keras.models import Sequential\n",
        "from keras.layers import *\n",
        "from keras.optimizers import Adam,SGD\n",
        "from keras.models import Model\n",
        "from keras.preprocessing.text import Tokenizer\n",
        "from keras.callbacks import ModelCheckpoint, EarlyStopping, Callback, TensorBoard\n",
        "from sklearn.metrics import recall_score, precision_score, classification_report, accuracy_score, confusion_matrix, f1_score\n",
        "from sklearn.model_selection import train_test_split\n",
        "from sklearn.utils import shuffle\n",
        "from tqdm import tqdm\n",
        "from sklearn.metrics import confusion_matrix\n",
        "from mlxtend.plotting import plot_confusion_matrix\n",
        "import gensim\n",
        "import re\n",
        "from nltk import ngrams"
      ],
      "execution_count": 278,
      "outputs": []
    },
    {
      "cell_type": "code",
      "metadata": {
        "id": "sWPEXnPlIc1c"
      },
      "source": [
        "UD_Arabic_TRAIN = '/content/UD_Arabic-PADT/ar_padt-ud-train.conllu'\n",
        "UD_Arabic_DEV = '/content/UD_Arabic-PADT/ar_padt-ud-dev.conllu'\n",
        "UD_Arabic_TEST = '/content/UD_Arabic-PADT/ar_padt-ud-test.conllu'"
      ],
      "execution_count": 6,
      "outputs": []
    },
    {
      "cell_type": "code",
      "metadata": {
        "id": "7xkPWT6ZIc4C"
      },
      "source": [
        "def read_conllu(path):\n",
        "    data = pyconll.load_from_file(path)\n",
        "    tagged_sentences=[]\n",
        "    t=0\n",
        "    for sentence in data:\n",
        "        tagged_sentence=[]\n",
        "        for token in sentence:\n",
        "            if token.upos and token.form:\n",
        "                t+=1\n",
        "                tagged_sentence.append((token.form.lower(), token.upos))\n",
        "        tagged_sentences.append(tagged_sentence)\n",
        "    return tagged_sentences"
      ],
      "execution_count": 7,
      "outputs": []
    },
    {
      "cell_type": "code",
      "metadata": {
        "id": "n0POD1ZRIc52"
      },
      "source": [
        "train_sentences = read_conllu(UD_Arabic_TRAIN)\n",
        "val_sentences = read_conllu(UD_Arabic_DEV)\n",
        "test_sentences = read_conllu(UD_Arabic_TEST)"
      ],
      "execution_count": 8,
      "outputs": []
    },
    {
      "cell_type": "code",
      "metadata": {
        "colab": {
          "base_uri": "https://localhost:8080/"
        },
        "id": "_JuHIk4eIc-b",
        "outputId": "b7601fa4-156d-4b89-b481-46bef8a5eddb"
      },
      "source": [
        "print(\"Tagged sentences in train set: \", len(train_sentences))\n",
        "print(\"Tagged words in train set:\", len([item for sublist in train_sentences for item in sublist]))\n",
        "print(40*'=')\n",
        "print(\"Tagged sentences in dev set: \", len(val_sentences))\n",
        "print(\"Tagged words in dev set:\", len([item for sublist in val_sentences for item in sublist]))\n",
        "print(40*'=')\n",
        "print(\"Tagged sentences in test set: \", len(test_sentences))\n",
        "print(\"Tagged words in test set:\", len([item for sublist in test_sentences for item in sublist]))\n",
        "print(40*'*')\n",
        "print(\"Total sentences in dataset:\", len(train_sentences)+len(val_sentences)+len(test_sentences))"
      ],
      "execution_count": 9,
      "outputs": [
        {
          "output_type": "stream",
          "text": [
            "Tagged sentences in train set:  6075\n",
            "Tagged words in train set: 223881\n",
            "========================================\n",
            "Tagged sentences in dev set:  909\n",
            "Tagged words in dev set: 30239\n",
            "========================================\n",
            "Tagged sentences in test set:  680\n",
            "Tagged words in test set: 28264\n",
            "****************************************\n",
            "Total sentences in dataset: 7664\n"
          ],
          "name": "stdout"
        }
      ]
    },
    {
      "cell_type": "code",
      "metadata": {
        "colab": {
          "base_uri": "https://localhost:8080/"
        },
        "id": "si1IJe-fIdAa",
        "outputId": "872f808a-34cd-486c-ec8b-64149f8099cb"
      },
      "source": [
        "print(train_sentences[0])"
      ],
      "execution_count": 10,
      "outputs": [
        {
          "output_type": "stream",
          "text": [
            "[('برلين', 'X'), ('ترفض', 'VERB'), ('حصول', 'NOUN'), ('شركة', 'NOUN'), ('اميركية', 'ADJ'), ('على', 'ADP'), ('رخصة', 'NOUN'), ('تصنيع', 'NOUN'), ('دبابة', 'NOUN'), ('\"', 'PUNCT'), ('ليوبارد', 'X'), ('\"', 'PUNCT'), ('الالمانية', 'ADJ')]\n"
          ],
          "name": "stdout"
        }
      ]
    },
    {
      "cell_type": "code",
      "metadata": {
        "id": "FMBowfQ5IdCR"
      },
      "source": [
        "def tag_sequence(sentences):\n",
        "    return [[tag for word, tag in sentence] for sentence in sentences]\n",
        "\n",
        "def text_sequence(sentences):\n",
        "    return [[word for word, tag in sentence] for sentence in sentences]"
      ],
      "execution_count": 11,
      "outputs": []
    },
    {
      "cell_type": "code",
      "metadata": {
        "colab": {
          "base_uri": "https://localhost:8080/"
        },
        "id": "O0p64n5lIdEe",
        "outputId": "d35c30ab-b306-4c19-9062-37eb33bedf19"
      },
      "source": [
        "tags = set([item for sublist in train_sentences+test_sentences+val_sentences for _, item in sublist])\n",
        "print('TOTAL TAGS: ', len(tags))"
      ],
      "execution_count": 12,
      "outputs": [
        {
          "output_type": "stream",
          "text": [
            "TOTAL TAGS:  17\n"
          ],
          "name": "stdout"
        }
      ]
    },
    {
      "cell_type": "code",
      "metadata": {
        "colab": {
          "base_uri": "https://localhost:8080/",
          "height": 265
        },
        "id": "zCOsp2E7IdQ-",
        "outputId": "d41be8ef-87db-40f9-cac5-a1e2394ef99e"
      },
      "source": [
        "import matplotlib.pyplot as plt\n",
        "plt.style.use(\"ggplot\")\n",
        "plt.hist([len(s) for s in train_sentences], bins=50)\n",
        "plt.show()"
      ],
      "execution_count": 13,
      "outputs": [
        {
          "output_type": "display_data",
          "data": {
            "image/png": "[encoded data removed]",
            "text/plain": [
              "<Figure size 432x288 with 1 Axes>"
            ]
          },
          "metadata": {
            "tags": []
          }
        }
      ]
    },
    {
      "cell_type": "code",
      "metadata": {
        "colab": {
          "base_uri": "https://localhost:8080/"
        },
        "id": "6Aubzdo4IdVQ",
        "outputId": "ff8660ba-965d-41da-ae37-bca41b20d49f"
      },
      "source": [
        "print('Max sentence length:',len(max(train_sentences+val_sentences, key=len)))"
      ],
      "execution_count": 14,
      "outputs": [
        {
          "output_type": "stream",
          "text": [
            "Max sentence length: 398\n"
          ],
          "name": "stdout"
        }
      ]
    },
    {
      "cell_type": "markdown",
      "metadata": {
        "id": "kytZ_hphRWBO"
      },
      "source": [
        "\n",
        "To avoid truncating sequences during padding we split our sentences to MAX_SEQUENCE_LENGTH. For example, if MAX_SEQUENCE_LENGTH=70, a sentence with length 150 splits in 3 sentences: 150=70+70+10"
      ]
    },
    {
      "cell_type": "code",
      "metadata": {
        "id": "vyanTbJ4RD-8"
      },
      "source": [
        "def  split(sentences, max):\n",
        "    new=[]\n",
        "    for data in sentences:\n",
        "        new.append(([data[x:x+max] for x in range(0, len(data), max)]))\n",
        "    new = [val for sublist in new for val in sublist]\n",
        "    return new"
      ],
      "execution_count": 15,
      "outputs": []
    },
    {
      "cell_type": "code",
      "metadata": {
        "id": "EZIjW5QFRECk"
      },
      "source": [
        "MAX_SEQUENCE_LENGTH = 70\n",
        "\n",
        "train_sentences = split(train_sentences, MAX_SEQUENCE_LENGTH)\n",
        "val_sentences = split(val_sentences, MAX_SEQUENCE_LENGTH)\n",
        "test_sentences = split(test_sentences, MAX_SEQUENCE_LENGTH)"
      ],
      "execution_count": 16,
      "outputs": []
    },
    {
      "cell_type": "code",
      "metadata": {
        "colab": {
          "base_uri": "https://localhost:8080/"
        },
        "id": "cWRLW4nU-g0E",
        "outputId": "316a8625-e213-460f-cdd7-e2cef7344f80"
      },
      "source": [
        "train_sentences[0]"
      ],
      "execution_count": 18,
      "outputs": [
        {
          "output_type": "execute_result",
          "data": {
            "text/plain": [
              "[('برلين', 'X'),\n",
              " ('ترفض', 'VERB'),\n",
              " ('حصول', 'NOUN'),\n",
              " ('شركة', 'NOUN'),\n",
              " ('اميركية', 'ADJ'),\n",
              " ('على', 'ADP'),\n",
              " ('رخصة', 'NOUN'),\n",
              " ('تصنيع', 'NOUN'),\n",
              " ('دبابة', 'NOUN'),\n",
              " ('\"', 'PUNCT'),\n",
              " ('ليوبارد', 'X'),\n",
              " ('\"', 'PUNCT'),\n",
              " ('الالمانية', 'ADJ')]"
            ]
          },
          "metadata": {
            "tags": []
          },
          "execution_count": 18
        }
      ]
    },
    {
      "cell_type": "code",
      "metadata": {
        "id": "tewOCi-sREGW"
      },
      "source": [
        "train_sentences = train_sentences + val_sentences + test_sentences"
      ],
      "execution_count": 19,
      "outputs": []
    },
    {
      "cell_type": "code",
      "metadata": {
        "id": "jbN7HjzfRcXl"
      },
      "source": [
        "train_text = text_sequence(train_sentences)\n",
        "train_tags = tag_sequence(train_sentences)"
      ],
      "execution_count": 20,
      "outputs": []
    },
    {
      "cell_type": "code",
      "metadata": {
        "colab": {
          "base_uri": "https://localhost:8080/"
        },
        "id": "4az4CekpSE7T",
        "outputId": "dc48b9b2-be67-43e7-94ca-32940890eb45"
      },
      "source": [
        "len(train_text)"
      ],
      "execution_count": 21,
      "outputs": [
        {
          "output_type": "execute_result",
          "data": {
            "text/plain": [
              "8472"
            ]
          },
          "metadata": {
            "tags": []
          },
          "execution_count": 21
        }
      ]
    },
    {
      "cell_type": "code",
      "metadata": {
        "colab": {
          "base_uri": "https://localhost:8080/"
        },
        "id": "O9BJG49ARca8",
        "outputId": "4a5e01f6-3571-4923-f11f-913718030426"
      },
      "source": [
        "train_text[0], train_tags[0]"
      ],
      "execution_count": 22,
      "outputs": [
        {
          "output_type": "execute_result",
          "data": {
            "text/plain": [
              "(['برلين',\n",
              "  'ترفض',\n",
              "  'حصول',\n",
              "  'شركة',\n",
              "  'اميركية',\n",
              "  'على',\n",
              "  'رخصة',\n",
              "  'تصنيع',\n",
              "  'دبابة',\n",
              "  '\"',\n",
              "  'ليوبارد',\n",
              "  '\"',\n",
              "  'الالمانية'],\n",
              " ['X',\n",
              "  'VERB',\n",
              "  'NOUN',\n",
              "  'NOUN',\n",
              "  'ADJ',\n",
              "  'ADP',\n",
              "  'NOUN',\n",
              "  'NOUN',\n",
              "  'NOUN',\n",
              "  'PUNCT',\n",
              "  'X',\n",
              "  'PUNCT',\n",
              "  'ADJ'])"
            ]
          },
          "metadata": {
            "tags": []
          },
          "execution_count": 22
        }
      ]
    },
    {
      "cell_type": "code",
      "metadata": {
        "id": "rbLb461yELYh"
      },
      "source": [
        "embedding_dim = 300\n",
        "MAX_SEQUENCE_LENGTH = 70\n",
        "trunc_type='post'\n",
        "padding_type='post'\n",
        "oov_tok = \"<OOV>\""
      ],
      "execution_count": 23,
      "outputs": []
    },
    {
      "cell_type": "code",
      "metadata": {
        "id": "qmkAHDFOqJft"
      },
      "source": [
        "word_tokenizer = Tokenizer(oov_token = oov_tok)                    \n",
        "word_tokenizer.fit_on_texts(train_text)  \n",
        "VOCABULARY_SIZE = len(word_tokenizer.word_index) + 1                  \n",
        "X_encoded_train = word_tokenizer.texts_to_sequences(train_text)  "
      ],
      "execution_count": 119,
      "outputs": []
    },
    {
      "cell_type": "code",
      "metadata": {
        "id": "69y_8192qN9N"
      },
      "source": [
        "tag_tokenizer = Tokenizer()\n",
        "tag_tokenizer.fit_on_texts(train_tags)\n",
        "Y_encoded_train = tag_tokenizer.texts_to_sequences(train_tags)"
      ],
      "execution_count": 120,
      "outputs": []
    },
    {
      "cell_type": "code",
      "metadata": {
        "colab": {
          "base_uri": "https://localhost:8080/"
        },
        "id": "VdWK0b6-qrMD",
        "outputId": "124d5240-ca9e-49b6-f174-39f39064f6ae"
      },
      "source": [
        "print(\"** Raw data point **\", \"\\n\", \"-\"*100, \"\\n\")\n",
        "print('X: ', train_text[0], '\\n')\n",
        "print('Y: ', train_tags[0], '\\n')\n",
        "print()\n",
        "print(\"** Encoded data point **\", \"\\n\", \"-\"*100, \"\\n\")\n",
        "print('X: ', X_encoded_train[0], '\\n')\n",
        "print('Y: ', Y_encoded_train[0], '\\n')"
      ],
      "execution_count": 121,
      "outputs": [
        {
          "output_type": "stream",
          "text": [
            "** Raw data point ** \n",
            " ---------------------------------------------------------------------------------------------------- \n",
            "\n",
            "X:  ['برلين', 'ترفض', 'حصول', 'شركة', 'اميركية', 'على', 'رخصة', 'تصنيع', 'دبابة', '\"', 'ليوبارد', '\"', 'الالمانية'] \n",
            "\n",
            "Y:  ['X', 'VERB', 'NOUN', 'NOUN', 'ADJ', 'ADP', 'NOUN', 'NOUN', 'NOUN', 'PUNCT', 'X', 'PUNCT', 'ADJ'] \n",
            "\n",
            "\n",
            "** Encoded data point ** \n",
            " ---------------------------------------------------------------------------------------------------- \n",
            "\n",
            "X:  [3936, 2492, 971, 89, 2082, 12, 3937, 1966, 3582, 10, 4888, 10, 1967] \n",
            "\n",
            "Y:  [7, 5, 1, 1, 3, 2, 1, 1, 1, 4, 7, 4, 3] \n",
            "\n"
          ],
          "name": "stdout"
        }
      ]
    },
    {
      "cell_type": "code",
      "metadata": {
        "id": "azqGdC_cRcc-"
      },
      "source": [
        "X_padded_train = pad_sequences(X_encoded_train, maxlen=MAX_SEQUENCE_LENGTH, padding=padding_type, truncating=trunc_type)\n",
        "Y_padded_train = pad_sequences(Y_encoded_train, maxlen=MAX_SEQUENCE_LENGTH, padding=padding_type, truncating=trunc_type)\n",
        "\n",
        "X_train = X_padded_train\n",
        "Y_train = Y_padded_train"
      ],
      "execution_count": 122,
      "outputs": []
    },
    {
      "cell_type": "code",
      "metadata": {
        "colab": {
          "base_uri": "https://localhost:8080/"
        },
        "id": "bOdI_PzJQBqn",
        "outputId": "aca22569-0c56-4091-eb1e-9e1722befe38"
      },
      "source": [
        "X_train.shape"
      ],
      "execution_count": 123,
      "outputs": [
        {
          "output_type": "execute_result",
          "data": {
            "text/plain": [
              "(8472, 70)"
            ]
          },
          "metadata": {
            "tags": []
          },
          "execution_count": 123
        }
      ]
    },
    {
      "cell_type": "code",
      "metadata": {
        "id": "-K1FzGPTjKO6"
      },
      "source": [
        "Y_train = to_categorical(Y_train)"
      ],
      "execution_count": 124,
      "outputs": []
    },
    {
      "cell_type": "code",
      "metadata": {
        "colab": {
          "base_uri": "https://localhost:8080/"
        },
        "id": "vo25MnnvjUvf",
        "outputId": "4df9080e-2fa2-45ce-860e-f5bb35bdff47"
      },
      "source": [
        "Y_train.shape"
      ],
      "execution_count": 125,
      "outputs": [
        {
          "output_type": "execute_result",
          "data": {
            "text/plain": [
              "(8472, 70, 18)"
            ]
          },
          "metadata": {
            "tags": []
          },
          "execution_count": 125
        }
      ]
    },
    {
      "cell_type": "code",
      "metadata": {
        "id": "yDV_UcNAQKH-"
      },
      "source": [
        "arvec_embedding = gensim.models.Word2Vec.load('full_grams_cbow_300_twitter.mdl')"
      ],
      "execution_count": 126,
      "outputs": []
    },
    {
      "cell_type": "code",
      "metadata": {
        "id": "2PKg62S6QKK1"
      },
      "source": [
        "embeddings_index = {}\n",
        "for word,vector in zip(arvec_embedding.wv.vocab,arvec_embedding.wv.vectors):\n",
        "    coefs = np.asarray(vector, dtype='float32')\n",
        "    embeddings_index[word] = coefs"
      ],
      "execution_count": 127,
      "outputs": []
    },
    {
      "cell_type": "code",
      "metadata": {
        "id": "6uYwgIpJQKSv"
      },
      "source": [
        "embeddings_matrix = np.zeros((VOCABULARY_SIZE, embedding_dim))\n",
        "for word, i in word_tokenizer.word_index.items():\n",
        "    embedding_vector = embeddings_index.get(word)\n",
        "    if embedding_vector is not None:\n",
        "        embeddings_matrix[i] = embedding_vector"
      ],
      "execution_count": 128,
      "outputs": []
    },
    {
      "cell_type": "code",
      "metadata": {
        "id": "DrKZ6hmtzpjx"
      },
      "source": [
        "X_train, X_test, Y_train, Y_test = train_test_split(X_train, Y_train, test_size=0.15, random_state=41)"
      ],
      "execution_count": 129,
      "outputs": []
    },
    {
      "cell_type": "code",
      "metadata": {
        "id": "PvyT_NfKRchx"
      },
      "source": [
        "X_train, X_valid , Y_train, Y_valid = train_test_split(X_train, Y_train, test_size = 0.15, random_state = 41)"
      ],
      "execution_count": 130,
      "outputs": []
    },
    {
      "cell_type": "code",
      "metadata": {
        "colab": {
          "base_uri": "https://localhost:8080/"
        },
        "id": "65pwIqTmkErB",
        "outputId": "b514627a-30aa-46d7-deed-6d06af1f2bc9"
      },
      "source": [
        "# print number of samples in each set\n",
        "print(\"TRAINING DATA\")\n",
        "print('Shape of input sequences: {}'.format(X_train.shape))\n",
        "print('Shape of output sequences: {}'.format(Y_train.shape))\n",
        "print(\"-\"*50)\n",
        "print(\"VALIDATION DATA\")\n",
        "print('Shape of input sequences: {}'.format(X_valid.shape))\n",
        "print('Shape of output sequences: {}'.format(Y_valid.shape))\n",
        "print(\"-\"*50)\n",
        "print(\"TESTING DATA\")\n",
        "print('Shape of input sequences: {}'.format(X_test.shape))\n",
        "print('Shape of output sequences: {}'.format(Y_test.shape))"
      ],
      "execution_count": 131,
      "outputs": [
        {
          "output_type": "stream",
          "text": [
            "TRAINING DATA\n",
            "Shape of input sequences: (6120, 70)\n",
            "Shape of output sequences: (6120, 70, 18)\n",
            "--------------------------------------------------\n",
            "VALIDATION DATA\n",
            "Shape of input sequences: (1081, 70)\n",
            "Shape of output sequences: (1081, 70, 18)\n",
            "--------------------------------------------------\n",
            "TESTING DATA\n",
            "Shape of input sequences: (1271, 70)\n",
            "Shape of output sequences: (1271, 70, 18)\n"
          ],
          "name": "stdout"
        }
      ]
    },
    {
      "cell_type": "code",
      "metadata": {
        "colab": {
          "base_uri": "https://localhost:8080/"
        },
        "id": "I5rQxoTikviY",
        "outputId": "dddb9a88-d55c-4830-a3b5-9b40b57e5331"
      },
      "source": [
        "NUM_CLASSES = Y_train.shape[2]\n",
        "NUM_CLASSES"
      ],
      "execution_count": 132,
      "outputs": [
        {
          "output_type": "execute_result",
          "data": {
            "text/plain": [
              "18"
            ]
          },
          "metadata": {
            "tags": []
          },
          "execution_count": 132
        }
      ]
    },
    {
      "cell_type": "code",
      "metadata": {
        "id": "xiFzcnnblQsn"
      },
      "source": [
        "model = Sequential()\n",
        "model.add(InputLayer((MAX_SEQUENCE_LENGTH)))\n",
        "model.add(Embedding(input_dim = VOCABULARY_SIZE,\n",
        "                             output_dim    = embedding_dim,\n",
        "                             input_length  = MAX_SEQUENCE_LENGTH,\n",
        "                             #weights       = [embeddings_matrix],\n",
        "                             trainable     = True\n",
        "))\n",
        "model.add(Bidirectional(LSTM(256, return_sequences=True)))\n",
        "model.add(Bidirectional(LSTM(256, return_sequences=True)))\n",
        "model.add(Bidirectional(LSTM(256, return_sequences=True)))\n",
        "\n",
        "model.add(TimeDistributed(Dense(NUM_CLASSES, activation='softmax')))\n",
        "model.compile(loss='categorical_crossentropy', optimizer='adam',metrics=['accuracy'])"
      ],
      "execution_count": 346,
      "outputs": []
    },
    {
      "cell_type": "code",
      "metadata": {
        "id": "-oanRm_fndl_",
        "colab": {
          "base_uri": "https://localhost:8080/"
        },
        "outputId": "a37ccce8-04d8-4f7b-d21b-d63ac2429e6d"
      },
      "source": [
        "model.summary()"
      ],
      "execution_count": 347,
      "outputs": [
        {
          "output_type": "stream",
          "text": [
            "Model: \"sequential_7\"\n",
            "_________________________________________________________________\n",
            "Layer (type)                 Output Shape              Param #   \n",
            "=================================================================\n",
            "embedding_7 (Embedding)      (None, 70, 300)           7471800   \n",
            "_________________________________________________________________\n",
            "bidirectional_7 (Bidirection (None, 70, 512)           1140736   \n",
            "_________________________________________________________________\n",
            "bidirectional_8 (Bidirection (None, 70, 512)           1574912   \n",
            "_________________________________________________________________\n",
            "bidirectional_9 (Bidirection (None, 70, 512)           1574912   \n",
            "_________________________________________________________________\n",
            "time_distributed_6 (TimeDist (None, 70, 18)            9234      \n",
            "=================================================================\n",
            "Total params: 11,771,594\n",
            "Trainable params: 11,771,594\n",
            "Non-trainable params: 0\n",
            "_________________________________________________________________\n"
          ],
          "name": "stdout"
        }
      ]
    },
    {
      "cell_type": "code",
      "metadata": {
        "id": "3Tcs2pOsRck7"
      },
      "source": [
        "checkpoint = ModelCheckpoint('model_checkpoint.h5', monitor='val_accuracy', verbose=1, save_best_only=True, mode='max')"
      ],
      "execution_count": 348,
      "outputs": []
    },
    {
      "cell_type": "code",
      "metadata": {
        "colab": {
          "base_uri": "https://localhost:8080/"
        },
        "id": "GmgzAET4Rcr8",
        "outputId": "0486e64c-95c0-4896-cb95-1297cca08386"
      },
      "source": [
        "result = model.fit(X_train, Y_train, validation_data= (X_valid, Y_valid), epochs = 40, batch_size= 128, shuffle = True,callbacks=[checkpoint])"
      ],
      "execution_count": 349,
      "outputs": [
        {
          "output_type": "stream",
          "text": [
            "Epoch 1/40\n",
            "48/48 [==============================] - 19s 215ms/step - loss: 1.5335 - accuracy: 0.5703 - val_loss: 0.9734 - val_accuracy: 0.6940\n",
            "\n",
            "Epoch 00001: val_accuracy improved from -inf to 0.69400, saving model to model_checkpoint.h5\n",
            "Epoch 2/40\n",
            "48/48 [==============================] - 8s 166ms/step - loss: 0.9752 - accuracy: 0.6879 - val_loss: 0.8225 - val_accuracy: 0.7153\n",
            "\n",
            "Epoch 00002: val_accuracy improved from 0.69400 to 0.71534, saving model to model_checkpoint.h5\n",
            "Epoch 3/40\n",
            "48/48 [==============================] - 8s 166ms/step - loss: 0.6657 - accuracy: 0.7788 - val_loss: 0.2953 - val_accuracy: 0.9096\n",
            "\n",
            "Epoch 00003: val_accuracy improved from 0.71534 to 0.90962, saving model to model_checkpoint.h5\n",
            "Epoch 4/40\n",
            "48/48 [==============================] - 8s 166ms/step - loss: 0.2225 - accuracy: 0.9364 - val_loss: 0.1453 - val_accuracy: 0.9619\n",
            "\n",
            "Epoch 00004: val_accuracy improved from 0.90962 to 0.96189, saving model to model_checkpoint.h5\n",
            "Epoch 5/40\n",
            "48/48 [==============================] - 8s 168ms/step - loss: 0.0907 - accuracy: 0.9785 - val_loss: 0.1049 - val_accuracy: 0.9714\n",
            "\n",
            "Epoch 00005: val_accuracy improved from 0.96189 to 0.97139, saving model to model_checkpoint.h5\n",
            "Epoch 6/40\n",
            "48/48 [==============================] - 8s 168ms/step - loss: 0.0510 - accuracy: 0.9869 - val_loss: 0.0966 - val_accuracy: 0.9723\n",
            "\n",
            "Epoch 00006: val_accuracy improved from 0.97139 to 0.97231, saving model to model_checkpoint.h5\n",
            "Epoch 7/40\n",
            "48/48 [==============================] - 8s 167ms/step - loss: 0.0382 - accuracy: 0.9889 - val_loss: 0.0957 - val_accuracy: 0.9733\n",
            "\n",
            "Epoch 00007: val_accuracy improved from 0.97231 to 0.97332, saving model to model_checkpoint.h5\n",
            "Epoch 8/40\n",
            "48/48 [==============================] - 8s 166ms/step - loss: 0.0302 - accuracy: 0.9909 - val_loss: 0.0972 - val_accuracy: 0.9735\n",
            "\n",
            "Epoch 00008: val_accuracy improved from 0.97332 to 0.97349, saving model to model_checkpoint.h5\n",
            "Epoch 9/40\n",
            "48/48 [==============================] - 8s 165ms/step - loss: 0.0253 - accuracy: 0.9925 - val_loss: 0.0977 - val_accuracy: 0.9742\n",
            "\n",
            "Epoch 00009: val_accuracy improved from 0.97349 to 0.97418, saving model to model_checkpoint.h5\n",
            "Epoch 10/40\n",
            "48/48 [==============================] - 8s 164ms/step - loss: 0.0210 - accuracy: 0.9940 - val_loss: 0.1037 - val_accuracy: 0.9732\n",
            "\n",
            "Epoch 00010: val_accuracy did not improve from 0.97418\n",
            "Epoch 11/40\n",
            "48/48 [==============================] - 8s 164ms/step - loss: 0.0177 - accuracy: 0.9952 - val_loss: 0.1065 - val_accuracy: 0.9734\n",
            "\n",
            "Epoch 00011: val_accuracy did not improve from 0.97418\n",
            "Epoch 12/40\n",
            "48/48 [==============================] - 8s 166ms/step - loss: 0.0143 - accuracy: 0.9961 - val_loss: 0.1131 - val_accuracy: 0.9734\n",
            "\n",
            "Epoch 00012: val_accuracy did not improve from 0.97418\n",
            "Epoch 13/40\n",
            "48/48 [==============================] - 8s 166ms/step - loss: 0.0114 - accuracy: 0.9970 - val_loss: 0.1187 - val_accuracy: 0.9729\n",
            "\n",
            "Epoch 00013: val_accuracy did not improve from 0.97418\n",
            "\n",
            "Epoch 00013: ReduceLROnPlateau reducing learning rate to 0.00010000000474974513.\n",
            "Epoch 14/40\n",
            "48/48 [==============================] - 8s 167ms/step - loss: 0.0082 - accuracy: 0.9981 - val_loss: 0.1170 - val_accuracy: 0.9731\n",
            "\n",
            "Epoch 00014: val_accuracy did not improve from 0.97418\n",
            "Epoch 15/40\n",
            "48/48 [==============================] - 8s 166ms/step - loss: 0.0070 - accuracy: 0.9985 - val_loss: 0.1186 - val_accuracy: 0.9731\n",
            "\n",
            "Epoch 00015: val_accuracy did not improve from 0.97418\n",
            "Epoch 16/40\n",
            "48/48 [==============================] - 8s 165ms/step - loss: 0.0066 - accuracy: 0.9987 - val_loss: 0.1191 - val_accuracy: 0.9730\n",
            "\n",
            "Epoch 00016: val_accuracy did not improve from 0.97418\n",
            "Epoch 17/40\n",
            "48/48 [==============================] - 8s 167ms/step - loss: 0.0062 - accuracy: 0.9989 - val_loss: 0.1205 - val_accuracy: 0.9732\n",
            "\n",
            "Epoch 00017: val_accuracy did not improve from 0.97418\n",
            "Epoch 18/40\n",
            "48/48 [==============================] - 8s 165ms/step - loss: 0.0055 - accuracy: 0.9990 - val_loss: 0.1223 - val_accuracy: 0.9730\n",
            "\n",
            "Epoch 00018: val_accuracy did not improve from 0.97418\n",
            "Epoch 19/40\n",
            "48/48 [==============================] - 8s 164ms/step - loss: 0.0054 - accuracy: 0.9991 - val_loss: 0.1236 - val_accuracy: 0.9728\n",
            "\n",
            "Epoch 00019: val_accuracy did not improve from 0.97418\n",
            "\n",
            "Epoch 00019: ReduceLROnPlateau reducing learning rate to 1.0000000474974514e-05.\n",
            "Epoch 20/40\n",
            "48/48 [==============================] - 8s 165ms/step - loss: 0.0050 - accuracy: 0.9992 - val_loss: 0.1232 - val_accuracy: 0.9729\n",
            "\n",
            "Epoch 00020: val_accuracy did not improve from 0.97418\n",
            "Epoch 21/40\n",
            "48/48 [==============================] - 8s 166ms/step - loss: 0.0051 - accuracy: 0.9992 - val_loss: 0.1232 - val_accuracy: 0.9728\n",
            "\n",
            "Epoch 00021: val_accuracy did not improve from 0.97418\n",
            "Epoch 22/40\n",
            "48/48 [==============================] - 8s 169ms/step - loss: 0.0054 - accuracy: 0.9991 - val_loss: 0.1233 - val_accuracy: 0.9729\n",
            "\n",
            "Epoch 00022: val_accuracy did not improve from 0.97418\n",
            "Epoch 23/40\n",
            "48/48 [==============================] - 8s 168ms/step - loss: 0.0050 - accuracy: 0.9991 - val_loss: 0.1235 - val_accuracy: 0.9729\n",
            "\n",
            "Epoch 00023: val_accuracy did not improve from 0.97418\n",
            "Epoch 24/40\n",
            "48/48 [==============================] - 8s 165ms/step - loss: 0.0052 - accuracy: 0.9992 - val_loss: 0.1237 - val_accuracy: 0.9728\n",
            "\n",
            "Epoch 00024: val_accuracy did not improve from 0.97418\n",
            "Epoch 25/40\n",
            "48/48 [==============================] - 8s 165ms/step - loss: 0.0052 - accuracy: 0.9991 - val_loss: 0.1238 - val_accuracy: 0.9729\n",
            "\n",
            "Epoch 00025: val_accuracy did not improve from 0.97418\n",
            "\n",
            "Epoch 00025: ReduceLROnPlateau reducing learning rate to 1e-05.\n",
            "Epoch 26/40\n",
            "48/48 [==============================] - 8s 165ms/step - loss: 0.0051 - accuracy: 0.9992 - val_loss: 0.1240 - val_accuracy: 0.9729\n",
            "\n",
            "Epoch 00026: val_accuracy did not improve from 0.97418\n",
            "Epoch 27/40\n",
            "48/48 [==============================] - 8s 165ms/step - loss: 0.0049 - accuracy: 0.9992 - val_loss: 0.1242 - val_accuracy: 0.9728\n",
            "\n",
            "Epoch 00027: val_accuracy did not improve from 0.97418\n",
            "Epoch 28/40\n",
            "48/48 [==============================] - 8s 165ms/step - loss: 0.0050 - accuracy: 0.9991 - val_loss: 0.1242 - val_accuracy: 0.9729\n",
            "\n",
            "Epoch 00028: val_accuracy did not improve from 0.97418\n",
            "Epoch 29/40\n",
            "48/48 [==============================] - 8s 166ms/step - loss: 0.0048 - accuracy: 0.9993 - val_loss: 0.1244 - val_accuracy: 0.9728\n",
            "\n",
            "Epoch 00029: val_accuracy did not improve from 0.97418\n",
            "Epoch 30/40\n",
            "48/48 [==============================] - 8s 166ms/step - loss: 0.0047 - accuracy: 0.9992 - val_loss: 0.1245 - val_accuracy: 0.9728\n",
            "\n",
            "Epoch 00030: val_accuracy did not improve from 0.97418\n",
            "Epoch 31/40\n",
            "48/48 [==============================] - 8s 166ms/step - loss: 0.0046 - accuracy: 0.9992 - val_loss: 0.1249 - val_accuracy: 0.9727\n",
            "\n",
            "Epoch 00031: val_accuracy did not improve from 0.97418\n",
            "Epoch 32/40\n",
            "48/48 [==============================] - 8s 164ms/step - loss: 0.0047 - accuracy: 0.9993 - val_loss: 0.1248 - val_accuracy: 0.9728\n",
            "\n",
            "Epoch 00032: val_accuracy did not improve from 0.97418\n",
            "Epoch 33/40\n",
            "48/48 [==============================] - 8s 166ms/step - loss: 0.0047 - accuracy: 0.9993 - val_loss: 0.1249 - val_accuracy: 0.9728\n",
            "\n",
            "Epoch 00033: val_accuracy did not improve from 0.97418\n",
            "Epoch 34/40\n",
            "48/48 [==============================] - 8s 165ms/step - loss: 0.0049 - accuracy: 0.9992 - val_loss: 0.1251 - val_accuracy: 0.9728\n",
            "\n",
            "Epoch 00034: val_accuracy did not improve from 0.97418\n",
            "Epoch 35/40\n",
            "48/48 [==============================] - 8s 167ms/step - loss: 0.0046 - accuracy: 0.9992 - val_loss: 0.1254 - val_accuracy: 0.9728\n",
            "\n",
            "Epoch 00035: val_accuracy did not improve from 0.97418\n",
            "Epoch 36/40\n",
            "48/48 [==============================] - 8s 165ms/step - loss: 0.0050 - accuracy: 0.9992 - val_loss: 0.1255 - val_accuracy: 0.9727\n",
            "\n",
            "Epoch 00036: val_accuracy did not improve from 0.97418\n",
            "Epoch 37/40\n",
            "48/48 [==============================] - 8s 166ms/step - loss: 0.0044 - accuracy: 0.9993 - val_loss: 0.1257 - val_accuracy: 0.9726\n",
            "\n",
            "Epoch 00037: val_accuracy did not improve from 0.97418\n",
            "Epoch 38/40\n",
            "48/48 [==============================] - 8s 168ms/step - loss: 0.0043 - accuracy: 0.9993 - val_loss: 0.1258 - val_accuracy: 0.9727\n",
            "\n",
            "Epoch 00038: val_accuracy did not improve from 0.97418\n",
            "Epoch 39/40\n",
            "48/48 [==============================] - 8s 167ms/step - loss: 0.0044 - accuracy: 0.9993 - val_loss: 0.1261 - val_accuracy: 0.9727\n",
            "\n",
            "Epoch 00039: val_accuracy did not improve from 0.97418\n",
            "Epoch 40/40\n",
            "48/48 [==============================] - 8s 165ms/step - loss: 0.0045 - accuracy: 0.9993 - val_loss: 0.1262 - val_accuracy: 0.9726\n",
            "\n",
            "Epoch 00040: val_accuracy did not improve from 0.97418\n"
          ],
          "name": "stdout"
        }
      ]
    },
    {
      "cell_type": "code",
      "metadata": {
        "colab": {
          "base_uri": "https://localhost:8080/",
          "height": 581
        },
        "id": "dw_n3FwJwM1x",
        "outputId": "f0cde655-c803-4c6f-8e49-4ef06b2f1cb9"
      },
      "source": [
        "#Plot Accuracy\n",
        "plt.plot(result.history['accuracy'])\n",
        "plt.plot(result.history['val_accuracy'])\n",
        "plt.title('model accuracy')\n",
        "plt.ylabel('accuracy')\n",
        "plt.xlabel('epoch')\n",
        "plt.legend(['train','val'],loc='upper left')\n",
        "plt.show()\n",
        "\n",
        "#Plot Loss\n",
        "plt.plot(result.history['loss'])\n",
        "plt.plot(result.history['val_loss'])\n",
        "plt.title('model loss')\n",
        "plt.ylabel('loss')\n",
        "plt.xlabel('epoch')\n",
        "plt.legend(['train','val'],loc='upper right')\n",
        "plt.show()"
      ],
      "execution_count": 350,
      "outputs": [
        {
          "output_type": "display_data",
          "data": {
            "image/png": "[encoded data removed]",
            "text/plain": [
              "<Figure size 432x288 with 1 Axes>"
            ]
          },
          "metadata": {
            "tags": []
          }
        },
        {
          "output_type": "display_data",
          "data": {
            "image/png": "[encoded data removed]",
            "text/plain": [
              "<Figure size 432x288 with 1 Axes>"
            ]
          },
          "metadata": {
            "tags": []
          }
        }
      ]
    },
    {
      "cell_type": "code",
      "metadata": {
        "id": "Jtw8YJV4sUJd"
      },
      "source": [
        "model.load_weights('model_checkpoint.h5')"
      ],
      "execution_count": 138,
      "outputs": []
    },
    {
      "cell_type": "code",
      "metadata": {
        "colab": {
          "base_uri": "https://localhost:8080/"
        },
        "id": "WnsfY1WvwMMo",
        "outputId": "0af850c3-8959-4ed9-a920-243fe25f5119"
      },
      "source": [
        "loss, accuracy = model.evaluate(X_test, Y_test, verbose = 1)\n",
        "print(\"Loss: {0},\\nAccuracy: {1}\".format(loss, accuracy))"
      ],
      "execution_count": 139,
      "outputs": [
        {
          "output_type": "stream",
          "text": [
            "40/40 [==============================] - 1s 15ms/step - loss: 0.1276 - accuracy: 0.9721\n",
            "Loss: 0.12756986916065216,\n",
            "Accuracy: 0.9721142053604126\n"
          ],
          "name": "stdout"
        }
      ]
    },
    {
      "cell_type": "code",
      "metadata": {
        "id": "07EV5yOW1u0a"
      },
      "source": [
        "def classify(sentence):\n",
        "  sentence = sentence.split()\n",
        "  seq = [word_tokenizer.texts_to_sequences(sentence)]\n",
        "  pad_seq = pad_sequences(seq, maxlen=MAX_SEQUENCE_LENGTH, padding=padding_type, truncating=trunc_type)\n",
        "  pad_seq = np.squeeze(pad_seq,axis=-1)\n",
        "  pred = np.squeeze(model.predict(pad_seq).argmax(-1))\n",
        "  output = [tag_tokenizer.index_word[tag] for tag in pred if tag != 0]\n",
        "  return output"
      ],
      "execution_count": 189,
      "outputs": []
    },
    {
      "cell_type": "code",
      "metadata": {
        "colab": {
          "base_uri": "https://localhost:8080/"
        },
        "id": "_G-kDFWBCirU",
        "outputId": "bfdf1196-7c63-4a28-a9ae-8a2b922376f0"
      },
      "source": [
        "sentence = \"انا احب ان امارس الرياضة\"\n",
        "output = classify(sentence)\n",
        "word_tag = [(sentence.split()[i],output[i]) for i in range(len(sentence.split()))]\n",
        "print(word_tag)"
      ],
      "execution_count": 190,
      "outputs": [
        {
          "output_type": "stream",
          "text": [
            "[('انا', 'x'), ('احب', 'verb'), ('ان', 'sconj'), ('امارس', 'noun'), ('الرياضة', 'noun')]\n"
          ],
          "name": "stdout"
        }
      ]
    },
    {
      "cell_type": "code",
      "metadata": {
        "colab": {
          "base_uri": "https://localhost:8080/"
        },
        "id": "Jqgofo3E8u5y",
        "outputId": "2c2a320f-cebd-4093-d4f5-12813acf250e"
      },
      "source": [
        "Y_test_plot = Y_test.argmax(-1)\n",
        "pred = np.squeeze(model.predict(X_test).argmax(-1))\n",
        "print(Y_test_plot.shape)\n",
        "print(pred.shape)"
      ],
      "execution_count": 194,
      "outputs": [
        {
          "output_type": "stream",
          "text": [
            "(1271, 70)\n",
            "(1271, 70)\n"
          ],
          "name": "stdout"
        }
      ]
    },
    {
      "cell_type": "code",
      "metadata": {
        "id": "iHMmWY-NdItR"
      },
      "source": [
        "tag_names = tag_tokenizer.index_word\n",
        "tag_names[18] = 'unknown'"
      ],
      "execution_count": 219,
      "outputs": []
    },
    {
      "cell_type": "code",
      "metadata": {
        "colab": {
          "base_uri": "https://localhost:8080/"
        },
        "id": "bhgMAPHNapOp",
        "outputId": "eff48462-77a6-42b5-fc99-9bcaef308147"
      },
      "source": [
        "name='Bert fine-tuned model'\n",
        "print('\\n------------ Result of {} ----------\\n'.format(name))\n",
        "print(classification_report(Y_test_plot.flatten(), pred.flatten(),digits=4,target_names=tag_names.values()))"
      ],
      "execution_count": 244,
      "outputs": [
        {
          "output_type": "stream",
          "text": [
            "\n",
            "------------ Result of Bert fine-tuned model ----------\n",
            "\n",
            "              precision    recall  f1-score   support\n",
            "\n",
            "        noun     0.9987    0.9999    0.9993     47438\n",
            "         adp     0.9376    0.9511    0.9443     13937\n",
            "         adj     0.9876    0.9946    0.9911      6265\n",
            "       punct     0.8908    0.9061    0.8984      4269\n",
            "        verb     0.9988    0.9997    0.9992      3219\n",
            "       cconj     0.9226    0.8788    0.9002      3120\n",
            "           x     0.9944    0.9867    0.9905      2865\n",
            "        pron     0.7628    0.7127    0.7369      2513\n",
            "         num     0.9955    0.9955    0.9955      1550\n",
            "         det     0.9588    0.9380    0.9483      1242\n",
            "       sconj     0.9476    0.9679    0.9576       840\n",
            "        part     0.9872    0.9897    0.9885       780\n",
            "         aux     0.9083    0.9475    0.9275       324\n",
            "         adv     0.9113    0.8725    0.8915       306\n",
            "         sym     0.9634    0.8587    0.9080       184\n",
            "       propn     1.0000    0.9595    0.9793        74\n",
            "        intj     0.8485    0.6512    0.7368        43\n",
            "     unknown     0.0000    0.0000    0.0000         1\n",
            "\n",
            "    accuracy                         0.9721     88970\n",
            "   macro avg     0.8897    0.8672    0.8774     88970\n",
            "weighted avg     0.9717    0.9721    0.9719     88970\n",
            "\n"
          ],
          "name": "stdout"
        }
      ]
    },
    {
      "cell_type": "code",
      "metadata": {
        "id": "C1UTqK-jIcsq"
      },
      "source": [
        "def plot_cm(f1,cm,target_names,title='Confusion matrix',cmap=None,normalize=True,i=1):\n",
        "\n",
        "\n",
        "\n",
        "    import matplotlib.pyplot as plt\n",
        "    import numpy as np\n",
        "    import itertools\n",
        "\n",
        "    accuracy = np.trace(cm) / float(np.sum(cm))\n",
        "    misclass = 1 - accuracy\n",
        "    plt.figure(figsize=(17, 17))\n",
        "    if cmap is None:\n",
        "        cmap = plt.get_cmap('Blues')\n",
        "\n",
        "\n",
        "    plt.imshow(cm, interpolation='nearest', cmap=cmap)\n",
        "    plt.title(title)\n",
        "    plt.colorbar()\n",
        "\n",
        "    if target_names is not None:\n",
        "        tick_marks = np.arange(len(target_names))\n",
        "        plt.xticks(tick_marks, target_names, rotation=45)\n",
        "        plt.yticks(tick_marks, target_names)\n",
        "\n",
        "    if normalize:\n",
        "        cm = cm.astype('float') / cm.sum(axis=1)[:, np.newaxis]\n",
        "\n",
        "\n",
        "    thresh = cm.max() / 1.5 if normalize else cm.max() / 2\n",
        "    for i, j in itertools.product(range(cm.shape[0]), range(cm.shape[1])):\n",
        "        if normalize:\n",
        "            plt.text(j, i, \"{:0.4f}\".format(cm[i, j]),fontsize=12,\n",
        "                     horizontalalignment=\"center\",\n",
        "                     color=\"white\" if cm[i, j] > thresh else \"black\")\n",
        "        else:\n",
        "            plt.text(j, i, \"{:,}\".format(cm[i, j]),fontsize=15,\n",
        "                     horizontalalignment=\"center\",\n",
        "                     color=\"white\" if cm[i, j] > thresh else \"black\")\n",
        "\n",
        "\n",
        "    plt.tight_layout()\n",
        "    plt.ylabel('True label')\n",
        "    plt.xlabel('Predicted label\\naccuracy={:0.4f}; misclass={:0.4f}; f1-score={:0.4f}'.format(accuracy, misclass, f1))"
      ],
      "execution_count": 335,
      "outputs": []
    },
    {
      "cell_type": "code",
      "metadata": {
        "colab": {
          "base_uri": "https://localhost:8080/",
          "height": 1000
        },
        "id": "axhOIPdTdb8P",
        "outputId": "a00b77e1-0eb9-405f-b412-4061a71c2575"
      },
      "source": [
        "cnf_matrix = confusion_matrix(Y_test_plot.flatten(), pred.flatten())\n",
        "plot_cm(f1_score(Y_test_plot.flatten(), pred.flatten(), average='macro'), cnf_matrix, target_names=tag_names.values(), title=name, normalize=False)"
      ],
      "execution_count": 337,
      "outputs": [
        {
          "output_type": "display_data",
          "data": {
            "image/png": "[encoded data removed]",
            "text/plain": [
              "<Figure size 1224x1224 with 2 Axes>"
            ]
          },
          "metadata": {
            "tags": []
          }
        }
      ]
    },
    {
      "cell_type": "code",
      "metadata": {
        "id": "Nx852CsGk71q"
      },
      "source": [
        ""
      ],
      "execution_count": null,
      "outputs": []
    }
  ]
}