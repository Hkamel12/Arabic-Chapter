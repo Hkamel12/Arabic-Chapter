{
 "cells": [
  {
   "cell_type": "markdown",
   "metadata": {},
   "source": [
    "# BILSTM - MAX_LEN 39 - EMBEDDINGS OWN - TEST_ACC 97.25"
   ]
  },
  {
   "cell_type": "code",
   "execution_count": 1,
   "metadata": {},
   "outputs": [],
   "source": [
    "import pandas as pd\n",
    "import os\n",
    "import numpy as np\n",
    "import matplotlib.pyplot as plt\n",
    "from keras.preprocessing.sequence import pad_sequences\n",
    "from keras.utils.np_utils import to_categorical\n",
    "from keras.preprocessing.text import Tokenizer\n",
    "from keras.models import Sequential,Model\n",
    "from keras.layers import Input,Embedding,Bidirectional,LSTM,TimeDistributed,Dense\n",
    "from keras.callbacks import ModelCheckpoint, EarlyStopping, Callback, TensorBoard,ReduceLROnPlateau"
   ]
  },
  {
   "cell_type": "markdown",
   "metadata": {},
   "source": [
    "## PreProcess Data"
   ]
  },
  {
   "cell_type": "code",
   "execution_count": 2,
   "metadata": {},
   "outputs": [],
   "source": [
    "def process_csv(csv):\n",
    "    df = pd.read_csv(csv)\n",
    "    df=df.drop(columns=['Case','lemma', 'Gender','Number','State','Gloss','Proclitic 1','Proclitic 2','Proclitic 0','Aspect','Mood','Person','Voice','Enclitic 0'])\n",
    "    df=df.drop_duplicates()\n",
    "    df[\"POS\"] = df[\"POS\"].apply(lambda x: x.replace(\"Proper Noun\", \"ProperNoun\"))\n",
    "    df1 = pd.DataFrame(columns = ['x','y'])\n",
    "    for i in df['sentence_id'].unique():\n",
    "        df1 = df1.append({'x':df[df['sentence_id'] == i]['word'].tolist() , 'y':df[df['sentence_id'] == i]['POS'].tolist()}, ignore_index=True)\n",
    "    return df1"
   ]
  },
  {
   "cell_type": "code",
   "execution_count": 3,
   "metadata": {},
   "outputs": [
    {
     "name": "stderr",
     "output_type": "stream",
     "text": [
      "C:\\Users\\KUSHBAB\\AppData\\Roaming\\Python\\Python37\\site-packages\\IPython\\core\\interactiveshell.py:3338: DtypeWarning: Columns (18) have mixed types.Specify dtype option on import or set low_memory=False.\n",
      "  if (await self.run_code(code, result,  async_=asy)):\n"
     ]
    },
    {
     "data": {
      "text/html": [
       "<div>\n",
       "<style scoped>\n",
       "    .dataframe tbody tr th:only-of-type {\n",
       "        vertical-align: middle;\n",
       "    }\n",
       "\n",
       "    .dataframe tbody tr th {\n",
       "        vertical-align: top;\n",
       "    }\n",
       "\n",
       "    .dataframe thead th {\n",
       "        text-align: right;\n",
       "    }\n",
       "</style>\n",
       "<table border=\"1\" class=\"dataframe\">\n",
       "  <thead>\n",
       "    <tr style=\"text-align: right;\">\n",
       "      <th></th>\n",
       "      <th>x</th>\n",
       "      <th>y</th>\n",
       "    </tr>\n",
       "  </thead>\n",
       "  <tbody>\n",
       "    <tr>\n",
       "      <th>0</th>\n",
       "      <td>[أحرز, النجم, البرتغالى, برونو, فيرنانديز, ,, ...</td>\n",
       "      <td>[Verb, Noun, Adjective, ProperNoun, ProperNoun...</td>\n",
       "    </tr>\n",
       "    <tr>\n",
       "      <th>1</th>\n",
       "      <td>[خلال, اجتماع, مجلس, الوزراء, اليوم, الخميس, ,...</td>\n",
       "      <td>[Noun, Noun, Noun, Noun, Noun, Noun, Punctuati...</td>\n",
       "    </tr>\n",
       "    <tr>\n",
       "      <th>2</th>\n",
       "      <td>[كشفت, تقارير, صحفية, إيطالية, ,, أن, قرار, رئ...</td>\n",
       "      <td>[Verb, Noun, Adjective, Adjective, Punctuation...</td>\n",
       "    </tr>\n",
       "    <tr>\n",
       "      <th>3</th>\n",
       "      <td>[إيه, الفرق, ?, ., أبرز, الاختلافات, بين, جهاز...</td>\n",
       "      <td>[Abbreviation, Noun, Punctuation, Punctuation,...</td>\n",
       "    </tr>\n",
       "    <tr>\n",
       "      <th>4</th>\n",
       "      <td>[أخبار, ×, 24, ساعة, ., الصحة, :, توفير, لقاح,...</td>\n",
       "      <td>[Noun, ProperNoun, Digit, Noun, Punctuation, N...</td>\n",
       "    </tr>\n",
       "  </tbody>\n",
       "</table>\n",
       "</div>"
      ],
      "text/plain": [
       "                                                   x  \\\n",
       "0  [أحرز, النجم, البرتغالى, برونو, فيرنانديز, ,, ...   \n",
       "1  [خلال, اجتماع, مجلس, الوزراء, اليوم, الخميس, ,...   \n",
       "2  [كشفت, تقارير, صحفية, إيطالية, ,, أن, قرار, رئ...   \n",
       "3  [إيه, الفرق, ?, ., أبرز, الاختلافات, بين, جهاز...   \n",
       "4  [أخبار, ×, 24, ساعة, ., الصحة, :, توفير, لقاح,...   \n",
       "\n",
       "                                                   y  \n",
       "0  [Verb, Noun, Adjective, ProperNoun, ProperNoun...  \n",
       "1  [Noun, Noun, Noun, Noun, Noun, Noun, Punctuati...  \n",
       "2  [Verb, Noun, Adjective, Adjective, Punctuation...  \n",
       "3  [Abbreviation, Noun, Punctuation, Punctuation,...  \n",
       "4  [Noun, ProperNoun, Digit, Noun, Punctuation, N...  "
      ]
     },
     "execution_count": 3,
     "metadata": {},
     "output_type": "execute_result"
    }
   ],
   "source": [
    "csvs = os.listdir('Dataset/')\n",
    "final_df = pd.DataFrame()\n",
    "for csv in csvs:\n",
    "    df = process_csv('Dataset/'+csv)\n",
    "    final_df = pd.concat([final_df,df])\n",
    "final_df = final_df.sample(frac = 1)\n",
    "final_df.reset_index(drop=True, inplace=True)\n",
    "final_df.head()"
   ]
  },
  {
   "cell_type": "code",
   "execution_count": 4,
   "metadata": {},
   "outputs": [],
   "source": [
    "embedding_dim = 300\n",
    "MAX_SEQUENCE_LENGTH = max([len(final_df['x'][i]) for i in range(len(final_df))])"
   ]
  },
  {
   "cell_type": "code",
   "execution_count": 5,
   "metadata": {},
   "outputs": [],
   "source": [
    "x_tokenizer = Tokenizer(oov_token = \"<OOV>\")                    \n",
    "x_tokenizer.fit_on_texts(final_df['x'].tolist())  \n",
    "VOCABULARY_SIZE = len(x_tokenizer.word_index) + 1                  \n",
    "x = x_tokenizer.texts_to_sequences(final_df['x'].tolist())  "
   ]
  },
  {
   "cell_type": "code",
   "execution_count": 6,
   "metadata": {},
   "outputs": [],
   "source": [
    "y_tokenizer = Tokenizer()\n",
    "y_tokenizer.fit_on_texts(final_df['y'].tolist())\n",
    "y = y_tokenizer.texts_to_sequences(final_df['y'].tolist())"
   ]
  },
  {
   "cell_type": "code",
   "execution_count": 7,
   "metadata": {},
   "outputs": [],
   "source": [
    "x = pad_sequences(x, maxlen=MAX_SEQUENCE_LENGTH, padding='post', truncating='post')\n",
    "y = pad_sequences(y, maxlen=MAX_SEQUENCE_LENGTH, padding='post', truncating='post')\n",
    "y = to_categorical(y)"
   ]
  },
  {
   "cell_type": "code",
   "execution_count": 8,
   "metadata": {},
   "outputs": [],
   "source": [
    "x_train = np.array(x[:int(len(x)*0.7)])\n",
    "x_val = np.array(x[int(len(x)*0.7):int(len(x)*0.9)])\n",
    "x_test = np.array(x[int(len(x)*0.9):])\n",
    "assert len(x_train)+len(x_val)+len(x_test) == len(x)"
   ]
  },
  {
   "cell_type": "code",
   "execution_count": 9,
   "metadata": {},
   "outputs": [],
   "source": [
    "y_train = np.array(y[:int(len(y)*0.7)])\n",
    "y_val = np.array(y[int(len(y)*0.7):int(len(y)*0.9)])\n",
    "y_test = np.array(y[int(len(y)*0.9):])\n",
    "assert len(y_train)+len(y_val)+len(y_test) == len(y)"
   ]
  },
  {
   "cell_type": "code",
   "execution_count": 10,
   "metadata": {},
   "outputs": [
    {
     "name": "stdout",
     "output_type": "stream",
     "text": [
      "Training data shape (x y)  (10000, 39) (10000, 39, 33)\n",
      "Validation data shape (x y)  (2858, 39) (2858, 39, 33)\n",
      "Test data shape (x y)  (1429, 39) (1429, 39, 33)\n"
     ]
    }
   ],
   "source": [
    "print(\"Training data shape (x y) \", x_train.shape,y_train.shape)\n",
    "print(\"Validation data shape (x y) \", x_val.shape,y_val.shape)\n",
    "print(\"Test data shape (x y) \", x_test.shape,y_test.shape)"
   ]
  },
  {
   "cell_type": "markdown",
   "metadata": {},
   "source": [
    "## Embedding Matrix"
   ]
  },
  {
   "cell_type": "code",
   "execution_count": null,
   "metadata": {},
   "outputs": [],
   "source": [
    "!wget https://bakrianoo.ewr1.vultrobjects.com/aravec/full_grams_cbow_300_twitter.zip\n",
    "!unzip full_grams_cbow_300_twitter.zip"
   ]
  },
  {
   "cell_type": "code",
   "execution_count": null,
   "metadata": {},
   "outputs": [],
   "source": [
    "import gensim\n",
    "embedding_model = gensim.models.Word2Vec.load('full_grams_cbow_300_twitter.mdl')\n",
    "embeddings = {}\n",
    "for word,vector in zip(embedding_model.wv.vocab,embedding_model.wv.vectors):\n",
    "    coefs = np.array(vector, dtype='float32')\n",
    "    embeddings[word] = coefs\n",
    "embeddings_weights = np.zeros((VOCABULARY_SIZE, embedding_dim))\n",
    "for word, i in x_tokenizer.word_index.items():\n",
    "    embedding_vector = embeddings_index.get(word)\n",
    "    if embedding_vector is not None:\n",
    "        embeddings_matrix[i] = embedding_vector"
   ]
  },
  {
   "cell_type": "markdown",
   "metadata": {},
   "source": [
    "## Create Model"
   ]
  },
  {
   "cell_type": "code",
   "execution_count": 11,
   "metadata": {},
   "outputs": [
    {
     "name": "stdout",
     "output_type": "stream",
     "text": [
      "Model: \"sequential\"\n",
      "_________________________________________________________________\n",
      "Layer (type)                 Output Shape              Param #   \n",
      "=================================================================\n",
      "embedding (Embedding)        (None, 39, 300)           9859500   \n",
      "_________________________________________________________________\n",
      "bidirectional (Bidirectional (None, 39, 512)           1140736   \n",
      "_________________________________________________________________\n",
      "bidirectional_1 (Bidirection (None, 39, 512)           1574912   \n",
      "_________________________________________________________________\n",
      "bidirectional_2 (Bidirection (None, 39, 512)           1574912   \n",
      "_________________________________________________________________\n",
      "bidirectional_3 (Bidirection (None, 39, 512)           1574912   \n",
      "_________________________________________________________________\n",
      "time_distributed (TimeDistri (None, 39, 33)            16929     \n",
      "=================================================================\n",
      "Total params: 15,741,901\n",
      "Trainable params: 15,741,901\n",
      "Non-trainable params: 0\n",
      "_________________________________________________________________\n"
     ]
    }
   ],
   "source": [
    "tagger = Sequential()\n",
    "tagger.add(Input((MAX_SEQUENCE_LENGTH)))\n",
    "tagger.add(Embedding(input_dim = VOCABULARY_SIZE,\n",
    "                             output_dim    = embedding_dim, input_length  = MAX_SEQUENCE_LENGTH,#weights = [embeddings_matrix],\n",
    "                             trainable     = True))\n",
    "tagger.add(Bidirectional(LSTM(256, return_sequences=True)))\n",
    "tagger.add(Bidirectional(LSTM(256, return_sequences=True)))\n",
    "tagger.add(Bidirectional(LSTM(256, return_sequences=True)))\n",
    "tagger.add(Bidirectional(LSTM(256, return_sequences=True)))\n",
    "tagger\n",
    "tagger.add(TimeDistributed(Dense(y.shape[2], activation='softmax')))\n",
    "tagger.compile(loss='categorical_crossentropy', optimizer='adam',metrics=['accuracy'])\n",
    "tagger.summary()"
   ]
  },
  {
   "cell_type": "markdown",
   "metadata": {},
   "source": [
    "## Train Model"
   ]
  },
  {
   "cell_type": "code",
   "execution_count": 12,
   "metadata": {},
   "outputs": [],
   "source": [
    "checkpoint = ModelCheckpoint('model1_checkpoint.h5', monitor='val_accuracy', verbose=1, save_best_only=True, mode='max')\n",
    "reducelr = ReduceLROnPlateau(monitor='val_loss', factor=0.5, patience=10, verbose=1, mode='min' , min_lr=0.0001)"
   ]
  },
  {
   "cell_type": "code",
   "execution_count": 13,
   "metadata": {},
   "outputs": [
    {
     "name": "stdout",
     "output_type": "stream",
     "text": [
      "Epoch 1/40\n",
      "79/79 [==============================] - 169s 2s/step - loss: 1.4424 - accuracy: 0.6352 - val_loss: 0.8376 - val_accuracy: 0.7529\n",
      "\n",
      "Epoch 00001: val_accuracy improved from -inf to 0.75291, saving model to model_checkpoint.h5\n",
      "Epoch 2/40\n",
      "79/79 [==============================] - 170s 2s/step - loss: 0.8178 - accuracy: 0.7634 - val_loss: 0.7717 - val_accuracy: 0.7685\n",
      "\n",
      "Epoch 00002: val_accuracy improved from 0.75291 to 0.76853, saving model to model_checkpoint.h5\n",
      "Epoch 3/40\n",
      "79/79 [==============================] - 192s 2s/step - loss: 0.7246 - accuracy: 0.7787 - val_loss: 0.3764 - val_accuracy: 0.8919\n",
      "\n",
      "Epoch 00003: val_accuracy improved from 0.76853 to 0.89193, saving model to model_checkpoint.h5\n",
      "Epoch 4/40\n",
      "79/79 [==============================] - 240s 3s/step - loss: 0.2768 - accuracy: 0.9231 - val_loss: 0.2191 - val_accuracy: 0.9431\n",
      "\n",
      "Epoch 00004: val_accuracy improved from 0.89193 to 0.94307, saving model to model_checkpoint.h5\n",
      "Epoch 5/40\n",
      "79/79 [==============================] - 249s 3s/step - loss: 0.1395 - accuracy: 0.9626 - val_loss: 0.1931 - val_accuracy: 0.9487\n",
      "\n",
      "Epoch 00005: val_accuracy improved from 0.94307 to 0.94874, saving model to model_checkpoint.h5\n",
      "Epoch 6/40\n",
      "79/79 [==============================] - 248s 3s/step - loss: 0.1099 - accuracy: 0.9705 - val_loss: 0.1753 - val_accuracy: 0.9553\n",
      "\n",
      "Epoch 00006: val_accuracy improved from 0.94874 to 0.95527, saving model to model_checkpoint.h5\n",
      "Epoch 7/40\n",
      "79/79 [==============================] - 246s 3s/step - loss: 0.0819 - accuracy: 0.9780 - val_loss: 0.1654 - val_accuracy: 0.9589\n",
      "\n",
      "Epoch 00007: val_accuracy improved from 0.95527 to 0.95886, saving model to model_checkpoint.h5\n",
      "Epoch 8/40\n",
      "79/79 [==============================] - 241s 3s/step - loss: 0.0659 - accuracy: 0.9825 - val_loss: 0.1613 - val_accuracy: 0.9586\n",
      "\n",
      "Epoch 00008: val_accuracy did not improve from 0.95886\n",
      "Epoch 9/40\n",
      "79/79 [==============================] - 235s 3s/step - loss: 0.0557 - accuracy: 0.9853 - val_loss: 0.1563 - val_accuracy: 0.9634\n",
      "\n",
      "Epoch 00009: val_accuracy improved from 0.95886 to 0.96338, saving model to model_checkpoint.h5\n",
      "Epoch 10/40\n",
      "79/79 [==============================] - 247s 3s/step - loss: 0.0478 - accuracy: 0.9876 - val_loss: 0.1479 - val_accuracy: 0.9646\n",
      "\n",
      "Epoch 00010: val_accuracy improved from 0.96338 to 0.96460, saving model to model_checkpoint.h5\n",
      "Epoch 11/40\n",
      "79/79 [==============================] - 253s 3s/step - loss: 0.0394 - accuracy: 0.9898 - val_loss: 0.1523 - val_accuracy: 0.9668\n",
      "\n",
      "Epoch 00011: val_accuracy improved from 0.96460 to 0.96685, saving model to model_checkpoint.h5\n",
      "Epoch 12/40\n",
      "79/79 [==============================] - 244s 3s/step - loss: 0.0318 - accuracy: 0.9918 - val_loss: 0.1470 - val_accuracy: 0.9643\n",
      "\n",
      "Epoch 00012: val_accuracy did not improve from 0.96685\n",
      "Epoch 13/40\n",
      "79/79 [==============================] - 241s 3s/step - loss: 0.0248 - accuracy: 0.9936 - val_loss: 0.1455 - val_accuracy: 0.9672\n",
      "\n",
      "Epoch 00013: val_accuracy improved from 0.96685 to 0.96718, saving model to model_checkpoint.h5\n",
      "Epoch 14/40\n",
      "79/79 [==============================] - 237s 3s/step - loss: 0.0210 - accuracy: 0.9946 - val_loss: 0.1520 - val_accuracy: 0.9677\n",
      "\n",
      "Epoch 00014: val_accuracy improved from 0.96718 to 0.96773, saving model to model_checkpoint.h5\n",
      "Epoch 15/40\n",
      "79/79 [==============================] - 239s 3s/step - loss: 0.0159 - accuracy: 0.9962 - val_loss: 0.1640 - val_accuracy: 0.9693\n",
      "\n",
      "Epoch 00015: val_accuracy improved from 0.96773 to 0.96927, saving model to model_checkpoint.h5\n",
      "Epoch 16/40\n",
      "79/79 [==============================] - 239s 3s/step - loss: 0.0130 - accuracy: 0.9969 - val_loss: 0.1634 - val_accuracy: 0.9670\n",
      "\n",
      "Epoch 00016: val_accuracy did not improve from 0.96927\n",
      "Epoch 17/40\n",
      "79/79 [==============================] - 232s 3s/step - loss: 0.0115 - accuracy: 0.9973 - val_loss: 0.1611 - val_accuracy: 0.9701\n",
      "\n",
      "Epoch 00017: val_accuracy improved from 0.96927 to 0.97012, saving model to model_checkpoint.h5\n",
      "Epoch 18/40\n",
      "79/79 [==============================] - 246s 3s/step - loss: 0.0095 - accuracy: 0.9978 - val_loss: 0.1688 - val_accuracy: 0.9699\n",
      "\n",
      "Epoch 00018: val_accuracy did not improve from 0.97012\n",
      "Epoch 19/40\n",
      "79/79 [==============================] - 269s 3s/step - loss: 0.0084 - accuracy: 0.9980 - val_loss: 0.1736 - val_accuracy: 0.9698\n",
      "\n",
      "Epoch 00019: val_accuracy did not improve from 0.97012\n",
      "Epoch 20/40\n",
      "79/79 [==============================] - 244s 3s/step - loss: 0.0073 - accuracy: 0.9982 - val_loss: 0.1721 - val_accuracy: 0.9689\n",
      "\n",
      "Epoch 00020: val_accuracy did not improve from 0.97012\n",
      "Epoch 21/40\n",
      "79/79 [==============================] - 237s 3s/step - loss: 0.0065 - accuracy: 0.9986 - val_loss: 0.2080 - val_accuracy: 0.9702\n",
      "\n",
      "Epoch 00021: val_accuracy improved from 0.97012 to 0.97023, saving model to model_checkpoint.h5\n",
      "Epoch 22/40\n",
      "79/79 [==============================] - 247s 3s/step - loss: 0.0058 - accuracy: 0.9987 - val_loss: 0.1905 - val_accuracy: 0.9699\n",
      "\n",
      "Epoch 00022: val_accuracy did not improve from 0.97023\n",
      "Epoch 23/40\n",
      "79/79 [==============================] - 278s 4s/step - loss: 0.0048 - accuracy: 0.9989 - val_loss: 0.2004 - val_accuracy: 0.9689\n",
      "\n",
      "Epoch 00023: val_accuracy did not improve from 0.97023\n",
      "\n",
      "Epoch 00023: ReduceLROnPlateau reducing learning rate to 0.0005000000237487257.\n",
      "Epoch 24/40\n",
      "79/79 [==============================] - 316s 4s/step - loss: 0.0040 - accuracy: 0.9992 - val_loss: 0.1991 - val_accuracy: 0.9702\n",
      "\n",
      "Epoch 00024: val_accuracy did not improve from 0.97023\n",
      "Epoch 25/40\n",
      "79/79 [==============================] - 318s 4s/step - loss: 0.0021 - accuracy: 0.9996 - val_loss: 0.2065 - val_accuracy: 0.9710\n",
      "\n",
      "Epoch 00025: val_accuracy improved from 0.97023 to 0.97099, saving model to model_checkpoint.h5\n",
      "Epoch 26/40\n",
      "79/79 [==============================] - 325s 4s/step - loss: 0.0018 - accuracy: 0.9998 - val_loss: 0.2113 - val_accuracy: 0.9710\n",
      "\n",
      "Epoch 00026: val_accuracy improved from 0.97099 to 0.97101, saving model to model_checkpoint.h5\n",
      "Epoch 27/40\n",
      "79/79 [==============================] - 258s 3s/step - loss: 0.0014 - accuracy: 0.9999 - val_loss: 0.2129 - val_accuracy: 0.9710\n",
      "\n",
      "Epoch 00027: val_accuracy did not improve from 0.97101\n",
      "Epoch 28/40\n",
      "79/79 [==============================] - 240s 3s/step - loss: 0.0012 - accuracy: 0.9999 - val_loss: 0.2185 - val_accuracy: 0.9710\n",
      "\n",
      "Epoch 00028: val_accuracy did not improve from 0.97101\n",
      "Epoch 29/40\n",
      "79/79 [==============================] - 241s 3s/step - loss: 9.5367e-04 - accuracy: 0.9999 - val_loss: 0.2201 - val_accuracy: 0.9710\n",
      "\n",
      "Epoch 00029: val_accuracy improved from 0.97101 to 0.97105, saving model to model_checkpoint.h5\n",
      "Epoch 30/40\n",
      "79/79 [==============================] - 252s 3s/step - loss: 9.1374e-04 - accuracy: 0.9999 - val_loss: 0.2252 - val_accuracy: 0.9712\n",
      "\n",
      "Epoch 00030: val_accuracy improved from 0.97105 to 0.97117, saving model to model_checkpoint.h5\n",
      "Epoch 31/40\n",
      "79/79 [==============================] - 250s 3s/step - loss: 9.9290e-04 - accuracy: 0.9999 - val_loss: 0.2284 - val_accuracy: 0.9712\n",
      "\n",
      "Epoch 00031: val_accuracy improved from 0.97117 to 0.97120, saving model to model_checkpoint.h5\n",
      "Epoch 32/40\n",
      "79/79 [==============================] - 234s 3s/step - loss: 8.8682e-04 - accuracy: 0.9999 - val_loss: 0.2290 - val_accuracy: 0.9709\n",
      "\n",
      "Epoch 00032: val_accuracy did not improve from 0.97120\n",
      "Epoch 33/40\n",
      "79/79 [==============================] - 226s 3s/step - loss: 8.0060e-04 - accuracy: 0.9999 - val_loss: 0.2321 - val_accuracy: 0.9712\n",
      "\n",
      "Epoch 00033: val_accuracy improved from 0.97120 to 0.97125, saving model to model_checkpoint.h5\n",
      "\n",
      "Epoch 00033: ReduceLROnPlateau reducing learning rate to 0.0002500000118743628.\n",
      "Epoch 34/40\n",
      "79/79 [==============================] - 232s 3s/step - loss: 8.1270e-04 - accuracy: 0.9999 - val_loss: 0.2371 - val_accuracy: 0.9713\n",
      "\n",
      "Epoch 00034: val_accuracy improved from 0.97125 to 0.97131, saving model to model_checkpoint.h5\n",
      "Epoch 35/40\n",
      "79/79 [==============================] - 235s 3s/step - loss: 8.5794e-04 - accuracy: 0.9999 - val_loss: 0.2354 - val_accuracy: 0.9712\n",
      "\n",
      "Epoch 00035: val_accuracy did not improve from 0.97131\n",
      "Epoch 36/40\n",
      "79/79 [==============================] - 238s 3s/step - loss: 7.6813e-04 - accuracy: 1.0000 - val_loss: 0.2367 - val_accuracy: 0.9712\n",
      "\n",
      "Epoch 00036: val_accuracy did not improve from 0.97131\n",
      "Epoch 37/40\n"
     ]
    },
    {
     "name": "stdout",
     "output_type": "stream",
     "text": [
      "79/79 [==============================] - 240s 3s/step - loss: 5.1363e-04 - accuracy: 1.0000 - val_loss: 0.2345 - val_accuracy: 0.9710\n",
      "\n",
      "Epoch 00037: val_accuracy did not improve from 0.97131\n",
      "Epoch 38/40\n",
      "79/79 [==============================] - 251s 3s/step - loss: 4.9235e-04 - accuracy: 1.0000 - val_loss: 0.2393 - val_accuracy: 0.9712\n",
      "\n",
      "Epoch 00038: val_accuracy did not improve from 0.97131\n",
      "Epoch 39/40\n",
      "79/79 [==============================] - 237s 3s/step - loss: 5.5491e-04 - accuracy: 1.0000 - val_loss: 0.2375 - val_accuracy: 0.9709\n",
      "\n",
      "Epoch 00039: val_accuracy did not improve from 0.97131\n",
      "Epoch 40/40\n",
      "79/79 [==============================] - 233s 3s/step - loss: 8.1327e-04 - accuracy: 0.9999 - val_loss: 0.2431 - val_accuracy: 0.9712\n",
      "\n",
      "Epoch 00040: val_accuracy did not improve from 0.97131\n"
     ]
    }
   ],
   "source": [
    "result = tagger.fit(x_train, y_train, validation_data= (x_val, y_val), epochs = 40, batch_size= 128, shuffle = True,callbacks=[checkpoint,reducelr])"
   ]
  },
  {
   "cell_type": "markdown",
   "metadata": {},
   "source": [
    "## Evaluate Model"
   ]
  },
  {
   "cell_type": "code",
   "execution_count": 20,
   "metadata": {},
   "outputs": [
    {
     "data": {
      "image/png": "[encoded data removed]",
      "text/plain": [
       "<Figure size 432x288 with 1 Axes>"
      ]
     },
     "metadata": {
      "needs_background": "light"
     },
     "output_type": "display_data"
    },
    {
     "data": {
      "image/png": "[encoded data removed]",
      "text/plain": [
       "<Figure size 432x288 with 1 Axes>"
      ]
     },
     "metadata": {
      "needs_background": "light"
     },
     "output_type": "display_data"
    }
   ],
   "source": [
    "plt.plot(result.history['accuracy'])\n",
    "plt.plot(result.history['val_accuracy'])\n",
    "plt.title('model accuracy')\n",
    "plt.ylabel('accuracy')\n",
    "plt.xlabel('epoch')\n",
    "plt.legend(['train','val'],loc='upper left')\n",
    "plt.show()\n",
    "\n",
    "plt.plot(result.history['loss'])\n",
    "plt.plot(result.history['val_loss'])\n",
    "plt.title('model loss')\n",
    "plt.ylabel('loss')\n",
    "plt.xlabel('epoch')\n",
    "plt.legend(['train','val'],loc='upper right')\n",
    "plt.show()"
   ]
  },
  {
   "cell_type": "code",
   "execution_count": 21,
   "metadata": {},
   "outputs": [],
   "source": [
    "tagger.load_weights('model1_checkpoint.h5')"
   ]
  },
  {
   "cell_type": "code",
   "execution_count": 22,
   "metadata": {},
   "outputs": [
    {
     "name": "stdout",
     "output_type": "stream",
     "text": [
      "45/45 [==============================] - 14s 306ms/step - loss: 0.2237 - accuracy: 0.9725\n",
      "Loss: 0.22373922169208527\n",
      "Accuracy: 0.9725287556648254\n"
     ]
    }
   ],
   "source": [
    "loss, accuracy = tagger.evaluate(x_test, y_test)\n",
    "print('Loss:',loss)\n",
    "print('Accuracy:',accuracy)"
   ]
  },
  {
   "cell_type": "markdown",
   "metadata": {},
   "source": [
    "## Predict "
   ]
  },
  {
   "cell_type": "code",
   "execution_count": 53,
   "metadata": {},
   "outputs": [],
   "source": [
    "def pos_tagger(sent):\n",
    "    words = sent.split()\n",
    "    words = [x_tokenizer.texts_to_sequences(words)]\n",
    "    words = pad_sequences(words, maxlen=MAX_SEQUENCE_LENGTH, padding=\"post\", truncating=\"post\")\n",
    "    words = np.squeeze(words,axis=-1)\n",
    "    tags = np.squeeze(tagger.predict(words).argmax(-1))\n",
    "    tags = [y_tokenizer.index_word[tag] for tag in tags if tag != 0]\n",
    "    return tags"
   ]
  },
  {
   "cell_type": "code",
   "execution_count": 54,
   "metadata": {},
   "outputs": [
    {
     "name": "stdout",
     "output_type": "stream",
     "text": [
      "جون propernoun\n",
      "يحب verb\n",
      "البيت noun\n",
      "الأزرق noun\n",
      "في preposition\n",
      "نهاية noun\n",
      "الشارع noun\n"
     ]
    }
   ],
   "source": [
    "sentence = \"جون يحب البيت الأزرق في نهاية الشارع\"\n",
    "output = pos_tagger(sentence)\n",
    "pred_tags = [(sentence.split()[i],output[i]) for i in range(len(sentence.split()))]\n",
    "for w,t in pred_tags:\n",
    "    print(w,t)"
   ]
  },
  {
   "cell_type": "markdown",
   "metadata": {},
   "source": [
    "## Evaluate Prediction"
   ]
  },
  {
   "cell_type": "code",
   "execution_count": 76,
   "metadata": {},
   "outputs": [
    {
     "data": {
      "text/plain": [
       "100.0"
      ]
     },
     "execution_count": 76,
     "metadata": {},
     "output_type": "execute_result"
    }
   ],
   "source": [
    "from evaluate_pred import *\n",
    "evaluate(sentence, pred_tags)"
   ]
  },
  {
   "cell_type": "code",
   "execution_count": null,
   "metadata": {},
   "outputs": [],
   "source": []
  }
 ],
 "metadata": {
  "kernelspec": {
   "display_name": "Python 3",
   "language": "python",
   "name": "python3"
  },
  "language_info": {
   "codemirror_mode": {
    "name": "ipython",
    "version": 3
   },
   "file_extension": ".py",
   "mimetype": "text/x-python",
   "name": "python",
   "nbconvert_exporter": "python",
   "pygments_lexer": "ipython3",
   "version": "3.7.10"
  }
 },
 "nbformat": 4,
 "nbformat_minor": 4
}
