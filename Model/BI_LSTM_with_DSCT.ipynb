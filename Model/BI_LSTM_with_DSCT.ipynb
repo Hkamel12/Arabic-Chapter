{
  "nbformat": 4,
  "nbformat_minor": 0,
  "metadata": {
    "colab": {
      "name": "BI-LSTM with DSCT.ipynb",
      "provenance": [],
      "collapsed_sections": []
    },
    "kernelspec": {
      "name": "python3",
      "display_name": "Python 3"
    },
    "language_info": {
      "name": "python"
    },
    "accelerator": "GPU"
  },
  "cells": [
    {
      "cell_type": "code",
      "metadata": {
        "colab": {
          "base_uri": "https://localhost:8080/"
        },
        "id": "SRj9dvMB-krt",
        "outputId": "e9693993-c196-4a25-be33-2e09d88ec392"
      },
      "source": [
        "!wget https://bakrianoo.ewr1.vultrobjects.com/aravec/full_grams_cbow_300_twitter.zip\n",
        "!unzip full_grams_cbow_300_twitter.zip"
      ],
      "execution_count": 1,
      "outputs": [
        {
          "output_type": "stream",
          "text": [
            "--2021-06-15 14:01:58--  https://bakrianoo.ewr1.vultrobjects.com/aravec/full_grams_cbow_300_twitter.zip\n",
            "Resolving bakrianoo.ewr1.vultrobjects.com (bakrianoo.ewr1.vultrobjects.com)... 108.61.0.122, 2001:19f0:0:22::100\n",
            "Connecting to bakrianoo.ewr1.vultrobjects.com (bakrianoo.ewr1.vultrobjects.com)|108.61.0.122|:443... connected.\n",
            "HTTP request sent, awaiting response... 200 OK\n",
            "Length: 3325529808 (3.1G) [application/zip]\n",
            "Saving to: ‘full_grams_cbow_300_twitter.zip’\n",
            "\n",
            "full_grams_cbow_300 100%[===================>]   3.10G   107MB/s    in 75s     \n",
            "\n",
            "2021-06-15 14:03:13 (42.2 MB/s) - ‘full_grams_cbow_300_twitter.zip’ saved [3325529808/3325529808]\n",
            "\n",
            "Archive:  full_grams_cbow_300_twitter.zip\n",
            "  inflating: full_grams_cbow_300_twitter.mdl  \n",
            "  inflating: full_grams_cbow_300_twitter.mdl.trainables.syn1neg.npy  \n",
            "  inflating: full_grams_cbow_300_twitter.mdl.wv.vectors.npy  \n"
          ],
          "name": "stdout"
        }
      ]
    },
    {
      "cell_type": "code",
      "metadata": {
        "id": "L_acU-slo0lH"
      },
      "source": [
        "import numpy as np\n",
        "\n",
        "from matplotlib import pyplot as plt\n",
        "import seaborn as sns\n",
        "from keras.preprocessing.sequence import pad_sequences\n",
        "from keras.utils.np_utils import to_categorical\n",
        "from keras.models import Sequential\n",
        "from keras.layers import *\n",
        "from keras.optimizers import Adam,SGD\n",
        "from keras.models import Model\n",
        "from keras.preprocessing.text import Tokenizer\n",
        "from keras.callbacks import ModelCheckpoint, EarlyStopping, Callback, TensorBoard\n",
        "from sklearn.metrics import recall_score, precision_score, classification_report, accuracy_score, confusion_matrix, f1_score\n",
        "from sklearn.model_selection import train_test_split\n",
        "from sklearn.utils import shuffle\n",
        "from tqdm import tqdm\n",
        "from sklearn.metrics import confusion_matrix\n",
        "from mlxtend.plotting import plot_confusion_matrix\n",
        "import gensim\n",
        "import re\n",
        "from nltk import ngrams"
      ],
      "execution_count": 3,
      "outputs": []
    },
    {
      "cell_type": "code",
      "metadata": {
        "id": "jM-djEdT5stI"
      },
      "source": [
        "def process_csv(df):\n",
        "    \n",
        "    df=df.drop(columns=['Case','lemma', 'Gender','Number','State','Gloss','Proclitic 1','Proclitic 2','Proclitic 0','Aspect','Mood','Person','Voice','Enclitic 0'])\n",
        "    df=df.drop_duplicates()\n",
        "    df[\"POS\"] = df[\"POS\"].apply(lambda x: x.replace(\"Proper Noun\", \"ProperNoun\"))\n",
        "    df[\"RANK\"] = df.groupby('sentence_id').cumcount()\n",
        "    df1 = pd.DataFrame(columns = ['x','y','z'])\n",
        "    for i in df['sentence_id'].unique():\n",
        "        df1 = df1.append({'x':df[df['sentence_id'] == i]['word'].tolist() , 'y':df[df['sentence_id'] == i]['POS'].tolist()},ignore_index=True)\n",
        "    return df1"
      ],
      "execution_count": 5,
      "outputs": []
    },
    {
      "cell_type": "code",
      "metadata": {
        "colab": {
          "base_uri": "https://localhost:8080/",
          "height": 258
        },
        "id": "WkCAOHWY5tQ2",
        "outputId": "94e23d93-1d99-48ab-b3e7-23c33423e556"
      },
      "source": [
        "import pandas as pd\n",
        "\n",
        "df1=pd.read_csv('/content/POS-first-dataset.csv')\n",
        "df2=pd.read_csv('/content/description_mor.csv')\n",
        "csvs = [df1,df2]\n",
        "final_df = pd.DataFrame()\n",
        "df1 = process_csv(df1)\n",
        "df2=process_csv(df2)\n",
        "final_df = pd.concat([df1,df2])\n",
        "final_df = final_df.sample(frac = 1)\n",
        "final_df.reset_index(drop=True, inplace=True)\n",
        "final_df.head()"
      ],
      "execution_count": 7,
      "outputs": [
        {
          "output_type": "stream",
          "text": [
            "/usr/local/lib/python3.7/dist-packages/IPython/core/interactiveshell.py:2718: DtypeWarning: Columns (18) have mixed types.Specify dtype option on import or set low_memory=False.\n",
            "  interactivity=interactivity, compiler=compiler, result=result)\n"
          ],
          "name": "stderr"
        },
        {
          "output_type": "execute_result",
          "data": {
            "text/html": [
              "<div>\n",
              "<style scoped>\n",
              "    .dataframe tbody tr th:only-of-type {\n",
              "        vertical-align: middle;\n",
              "    }\n",
              "\n",
              "    .dataframe tbody tr th {\n",
              "        vertical-align: top;\n",
              "    }\n",
              "\n",
              "    .dataframe thead th {\n",
              "        text-align: right;\n",
              "    }\n",
              "</style>\n",
              "<table border=\"1\" class=\"dataframe\">\n",
              "  <thead>\n",
              "    <tr style=\"text-align: right;\">\n",
              "      <th></th>\n",
              "      <th>x</th>\n",
              "      <th>y</th>\n",
              "      <th>z</th>\n",
              "    </tr>\n",
              "  </thead>\n",
              "  <tbody>\n",
              "    <tr>\n",
              "      <th>0</th>\n",
              "      <td>[ذكرت, وزارة, الصحة, المغربية, ,, أن, العدد, ا...</td>\n",
              "      <td>[Verb, Noun, Noun, Adjective, Punctuation, Sub...</td>\n",
              "      <td>NaN</td>\n",
              "    </tr>\n",
              "    <tr>\n",
              "      <th>1</th>\n",
              "      <td>[الأوقاف, :, لا, مخالفات, في, تطبيق, قرار, غلق...</td>\n",
              "      <td>[Noun, Punctuation, Pseudo Verb, Noun, Preposi...</td>\n",
              "      <td>NaN</td>\n",
              "    </tr>\n",
              "    <tr>\n",
              "      <th>2</th>\n",
              "      <td>[الكرملين, :, بوتين, أكد, لبايدن, أن, تطبيع, ا...</td>\n",
              "      <td>[ProperNoun, Punctuation, ProperNoun, Verb, Pr...</td>\n",
              "      <td>NaN</td>\n",
              "    </tr>\n",
              "    <tr>\n",
              "      <th>3</th>\n",
              "      <td>[الصحة, الإماراتية, :, تسجيل, 525, إصابة, جديد...</td>\n",
              "      <td>[Noun, Adjective, Punctuation, Noun, Digit, No...</td>\n",
              "      <td>NaN</td>\n",
              "    </tr>\n",
              "    <tr>\n",
              "      <th>4</th>\n",
              "      <td>[أعلن, الرئيس, التونسي, قيس, سعيد, ,, أنه, مست...</td>\n",
              "      <td>[Verb, Noun, Adjective, ProperNoun, ProperNoun...</td>\n",
              "      <td>NaN</td>\n",
              "    </tr>\n",
              "  </tbody>\n",
              "</table>\n",
              "</div>"
            ],
            "text/plain": [
              "                                                   x  ...    z\n",
              "0  [ذكرت, وزارة, الصحة, المغربية, ,, أن, العدد, ا...  ...  NaN\n",
              "1  [الأوقاف, :, لا, مخالفات, في, تطبيق, قرار, غلق...  ...  NaN\n",
              "2  [الكرملين, :, بوتين, أكد, لبايدن, أن, تطبيع, ا...  ...  NaN\n",
              "3  [الصحة, الإماراتية, :, تسجيل, 525, إصابة, جديد...  ...  NaN\n",
              "4  [أعلن, الرئيس, التونسي, قيس, سعيد, ,, أنه, مست...  ...  NaN\n",
              "\n",
              "[5 rows x 3 columns]"
            ]
          },
          "metadata": {
            "tags": []
          },
          "execution_count": 7
        }
      ]
    },
    {
      "cell_type": "code",
      "metadata": {
        "id": "UOfY7I1b9aqp"
      },
      "source": [
        "x_tokenizer = Tokenizer(oov_token = \"<OOV>\")                    \n",
        "x_tokenizer.fit_on_texts(final_df['x'].tolist())  \n",
        "VOCABULARY_SIZE = len(x_tokenizer.word_index) + 1                  \n",
        "x = x_tokenizer.texts_to_sequences(final_df['x'].tolist())\n",
        "\n",
        "z= final_df['z'].tolist()"
      ],
      "execution_count": 8,
      "outputs": []
    },
    {
      "cell_type": "code",
      "metadata": {
        "id": "7UZn-6S-9lid"
      },
      "source": [
        "y_tokenizer = Tokenizer()\n",
        "y_tokenizer.fit_on_texts(final_df['y'].tolist())\n",
        "y = y_tokenizer.texts_to_sequences(final_df['y'].tolist())"
      ],
      "execution_count": 9,
      "outputs": []
    },
    {
      "cell_type": "code",
      "metadata": {
        "colab": {
          "base_uri": "https://localhost:8080/"
        },
        "id": "UlxJ3dmFA-dy",
        "outputId": "e5911b1c-8e40-47ea-e42b-414b13f45fbe"
      },
      "source": [
        "embedding_dim = 300\n",
        "MAX_SEQUENCE_LENGTH = max([len(final_df['x'][i]) for i in range(len(final_df))])\n",
        "print(MAX_SEQUENCE_LENGTH)"
      ],
      "execution_count": 11,
      "outputs": [
        {
          "output_type": "stream",
          "text": [
            "39\n"
          ],
          "name": "stdout"
        }
      ]
    },
    {
      "cell_type": "code",
      "metadata": {
        "id": "owev0uOm9oOP"
      },
      "source": [
        "x = pad_sequences(x, maxlen=MAX_SEQUENCE_LENGTH, padding='post', truncating='post')\n",
        "\n",
        "y = pad_sequences(y, maxlen=MAX_SEQUENCE_LENGTH, padding='post', truncating='post')\n",
        "y = to_categorical(y)"
      ],
      "execution_count": 12,
      "outputs": []
    },
    {
      "cell_type": "code",
      "metadata": {
        "id": "5t0taOD-5tb4"
      },
      "source": [
        "x_train = np.array(x[:int(len(x)*0.7)])\n",
        "x_val = np.array(x[int(len(x)*0.7):int(len(x)*0.9)])\n",
        "x_test = np.array(x[int(len(x)*0.9):])\n",
        "y_train = np.array(y[:int(len(y)*0.7)])\n",
        "y_val = np.array(y[int(len(y)*0.7):int(len(y)*0.9)])\n",
        "y_test = np.array(y[int(len(y)*0.9):])"
      ],
      "execution_count": 13,
      "outputs": []
    },
    {
      "cell_type": "code",
      "metadata": {
        "colab": {
          "base_uri": "https://localhost:8080/"
        },
        "id": "si1IJe-fIdAa",
        "outputId": "500b08b4-e69c-4d82-8cf8-f84ffd6eb1af"
      },
      "source": [
        "print(x_train[0],y_train[0])"
      ],
      "execution_count": 14,
      "outputs": [
        {
          "output_type": "stream",
          "text": [
            "[  413    26    27   748     3    13   730  1550 11563   362  3893  4326\n",
            "   136     4 17341    35    30    10    43   806   230   420    24 17342\n",
            "   603  2646  8948   293 11564   892    16    66    91    93   113     0\n",
            "     0     0     0] [[0. 0. 0. ... 0. 0. 0.]\n",
            " [0. 1. 0. ... 0. 0. 0.]\n",
            " [0. 1. 0. ... 0. 0. 0.]\n",
            " ...\n",
            " [1. 0. 0. ... 0. 0. 0.]\n",
            " [1. 0. 0. ... 0. 0. 0.]\n",
            " [1. 0. 0. ... 0. 0. 0.]]\n"
          ],
          "name": "stdout"
        }
      ]
    },
    {
      "cell_type": "code",
      "metadata": {
        "id": "yDV_UcNAQKH-"
      },
      "source": [
        "arvec_embedding = gensim.models.Word2Vec.load('full_grams_cbow_300_twitter.mdl')"
      ],
      "execution_count": 15,
      "outputs": []
    },
    {
      "cell_type": "code",
      "metadata": {
        "id": "2PKg62S6QKK1"
      },
      "source": [
        "embeddings_index = {}\n",
        "for word,vector in zip(arvec_embedding.wv.vocab,arvec_embedding.wv.vectors):\n",
        "    coefs = np.asarray(vector, dtype='float32')\n",
        "    embeddings_index[word] = coefs"
      ],
      "execution_count": 16,
      "outputs": []
    },
    {
      "cell_type": "code",
      "metadata": {
        "id": "6uYwgIpJQKSv"
      },
      "source": [
        "embeddings_matrix = np.zeros((VOCABULARY_SIZE, embedding_dim))\n",
        "for word, i in x_tokenizer.word_index.items():\n",
        "    embedding_vector = embeddings_index.get(word)\n",
        "    if embedding_vector is not None:\n",
        "        embeddings_matrix[i] = embedding_vector"
      ],
      "execution_count": 18,
      "outputs": []
    },
    {
      "cell_type": "code",
      "metadata": {
        "colab": {
          "base_uri": "https://localhost:8080/"
        },
        "id": "r6W-H7PvBwwi",
        "outputId": "633ac75d-a82f-40f2-fd7f-0adb9de7d256"
      },
      "source": [
        "\n",
        "NUM_CLASSES = y_train.shape[2]\n",
        "print(NUM_CLASSES)"
      ],
      "execution_count": 24,
      "outputs": [
        {
          "output_type": "stream",
          "text": [
            "33\n"
          ],
          "name": "stdout"
        }
      ]
    },
    {
      "cell_type": "code",
      "metadata": {
        "id": "xiFzcnnblQsn"
      },
      "source": [
        "model = Sequential()\n",
        "model.add(InputLayer((MAX_SEQUENCE_LENGTH)))\n",
        "model.add(Embedding(input_dim = VOCABULARY_SIZE,\n",
        "                             output_dim    = embedding_dim,\n",
        "                             input_length  = MAX_SEQUENCE_LENGTH,\n",
        "                             #weights       = [embeddings_matrix],\n",
        "                             trainable     = True\n",
        "))\n",
        "model.add(Bidirectional(LSTM(256, return_sequences=True)))\n",
        "model.add(Bidirectional(LSTM(256, return_sequences=True)))\n",
        "model.add(Bidirectional(LSTM(256, return_sequences=True)))\n",
        "\n",
        "\n",
        "model.add(TimeDistributed(Dense(NUM_CLASSES, activation='softmax')))\n",
        "model.compile(loss='categorical_crossentropy', optimizer='adam',metrics=['accuracy'])"
      ],
      "execution_count": 65,
      "outputs": []
    },
    {
      "cell_type": "code",
      "metadata": {
        "id": "-oanRm_fndl_",
        "colab": {
          "base_uri": "https://localhost:8080/"
        },
        "outputId": "e0ca7163-337e-4845-f5f7-ce8795910c51"
      },
      "source": [
        "model.summary()"
      ],
      "execution_count": 66,
      "outputs": [
        {
          "output_type": "stream",
          "text": [
            "Model: \"sequential_4\"\n",
            "_________________________________________________________________\n",
            "Layer (type)                 Output Shape              Param #   \n",
            "=================================================================\n",
            "embedding_4 (Embedding)      (None, 39, 300)           9859500   \n",
            "_________________________________________________________________\n",
            "bidirectional (Bidirectional (None, 39, 512)           1140736   \n",
            "_________________________________________________________________\n",
            "bidirectional_1 (Bidirection (None, 39, 512)           1574912   \n",
            "_________________________________________________________________\n",
            "bidirectional_2 (Bidirection (None, 39, 512)           1574912   \n",
            "_________________________________________________________________\n",
            "time_distributed_3 (TimeDist (None, 39, 33)            16929     \n",
            "=================================================================\n",
            "Total params: 14,166,989\n",
            "Trainable params: 14,166,989\n",
            "Non-trainable params: 0\n",
            "_________________________________________________________________\n"
          ],
          "name": "stdout"
        }
      ]
    },
    {
      "cell_type": "code",
      "metadata": {
        "id": "3Tcs2pOsRck7"
      },
      "source": [
        "\n",
        "checkpoint = ModelCheckpoint('model_checkpoint.h5', monitor='val_accuracy', verbose=1, save_best_only=True, mode='max')"
      ],
      "execution_count": 67,
      "outputs": []
    },
    {
      "cell_type": "code",
      "metadata": {
        "colab": {
          "base_uri": "https://localhost:8080/"
        },
        "id": "GmgzAET4Rcr8",
        "outputId": "02c791d8-491d-489a-c790-1b9cd95774de"
      },
      "source": [
        "result = model.fit(x_train, y_train, validation_data= (x_val, y_val), epochs = 40, batch_size= 128, shuffle = True,callbacks=[checkpoint])"
      ],
      "execution_count": 68,
      "outputs": [
        {
          "output_type": "stream",
          "text": [
            "Epoch 1/40\n",
            "79/79 [==============================] - 24s 176ms/step - loss: 1.3700 - accuracy: 0.6529 - val_loss: 0.8208 - val_accuracy: 0.7608\n",
            "\n",
            "Epoch 00001: val_accuracy improved from -inf to 0.76080, saving model to model_checkpoint.h5\n",
            "Epoch 2/40\n",
            "79/79 [==============================] - 11s 145ms/step - loss: 0.7966 - accuracy: 0.7636 - val_loss: 0.6261 - val_accuracy: 0.8145\n",
            "\n",
            "Epoch 00002: val_accuracy improved from 0.76080 to 0.81449, saving model to model_checkpoint.h5\n",
            "Epoch 3/40\n",
            "79/79 [==============================] - 11s 144ms/step - loss: 0.4591 - accuracy: 0.8616 - val_loss: 0.2412 - val_accuracy: 0.9376\n",
            "\n",
            "Epoch 00003: val_accuracy improved from 0.81449 to 0.93761, saving model to model_checkpoint.h5\n",
            "Epoch 4/40\n",
            "79/79 [==============================] - 11s 145ms/step - loss: 0.1684 - accuracy: 0.9557 - val_loss: 0.1999 - val_accuracy: 0.9518\n",
            "\n",
            "Epoch 00004: val_accuracy improved from 0.93761 to 0.95176, saving model to model_checkpoint.h5\n",
            "Epoch 5/40\n",
            "79/79 [==============================] - 11s 145ms/step - loss: 0.1101 - accuracy: 0.9714 - val_loss: 0.1871 - val_accuracy: 0.9601\n",
            "\n",
            "Epoch 00005: val_accuracy improved from 0.95176 to 0.96009, saving model to model_checkpoint.h5\n",
            "Epoch 6/40\n",
            "79/79 [==============================] - 12s 146ms/step - loss: 0.0751 - accuracy: 0.9803 - val_loss: 0.1632 - val_accuracy: 0.9661\n",
            "\n",
            "Epoch 00006: val_accuracy improved from 0.96009 to 0.96614, saving model to model_checkpoint.h5\n",
            "Epoch 7/40\n",
            "79/79 [==============================] - 12s 146ms/step - loss: 0.0512 - accuracy: 0.9872 - val_loss: 0.1768 - val_accuracy: 0.9677\n",
            "\n",
            "Epoch 00007: val_accuracy improved from 0.96614 to 0.96772, saving model to model_checkpoint.h5\n",
            "Epoch 8/40\n",
            "79/79 [==============================] - 12s 146ms/step - loss: 0.0389 - accuracy: 0.9904 - val_loss: 0.1647 - val_accuracy: 0.9693\n",
            "\n",
            "Epoch 00008: val_accuracy improved from 0.96772 to 0.96931, saving model to model_checkpoint.h5\n",
            "Epoch 9/40\n",
            "79/79 [==============================] - 11s 145ms/step - loss: 0.0302 - accuracy: 0.9926 - val_loss: 0.1598 - val_accuracy: 0.9715\n",
            "\n",
            "Epoch 00009: val_accuracy improved from 0.96931 to 0.97145, saving model to model_checkpoint.h5\n",
            "Epoch 10/40\n",
            "79/79 [==============================] - 11s 145ms/step - loss: 0.0210 - accuracy: 0.9951 - val_loss: 0.1726 - val_accuracy: 0.9720\n",
            "\n",
            "Epoch 00010: val_accuracy improved from 0.97145 to 0.97203, saving model to model_checkpoint.h5\n",
            "Epoch 11/40\n",
            "79/79 [==============================] - 11s 145ms/step - loss: 0.0161 - accuracy: 0.9961 - val_loss: 0.1706 - val_accuracy: 0.9723\n",
            "\n",
            "Epoch 00011: val_accuracy improved from 0.97203 to 0.97231, saving model to model_checkpoint.h5\n",
            "Epoch 12/40\n",
            "79/79 [==============================] - 11s 145ms/step - loss: 0.0136 - accuracy: 0.9966 - val_loss: 0.1787 - val_accuracy: 0.9724\n",
            "\n",
            "Epoch 00012: val_accuracy improved from 0.97231 to 0.97239, saving model to model_checkpoint.h5\n",
            "Epoch 13/40\n",
            "79/79 [==============================] - 12s 146ms/step - loss: 0.0109 - accuracy: 0.9973 - val_loss: 0.1740 - val_accuracy: 0.9724\n",
            "\n",
            "Epoch 00013: val_accuracy did not improve from 0.97239\n",
            "Epoch 14/40\n",
            "79/79 [==============================] - 11s 145ms/step - loss: 0.0099 - accuracy: 0.9975 - val_loss: 0.1918 - val_accuracy: 0.9725\n",
            "\n",
            "Epoch 00014: val_accuracy improved from 0.97239 to 0.97250, saving model to model_checkpoint.h5\n",
            "Epoch 15/40\n",
            "79/79 [==============================] - 12s 146ms/step - loss: 0.0080 - accuracy: 0.9982 - val_loss: 0.1893 - val_accuracy: 0.9721\n",
            "\n",
            "Epoch 00015: val_accuracy did not improve from 0.97250\n",
            "Epoch 16/40\n",
            "79/79 [==============================] - 12s 146ms/step - loss: 0.0067 - accuracy: 0.9985 - val_loss: 0.2085 - val_accuracy: 0.9725\n",
            "\n",
            "Epoch 00016: val_accuracy did not improve from 0.97250\n",
            "Epoch 17/40\n",
            "79/79 [==============================] - 11s 145ms/step - loss: 0.0065 - accuracy: 0.9985 - val_loss: 0.2031 - val_accuracy: 0.9722\n",
            "\n",
            "Epoch 00017: val_accuracy did not improve from 0.97250\n",
            "Epoch 18/40\n",
            "79/79 [==============================] - 11s 145ms/step - loss: 0.0050 - accuracy: 0.9988 - val_loss: 0.2114 - val_accuracy: 0.9718\n",
            "\n",
            "Epoch 00018: val_accuracy did not improve from 0.97250\n",
            "Epoch 19/40\n",
            "79/79 [==============================] - 11s 144ms/step - loss: 0.0056 - accuracy: 0.9987 - val_loss: 0.2232 - val_accuracy: 0.9723\n",
            "\n",
            "Epoch 00019: val_accuracy did not improve from 0.97250\n",
            "Epoch 20/40\n",
            "79/79 [==============================] - 11s 145ms/step - loss: 0.0048 - accuracy: 0.9989 - val_loss: 0.2146 - val_accuracy: 0.9718\n",
            "\n",
            "Epoch 00020: val_accuracy did not improve from 0.97250\n",
            "Epoch 21/40\n",
            "79/79 [==============================] - 11s 145ms/step - loss: 0.0040 - accuracy: 0.9991 - val_loss: 0.2263 - val_accuracy: 0.9721\n",
            "\n",
            "Epoch 00021: val_accuracy did not improve from 0.97250\n",
            "Epoch 22/40\n",
            "79/79 [==============================] - 12s 146ms/step - loss: 0.0050 - accuracy: 0.9988 - val_loss: 0.2378 - val_accuracy: 0.9720\n",
            "\n",
            "Epoch 00022: val_accuracy did not improve from 0.97250\n",
            "Epoch 23/40\n",
            "79/79 [==============================] - 12s 146ms/step - loss: 0.0040 - accuracy: 0.9991 - val_loss: 0.2300 - val_accuracy: 0.9722\n",
            "\n",
            "Epoch 00023: val_accuracy did not improve from 0.97250\n",
            "Epoch 24/40\n",
            "79/79 [==============================] - 11s 145ms/step - loss: 0.0031 - accuracy: 0.9994 - val_loss: 0.2267 - val_accuracy: 0.9723\n",
            "\n",
            "Epoch 00024: val_accuracy did not improve from 0.97250\n",
            "Epoch 25/40\n",
            "79/79 [==============================] - 11s 145ms/step - loss: 0.0043 - accuracy: 0.9990 - val_loss: 0.2247 - val_accuracy: 0.9716\n",
            "\n",
            "Epoch 00025: val_accuracy did not improve from 0.97250\n",
            "Epoch 26/40\n",
            "79/79 [==============================] - 11s 146ms/step - loss: 0.0032 - accuracy: 0.9993 - val_loss: 0.2265 - val_accuracy: 0.9725\n",
            "\n",
            "Epoch 00026: val_accuracy improved from 0.97250 to 0.97251, saving model to model_checkpoint.h5\n",
            "Epoch 27/40\n",
            "79/79 [==============================] - 11s 145ms/step - loss: 0.0027 - accuracy: 0.9995 - val_loss: 0.2386 - val_accuracy: 0.9723\n",
            "\n",
            "Epoch 00027: val_accuracy did not improve from 0.97251\n",
            "Epoch 28/40\n",
            "79/79 [==============================] - 11s 145ms/step - loss: 0.0022 - accuracy: 0.9996 - val_loss: 0.2424 - val_accuracy: 0.9725\n",
            "\n",
            "Epoch 00028: val_accuracy improved from 0.97251 to 0.97253, saving model to model_checkpoint.h5\n",
            "Epoch 29/40\n",
            "79/79 [==============================] - 12s 146ms/step - loss: 0.0019 - accuracy: 0.9996 - val_loss: 0.2370 - val_accuracy: 0.9728\n",
            "\n",
            "Epoch 00029: val_accuracy improved from 0.97253 to 0.97275, saving model to model_checkpoint.h5\n",
            "Epoch 30/40\n",
            "79/79 [==============================] - 12s 146ms/step - loss: 0.0016 - accuracy: 0.9997 - val_loss: 0.2531 - val_accuracy: 0.9721\n",
            "\n",
            "Epoch 00030: val_accuracy did not improve from 0.97275\n",
            "Epoch 31/40\n",
            "79/79 [==============================] - 11s 144ms/step - loss: 0.0014 - accuracy: 0.9998 - val_loss: 0.2478 - val_accuracy: 0.9726\n",
            "\n",
            "Epoch 00031: val_accuracy did not improve from 0.97275\n",
            "Epoch 32/40\n",
            "79/79 [==============================] - 11s 144ms/step - loss: 0.0011 - accuracy: 0.9999 - val_loss: 0.2416 - val_accuracy: 0.9720\n",
            "\n",
            "Epoch 00032: val_accuracy did not improve from 0.97275\n",
            "Epoch 33/40\n",
            "79/79 [==============================] - 11s 145ms/step - loss: 0.0010 - accuracy: 0.9998 - val_loss: 0.2430 - val_accuracy: 0.9719\n",
            "\n",
            "Epoch 00033: val_accuracy did not improve from 0.97275\n",
            "Epoch 34/40\n",
            "79/79 [==============================] - 11s 144ms/step - loss: 0.0013 - accuracy: 0.9998 - val_loss: 0.2429 - val_accuracy: 0.9721\n",
            "\n",
            "Epoch 00034: val_accuracy did not improve from 0.97275\n",
            "Epoch 35/40\n",
            "79/79 [==============================] - 12s 146ms/step - loss: 0.0013 - accuracy: 0.9997 - val_loss: 0.2403 - val_accuracy: 0.9721\n",
            "\n",
            "Epoch 00035: val_accuracy did not improve from 0.97275\n",
            "Epoch 36/40\n",
            "79/79 [==============================] - 11s 146ms/step - loss: 0.0018 - accuracy: 0.9996 - val_loss: 0.2429 - val_accuracy: 0.9699\n",
            "\n",
            "Epoch 00036: val_accuracy did not improve from 0.97275\n",
            "Epoch 37/40\n",
            "79/79 [==============================] - 12s 146ms/step - loss: 0.0046 - accuracy: 0.9989 - val_loss: 0.2432 - val_accuracy: 0.9722\n",
            "\n",
            "Epoch 00037: val_accuracy did not improve from 0.97275\n",
            "Epoch 38/40\n",
            "79/79 [==============================] - 11s 146ms/step - loss: 0.0036 - accuracy: 0.9991 - val_loss: 0.2391 - val_accuracy: 0.9721\n",
            "\n",
            "Epoch 00038: val_accuracy did not improve from 0.97275\n",
            "Epoch 39/40\n",
            "79/79 [==============================] - 11s 145ms/step - loss: 0.0029 - accuracy: 0.9994 - val_loss: 0.2465 - val_accuracy: 0.9720\n",
            "\n",
            "Epoch 00039: val_accuracy did not improve from 0.97275\n",
            "Epoch 40/40\n",
            "79/79 [==============================] - 11s 144ms/step - loss: 0.0021 - accuracy: 0.9995 - val_loss: 0.2542 - val_accuracy: 0.9725\n",
            "\n",
            "Epoch 00040: val_accuracy did not improve from 0.97275\n"
          ],
          "name": "stdout"
        }
      ]
    },
    {
      "cell_type": "code",
      "metadata": {
        "colab": {
          "base_uri": "https://localhost:8080/",
          "height": 573
        },
        "id": "dw_n3FwJwM1x",
        "outputId": "d702fc2c-6852-47f1-807d-e5e980618860"
      },
      "source": [
        "#Plot Accuracy\n",
        "plt.plot(result.history['accuracy'])\n",
        "plt.plot(result.history['val_accuracy'])\n",
        "plt.title('model accuracy')\n",
        "plt.ylabel('accuracy')\n",
        "plt.xlabel('epoch')\n",
        "plt.legend(['train','val'],loc='upper left')\n",
        "plt.show()\n",
        "\n",
        "#Plot Loss\n",
        "plt.plot(result.history['loss'])\n",
        "plt.plot(result.history['val_loss'])\n",
        "plt.title('model loss')\n",
        "plt.ylabel('loss')\n",
        "plt.xlabel('epoch')\n",
        "plt.legend(['train','val'],loc='upper right')\n",
        "plt.show()"
      ],
      "execution_count": 69,
      "outputs": [
        {
          "output_type": "display_data",
          "data": {
            "image/png": "[encoded data removed]",
            "text/plain": [
              "<Figure size 432x288 with 1 Axes>"
            ]
          },
          "metadata": {
            "tags": [],
            "needs_background": "light"
          }
        },
        {
          "output_type": "display_data",
          "data": {
            "image/png": "[encoded data removed]",
            "text/plain": [
              "<Figure size 432x288 with 1 Axes>"
            ]
          },
          "metadata": {
            "tags": [],
            "needs_background": "light"
          }
        }
      ]
    },
    {
      "cell_type": "code",
      "metadata": {
        "id": "Jtw8YJV4sUJd"
      },
      "source": [
        "model.load_weights('model_checkpoint.h5')"
      ],
      "execution_count": 70,
      "outputs": []
    },
    {
      "cell_type": "code",
      "metadata": {
        "colab": {
          "base_uri": "https://localhost:8080/"
        },
        "id": "WnsfY1WvwMMo",
        "outputId": "55a00e43-f840-41a8-fc4b-59c52bc4e3de"
      },
      "source": [
        "loss, accuracy = model.evaluate(x_test, y_test, verbose = 1)\n",
        "print(\"Loss: {0},\\nAccuracy: {1}\".format(loss, accuracy))"
      ],
      "execution_count": 71,
      "outputs": [
        {
          "output_type": "stream",
          "text": [
            "45/45 [==============================] - 0s 10ms/step - loss: 0.2352 - accuracy: 0.9726\n",
            "Loss: 0.23515602946281433,\n",
            "Accuracy: 0.9725825786590576\n"
          ],
          "name": "stdout"
        }
      ]
    },
    {
      "cell_type": "code",
      "metadata": {
        "id": "07EV5yOW1u0a"
      },
      "source": [
        "def pos_tagger(sent):\n",
        "    words = sent.split()\n",
        "    words = [x_tokenizer.texts_to_sequences(words)]\n",
        "    words = pad_sequences(words, maxlen=MAX_SEQUENCE_LENGTH, padding=\"post\", truncating=\"post\")\n",
        "    words = np.squeeze(words,axis=-1)\n",
        "    tags = np.squeeze(model.predict(words).argmax(-1))\n",
        "    tags = [y_tokenizer.index_word[tag] for tag in tags if tag != 0]\n",
        "    return tags"
      ],
      "execution_count": 72,
      "outputs": []
    },
    {
      "cell_type": "code",
      "metadata": {
        "colab": {
          "base_uri": "https://localhost:8080/"
        },
        "id": "_G-kDFWBCirU",
        "outputId": "6f9b8202-f52b-4f6d-bedb-84315f3e69ae"
      },
      "source": [
        "sentence = \"جون يحب البيت الأزرق في نهاية الشارع\"\n",
        "output = pos_tagger(sentence)\n",
        "pred_tags = [(sentence.split()[i],output[i]) for i in range(len(sentence.split()))]\n",
        "for w,t in pred_tags:\n",
        "    print(w,t)"
      ],
      "execution_count": 73,
      "outputs": [
        {
          "output_type": "stream",
          "text": [
            "جون propernoun\n",
            "يحب noun\n",
            "البيت noun\n",
            "الأزرق noun\n",
            "في preposition\n",
            "نهاية noun\n",
            "الشارع noun\n"
          ],
          "name": "stdout"
        }
      ]
    },
    {
      "cell_type": "code",
      "metadata": {
        "colab": {
          "base_uri": "https://localhost:8080/"
        },
        "id": "Jqgofo3E8u5y",
        "outputId": "fc272ba7-0a47-4432-ed05-4a44f00e833e"
      },
      "source": [
        "Y_test_plot = y_test.argmax(-1)\n",
        "pred = np.squeeze(model.predict(x_test).argmax(-1))\n",
        "print(Y_test_plot.shape)\n",
        "print(pred.shape)"
      ],
      "execution_count": 74,
      "outputs": [
        {
          "output_type": "stream",
          "text": [
            "(1429, 39)\n",
            "(1429, 39)\n"
          ],
          "name": "stdout"
        }
      ]
    },
    {
      "cell_type": "code",
      "metadata": {
        "id": "Nx852CsGk71q"
      },
      "source": [
        ""
      ],
      "execution_count": 54,
      "outputs": []
    }
  ]
}