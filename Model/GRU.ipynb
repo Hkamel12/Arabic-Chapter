{
  "nbformat": 4,
  "nbformat_minor": 0,
  "metadata": {
    "colab": {
      "name": "GRU.ipynb",
      "provenance": [],
      "collapsed_sections": []
    },
    "kernelspec": {
      "name": "python3",
      "display_name": "Python 3"
    },
    "language_info": {
      "name": "python"
    },
    "accelerator": "GPU"
  },
  "cells": [
    {
      "cell_type": "code",
      "metadata": {
        "colab": {
          "base_uri": "https://localhost:8080/"
        },
        "id": "Oqg9iLirIbE9",
        "outputId": "6edad736-4210-4eea-e79c-68bf96ee0266"
      },
      "source": [
        "!pip install pyconll"
      ],
      "execution_count": 1,
      "outputs": [
        {
          "output_type": "stream",
          "text": [
            "Collecting pyconll\n",
            "  Downloading https://files.pythonhosted.org/packages/0a/4c/edf12b4b211f8a0f7f85a52ed4b50cd453ac96e9b751427e0296eb7ae42a/pyconll-3.1.0-py3-none-any.whl\n",
            "Installing collected packages: pyconll\n",
            "Successfully installed pyconll-3.1.0\n"
          ],
          "name": "stdout"
        }
      ]
    },
    {
      "cell_type": "code",
      "metadata": {
        "colab": {
          "base_uri": "https://localhost:8080/"
        },
        "id": "9uCxlmuoO2yl",
        "outputId": "ac19f37a-2c69-4728-feea-0776910aa6f2"
      },
      "source": [
        "!wget https://bakrianoo.ewr1.vultrobjects.com/aravec/full_grams_cbow_300_twitter.zip\n",
        "!unzip full_grams_cbow_300_twitter.zip"
      ],
      "execution_count": 2,
      "outputs": [
        {
          "output_type": "stream",
          "text": [
            "--2021-06-06 16:27:00--  https://bakrianoo.ewr1.vultrobjects.com/aravec/full_grams_cbow_300_twitter.zip\n",
            "Resolving bakrianoo.ewr1.vultrobjects.com (bakrianoo.ewr1.vultrobjects.com)... 108.61.0.122, 2001:19f0:0:22::100\n",
            "Connecting to bakrianoo.ewr1.vultrobjects.com (bakrianoo.ewr1.vultrobjects.com)|108.61.0.122|:443... connected.\n",
            "HTTP request sent, awaiting response... 200 OK\n",
            "Length: 3325529808 (3.1G) [application/zip]\n",
            "Saving to: ‘full_grams_cbow_300_twitter.zip’\n",
            "\n",
            "full_grams_cbow_300 100%[===================>]   3.10G  11.1MB/s    in 6m 47s  \n",
            "\n",
            "2021-06-06 16:33:49 (7.79 MB/s) - ‘full_grams_cbow_300_twitter.zip’ saved [3325529808/3325529808]\n",
            "\n",
            "Archive:  full_grams_cbow_300_twitter.zip\n",
            "  inflating: full_grams_cbow_300_twitter.mdl  \n",
            "  inflating: full_grams_cbow_300_twitter.mdl.trainables.syn1neg.npy  \n",
            "  inflating: full_grams_cbow_300_twitter.mdl.wv.vectors.npy  \n"
          ],
          "name": "stdout"
        }
      ]
    },
    {
      "cell_type": "code",
      "metadata": {
        "colab": {
          "base_uri": "https://localhost:8080/"
        },
        "id": "Mq4qZgxTIc8K",
        "outputId": "a136f0e8-7665-41c2-cc2d-3f1f78f12b59"
      },
      "source": [
        "!git clone https://github.com/UniversalDependencies/UD_Arabic-PADT"
      ],
      "execution_count": 3,
      "outputs": [
        {
          "output_type": "stream",
          "text": [
            "Cloning into 'UD_Arabic-PADT'...\n",
            "remote: Enumerating objects: 595, done.\u001b[K\n",
            "remote: Counting objects: 100% (35/35), done.\u001b[K\n",
            "remote: Compressing objects: 100% (26/26), done.\u001b[K\n",
            "remote: Total 595 (delta 19), reused 24 (delta 9), pack-reused 560\u001b[K\n",
            "Receiving objects: 100% (595/595), 121.10 MiB | 21.05 MiB/s, done.\n",
            "Resolving deltas: 100% (428/428), done.\n"
          ],
          "name": "stdout"
        }
      ]
    },
    {
      "cell_type": "code",
      "metadata": {
        "id": "L_acU-slo0lH"
      },
      "source": [
        "import numpy as np\n",
        "import pyconll\n",
        "from matplotlib import pyplot as plt\n",
        "import seaborn as sns\n",
        "from keras.preprocessing.sequence import pad_sequences\n",
        "from keras.utils.np_utils import to_categorical\n",
        "from keras.models import Sequential\n",
        "from keras.layers import *\n",
        "from keras.optimizers import Adam,SGD\n",
        "from keras.models import Model\n",
        "from keras.preprocessing.text import Tokenizer\n",
        "from keras.callbacks import ModelCheckpoint, EarlyStopping, Callback, TensorBoard\n",
        "from sklearn.metrics import recall_score, precision_score, classification_report, accuracy_score, confusion_matrix, f1_score\n",
        "from sklearn.model_selection import train_test_split\n",
        "from sklearn.utils import shuffle\n",
        "from tqdm import tqdm\n",
        "from sklearn.metrics import confusion_matrix\n",
        "from mlxtend.plotting import plot_confusion_matrix\n",
        "import gensim\n",
        "import re\n",
        "from nltk import ngrams"
      ],
      "execution_count": 4,
      "outputs": []
    },
    {
      "cell_type": "code",
      "metadata": {
        "id": "sWPEXnPlIc1c"
      },
      "source": [
        "UD_Arabic_TRAIN = '/content/UD_Arabic-PADT/ar_padt-ud-train.conllu'\n",
        "UD_Arabic_DEV = '/content/UD_Arabic-PADT/ar_padt-ud-dev.conllu'\n",
        "UD_Arabic_TEST = '/content/UD_Arabic-PADT/ar_padt-ud-test.conllu'"
      ],
      "execution_count": 5,
      "outputs": []
    },
    {
      "cell_type": "code",
      "metadata": {
        "id": "7xkPWT6ZIc4C"
      },
      "source": [
        "def read_conllu(path):\n",
        "    data = pyconll.load_from_file(path)\n",
        "    tagged_sentences=[]\n",
        "    t=0\n",
        "    for sentence in data:\n",
        "        tagged_sentence=[]\n",
        "        for token in sentence:\n",
        "            if token.upos and token.form:\n",
        "                t+=1\n",
        "                tagged_sentence.append((token.form.lower(), token.upos))\n",
        "        tagged_sentences.append(tagged_sentence)\n",
        "    return tagged_sentences"
      ],
      "execution_count": 6,
      "outputs": []
    },
    {
      "cell_type": "code",
      "metadata": {
        "id": "n0POD1ZRIc52"
      },
      "source": [
        "train_sentences = read_conllu(UD_Arabic_TRAIN)\n",
        "val_sentences = read_conllu(UD_Arabic_DEV)\n",
        "test_sentences = read_conllu(UD_Arabic_TEST)"
      ],
      "execution_count": 7,
      "outputs": []
    },
    {
      "cell_type": "code",
      "metadata": {
        "colab": {
          "base_uri": "https://localhost:8080/"
        },
        "id": "_JuHIk4eIc-b",
        "outputId": "e23580f7-7f77-4fc4-a252-692d7cb018a0"
      },
      "source": [
        "print(\"Tagged sentences in train set: \", len(train_sentences))\n",
        "print(\"Tagged words in train set:\", len([item for sublist in train_sentences for item in sublist]))\n",
        "print(40*'=')\n",
        "print(\"Tagged sentences in dev set: \", len(val_sentences))\n",
        "print(\"Tagged words in dev set:\", len([item for sublist in val_sentences for item in sublist]))\n",
        "print(40*'=')\n",
        "print(\"Tagged sentences in test set: \", len(test_sentences))\n",
        "print(\"Tagged words in test set:\", len([item for sublist in test_sentences for item in sublist]))\n",
        "print(40*'*')\n",
        "print(\"Total sentences in dataset:\", len(train_sentences)+len(val_sentences)+len(test_sentences))"
      ],
      "execution_count": 8,
      "outputs": [
        {
          "output_type": "stream",
          "text": [
            "Tagged sentences in train set:  6075\n",
            "Tagged words in train set: 223881\n",
            "========================================\n",
            "Tagged sentences in dev set:  909\n",
            "Tagged words in dev set: 30239\n",
            "========================================\n",
            "Tagged sentences in test set:  680\n",
            "Tagged words in test set: 28264\n",
            "****************************************\n",
            "Total sentences in dataset: 7664\n"
          ],
          "name": "stdout"
        }
      ]
    },
    {
      "cell_type": "code",
      "metadata": {
        "colab": {
          "base_uri": "https://localhost:8080/"
        },
        "id": "si1IJe-fIdAa",
        "outputId": "95488c98-df2f-49de-cde6-881b97f80093"
      },
      "source": [
        "print(train_sentences[0])"
      ],
      "execution_count": 9,
      "outputs": [
        {
          "output_type": "stream",
          "text": [
            "[('برلين', 'X'), ('ترفض', 'VERB'), ('حصول', 'NOUN'), ('شركة', 'NOUN'), ('اميركية', 'ADJ'), ('على', 'ADP'), ('رخصة', 'NOUN'), ('تصنيع', 'NOUN'), ('دبابة', 'NOUN'), ('\"', 'PUNCT'), ('ليوبارد', 'X'), ('\"', 'PUNCT'), ('الالمانية', 'ADJ')]\n"
          ],
          "name": "stdout"
        }
      ]
    },
    {
      "cell_type": "code",
      "metadata": {
        "id": "FMBowfQ5IdCR"
      },
      "source": [
        "def tag_sequence(sentences):\n",
        "    return [[tag for word, tag in sentence] for sentence in sentences]\n",
        "\n",
        "def text_sequence(sentences):\n",
        "    return [[word for word, tag in sentence] for sentence in sentences]"
      ],
      "execution_count": 10,
      "outputs": []
    },
    {
      "cell_type": "code",
      "metadata": {
        "colab": {
          "base_uri": "https://localhost:8080/"
        },
        "id": "O0p64n5lIdEe",
        "outputId": "b3c0a8f9-4eb4-490a-a9f3-86a00bd9d7a2"
      },
      "source": [
        "tags = set([item for sublist in train_sentences+test_sentences+val_sentences for _, item in sublist])\n",
        "print('TOTAL TAGS: ', len(tags))"
      ],
      "execution_count": 11,
      "outputs": [
        {
          "output_type": "stream",
          "text": [
            "TOTAL TAGS:  17\n"
          ],
          "name": "stdout"
        }
      ]
    },
    {
      "cell_type": "code",
      "metadata": {
        "colab": {
          "base_uri": "https://localhost:8080/",
          "height": 265
        },
        "id": "zCOsp2E7IdQ-",
        "outputId": "2dbe3964-ac58-4af3-c689-b5d0f9f84b60"
      },
      "source": [
        "import matplotlib.pyplot as plt\n",
        "plt.style.use(\"ggplot\")\n",
        "plt.hist([len(s) for s in train_sentences], bins=50)\n",
        "plt.show()"
      ],
      "execution_count": 12,
      "outputs": [
        {
          "output_type": "display_data",
          "data": {
            "image/png": "[encoded data removed]",
            "text/plain": [
              "<Figure size 432x288 with 1 Axes>"
            ]
          },
          "metadata": {
            "tags": []
          }
        }
      ]
    },
    {
      "cell_type": "code",
      "metadata": {
        "colab": {
          "base_uri": "https://localhost:8080/"
        },
        "id": "6Aubzdo4IdVQ",
        "outputId": "cff156d8-9790-4b54-f1f8-48fda55f5b8b"
      },
      "source": [
        "print('Max sentence length:',len(max(train_sentences+val_sentences, key=len)))"
      ],
      "execution_count": 13,
      "outputs": [
        {
          "output_type": "stream",
          "text": [
            "Max sentence length: 398\n"
          ],
          "name": "stdout"
        }
      ]
    },
    {
      "cell_type": "markdown",
      "metadata": {
        "id": "kytZ_hphRWBO"
      },
      "source": [
        "\n",
        "To avoid truncating sequences during padding we split our sentences to MAX_SEQUENCE_LENGTH. For example, if MAX_SEQUENCE_LENGTH=70, a sentence with length 150 splits in 3 sentences: 150=70+70+10"
      ]
    },
    {
      "cell_type": "code",
      "metadata": {
        "id": "vyanTbJ4RD-8"
      },
      "source": [
        "def  split(sentences, max):\n",
        "    new=[]\n",
        "    for data in sentences:\n",
        "        new.append(([data[x:x+max] for x in range(0, len(data), max)]))\n",
        "    new = [val for sublist in new for val in sublist]\n",
        "    return new"
      ],
      "execution_count": 14,
      "outputs": []
    },
    {
      "cell_type": "code",
      "metadata": {
        "id": "EZIjW5QFRECk"
      },
      "source": [
        "MAX_SEQUENCE_LENGTH = 70\n",
        "\n",
        "train_sentences = split(train_sentences, MAX_SEQUENCE_LENGTH)\n",
        "val_sentences = split(val_sentences, MAX_SEQUENCE_LENGTH)\n",
        "test_sentences = split(test_sentences, MAX_SEQUENCE_LENGTH)"
      ],
      "execution_count": 15,
      "outputs": []
    },
    {
      "cell_type": "code",
      "metadata": {
        "colab": {
          "base_uri": "https://localhost:8080/"
        },
        "id": "cWRLW4nU-g0E",
        "outputId": "bb5bba60-94c6-489b-a2e3-c379c4536627"
      },
      "source": [
        "train_sentences[0]"
      ],
      "execution_count": 16,
      "outputs": [
        {
          "output_type": "execute_result",
          "data": {
            "text/plain": [
              "[('برلين', 'X'),\n",
              " ('ترفض', 'VERB'),\n",
              " ('حصول', 'NOUN'),\n",
              " ('شركة', 'NOUN'),\n",
              " ('اميركية', 'ADJ'),\n",
              " ('على', 'ADP'),\n",
              " ('رخصة', 'NOUN'),\n",
              " ('تصنيع', 'NOUN'),\n",
              " ('دبابة', 'NOUN'),\n",
              " ('\"', 'PUNCT'),\n",
              " ('ليوبارد', 'X'),\n",
              " ('\"', 'PUNCT'),\n",
              " ('الالمانية', 'ADJ')]"
            ]
          },
          "metadata": {
            "tags": []
          },
          "execution_count": 16
        }
      ]
    },
    {
      "cell_type": "code",
      "metadata": {
        "id": "tewOCi-sREGW"
      },
      "source": [
        "train_sentences = train_sentences + val_sentences + test_sentences"
      ],
      "execution_count": 17,
      "outputs": []
    },
    {
      "cell_type": "code",
      "metadata": {
        "id": "jbN7HjzfRcXl"
      },
      "source": [
        "train_text = text_sequence(train_sentences)\n",
        "train_tags = tag_sequence(train_sentences)"
      ],
      "execution_count": 18,
      "outputs": []
    },
    {
      "cell_type": "code",
      "metadata": {
        "colab": {
          "base_uri": "https://localhost:8080/"
        },
        "id": "4az4CekpSE7T",
        "outputId": "3fdcab79-031e-4a01-fe1c-08eef30e8103"
      },
      "source": [
        "len(train_text)"
      ],
      "execution_count": 19,
      "outputs": [
        {
          "output_type": "execute_result",
          "data": {
            "text/plain": [
              "8472"
            ]
          },
          "metadata": {
            "tags": []
          },
          "execution_count": 19
        }
      ]
    },
    {
      "cell_type": "code",
      "metadata": {
        "colab": {
          "base_uri": "https://localhost:8080/"
        },
        "id": "O9BJG49ARca8",
        "outputId": "69956b2c-5bf3-426b-d7b5-8ac650b6d156"
      },
      "source": [
        "train_text[0], train_tags[0]"
      ],
      "execution_count": 20,
      "outputs": [
        {
          "output_type": "execute_result",
          "data": {
            "text/plain": [
              "(['برلين',\n",
              "  'ترفض',\n",
              "  'حصول',\n",
              "  'شركة',\n",
              "  'اميركية',\n",
              "  'على',\n",
              "  'رخصة',\n",
              "  'تصنيع',\n",
              "  'دبابة',\n",
              "  '\"',\n",
              "  'ليوبارد',\n",
              "  '\"',\n",
              "  'الالمانية'],\n",
              " ['X',\n",
              "  'VERB',\n",
              "  'NOUN',\n",
              "  'NOUN',\n",
              "  'ADJ',\n",
              "  'ADP',\n",
              "  'NOUN',\n",
              "  'NOUN',\n",
              "  'NOUN',\n",
              "  'PUNCT',\n",
              "  'X',\n",
              "  'PUNCT',\n",
              "  'ADJ'])"
            ]
          },
          "metadata": {
            "tags": []
          },
          "execution_count": 20
        }
      ]
    },
    {
      "cell_type": "code",
      "metadata": {
        "id": "rbLb461yELYh"
      },
      "source": [
        "embedding_dim = 300\n",
        "MAX_SEQUENCE_LENGTH = 70\n",
        "trunc_type='post'\n",
        "padding_type='post'\n",
        "oov_tok = \"<OOV>\""
      ],
      "execution_count": 21,
      "outputs": []
    },
    {
      "cell_type": "code",
      "metadata": {
        "id": "qmkAHDFOqJft"
      },
      "source": [
        "word_tokenizer = Tokenizer(oov_token = oov_tok)                    \n",
        "word_tokenizer.fit_on_texts(train_text)  \n",
        "VOCABULARY_SIZE = len(word_tokenizer.word_index) + 1                  \n",
        "X_encoded_train = word_tokenizer.texts_to_sequences(train_text)  "
      ],
      "execution_count": 22,
      "outputs": []
    },
    {
      "cell_type": "code",
      "metadata": {
        "id": "69y_8192qN9N"
      },
      "source": [
        "tag_tokenizer = Tokenizer()\n",
        "tag_tokenizer.fit_on_texts(train_tags)\n",
        "Y_encoded_train = tag_tokenizer.texts_to_sequences(train_tags)"
      ],
      "execution_count": 23,
      "outputs": []
    },
    {
      "cell_type": "code",
      "metadata": {
        "colab": {
          "base_uri": "https://localhost:8080/"
        },
        "id": "VdWK0b6-qrMD",
        "outputId": "f4e22f09-c7dd-479b-aa6e-22321a5f49dd"
      },
      "source": [
        "print(\"** Raw data point **\", \"\\n\", \"-\"*100, \"\\n\")\n",
        "print('X: ', train_text[0], '\\n')\n",
        "print('Y: ', train_tags[0], '\\n')\n",
        "print()\n",
        "print(\"** Encoded data point **\", \"\\n\", \"-\"*100, \"\\n\")\n",
        "print('X: ', X_encoded_train[0], '\\n')\n",
        "print('Y: ', Y_encoded_train[0], '\\n')"
      ],
      "execution_count": 24,
      "outputs": [
        {
          "output_type": "stream",
          "text": [
            "** Raw data point ** \n",
            " ---------------------------------------------------------------------------------------------------- \n",
            "\n",
            "X:  ['برلين', 'ترفض', 'حصول', 'شركة', 'اميركية', 'على', 'رخصة', 'تصنيع', 'دبابة', '\"', 'ليوبارد', '\"', 'الالمانية'] \n",
            "\n",
            "Y:  ['X', 'VERB', 'NOUN', 'NOUN', 'ADJ', 'ADP', 'NOUN', 'NOUN', 'NOUN', 'PUNCT', 'X', 'PUNCT', 'ADJ'] \n",
            "\n",
            "\n",
            "** Encoded data point ** \n",
            " ---------------------------------------------------------------------------------------------------- \n",
            "\n",
            "X:  [3936, 2492, 971, 89, 2082, 12, 3937, 1966, 3582, 10, 4888, 10, 1967] \n",
            "\n",
            "Y:  [7, 5, 1, 1, 3, 2, 1, 1, 1, 4, 7, 4, 3] \n",
            "\n"
          ],
          "name": "stdout"
        }
      ]
    },
    {
      "cell_type": "code",
      "metadata": {
        "id": "azqGdC_cRcc-"
      },
      "source": [
        "X_padded_train = pad_sequences(X_encoded_train, maxlen=MAX_SEQUENCE_LENGTH, padding=padding_type, truncating=trunc_type)\n",
        "Y_padded_train = pad_sequences(Y_encoded_train, maxlen=MAX_SEQUENCE_LENGTH, padding=padding_type, truncating=trunc_type)\n",
        "\n",
        "X_train = X_padded_train\n",
        "Y_train = Y_padded_train"
      ],
      "execution_count": 25,
      "outputs": []
    },
    {
      "cell_type": "code",
      "metadata": {
        "colab": {
          "base_uri": "https://localhost:8080/"
        },
        "id": "bOdI_PzJQBqn",
        "outputId": "2c2ae954-d0df-4ba4-a0e9-69f75c0b9b37"
      },
      "source": [
        "X_train.shape"
      ],
      "execution_count": 26,
      "outputs": [
        {
          "output_type": "execute_result",
          "data": {
            "text/plain": [
              "(8472, 70)"
            ]
          },
          "metadata": {
            "tags": []
          },
          "execution_count": 26
        }
      ]
    },
    {
      "cell_type": "code",
      "metadata": {
        "id": "-K1FzGPTjKO6"
      },
      "source": [
        "Y_train = to_categorical(Y_train)"
      ],
      "execution_count": 27,
      "outputs": []
    },
    {
      "cell_type": "code",
      "metadata": {
        "colab": {
          "base_uri": "https://localhost:8080/"
        },
        "id": "vo25MnnvjUvf",
        "outputId": "f396d3f8-73e1-486e-eede-1ce9961461a1"
      },
      "source": [
        "Y_train.shape"
      ],
      "execution_count": 28,
      "outputs": [
        {
          "output_type": "execute_result",
          "data": {
            "text/plain": [
              "(8472, 70, 18)"
            ]
          },
          "metadata": {
            "tags": []
          },
          "execution_count": 28
        }
      ]
    },
    {
      "cell_type": "code",
      "metadata": {
        "id": "yDV_UcNAQKH-"
      },
      "source": [
        "arvec_embedding = gensim.models.Word2Vec.load('full_grams_cbow_300_twitter.mdl')"
      ],
      "execution_count": 29,
      "outputs": []
    },
    {
      "cell_type": "code",
      "metadata": {
        "id": "2PKg62S6QKK1"
      },
      "source": [
        "embeddings_index = {}\n",
        "for word,vector in zip(arvec_embedding.wv.vocab,arvec_embedding.wv.vectors):\n",
        "    coefs = np.asarray(vector, dtype='float32')\n",
        "    embeddings_index[word] = coefs"
      ],
      "execution_count": 30,
      "outputs": []
    },
    {
      "cell_type": "code",
      "metadata": {
        "id": "6uYwgIpJQKSv"
      },
      "source": [
        "embeddings_matrix = np.zeros((VOCABULARY_SIZE, embedding_dim))\n",
        "for word, i in word_tokenizer.word_index.items():\n",
        "    embedding_vector = embeddings_index.get(word)\n",
        "    if embedding_vector is not None:\n",
        "        embeddings_matrix[i] = embedding_vector"
      ],
      "execution_count": 31,
      "outputs": []
    },
    {
      "cell_type": "code",
      "metadata": {
        "id": "DrKZ6hmtzpjx"
      },
      "source": [
        "X_train, X_test, Y_train, Y_test = train_test_split(X_train, Y_train, test_size=0.15, random_state=41)"
      ],
      "execution_count": 32,
      "outputs": []
    },
    {
      "cell_type": "code",
      "metadata": {
        "id": "PvyT_NfKRchx"
      },
      "source": [
        "X_train, X_valid , Y_train, Y_valid = train_test_split(X_train, Y_train, test_size = 0.15, random_state = 41)"
      ],
      "execution_count": 33,
      "outputs": []
    },
    {
      "cell_type": "code",
      "metadata": {
        "colab": {
          "base_uri": "https://localhost:8080/"
        },
        "id": "65pwIqTmkErB",
        "outputId": "b4b04ddd-23d4-40d7-9f18-c2bf56a1eb0e"
      },
      "source": [
        "# print number of samples in each set\n",
        "print(\"TRAINING DATA\")\n",
        "print('Shape of input sequences: {}'.format(X_train.shape))\n",
        "print('Shape of output sequences: {}'.format(Y_train.shape))\n",
        "print(\"-\"*50)\n",
        "print(\"VALIDATION DATA\")\n",
        "print('Shape of input sequences: {}'.format(X_valid.shape))\n",
        "print('Shape of output sequences: {}'.format(Y_valid.shape))\n",
        "print(\"-\"*50)\n",
        "print(\"TESTING DATA\")\n",
        "print('Shape of input sequences: {}'.format(X_test.shape))\n",
        "print('Shape of output sequences: {}'.format(Y_test.shape))"
      ],
      "execution_count": 34,
      "outputs": [
        {
          "output_type": "stream",
          "text": [
            "TRAINING DATA\n",
            "Shape of input sequences: (6120, 70)\n",
            "Shape of output sequences: (6120, 70, 18)\n",
            "--------------------------------------------------\n",
            "VALIDATION DATA\n",
            "Shape of input sequences: (1081, 70)\n",
            "Shape of output sequences: (1081, 70, 18)\n",
            "--------------------------------------------------\n",
            "TESTING DATA\n",
            "Shape of input sequences: (1271, 70)\n",
            "Shape of output sequences: (1271, 70, 18)\n"
          ],
          "name": "stdout"
        }
      ]
    },
    {
      "cell_type": "code",
      "metadata": {
        "colab": {
          "base_uri": "https://localhost:8080/"
        },
        "id": "I5rQxoTikviY",
        "outputId": "1aec05bb-6d2c-4833-a58a-027479d3e8a9"
      },
      "source": [
        "NUM_CLASSES = Y_train.shape[2]\n",
        "NUM_CLASSES"
      ],
      "execution_count": 35,
      "outputs": [
        {
          "output_type": "execute_result",
          "data": {
            "text/plain": [
              "18"
            ]
          },
          "metadata": {
            "tags": []
          },
          "execution_count": 35
        }
      ]
    },
    {
      "cell_type": "code",
      "metadata": {
        "id": "xiFzcnnblQsn"
      },
      "source": [
        "model = Sequential()\n",
        "model.add(InputLayer((MAX_SEQUENCE_LENGTH)))\n",
        "model.add(Embedding(input_dim = VOCABULARY_SIZE,\n",
        "                             output_dim    = embedding_dim,\n",
        "                             input_length  = MAX_SEQUENCE_LENGTH,\n",
        "                             #weights       = [embeddings_matrix],\n",
        "                             trainable     = True\n",
        "))\n",
        "model.add(GRU(256, return_sequences=True))\n",
        "model.add(GRU(256, return_sequences=True))\n",
        "model.add(GRU(256, return_sequences=True))\n",
        "\n",
        "model.add(TimeDistributed(Dense(NUM_CLASSES, activation='softmax')))\n",
        "model.compile(loss='categorical_crossentropy', optimizer='adam',metrics=['accuracy'])"
      ],
      "execution_count": 39,
      "outputs": []
    },
    {
      "cell_type": "code",
      "metadata": {
        "id": "-oanRm_fndl_",
        "colab": {
          "base_uri": "https://localhost:8080/"
        },
        "outputId": "75b9a972-854d-45d9-98de-a79b6b54783c"
      },
      "source": [
        "model.summary()"
      ],
      "execution_count": 40,
      "outputs": [
        {
          "output_type": "stream",
          "text": [
            "Model: \"sequential\"\n",
            "_________________________________________________________________\n",
            "Layer (type)                 Output Shape              Param #   \n",
            "=================================================================\n",
            "embedding (Embedding)        (None, 70, 300)           7471800   \n",
            "_________________________________________________________________\n",
            "gru (GRU)                    (None, 70, 256)           428544    \n",
            "_________________________________________________________________\n",
            "gru_1 (GRU)                  (None, 70, 256)           394752    \n",
            "_________________________________________________________________\n",
            "gru_2 (GRU)                  (None, 70, 256)           394752    \n",
            "_________________________________________________________________\n",
            "time_distributed (TimeDistri (None, 70, 18)            4626      \n",
            "=================================================================\n",
            "Total params: 8,694,474\n",
            "Trainable params: 8,694,474\n",
            "Non-trainable params: 0\n",
            "_________________________________________________________________\n"
          ],
          "name": "stdout"
        }
      ]
    },
    {
      "cell_type": "code",
      "metadata": {
        "id": "3Tcs2pOsRck7"
      },
      "source": [
        "checkpoint = ModelCheckpoint('model_checkpoint.h5', monitor='val_accuracy', verbose=1, save_best_only=True, mode='max')"
      ],
      "execution_count": 41,
      "outputs": []
    },
    {
      "cell_type": "code",
      "metadata": {
        "colab": {
          "base_uri": "https://localhost:8080/"
        },
        "id": "GmgzAET4Rcr8",
        "outputId": "01bd4659-c56d-407d-b53d-b8007140d8c3"
      },
      "source": [
        "result = model.fit(X_train, Y_train, validation_data= (X_valid, Y_valid), epochs = 40, batch_size= 128, shuffle = True,callbacks=[checkpoint])"
      ],
      "execution_count": 42,
      "outputs": [
        {
          "output_type": "stream",
          "text": [
            "Epoch 1/40\n",
            "48/48 [==============================] - 41s 256ms/step - loss: 1.6397 - accuracy: 0.5478 - val_loss: 0.9667 - val_accuracy: 0.6959\n",
            "\n",
            "Epoch 00001: val_accuracy improved from -inf to 0.69586, saving model to model_checkpoint.h5\n",
            "Epoch 2/40\n",
            "48/48 [==============================] - 10s 208ms/step - loss: 0.8574 - accuracy: 0.7182 - val_loss: 0.2616 - val_accuracy: 0.9229\n",
            "\n",
            "Epoch 00002: val_accuracy improved from 0.69586 to 0.92292, saving model to model_checkpoint.h5\n",
            "Epoch 3/40\n",
            "48/48 [==============================] - 10s 199ms/step - loss: 0.1848 - accuracy: 0.9496 - val_loss: 0.1264 - val_accuracy: 0.9666\n",
            "\n",
            "Epoch 00003: val_accuracy improved from 0.92292 to 0.96662, saving model to model_checkpoint.h5\n",
            "Epoch 4/40\n",
            "48/48 [==============================] - 9s 193ms/step - loss: 0.0766 - accuracy: 0.9817 - val_loss: 0.1167 - val_accuracy: 0.9688\n",
            "\n",
            "Epoch 00004: val_accuracy improved from 0.96662 to 0.96880, saving model to model_checkpoint.h5\n",
            "Epoch 5/40\n",
            "48/48 [==============================] - 9s 183ms/step - loss: 0.0526 - accuracy: 0.9862 - val_loss: 0.1122 - val_accuracy: 0.9698\n",
            "\n",
            "Epoch 00005: val_accuracy improved from 0.96880 to 0.96983, saving model to model_checkpoint.h5\n",
            "Epoch 6/40\n",
            "48/48 [==============================] - 9s 181ms/step - loss: 0.0415 - accuracy: 0.9880 - val_loss: 0.1136 - val_accuracy: 0.9698\n",
            "\n",
            "Epoch 00006: val_accuracy did not improve from 0.96983\n",
            "Epoch 7/40\n",
            "48/48 [==============================] - 9s 198ms/step - loss: 0.0369 - accuracy: 0.9890 - val_loss: 0.1149 - val_accuracy: 0.9707\n",
            "\n",
            "Epoch 00007: val_accuracy improved from 0.96983 to 0.97068, saving model to model_checkpoint.h5\n",
            "Epoch 8/40\n",
            "48/48 [==============================] - 10s 202ms/step - loss: 0.0305 - accuracy: 0.9908 - val_loss: 0.1176 - val_accuracy: 0.9709\n",
            "\n",
            "Epoch 00008: val_accuracy improved from 0.97068 to 0.97086, saving model to model_checkpoint.h5\n",
            "Epoch 9/40\n",
            "48/48 [==============================] - 9s 192ms/step - loss: 0.0254 - accuracy: 0.9926 - val_loss: 0.1163 - val_accuracy: 0.9713\n",
            "\n",
            "Epoch 00009: val_accuracy improved from 0.97086 to 0.97127, saving model to model_checkpoint.h5\n",
            "Epoch 10/40\n",
            "48/48 [==============================] - 9s 183ms/step - loss: 0.0229 - accuracy: 0.9933 - val_loss: 0.1318 - val_accuracy: 0.9700\n",
            "\n",
            "Epoch 00010: val_accuracy did not improve from 0.97127\n",
            "Epoch 11/40\n",
            "48/48 [==============================] - 9s 179ms/step - loss: 0.0200 - accuracy: 0.9943 - val_loss: 0.1351 - val_accuracy: 0.9696\n",
            "\n",
            "Epoch 00011: val_accuracy did not improve from 0.97127\n",
            "Epoch 12/40\n",
            "48/48 [==============================] - 9s 184ms/step - loss: 0.0175 - accuracy: 0.9950 - val_loss: 0.1335 - val_accuracy: 0.9700\n",
            "\n",
            "Epoch 00012: val_accuracy did not improve from 0.97127\n",
            "Epoch 13/40\n",
            "48/48 [==============================] - 9s 197ms/step - loss: 0.0151 - accuracy: 0.9956 - val_loss: 0.1415 - val_accuracy: 0.9699\n",
            "\n",
            "Epoch 00013: val_accuracy did not improve from 0.97127\n",
            "Epoch 14/40\n",
            "48/48 [==============================] - 9s 180ms/step - loss: 0.0129 - accuracy: 0.9964 - val_loss: 0.1440 - val_accuracy: 0.9698\n",
            "\n",
            "Epoch 00014: val_accuracy did not improve from 0.97127\n",
            "Epoch 15/40\n",
            "48/48 [==============================] - 9s 180ms/step - loss: 0.0116 - accuracy: 0.9968 - val_loss: 0.1505 - val_accuracy: 0.9691\n",
            "\n",
            "Epoch 00015: val_accuracy did not improve from 0.97127\n",
            "Epoch 16/40\n",
            "48/48 [==============================] - 9s 179ms/step - loss: 0.0104 - accuracy: 0.9974 - val_loss: 0.1533 - val_accuracy: 0.9690\n",
            "\n",
            "Epoch 00016: val_accuracy did not improve from 0.97127\n",
            "Epoch 17/40\n",
            "48/48 [==============================] - 9s 178ms/step - loss: 0.0091 - accuracy: 0.9975 - val_loss: 0.1624 - val_accuracy: 0.9684\n",
            "\n",
            "Epoch 00017: val_accuracy did not improve from 0.97127\n",
            "Epoch 18/40\n",
            "48/48 [==============================] - 10s 199ms/step - loss: 0.0081 - accuracy: 0.9979 - val_loss: 0.1606 - val_accuracy: 0.9691\n",
            "\n",
            "Epoch 00018: val_accuracy did not improve from 0.97127\n",
            "Epoch 19/40\n",
            "48/48 [==============================] - 9s 190ms/step - loss: 0.0076 - accuracy: 0.9979 - val_loss: 0.1683 - val_accuracy: 0.9692\n",
            "\n",
            "Epoch 00019: val_accuracy did not improve from 0.97127\n",
            "Epoch 20/40\n",
            "48/48 [==============================] - 9s 183ms/step - loss: 0.0066 - accuracy: 0.9982 - val_loss: 0.1703 - val_accuracy: 0.9685\n",
            "\n",
            "Epoch 00020: val_accuracy did not improve from 0.97127\n",
            "Epoch 21/40\n",
            "48/48 [==============================] - 9s 179ms/step - loss: 0.0064 - accuracy: 0.9983 - val_loss: 0.1746 - val_accuracy: 0.9681\n",
            "\n",
            "Epoch 00021: val_accuracy did not improve from 0.97127\n",
            "Epoch 22/40\n",
            "48/48 [==============================] - 9s 179ms/step - loss: 0.0063 - accuracy: 0.9985 - val_loss: 0.1771 - val_accuracy: 0.9686\n",
            "\n",
            "Epoch 00022: val_accuracy did not improve from 0.97127\n",
            "Epoch 23/40\n",
            "48/48 [==============================] - 9s 179ms/step - loss: 0.0053 - accuracy: 0.9987 - val_loss: 0.1832 - val_accuracy: 0.9674\n",
            "\n",
            "Epoch 00023: val_accuracy did not improve from 0.97127\n",
            "Epoch 24/40\n",
            "48/48 [==============================] - 9s 186ms/step - loss: 0.0049 - accuracy: 0.9988 - val_loss: 0.1854 - val_accuracy: 0.9681\n",
            "\n",
            "Epoch 00024: val_accuracy did not improve from 0.97127\n",
            "Epoch 25/40\n",
            "48/48 [==============================] - 9s 178ms/step - loss: 0.0047 - accuracy: 0.9987 - val_loss: 0.1847 - val_accuracy: 0.9682\n",
            "\n",
            "Epoch 00025: val_accuracy did not improve from 0.97127\n",
            "Epoch 26/40\n",
            "48/48 [==============================] - 9s 180ms/step - loss: 0.0044 - accuracy: 0.9989 - val_loss: 0.1939 - val_accuracy: 0.9682\n",
            "\n",
            "Epoch 00026: val_accuracy did not improve from 0.97127\n",
            "Epoch 27/40\n",
            "48/48 [==============================] - 9s 180ms/step - loss: 0.0040 - accuracy: 0.9990 - val_loss: 0.1922 - val_accuracy: 0.9682\n",
            "\n",
            "Epoch 00027: val_accuracy did not improve from 0.97127\n",
            "Epoch 28/40\n",
            "48/48 [==============================] - 9s 182ms/step - loss: 0.0041 - accuracy: 0.9990 - val_loss: 0.1975 - val_accuracy: 0.9676\n",
            "\n",
            "Epoch 00028: val_accuracy did not improve from 0.97127\n",
            "Epoch 29/40\n",
            "48/48 [==============================] - 9s 190ms/step - loss: 0.0035 - accuracy: 0.9991 - val_loss: 0.2008 - val_accuracy: 0.9679\n",
            "\n",
            "Epoch 00029: val_accuracy did not improve from 0.97127\n",
            "Epoch 30/40\n",
            "48/48 [==============================] - 10s 201ms/step - loss: 0.0031 - accuracy: 0.9993 - val_loss: 0.2021 - val_accuracy: 0.9680\n",
            "\n",
            "Epoch 00030: val_accuracy did not improve from 0.97127\n",
            "Epoch 31/40\n",
            "48/48 [==============================] - 9s 187ms/step - loss: 0.0029 - accuracy: 0.9992 - val_loss: 0.2037 - val_accuracy: 0.9680\n",
            "\n",
            "Epoch 00031: val_accuracy did not improve from 0.97127\n",
            "Epoch 32/40\n",
            "48/48 [==============================] - 9s 180ms/step - loss: 0.0030 - accuracy: 0.9993 - val_loss: 0.2031 - val_accuracy: 0.9679\n",
            "\n",
            "Epoch 00032: val_accuracy did not improve from 0.97127\n",
            "Epoch 33/40\n",
            "48/48 [==============================] - 9s 178ms/step - loss: 0.0026 - accuracy: 0.9993 - val_loss: 0.2078 - val_accuracy: 0.9675\n",
            "\n",
            "Epoch 00033: val_accuracy did not improve from 0.97127\n",
            "Epoch 34/40\n",
            "48/48 [==============================] - 9s 180ms/step - loss: 0.0029 - accuracy: 0.9993 - val_loss: 0.2081 - val_accuracy: 0.9684\n",
            "\n",
            "Epoch 00034: val_accuracy did not improve from 0.97127\n",
            "Epoch 35/40\n",
            "48/48 [==============================] - 9s 189ms/step - loss: 0.0030 - accuracy: 0.9993 - val_loss: 0.2164 - val_accuracy: 0.9677\n",
            "\n",
            "Epoch 00035: val_accuracy did not improve from 0.97127\n",
            "Epoch 36/40\n",
            "48/48 [==============================] - 9s 180ms/step - loss: 0.0026 - accuracy: 0.9994 - val_loss: 0.2104 - val_accuracy: 0.9681\n",
            "\n",
            "Epoch 00036: val_accuracy did not improve from 0.97127\n",
            "Epoch 37/40\n",
            "48/48 [==============================] - 9s 178ms/step - loss: 0.0031 - accuracy: 0.9993 - val_loss: 0.2213 - val_accuracy: 0.9672\n",
            "\n",
            "Epoch 00037: val_accuracy did not improve from 0.97127\n",
            "Epoch 38/40\n",
            "48/48 [==============================] - 9s 180ms/step - loss: 0.0026 - accuracy: 0.9993 - val_loss: 0.2147 - val_accuracy: 0.9680\n",
            "\n",
            "Epoch 00038: val_accuracy did not improve from 0.97127\n",
            "Epoch 39/40\n",
            "48/48 [==============================] - 9s 178ms/step - loss: 0.0025 - accuracy: 0.9994 - val_loss: 0.2083 - val_accuracy: 0.9692\n",
            "\n",
            "Epoch 00039: val_accuracy did not improve from 0.97127\n",
            "Epoch 40/40\n",
            "48/48 [==============================] - 9s 197ms/step - loss: 0.0037 - accuracy: 0.9990 - val_loss: 0.2154 - val_accuracy: 0.9674\n",
            "\n",
            "Epoch 00040: val_accuracy did not improve from 0.97127\n"
          ],
          "name": "stdout"
        }
      ]
    },
    {
      "cell_type": "code",
      "metadata": {
        "colab": {
          "base_uri": "https://localhost:8080/",
          "height": 581
        },
        "id": "dw_n3FwJwM1x",
        "outputId": "ddbdb6e3-d94a-4a0b-8509-fdf48d91f0b0"
      },
      "source": [
        "#Plot Accuracy\n",
        "plt.plot(result.history['accuracy'])\n",
        "plt.plot(result.history['val_accuracy'])\n",
        "plt.title('model accuracy')\n",
        "plt.ylabel('accuracy')\n",
        "plt.xlabel('epoch')\n",
        "plt.legend(['train','val'],loc='upper left')\n",
        "plt.show()\n",
        "\n",
        "#Plot Loss\n",
        "plt.plot(result.history['loss'])\n",
        "plt.plot(result.history['val_loss'])\n",
        "plt.title('model loss')\n",
        "plt.ylabel('loss')\n",
        "plt.xlabel('epoch')\n",
        "plt.legend(['train','val'],loc='upper right')\n",
        "plt.show()"
      ],
      "execution_count": 43,
      "outputs": [
        {
          "output_type": "display_data",
          "data": {
            "image/png": "[encoded data removed]",
            "text/plain": [
              "<Figure size 432x288 with 1 Axes>"
            ]
          },
          "metadata": {
            "tags": []
          }
        },
        {
          "output_type": "display_data",
          "data": {
            "image/png": "[encoded data removed]",
            "text/plain": [
              "<Figure size 432x288 with 1 Axes>"
            ]
          },
          "metadata": {
            "tags": []
          }
        }
      ]
    },
    {
      "cell_type": "code",
      "metadata": {
        "id": "Jtw8YJV4sUJd"
      },
      "source": [
        "model.load_weights('model_checkpoint.h5')"
      ],
      "execution_count": 44,
      "outputs": []
    },
    {
      "cell_type": "code",
      "metadata": {
        "colab": {
          "base_uri": "https://localhost:8080/"
        },
        "id": "WnsfY1WvwMMo",
        "outputId": "c4bb066f-a3fe-45ff-9fa7-d3bd29737d72"
      },
      "source": [
        "loss, accuracy = model.evaluate(X_test, Y_test, verbose = 1)\n",
        "print(\"Loss: {0},\\nAccuracy: {1}\".format(loss, accuracy))"
      ],
      "execution_count": 45,
      "outputs": [
        {
          "output_type": "stream",
          "text": [
            "40/40 [==============================] - 1s 24ms/step - loss: 0.1213 - accuracy: 0.9709\n",
            "Loss: 0.12133080512285233,\n",
            "Accuracy: 0.9709340333938599\n"
          ],
          "name": "stdout"
        }
      ]
    },
    {
      "cell_type": "code",
      "metadata": {
        "id": "07EV5yOW1u0a"
      },
      "source": [
        "def classify(sentence):\n",
        "  sentence = sentence.split()\n",
        "  seq = [word_tokenizer.texts_to_sequences(sentence)]\n",
        "  pad_seq = pad_sequences(seq, maxlen=MAX_SEQUENCE_LENGTH, padding=padding_type, truncating=trunc_type)\n",
        "  pad_seq = np.squeeze(pad_seq,axis=-1)\n",
        "  pred = np.squeeze(model.predict(pad_seq).argmax(-1))\n",
        "  output = [tag_tokenizer.index_word[tag] for tag in pred if tag != 0]\n",
        "  return output"
      ],
      "execution_count": 46,
      "outputs": []
    },
    {
      "cell_type": "code",
      "metadata": {
        "colab": {
          "base_uri": "https://localhost:8080/"
        },
        "id": "_G-kDFWBCirU",
        "outputId": "41786a32-78c2-4a7d-bc69-6f1dd2d5c0c5"
      },
      "source": [
        "sentence = \"انا احب ان امارس الرياضة\"\n",
        "output = classify(sentence)\n",
        "word_tag = [(sentence.split()[i],output[i]) for i in range(len(sentence.split()))]\n",
        "print(word_tag)"
      ],
      "execution_count": 47,
      "outputs": [
        {
          "output_type": "stream",
          "text": [
            "[('انا', 'adp'), ('احب', 'x'), ('ان', 'sconj'), ('امارس', 'x'), ('الرياضة', 'noun')]\n"
          ],
          "name": "stdout"
        }
      ]
    },
    {
      "cell_type": "code",
      "metadata": {
        "colab": {
          "base_uri": "https://localhost:8080/"
        },
        "id": "Jqgofo3E8u5y",
        "outputId": "926af9f9-5914-4659-9e9f-b58d1da50c83"
      },
      "source": [
        "Y_test_plot = Y_test.argmax(-1)\n",
        "pred = np.squeeze(model.predict(X_test).argmax(-1))\n",
        "print(Y_test_plot.shape)\n",
        "print(pred.shape)"
      ],
      "execution_count": 48,
      "outputs": [
        {
          "output_type": "stream",
          "text": [
            "(1271, 70)\n",
            "(1271, 70)\n"
          ],
          "name": "stdout"
        }
      ]
    },
    {
      "cell_type": "code",
      "metadata": {
        "id": "iHMmWY-NdItR"
      },
      "source": [
        "tag_names = tag_tokenizer.index_word\n",
        "tag_names[18] = 'unknown'"
      ],
      "execution_count": 49,
      "outputs": []
    },
    {
      "cell_type": "code",
      "metadata": {
        "colab": {
          "base_uri": "https://localhost:8080/"
        },
        "id": "bhgMAPHNapOp",
        "outputId": "43540a0c-e2dd-443c-91dc-5273f210c639"
      },
      "source": [
        "name='Bert fine-tuned model'\n",
        "print('\\n------------ Result of {} ----------\\n'.format(name))\n",
        "print(classification_report(Y_test_plot.flatten(), pred.flatten(),digits=4,target_names=tag_names.values()))"
      ],
      "execution_count": 50,
      "outputs": [
        {
          "output_type": "stream",
          "text": [
            "\n",
            "------------ Result of Bert fine-tuned model ----------\n",
            "\n",
            "              precision    recall  f1-score   support\n",
            "\n",
            "        noun     1.0000    1.0000    1.0000     47438\n",
            "         adp     0.9408    0.9507    0.9457     13937\n",
            "         adj     0.9817    0.9915    0.9866      6265\n",
            "       punct     0.9297    0.8958    0.9124      4269\n",
            "        verb     0.9947    0.9997    0.9972      3219\n",
            "       cconj     0.9381    0.8840    0.9102      3120\n",
            "           x     0.9908    0.9780    0.9844      2865\n",
            "        pron     0.6758    0.7581    0.7146      2513\n",
            "         num     0.9929    0.9955    0.9942      1550\n",
            "         det     0.9791    0.8663    0.9193      1242\n",
            "       sconj     0.9293    0.9702    0.9493       840\n",
            "        part     0.9810    0.9923    0.9866       780\n",
            "         aux     0.9159    0.9074    0.9116       324\n",
            "         adv     0.8691    0.7810    0.8227       306\n",
            "         sym     0.8360    0.8587    0.8472       184\n",
            "       propn     0.9583    0.6216    0.7541        74\n",
            "        intj     0.9697    0.7442    0.8421        43\n",
            "     unknown     0.0000    0.0000    0.0000         1\n",
            "\n",
            "    accuracy                         0.9709     88970\n",
            "   macro avg     0.8824    0.8442    0.8599     88970\n",
            "weighted avg     0.9718    0.9709    0.9712     88970\n",
            "\n"
          ],
          "name": "stdout"
        },
        {
          "output_type": "stream",
          "text": [
            "/usr/local/lib/python3.7/dist-packages/sklearn/metrics/_classification.py:1272: UndefinedMetricWarning: Precision and F-score are ill-defined and being set to 0.0 in labels with no predicted samples. Use `zero_division` parameter to control this behavior.\n",
            "  _warn_prf(average, modifier, msg_start, len(result))\n"
          ],
          "name": "stderr"
        }
      ]
    },
    {
      "cell_type": "code",
      "metadata": {
        "id": "C1UTqK-jIcsq"
      },
      "source": [
        "def plot_cm(f1,cm,target_names,title='Confusion matrix',cmap=None,normalize=True,i=1):\n",
        "\n",
        "\n",
        "\n",
        "    import matplotlib.pyplot as plt\n",
        "    import numpy as np\n",
        "    import itertools\n",
        "\n",
        "    accuracy = np.trace(cm) / float(np.sum(cm))\n",
        "    misclass = 1 - accuracy\n",
        "    plt.figure(figsize=(17, 17))\n",
        "    if cmap is None:\n",
        "        cmap = plt.get_cmap('Blues')\n",
        "\n",
        "\n",
        "    plt.imshow(cm, interpolation='nearest', cmap=cmap)\n",
        "    plt.title(title)\n",
        "    plt.colorbar()\n",
        "\n",
        "    if target_names is not None:\n",
        "        tick_marks = np.arange(len(target_names))\n",
        "        plt.xticks(tick_marks, target_names, rotation=45)\n",
        "        plt.yticks(tick_marks, target_names)\n",
        "\n",
        "    if normalize:\n",
        "        cm = cm.astype('float') / cm.sum(axis=1)[:, np.newaxis]\n",
        "\n",
        "\n",
        "    thresh = cm.max() / 1.5 if normalize else cm.max() / 2\n",
        "    for i, j in itertools.product(range(cm.shape[0]), range(cm.shape[1])):\n",
        "        if normalize:\n",
        "            plt.text(j, i, \"{:0.4f}\".format(cm[i, j]),fontsize=12,\n",
        "                     horizontalalignment=\"center\",\n",
        "                     color=\"white\" if cm[i, j] > thresh else \"black\")\n",
        "        else:\n",
        "            plt.text(j, i, \"{:,}\".format(cm[i, j]),fontsize=15,\n",
        "                     horizontalalignment=\"center\",\n",
        "                     color=\"white\" if cm[i, j] > thresh else \"black\")\n",
        "\n",
        "\n",
        "    plt.tight_layout()\n",
        "    plt.ylabel('True label')\n",
        "    plt.xlabel('Predicted label\\naccuracy={:0.4f}; misclass={:0.4f}; f1-score={:0.4f}'.format(accuracy, misclass, f1))"
      ],
      "execution_count": 51,
      "outputs": []
    },
    {
      "cell_type": "code",
      "metadata": {
        "colab": {
          "base_uri": "https://localhost:8080/",
          "height": 1000
        },
        "id": "axhOIPdTdb8P",
        "outputId": "47798120-5a3a-47b5-b9c1-f7a12cd1eceb"
      },
      "source": [
        "cnf_matrix = confusion_matrix(Y_test_plot.flatten(), pred.flatten())\n",
        "plot_cm(f1_score(Y_test_plot.flatten(), pred.flatten(), average='macro'), cnf_matrix, target_names=tag_names.values(), title=name, normalize=False)"
      ],
      "execution_count": 52,
      "outputs": [
        {
          "output_type": "display_data",
          "data": {
            "image/png": "[encoded data removed]",
            "text/plain": [
              "<Figure size 1224x1224 with 2 Axes>"
            ]
          },
          "metadata": {
            "tags": []
          }
        }
      ]
    },
    {
      "cell_type": "code",
      "metadata": {
        "id": "Nx852CsGk71q"
      },
      "source": [
        ""
      ],
      "execution_count": null,
      "outputs": []
    }
  ]
}