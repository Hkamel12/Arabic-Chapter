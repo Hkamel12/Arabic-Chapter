{
 "cells": [
  {
   "cell_type": "markdown",
   "metadata": {
    "id": "8tPxVvP8HMtC"
   },
   "source": [
    "# BILSTM - MAX_LEN 39 - EMBEDDINGS gensim300 - TEST_ACC 96.92"
   ]
  },
  {
   "cell_type": "code",
   "execution_count": 2,
   "metadata": {
    "id": "_XrR1q1lHMtE"
   },
   "outputs": [],
   "source": [
    "import pandas as pd\n",
    "import os\n",
    "import numpy as np\n",
    "import matplotlib.pyplot as plt\n",
    "from keras.preprocessing.sequence import pad_sequences\n",
    "from keras.utils.np_utils import to_categorical\n",
    "from keras.preprocessing.text import Tokenizer\n",
    "from keras.models import Sequential,Model\n",
    "from keras.layers import Input,Embedding,Bidirectional,LSTM,TimeDistributed,Dense\n",
    "from keras.callbacks import ModelCheckpoint, EarlyStopping, Callback, TensorBoard,ReduceLROnPlateau"
   ]
  },
  {
   "cell_type": "code",
   "execution_count": 3,
   "metadata": {
    "colab": {
     "base_uri": "https://localhost:8080/"
    },
    "id": "6NNbla_zHtlz",
    "outputId": "32c6a3c3-4149-4836-ad6d-d86b6801cf73"
   },
   "outputs": [
    {
     "data": {
      "text/plain": [
       "['.config',\n",
       " 'full_grams_cbow_300_twitter.mdl.trainables.syn1neg.npy',\n",
       " 'full_grams_cbow_300_twitter.mdl',\n",
       " 'full_grams_cbow_300_twitter.mdl.wv.vectors.npy',\n",
       " 'description_mor.csv',\n",
       " 'full_grams_cbow_300_twitter.zip',\n",
       " 'title_mor.csv',\n",
       " 'sample_data']"
      ]
     },
     "execution_count": 3,
     "metadata": {
      "tags": []
     },
     "output_type": "execute_result"
    }
   ],
   "source": [
    "os.listdir()"
   ]
  },
  {
   "cell_type": "markdown",
   "metadata": {
    "id": "GYzp7jGFHMtF"
   },
   "source": [
    "## PreProcess Data"
   ]
  },
  {
   "cell_type": "code",
   "execution_count": 4,
   "metadata": {
    "id": "djKDkmS5HMtF"
   },
   "outputs": [],
   "source": [
    "def process_csv(csv):\n",
    "    df = pd.read_csv(csv)\n",
    "    df=df.drop(columns=['Case','lemma', 'Gender','Number','State','Gloss','Proclitic 1','Proclitic 2','Proclitic 0','Aspect','Mood','Person','Voice','Enclitic 0'])\n",
    "    df=df.drop_duplicates()\n",
    "    df[\"POS\"] = df[\"POS\"].apply(lambda x: x.replace(\"Proper Noun\", \"ProperNoun\"))\n",
    "    df1 = pd.DataFrame(columns = ['x','y'])\n",
    "    for i in df['sentence_id'].unique():\n",
    "        df1 = df1.append({'x':df[df['sentence_id'] == i]['word'].tolist() , 'y':df[df['sentence_id'] == i]['POS'].tolist()}, ignore_index=True)\n",
    "    return df1"
   ]
  },
  {
   "cell_type": "code",
   "execution_count": 5,
   "metadata": {
    "colab": {
     "base_uri": "https://localhost:8080/",
     "height": 249
    },
    "id": "1inWynt1HMtF",
    "outputId": "70a498fd-f063-4948-e98e-079de92739c2"
   },
   "outputs": [
    {
     "name": "stderr",
     "output_type": "stream",
     "text": [
      "/usr/local/lib/python3.7/dist-packages/IPython/core/interactiveshell.py:2822: DtypeWarning: Columns (18) have mixed types.Specify dtype option on import or set low_memory=False.\n",
      "  if self.run_code(code, result):\n"
     ]
    },
    {
     "data": {
      "text/html": [
       "<div>\n",
       "<style scoped>\n",
       "    .dataframe tbody tr th:only-of-type {\n",
       "        vertical-align: middle;\n",
       "    }\n",
       "\n",
       "    .dataframe tbody tr th {\n",
       "        vertical-align: top;\n",
       "    }\n",
       "\n",
       "    .dataframe thead th {\n",
       "        text-align: right;\n",
       "    }\n",
       "</style>\n",
       "<table border=\"1\" class=\"dataframe\">\n",
       "  <thead>\n",
       "    <tr style=\"text-align: right;\">\n",
       "      <th></th>\n",
       "      <th>x</th>\n",
       "      <th>y</th>\n",
       "    </tr>\n",
       "  </thead>\n",
       "  <tbody>\n",
       "    <tr>\n",
       "      <th>0</th>\n",
       "      <td>[كشفت, شركة, صينية, عن, هاتف, جديد, قابل, للطى...</td>\n",
       "      <td>[Verb, Noun, Adjective, Preposition, Noun, Adj...</td>\n",
       "    </tr>\n",
       "    <tr>\n",
       "      <th>1</th>\n",
       "      <td>[7, معلومات, عن, مشروعات, تنمية, الغاز, بحقلي,...</td>\n",
       "      <td>[Digit, Noun, Preposition, Noun, Noun, Noun, A...</td>\n",
       "    </tr>\n",
       "    <tr>\n",
       "      <th>2</th>\n",
       "      <td>[أمن, القاهرة, يوزع, إرشادات, المرور, والورود,...</td>\n",
       "      <td>[Noun, ProperNoun, Verb, Noun, Noun, Noun, Pre...</td>\n",
       "    </tr>\n",
       "    <tr>\n",
       "      <th>3</th>\n",
       "      <td>[عرض, بنك, اليابان, المركزي, اليوم, الثلاثاء, ...</td>\n",
       "      <td>[Verb, Noun, ProperNoun, Adjective, Noun, Noun...</td>\n",
       "    </tr>\n",
       "    <tr>\n",
       "      <th>4</th>\n",
       "      <td>[اللجنة, العسكرية, الليبية, المشتركة, \", 5, +,...</td>\n",
       "      <td>[Noun, Adjective, Adjective, Adjective, Punctu...</td>\n",
       "    </tr>\n",
       "  </tbody>\n",
       "</table>\n",
       "</div>"
      ],
      "text/plain": [
       "                                                   x                                                  y\n",
       "0  [كشفت, شركة, صينية, عن, هاتف, جديد, قابل, للطى...  [Verb, Noun, Adjective, Preposition, Noun, Adj...\n",
       "1  [7, معلومات, عن, مشروعات, تنمية, الغاز, بحقلي,...  [Digit, Noun, Preposition, Noun, Noun, Noun, A...\n",
       "2  [أمن, القاهرة, يوزع, إرشادات, المرور, والورود,...  [Noun, ProperNoun, Verb, Noun, Noun, Noun, Pre...\n",
       "3  [عرض, بنك, اليابان, المركزي, اليوم, الثلاثاء, ...  [Verb, Noun, ProperNoun, Adjective, Noun, Noun...\n",
       "4  [اللجنة, العسكرية, الليبية, المشتركة, \", 5, +,...  [Noun, Adjective, Adjective, Adjective, Punctu..."
      ]
     },
     "execution_count": 5,
     "metadata": {
      "tags": []
     },
     "output_type": "execute_result"
    }
   ],
   "source": [
    "csvs = ['description_mor.csv', 'title_mor.csv']\n",
    "final_df = pd.DataFrame()\n",
    "for csv in csvs:\n",
    "    df = process_csv(csv)\n",
    "    final_df = pd.concat([final_df,df])\n",
    "final_df = final_df.sample(frac = 1)\n",
    "final_df.reset_index(drop=True, inplace=True)\n",
    "final_df.head()"
   ]
  },
  {
   "cell_type": "code",
   "execution_count": 6,
   "metadata": {
    "id": "Y8pIR1iFHMtG"
   },
   "outputs": [],
   "source": [
    "embedding_dim = 300\n",
    "MAX_SEQUENCE_LENGTH = 39"
   ]
  },
  {
   "cell_type": "code",
   "execution_count": 7,
   "metadata": {
    "id": "ZSzlOyz4HMtG"
   },
   "outputs": [],
   "source": [
    "x_tokenizer = Tokenizer(oov_token = \"<OOV>\")                    \n",
    "x_tokenizer.fit_on_texts(final_df['x'].tolist())  \n",
    "VOCABULARY_SIZE = len(x_tokenizer.word_index) + 1                  \n",
    "x = x_tokenizer.texts_to_sequences(final_df['x'].tolist())  "
   ]
  },
  {
   "cell_type": "code",
   "execution_count": 8,
   "metadata": {
    "id": "Cuz7GAgvHMtH"
   },
   "outputs": [],
   "source": [
    "y_tokenizer = Tokenizer()\n",
    "y_tokenizer.fit_on_texts(final_df['y'].tolist())\n",
    "y = y_tokenizer.texts_to_sequences(final_df['y'].tolist())"
   ]
  },
  {
   "cell_type": "code",
   "execution_count": 9,
   "metadata": {
    "id": "z0cWHFNAHMtH"
   },
   "outputs": [],
   "source": [
    "x = pad_sequences(x, maxlen=MAX_SEQUENCE_LENGTH, padding='post', truncating='post')\n",
    "y = pad_sequences(y, maxlen=MAX_SEQUENCE_LENGTH, padding='post', truncating='post')\n",
    "y = to_categorical(y)"
   ]
  },
  {
   "cell_type": "code",
   "execution_count": 10,
   "metadata": {
    "id": "5HeVqHhgHMtH"
   },
   "outputs": [],
   "source": [
    "x_train = np.array(x[:int(len(x)*0.7)])\n",
    "x_val = np.array(x[int(len(x)*0.7):int(len(x)*0.9)])\n",
    "x_test = np.array(x[int(len(x)*0.9):])\n",
    "assert len(x_train)+len(x_val)+len(x_test) == len(x)"
   ]
  },
  {
   "cell_type": "code",
   "execution_count": 11,
   "metadata": {
    "id": "tKtCpv0EHMtI"
   },
   "outputs": [],
   "source": [
    "y_train = np.array(y[:int(len(y)*0.7)])\n",
    "y_val = np.array(y[int(len(y)*0.7):int(len(y)*0.9)])\n",
    "y_test = np.array(y[int(len(y)*0.9):])\n",
    "assert len(y_train)+len(y_val)+len(y_test) == len(y)"
   ]
  },
  {
   "cell_type": "code",
   "execution_count": 12,
   "metadata": {
    "colab": {
     "base_uri": "https://localhost:8080/"
    },
    "id": "ztRhVz89HMtI",
    "outputId": "547ce3a6-6a20-47bb-fc45-531dbcd6ed68"
   },
   "outputs": [
    {
     "name": "stdout",
     "output_type": "stream",
     "text": [
      "Training data shape (x y)  (10000, 39) (10000, 39, 33)\n",
      "Validation data shape (x y)  (2858, 39) (2858, 39, 33)\n",
      "Test data shape (x y)  (1429, 39) (1429, 39, 33)\n"
     ]
    }
   ],
   "source": [
    "print(\"Training data shape (x y) \", x_train.shape,y_train.shape)\n",
    "print(\"Validation data shape (x y) \", x_val.shape,y_val.shape)\n",
    "print(\"Test data shape (x y) \", x_test.shape,y_test.shape)"
   ]
  },
  {
   "cell_type": "markdown",
   "metadata": {
    "id": "9uBGBvqrHMtI"
   },
   "source": [
    "## Embedding Matrix"
   ]
  },
  {
   "cell_type": "code",
   "execution_count": 1,
   "metadata": {
    "colab": {
     "base_uri": "https://localhost:8080/"
    },
    "id": "SDS-FQnGHMtI",
    "outputId": "9ad2dd30-fd66-489d-9455-535b9ab988cb"
   },
   "outputs": [
    {
     "name": "stdout",
     "output_type": "stream",
     "text": [
      "--2021-06-10 09:53:49--  https://bakrianoo.ewr1.vultrobjects.com/aravec/full_grams_cbow_300_twitter.zip\n",
      "Resolving bakrianoo.ewr1.vultrobjects.com (bakrianoo.ewr1.vultrobjects.com)... 108.61.0.122, 2001:19f0:0:22::100\n",
      "Connecting to bakrianoo.ewr1.vultrobjects.com (bakrianoo.ewr1.vultrobjects.com)|108.61.0.122|:443... connected.\n",
      "HTTP request sent, awaiting response... 200 OK\n",
      "Length: 3325529808 (3.1G) [application/zip]\n",
      "Saving to: ‘full_grams_cbow_300_twitter.zip’\n",
      "\n",
      "full_grams_cbow_300 100%[===================>]   3.10G  31.4MB/s    in 52s     \n",
      "\n",
      "2021-06-10 09:54:41 (60.5 MB/s) - ‘full_grams_cbow_300_twitter.zip’ saved [3325529808/3325529808]\n",
      "\n",
      "Archive:  full_grams_cbow_300_twitter.zip\n",
      "  inflating: full_grams_cbow_300_twitter.mdl  \n",
      "  inflating: full_grams_cbow_300_twitter.mdl.trainables.syn1neg.npy  \n",
      "  inflating: full_grams_cbow_300_twitter.mdl.wv.vectors.npy  \n"
     ]
    }
   ],
   "source": [
    "!wget https://bakrianoo.ewr1.vultrobjects.com/aravec/full_grams_cbow_300_twitter.zip\n",
    "!unzip full_grams_cbow_300_twitter.zip"
   ]
  },
  {
   "cell_type": "code",
   "execution_count": 13,
   "metadata": {
    "id": "bfhVvf4xHMtJ"
   },
   "outputs": [],
   "source": [
    "import gensim\n",
    "embedding_model = gensim.models.Word2Vec.load('full_grams_cbow_300_twitter.mdl')\n",
    "embeddings = {}\n",
    "for word,vector in zip(embedding_model.wv.vocab,embedding_model.wv.vectors):\n",
    "    coefs = np.array(vector, dtype='float32')\n",
    "    embeddings[word] = coefs\n",
    "embeddings_weights = np.zeros((VOCABULARY_SIZE, embedding_dim))\n",
    "for word, i in x_tokenizer.word_index.items():\n",
    "    embedding_vector = embeddings.get(word)\n",
    "    if embedding_vector is not None:\n",
    "        embeddings_weights[i] = embedding_vector"
   ]
  },
  {
   "cell_type": "markdown",
   "metadata": {
    "id": "FdcVpyVeHMtK"
   },
   "source": [
    "## Create Model"
   ]
  },
  {
   "cell_type": "code",
   "execution_count": 14,
   "metadata": {
    "colab": {
     "base_uri": "https://localhost:8080/"
    },
    "id": "dcxFJaZnHMtK",
    "outputId": "6e105515-ddff-4584-8019-8e0a2c1bb7e3"
   },
   "outputs": [
    {
     "name": "stdout",
     "output_type": "stream",
     "text": [
      "WARNING:tensorflow:Please add `keras.layers.InputLayer` instead of `keras.Input` to Sequential model. `keras.Input` is intended to be used by Functional model.\n",
      "Model: \"sequential\"\n",
      "_________________________________________________________________\n",
      "Layer (type)                 Output Shape              Param #   \n",
      "=================================================================\n",
      "embedding (Embedding)        (None, 39, 300)           9859500   \n",
      "_________________________________________________________________\n",
      "bidirectional (Bidirectional (None, 39, 512)           1140736   \n",
      "_________________________________________________________________\n",
      "bidirectional_1 (Bidirection (None, 39, 512)           1574912   \n",
      "_________________________________________________________________\n",
      "bidirectional_2 (Bidirection (None, 39, 512)           1574912   \n",
      "_________________________________________________________________\n",
      "bidirectional_3 (Bidirection (None, 39, 512)           1574912   \n",
      "_________________________________________________________________\n",
      "time_distributed (TimeDistri (None, 39, 33)            16929     \n",
      "=================================================================\n",
      "Total params: 15,741,901\n",
      "Trainable params: 15,741,901\n",
      "Non-trainable params: 0\n",
      "_________________________________________________________________\n"
     ]
    }
   ],
   "source": [
    "tagger = Sequential()\n",
    "tagger.add(Input((MAX_SEQUENCE_LENGTH)))\n",
    "tagger.add(Embedding(input_dim = VOCABULARY_SIZE,output_dim = embedding_dim, input_length  = MAX_SEQUENCE_LENGTH,weights = [embeddings_weights],\n",
    "                             trainable = True))\n",
    "tagger.add(Bidirectional(LSTM(256, return_sequences=True)))\n",
    "tagger.add(Bidirectional(LSTM(256, return_sequences=True)))\n",
    "tagger.add(Bidirectional(LSTM(256, return_sequences=True)))\n",
    "tagger.add(Bidirectional(LSTM(256, return_sequences=True)))\n",
    "tagger\n",
    "tagger.add(TimeDistributed(Dense(y.shape[2], activation='softmax')))\n",
    "tagger.compile(loss='categorical_crossentropy', optimizer='adam',metrics=['accuracy'])\n",
    "tagger.summary()"
   ]
  },
  {
   "cell_type": "markdown",
   "metadata": {
    "id": "2eNpzjiiHMtK"
   },
   "source": [
    "## Train Model"
   ]
  },
  {
   "cell_type": "code",
   "execution_count": 15,
   "metadata": {
    "id": "VCqXSDOqHMtL"
   },
   "outputs": [],
   "source": [
    "checkpoint = ModelCheckpoint('model4_checkpoint.h5', monitor='val_accuracy', verbose=1, save_best_only=True, mode='max')\n",
    "reducelr = ReduceLROnPlateau(monitor='val_loss', factor=0.5, patience=10, verbose=1, mode='min' , min_lr=0.0001)"
   ]
  },
  {
   "cell_type": "code",
   "execution_count": 16,
   "metadata": {
    "colab": {
     "base_uri": "https://localhost:8080/"
    },
    "id": "VYhrE2c0HMtL",
    "outputId": "1e3ae4c2-3b06-4c57-b0c9-b5152a5c6c96"
   },
   "outputs": [
    {
     "name": "stdout",
     "output_type": "stream",
     "text": [
      "Epoch 1/40\n",
      "79/79 [==============================] - 47s 202ms/step - loss: 1.3743 - accuracy: 0.6506 - val_loss: 0.8437 - val_accuracy: 0.7545\n",
      "\n",
      "Epoch 00001: val_accuracy improved from -inf to 0.75454, saving model to model4_checkpoint.h5\n",
      "Epoch 2/40\n",
      "79/79 [==============================] - 13s 160ms/step - loss: 0.8066 - accuracy: 0.7645 - val_loss: 0.6380 - val_accuracy: 0.8106\n",
      "\n",
      "Epoch 00002: val_accuracy improved from 0.75454 to 0.81059, saving model to model4_checkpoint.h5\n",
      "Epoch 3/40\n",
      "79/79 [==============================] - 13s 161ms/step - loss: 0.4804 - accuracy: 0.8565 - val_loss: 0.2553 - val_accuracy: 0.9271\n",
      "\n",
      "Epoch 00003: val_accuracy improved from 0.81059 to 0.92710, saving model to model4_checkpoint.h5\n",
      "Epoch 4/40\n",
      "79/79 [==============================] - 13s 161ms/step - loss: 0.1846 - accuracy: 0.9493 - val_loss: 0.1645 - val_accuracy: 0.9554\n",
      "\n",
      "Epoch 00004: val_accuracy improved from 0.92710 to 0.95537, saving model to model4_checkpoint.h5\n",
      "Epoch 5/40\n",
      "79/79 [==============================] - 13s 161ms/step - loss: 0.0877 - accuracy: 0.9774 - val_loss: 0.1409 - val_accuracy: 0.9632\n",
      "\n",
      "Epoch 00005: val_accuracy improved from 0.95537 to 0.96315, saving model to model4_checkpoint.h5\n",
      "Epoch 6/40\n",
      "79/79 [==============================] - 13s 162ms/step - loss: 0.0528 - accuracy: 0.9866 - val_loss: 0.1466 - val_accuracy: 0.9634\n",
      "\n",
      "Epoch 00006: val_accuracy improved from 0.96315 to 0.96343, saving model to model4_checkpoint.h5\n",
      "Epoch 7/40\n",
      "79/79 [==============================] - 13s 163ms/step - loss: 0.0366 - accuracy: 0.9909 - val_loss: 0.1431 - val_accuracy: 0.9670\n",
      "\n",
      "Epoch 00007: val_accuracy improved from 0.96343 to 0.96704, saving model to model4_checkpoint.h5\n",
      "Epoch 8/40\n",
      "79/79 [==============================] - 13s 163ms/step - loss: 0.0262 - accuracy: 0.9938 - val_loss: 0.1498 - val_accuracy: 0.9656\n",
      "\n",
      "Epoch 00008: val_accuracy did not improve from 0.96704\n",
      "Epoch 9/40\n",
      "79/79 [==============================] - 13s 161ms/step - loss: 0.0192 - accuracy: 0.9953 - val_loss: 0.1609 - val_accuracy: 0.9663\n",
      "\n",
      "Epoch 00009: val_accuracy did not improve from 0.96704\n",
      "Epoch 10/40\n",
      "79/79 [==============================] - 13s 162ms/step - loss: 0.0159 - accuracy: 0.9961 - val_loss: 0.1645 - val_accuracy: 0.9656\n",
      "\n",
      "Epoch 00010: val_accuracy did not improve from 0.96704\n",
      "Epoch 11/40\n",
      "79/79 [==============================] - 13s 162ms/step - loss: 0.0142 - accuracy: 0.9965 - val_loss: 0.1679 - val_accuracy: 0.9668\n",
      "\n",
      "Epoch 00011: val_accuracy did not improve from 0.96704\n",
      "Epoch 12/40\n",
      "79/79 [==============================] - 13s 162ms/step - loss: 0.0101 - accuracy: 0.9975 - val_loss: 0.1663 - val_accuracy: 0.9675\n",
      "\n",
      "Epoch 00012: val_accuracy improved from 0.96704 to 0.96755, saving model to model4_checkpoint.h5\n",
      "Epoch 13/40\n",
      "79/79 [==============================] - 13s 163ms/step - loss: 0.0077 - accuracy: 0.9981 - val_loss: 0.1783 - val_accuracy: 0.9675\n",
      "\n",
      "Epoch 00013: val_accuracy did not improve from 0.96755\n",
      "Epoch 14/40\n",
      "79/79 [==============================] - 13s 163ms/step - loss: 0.0068 - accuracy: 0.9985 - val_loss: 0.1837 - val_accuracy: 0.9679\n",
      "\n",
      "Epoch 00014: val_accuracy improved from 0.96755 to 0.96787, saving model to model4_checkpoint.h5\n",
      "Epoch 15/40\n",
      "79/79 [==============================] - 13s 162ms/step - loss: 0.0057 - accuracy: 0.9988 - val_loss: 0.1881 - val_accuracy: 0.9667\n",
      "\n",
      "Epoch 00015: val_accuracy did not improve from 0.96787\n",
      "\n",
      "Epoch 00015: ReduceLROnPlateau reducing learning rate to 0.0005000000237487257.\n",
      "Epoch 16/40\n",
      "79/79 [==============================] - 13s 162ms/step - loss: 0.0037 - accuracy: 0.9992 - val_loss: 0.1918 - val_accuracy: 0.9676\n",
      "\n",
      "Epoch 00016: val_accuracy did not improve from 0.96787\n",
      "Epoch 17/40\n",
      "79/79 [==============================] - 13s 162ms/step - loss: 0.0025 - accuracy: 0.9996 - val_loss: 0.1876 - val_accuracy: 0.9682\n",
      "\n",
      "Epoch 00017: val_accuracy improved from 0.96787 to 0.96817, saving model to model4_checkpoint.h5\n",
      "Epoch 18/40\n",
      "79/79 [==============================] - 13s 162ms/step - loss: 0.0019 - accuracy: 0.9998 - val_loss: 0.1903 - val_accuracy: 0.9683\n",
      "\n",
      "Epoch 00018: val_accuracy improved from 0.96817 to 0.96831, saving model to model4_checkpoint.h5\n",
      "Epoch 19/40\n",
      "79/79 [==============================] - 13s 163ms/step - loss: 0.0015 - accuracy: 0.9998 - val_loss: 0.1907 - val_accuracy: 0.9681\n",
      "\n",
      "Epoch 00019: val_accuracy did not improve from 0.96831\n",
      "Epoch 20/40\n",
      "79/79 [==============================] - 13s 163ms/step - loss: 0.0014 - accuracy: 0.9998 - val_loss: 0.1978 - val_accuracy: 0.9680\n",
      "\n",
      "Epoch 00020: val_accuracy did not improve from 0.96831\n",
      "Epoch 21/40\n",
      "79/79 [==============================] - 13s 163ms/step - loss: 0.0013 - accuracy: 0.9998 - val_loss: 0.1970 - val_accuracy: 0.9683\n",
      "\n",
      "Epoch 00021: val_accuracy did not improve from 0.96831\n",
      "Epoch 22/40\n",
      "79/79 [==============================] - 13s 163ms/step - loss: 0.0010 - accuracy: 0.9999 - val_loss: 0.2044 - val_accuracy: 0.9676\n",
      "\n",
      "Epoch 00022: val_accuracy did not improve from 0.96831\n",
      "Epoch 23/40\n",
      "79/79 [==============================] - 13s 162ms/step - loss: 0.0010 - accuracy: 0.9999 - val_loss: 0.2008 - val_accuracy: 0.9681\n",
      "\n",
      "Epoch 00023: val_accuracy did not improve from 0.96831\n",
      "Epoch 24/40\n",
      "79/79 [==============================] - 13s 162ms/step - loss: 8.5608e-04 - accuracy: 0.9999 - val_loss: 0.2060 - val_accuracy: 0.9680\n",
      "\n",
      "Epoch 00024: val_accuracy did not improve from 0.96831\n",
      "Epoch 25/40\n",
      "79/79 [==============================] - 13s 162ms/step - loss: 9.3433e-04 - accuracy: 0.9999 - val_loss: 0.2030 - val_accuracy: 0.9682\n",
      "\n",
      "Epoch 00025: val_accuracy did not improve from 0.96831\n",
      "\n",
      "Epoch 00025: ReduceLROnPlateau reducing learning rate to 0.0002500000118743628.\n",
      "Epoch 26/40\n",
      "79/79 [==============================] - 13s 162ms/step - loss: 7.4951e-04 - accuracy: 0.9999 - val_loss: 0.2058 - val_accuracy: 0.9681\n",
      "\n",
      "Epoch 00026: val_accuracy did not improve from 0.96831\n",
      "Epoch 27/40\n",
      "79/79 [==============================] - 13s 163ms/step - loss: 7.2870e-04 - accuracy: 0.9999 - val_loss: 0.2078 - val_accuracy: 0.9680\n",
      "\n",
      "Epoch 00027: val_accuracy did not improve from 0.96831\n",
      "Epoch 28/40\n",
      "79/79 [==============================] - 13s 162ms/step - loss: 5.5540e-04 - accuracy: 0.9999 - val_loss: 0.2094 - val_accuracy: 0.9680\n",
      "\n",
      "Epoch 00028: val_accuracy did not improve from 0.96831\n",
      "Epoch 29/40\n",
      "79/79 [==============================] - 13s 163ms/step - loss: 5.7804e-04 - accuracy: 1.0000 - val_loss: 0.2109 - val_accuracy: 0.9677\n",
      "\n",
      "Epoch 00029: val_accuracy did not improve from 0.96831\n",
      "Epoch 30/40\n",
      "79/79 [==============================] - 13s 162ms/step - loss: 6.4739e-04 - accuracy: 1.0000 - val_loss: 0.2110 - val_accuracy: 0.9677\n",
      "\n",
      "Epoch 00030: val_accuracy did not improve from 0.96831\n",
      "Epoch 31/40\n",
      "79/79 [==============================] - 13s 162ms/step - loss: 5.2132e-04 - accuracy: 1.0000 - val_loss: 0.2106 - val_accuracy: 0.9679\n",
      "\n",
      "Epoch 00031: val_accuracy did not improve from 0.96831\n",
      "Epoch 32/40\n",
      "79/79 [==============================] - 13s 163ms/step - loss: 5.5303e-04 - accuracy: 1.0000 - val_loss: 0.2114 - val_accuracy: 0.9683\n",
      "\n",
      "Epoch 00032: val_accuracy did not improve from 0.96831\n",
      "Epoch 33/40\n",
      "79/79 [==============================] - 13s 163ms/step - loss: 6.2666e-04 - accuracy: 1.0000 - val_loss: 0.2117 - val_accuracy: 0.9680\n",
      "\n",
      "Epoch 00033: val_accuracy did not improve from 0.96831\n",
      "Epoch 34/40\n",
      "79/79 [==============================] - 13s 163ms/step - loss: 5.9770e-04 - accuracy: 0.9999 - val_loss: 0.2148 - val_accuracy: 0.9678\n",
      "\n",
      "Epoch 00034: val_accuracy did not improve from 0.96831\n",
      "Epoch 35/40\n",
      "79/79 [==============================] - 13s 162ms/step - loss: 7.0804e-04 - accuracy: 0.9999 - val_loss: 0.2145 - val_accuracy: 0.9679\n",
      "\n",
      "Epoch 00035: val_accuracy did not improve from 0.96831\n",
      "\n",
      "Epoch 00035: ReduceLROnPlateau reducing learning rate to 0.0001250000059371814.\n",
      "Epoch 36/40\n",
      "79/79 [==============================] - 13s 162ms/step - loss: 4.8135e-04 - accuracy: 1.0000 - val_loss: 0.2156 - val_accuracy: 0.9680\n",
      "\n",
      "Epoch 00036: val_accuracy did not improve from 0.96831\n",
      "Epoch 37/40\n",
      "79/79 [==============================] - 13s 163ms/step - loss: 5.6425e-04 - accuracy: 1.0000 - val_loss: 0.2157 - val_accuracy: 0.9680\n",
      "\n",
      "Epoch 00037: val_accuracy did not improve from 0.96831\n",
      "Epoch 38/40\n",
      "79/79 [==============================] - 13s 162ms/step - loss: 3.3443e-04 - accuracy: 1.0000 - val_loss: 0.2168 - val_accuracy: 0.9679\n",
      "\n",
      "Epoch 00038: val_accuracy did not improve from 0.96831\n",
      "Epoch 39/40\n",
      "79/79 [==============================] - 13s 163ms/step - loss: 4.3740e-04 - accuracy: 1.0000 - val_loss: 0.2157 - val_accuracy: 0.9680\n",
      "\n",
      "Epoch 00039: val_accuracy did not improve from 0.96831\n",
      "Epoch 40/40\n",
      "79/79 [==============================] - 13s 161ms/step - loss: 4.2336e-04 - accuracy: 1.0000 - val_loss: 0.2174 - val_accuracy: 0.9679\n",
      "\n",
      "Epoch 00040: val_accuracy did not improve from 0.96831\n"
     ]
    }
   ],
   "source": [
    "result = tagger.fit(x_train, y_train, validation_data= (x_val, y_val), epochs = 40, batch_size= 128, shuffle = True,callbacks=[checkpoint,reducelr])"
   ]
  },
  {
   "cell_type": "markdown",
   "metadata": {
    "id": "IFNSgYzFHMtL"
   },
   "source": [
    "## Evaluate Model"
   ]
  },
  {
   "cell_type": "code",
   "execution_count": 17,
   "metadata": {
    "colab": {
     "base_uri": "https://localhost:8080/",
     "height": 573
    },
    "id": "GJd8LeALHMtL",
    "outputId": "3338774e-d19d-411b-baee-48a18aadf71e"
   },
   "outputs": [
    {
     "data": {
      "image/png": "[encoded data removed]",
      "text/plain": [
       "<Figure size 432x288 with 1 Axes>"
      ]
     },
     "metadata": {
      "needs_background": "light",
      "tags": []
     },
     "output_type": "display_data"
    },
    {
     "data": {
      "image/png": "[encoded data removed]",
      "text/plain": [
       "<Figure size 432x288 with 1 Axes>"
      ]
     },
     "metadata": {
      "needs_background": "light",
      "tags": []
     },
     "output_type": "display_data"
    }
   ],
   "source": [
    "plt.plot(result.history['accuracy'])\n",
    "plt.plot(result.history['val_accuracy'])\n",
    "plt.title('model accuracy')\n",
    "plt.ylabel('accuracy')\n",
    "plt.xlabel('epoch')\n",
    "plt.legend(['train','val'],loc='upper left')\n",
    "plt.show()\n",
    "\n",
    "plt.plot(result.history['loss'])\n",
    "plt.plot(result.history['val_loss'])\n",
    "plt.title('model loss')\n",
    "plt.ylabel('loss')\n",
    "plt.xlabel('epoch')\n",
    "plt.legend(['train','val'],loc='upper right')\n",
    "plt.show()"
   ]
  },
  {
   "cell_type": "code",
   "execution_count": 18,
   "metadata": {
    "id": "rEHvZaZNHMtM"
   },
   "outputs": [],
   "source": [
    "tagger.load_weights('model4_checkpoint.h5')"
   ]
  },
  {
   "cell_type": "code",
   "execution_count": 19,
   "metadata": {
    "colab": {
     "base_uri": "https://localhost:8080/"
    },
    "id": "RjplcZ-nHMtM",
    "outputId": "f553ed67-98c9-4012-d60a-69484dae4b06"
   },
   "outputs": [
    {
     "name": "stdout",
     "output_type": "stream",
     "text": [
      "45/45 [==============================] - 1s 16ms/step - loss: 0.1853 - accuracy: 0.9692\n",
      "Loss: 0.18529686331748962\n",
      "Accuracy: 0.9692451357841492\n"
     ]
    }
   ],
   "source": [
    "loss, accuracy = tagger.evaluate(x_test, y_test)\n",
    "print('Loss:',loss)\n",
    "print('Accuracy:',accuracy)"
   ]
  },
  {
   "cell_type": "markdown",
   "metadata": {
    "id": "AcAcNiLSHMtM"
   },
   "source": [
    "## Predict "
   ]
  },
  {
   "cell_type": "code",
   "execution_count": 20,
   "metadata": {
    "id": "OtIb3vkcHMtM"
   },
   "outputs": [],
   "source": [
    "\n",
    "def pos_tagger(sent):\n",
    "    words = sent.split()\n",
    "    words = [x_tokenizer.texts_to_sequences(words)]\n",
    "    words = pad_sequences(words, maxlen=MAX_SEQUENCE_LENGTH, padding=\"post\", truncating=\"post\")\n",
    "    words = np.squeeze(words,axis=-1)\n",
    "    tags = np.squeeze(tagger.predict(words).argmax(-1))\n",
    "    tags = [y_tokenizer.index_word[tag] for tag in tags if tag != 0]\n",
    "    return tags"
   ]
  },
  {
   "cell_type": "code",
   "execution_count": 21,
   "metadata": {
    "colab": {
     "base_uri": "https://localhost:8080/"
    },
    "id": "xtHwfWKsHMtM",
    "outputId": "27550330-bb2b-4818-9a4a-79aa0fba8474"
   },
   "outputs": [
    {
     "name": "stdout",
     "output_type": "stream",
     "text": [
      "جون propernoun\n",
      "يحب verb\n",
      "البيت noun\n",
      "الأزرق noun\n",
      "في preposition\n",
      "نهاية noun\n",
      "الشارع noun\n"
     ]
    }
   ],
   "source": [
    "sentence = \"جون يحب البيت الأزرق في نهاية الشارع\"\n",
    "output = pos_tagger(sentence)\n",
    "pred_tags = [(sentence.split()[i],output[i]) for i in range(len(sentence.split()))]\n",
    "for w,t in pred_tags:\n",
    "    print(w,t)"
   ]
  },
  {
   "cell_type": "markdown",
   "metadata": {
    "id": "OeH0s8C6HMtN"
   },
   "source": [
    "## Evaluate Prediction"
   ]
  },
  {
   "cell_type": "code",
   "execution_count": 22,
   "metadata": {
    "colab": {
     "base_uri": "https://localhost:8080/"
    },
    "id": "2rapMwmXHMtN",
    "outputId": "afb63461-7241-4b66-fa76-891934b590bb"
   },
   "outputs": [
    {
     "data": {
      "text/plain": [
       "100.0"
      ]
     },
     "execution_count": 22,
     "metadata": {
      "tags": []
     },
     "output_type": "execute_result"
    }
   ],
   "source": [
    "from evaluate_pred import *\n",
    "evaluate(sentence, pred_tags)"
   ]
  },
  {
   "cell_type": "code",
   "execution_count": null,
   "metadata": {
    "id": "5PXZ81z5fY-H"
   },
   "outputs": [],
   "source": []
  }
 ],
 "metadata": {
  "accelerator": "GPU",
  "colab": {
   "name": "Model4.ipynb",
   "provenance": []
  },
  "kernelspec": {
   "display_name": "Python 3",
   "language": "python",
   "name": "python3"
  },
  "language_info": {
   "codemirror_mode": {
    "name": "ipython",
    "version": 3
   },
   "file_extension": ".py",
   "mimetype": "text/x-python",
   "name": "python",
   "nbconvert_exporter": "python",
   "pygments_lexer": "ipython3",
   "version": "3.7.10"
  }
 },
 "nbformat": 4,
 "nbformat_minor": 1
}
