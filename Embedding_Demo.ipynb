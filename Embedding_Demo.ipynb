{
 "cells": [
  {
   "cell_type": "code",
   "execution_count": 1,
   "id": "44dd0846-7c49-4358-a38a-43ce6c730c37",
   "metadata": {
    "colab": {
     "base_uri": "https://localhost:8080/"
    },
    "id": "44dd0846-7c49-4358-a38a-43ce6c730c37",
    "outputId": "6777836f-e59e-47f2-9ed2-798a9d92416e"
   },
   "outputs": [],
   "source": [
    "import numpy as np\n",
    "import pandas as pd\n",
    "import gensim\n",
    "import re\n",
    "from pyarabic import araby\n",
    "import matplotlib.pyplot as plt\n",
    "from evaluator import evaluator\n",
    "from pretrained.AraVec import AraVec\n"
   ]
  },
  {
   "cell_type": "code",
   "execution_count": 2,
   "id": "ec34d35c-034b-4d11-8ea6-6767653d47b6",
   "metadata": {
    "id": "ec34d35c-034b-4d11-8ea6-6767653d47b6"
   },
   "outputs": [],
   "source": [
    "def normalize(text):\n",
    "    text = araby.strip_harakat(text)\n",
    "    text = araby.strip_tashkeel(text)\n",
    "    text = araby.strip_small(text)\n",
    "    text = araby.strip_tatweel(text)\n",
    "    text = araby.strip_shadda(text)\n",
    "    text = araby.strip_diacritics(text)\n",
    "    text = araby.normalize_ligature(text)\n",
    "    #text = araby.normalize_hamza(text)\n",
    "    text = araby.normalize_teh(text)\n",
    "    text = araby.normalize_alef(text)\n",
    "    return text\n",
    "\n",
    "def strip_all(text):\n",
    "    l = [' ', '0', '1', '2', '3', '4', '5', '6',\n",
    "       '7', '8', '9', '?', '.', '.'\n",
    "       '؟', 'ء', 'ؤ', 'ئ', 'ا', 'ب', 'ت', 'ث',\n",
    "       'ج', 'ح', 'خ', 'د', 'ذ', 'ر', 'ز', 'س', 'ش', 'ص', 'ض', 'ط', 'ظ',\n",
    "       'ع', 'غ', 'ف', 'ق', 'ك', 'ل', 'م', 'ن', 'ه', 'و', 'ي', '٠', '١',\n",
    "       '٢', '٣', '٤', '٥', '٦', '٧', '٨', '٩']\n",
    "    return \"\".join([x for x in text if x in l])\n",
    "def preprocess(text):\n",
    "    text = normalize(text)\n",
    "    text = strip_all(text)\n",
    "    return text"
   ]
  },
  {
   "cell_type": "code",
   "execution_count": 3,
   "id": "b6ba0efc-2a73-480a-ba4f-92839c6c0ca3",
   "metadata": {
    "id": "b6ba0efc-2a73-480a-ba4f-92839c6c0ca3"
   },
   "outputs": [],
   "source": [
    "from utils.tokenizer import tokenization\n",
    "train_pos = pd.read_csv(\"data/train_Arabic_tweets_positive_20190413.tsv\", sep='\\t', names=[\"label\", \"tweet\"])\n",
    "train_neg = pd.read_csv(\"data/train_Arabic_tweets_negative_20190413.tsv\", sep='\\t', names=[\"label\", \"tweet\"])\n",
    "train = pd.concat([train_pos, train_neg]).sample(frac=1.0, random_state=0)\n",
    "test_pos = pd.read_csv(\"data/train_Arabic_tweets_positive_20190413.tsv\", sep='\\t', names=[\"label\", \"tweet\"])\n",
    "test_neg = pd.read_csv(\"data/train_Arabic_tweets_negative_20190413.tsv\", sep='\\t', names=[\"label\", \"tweet\"])\n",
    "test = pd.concat([test_pos, test_neg]).sample(frac=1.0, random_state=0)\n",
    "\n",
    "train.tweet = train.tweet.apply(preprocess).apply(tokenization).apply(lambda x: [n for c in x.tokens for n in c])\n",
    "\n",
    "sentences = np.concatenate([train.tweet.values, test.tweet.values])"
   ]
  },
  {
   "cell_type": "code",
   "execution_count": 9,
   "id": "d689b554-b3d7-4a43-9649-f071745a6a07",
   "metadata": {},
   "outputs": [
    {
     "name": "stdout",
     "output_type": "stream",
     "text": [
      "Word Similarity (MSE):  0.34109646793783466\n",
      "Concept Categorization) (acc):  0.0823907941410099\n",
      "Epoch 1/5\n",
      "177/177 [==============================] - 18s 67ms/step - loss: 0.6165 - accuracy: 0.6557 - val_loss: 0.5540 - val_accuracy: 0.7100\n",
      "Epoch 2/5\n",
      "177/177 [==============================] - 11s 60ms/step - loss: 0.4915 - accuracy: 0.7634 - val_loss: 0.5105 - val_accuracy: 0.7342\n",
      "Epoch 3/5\n",
      "177/177 [==============================] - 11s 61ms/step - loss: 0.3053 - accuracy: 0.8745 - val_loss: 0.5787 - val_accuracy: 0.7643\n",
      "Epoch 4/5\n",
      "177/177 [==============================] - 11s 61ms/step - loss: 0.1552 - accuracy: 0.9424 - val_loss: 0.7734 - val_accuracy: 0.7600\n",
      "Epoch 5/5\n",
      "177/177 [==============================] - 11s 61ms/step - loss: 0.0827 - accuracy: 0.9709 - val_loss: 0.8015 - val_accuracy: 0.7619\n",
      "Sentiment Analysis (acc):  0.7619489354183232\n"
     ]
    }
   ],
   "source": [
    "aravec = AraVec()\n",
    "\n",
    "word2vec_model_sg = gensim.models.Word2Vec(sentences=sentences, vector_size=100, window=5, min_count=1, workers=4, seed=0, sg=1)\n",
    "word2vec_model_sg.build_vocab(sentences) \n",
    "word2vec_model_sg.train(sentences, total_examples=word2vec_model_sg.corpus_count, epochs=15)\n",
    "\n",
    "embeddings_index = aravec.get_embedding_matrix(word2vec_model_sg)\n",
    "wevaluator = evaluator(embeddings_index, preprocess)\n",
    "scores = wevaluator.evaluate()"
   ]
  },
  {
   "cell_type": "code",
   "execution_count": 4,
   "id": "marine-leader",
   "metadata": {},
   "outputs": [],
   "source": [
    "aravec = AraVec()\n",
    "#model_path = aravec.get_model(\"Twitter_SkipGram_100\", unzip=True)\n",
    "#model = aravec.load_model(model_path)\n",
    "model = aravec.load_model(\"full_grams_sg_100_twitter/full_grams_sg_100_twitter.mdl\")\n",
    "\n",
    "embeddings_index = aravec.get_embedding_matrix(model)\n",
    "wevaluator = evaluator(embeddings_index, preprocess)\n",
    "scores = wevaluator.evaluate()"
   ]
  },
  {
   "cell_type": "code",
   "execution_count": 6,
   "id": "fb307348-9f62-436c-98c2-c9c8b99ca72f",
   "metadata": {},
   "outputs": [
    {
     "name": "stdout",
     "output_type": "stream",
     "text": [
      "Epoch 1/5\n",
      "816/816 [==============================] - 60s 73ms/step - loss: 0.1580\n",
      "Epoch 2/5\n",
      "816/816 [==============================] - 60s 73ms/step - loss: 0.0584\n",
      "Epoch 3/5\n",
      "816/816 [==============================] - 59s 72ms/step - loss: 0.0361\n",
      "Epoch 4/5\n",
      "816/816 [==============================] - 60s 73ms/step - loss: 0.0251\n",
      "Epoch 5/5\n",
      "816/816 [==============================] - 58s 71ms/step - loss: 0.0187\n"
     ]
    },
    {
     "ename": "ValueError",
     "evalue": "No such layer: embedding.",
     "output_type": "error",
     "traceback": [
      "\u001b[0;31m---------------------------------------------------------------------------\u001b[0m",
      "\u001b[0;31mValueError\u001b[0m                                Traceback (most recent call last)",
      "\u001b[0;32m<ipython-input-6-a0eda6bec428>\u001b[0m in \u001b[0;36m<module>\u001b[0;34m\u001b[0m\n\u001b[1;32m     19\u001b[0m \u001b[0mgmodel\u001b[0m \u001b[0;34m=\u001b[0m \u001b[0mGlove\u001b[0m\u001b[0;34m(\u001b[0m\u001b[0;34m)\u001b[0m\u001b[0;34m\u001b[0m\u001b[0;34m\u001b[0m\u001b[0m\n\u001b[1;32m     20\u001b[0m \u001b[0mmodel\u001b[0m \u001b[0;34m=\u001b[0m \u001b[0mgmodel\u001b[0m\u001b[0;34m.\u001b[0m\u001b[0mtrain\u001b[0m\u001b[0;34m(\u001b[0m\u001b[0msentence_inds\u001b[0m\u001b[0;34m,\u001b[0m \u001b[0mnum_tokens\u001b[0m\u001b[0;34m,\u001b[0m \u001b[0;36m100\u001b[0m\u001b[0;34m,\u001b[0m \u001b[0;36m5\u001b[0m\u001b[0;34m,\u001b[0m \u001b[0;36m5\u001b[0m\u001b[0;34m,\u001b[0m \u001b[0;36m2048\u001b[0m\u001b[0;34m)\u001b[0m\u001b[0;34m\u001b[0m\u001b[0;34m\u001b[0m\u001b[0m\n\u001b[0;32m---> 21\u001b[0;31m \u001b[0mmodel\u001b[0m\u001b[0;34m.\u001b[0m\u001b[0mget_layer\u001b[0m\u001b[0;34m(\u001b[0m\u001b[0;34m\"embedding\"\u001b[0m\u001b[0;34m)\u001b[0m\u001b[0;34m.\u001b[0m\u001b[0mget_weights\u001b[0m\u001b[0;34m(\u001b[0m\u001b[0;34m)\u001b[0m\u001b[0;34m[\u001b[0m\u001b[0;36m0\u001b[0m\u001b[0;34m]\u001b[0m\u001b[0;34m.\u001b[0m\u001b[0mshape\u001b[0m\u001b[0;34m\u001b[0m\u001b[0;34m\u001b[0m\u001b[0m\n\u001b[0m\u001b[1;32m     22\u001b[0m \u001b[0;34m\u001b[0m\u001b[0m\n\u001b[1;32m     23\u001b[0m \u001b[0membeddings_index\u001b[0m \u001b[0;34m=\u001b[0m \u001b[0;34m{\u001b[0m\u001b[0;34m}\u001b[0m\u001b[0;34m\u001b[0m\u001b[0;34m\u001b[0m\u001b[0m\n",
      "\u001b[0;32m~/.local/lib/python3.8/site-packages/tensorflow/python/keras/engine/training.py\u001b[0m in \u001b[0;36mget_layer\u001b[0;34m(self, name, index)\u001b[0m\n\u001b[1;32m   2522\u001b[0m         \u001b[0;32mif\u001b[0m \u001b[0mlayer\u001b[0m\u001b[0;34m.\u001b[0m\u001b[0mname\u001b[0m \u001b[0;34m==\u001b[0m \u001b[0mname\u001b[0m\u001b[0;34m:\u001b[0m\u001b[0;34m\u001b[0m\u001b[0;34m\u001b[0m\u001b[0m\n\u001b[1;32m   2523\u001b[0m           \u001b[0;32mreturn\u001b[0m \u001b[0mlayer\u001b[0m\u001b[0;34m\u001b[0m\u001b[0;34m\u001b[0m\u001b[0m\n\u001b[0;32m-> 2524\u001b[0;31m       \u001b[0;32mraise\u001b[0m \u001b[0mValueError\u001b[0m\u001b[0;34m(\u001b[0m\u001b[0;34m'No such layer: '\u001b[0m \u001b[0;34m+\u001b[0m \u001b[0mname\u001b[0m \u001b[0;34m+\u001b[0m \u001b[0;34m'.'\u001b[0m\u001b[0;34m)\u001b[0m\u001b[0;34m\u001b[0m\u001b[0;34m\u001b[0m\u001b[0m\n\u001b[0m\u001b[1;32m   2525\u001b[0m     \u001b[0;32mraise\u001b[0m \u001b[0mValueError\u001b[0m\u001b[0;34m(\u001b[0m\u001b[0;34m'Provide either a layer name or layer index.'\u001b[0m\u001b[0;34m)\u001b[0m\u001b[0;34m\u001b[0m\u001b[0;34m\u001b[0m\u001b[0m\n\u001b[1;32m   2526\u001b[0m \u001b[0;34m\u001b[0m\u001b[0m\n",
      "\u001b[0;31mValueError\u001b[0m: No such layer: embedding."
     ]
    }
   ],
   "source": [
    "from models.glove import Glove\n",
    "\n",
    "num_tokens = np.unique(np.array([y for x in sentences for y in x])).shape[0]\n",
    "vocab = [x for y in train.tweet.values for x in y ]\n",
    "vocab.extend([x for y in test.tweet.values for x in y ])\n",
    "vocab = np.unique(np.array(vocab))\n",
    "word_index = {w: i for i, w in enumerate(vocab)}\n",
    "\n",
    "index_word = {i: w for i, w in enumerate(vocab)}\n",
    "\n",
    "sentence_inds = []\n",
    "for s in sentences:\n",
    "    si = []\n",
    "    for t in s:\n",
    "        si.append(word_index[t])\n",
    "    sentence_inds.append(si)\n",
    "    \n",
    "    \n",
    "gmodel = Glove()\n",
    "model = gmodel.train(sentence_inds, num_tokens, 100, 5, 5, 2048)\n",
    "model.get_layer(\"embedding_4\").get_weights()[0].shape\n",
    "\n",
    "embeddings_index = {}\n",
    "embeds = model.get_layer(\"embedding_4\").get_weights()[0]\n",
    "for idx in range(list(index_word.keys())[-1]):\n",
    "    embeddings_index[index_word[idx]] = embeds[idx]\n",
    "    \n",
    "wevaluator = evaluator(embeddings_index, preprocess)\n",
    "scores = wevaluator.evaluate()"
   ]
  },
  {
   "cell_type": "code",
   "execution_count": 8,
   "id": "6beb5dd4-313b-4b5a-92c4-c5284b910ccc",
   "metadata": {},
   "outputs": [
    {
     "name": "stdout",
     "output_type": "stream",
     "text": [
      "Word Similarity (MSE):  0.5322430952245734\n",
      "Concept Categorization) (acc):  0.05540086960722457\n",
      "Epoch 1/5\n",
      "177/177 [==============================] - 17s 66ms/step - loss: 0.5902 - accuracy: 0.6667 - val_loss: 0.4912 - val_accuracy: 0.7449\n",
      "Epoch 2/5\n",
      "177/177 [==============================] - 10s 58ms/step - loss: 0.3372 - accuracy: 0.8535 - val_loss: 0.5101 - val_accuracy: 0.7638\n",
      "Epoch 3/5\n",
      "177/177 [==============================] - 10s 58ms/step - loss: 0.1483 - accuracy: 0.9434 - val_loss: 0.6682 - val_accuracy: 0.7583\n",
      "Epoch 4/5\n",
      "177/177 [==============================] - 10s 59ms/step - loss: 0.0825 - accuracy: 0.9713 - val_loss: 0.8109 - val_accuracy: 0.7598\n",
      "Epoch 5/5\n",
      "177/177 [==============================] - 10s 59ms/step - loss: 0.0712 - accuracy: 0.9737 - val_loss: 0.8736 - val_accuracy: 0.7573\n",
      "Sentiment Analysis (acc):  0.75731071649439\n"
     ]
    }
   ],
   "source": [
    "model.get_layer(\"embedding_4\").get_weights()[0].shape\n",
    "\n",
    "embeddings_index = {}\n",
    "embeds = model.get_layer(\"embedding_4\").get_weights()[0]\n",
    "for idx in range(list(index_word.keys())[-1]):\n",
    "    embeddings_index[index_word[idx]] = embeds[idx]\n",
    "    \n",
    "wevaluator = evaluator(embeddings_index, preprocess)\n",
    "scores = wevaluator.evaluate()"
   ]
  },
  {
   "cell_type": "code",
   "execution_count": 6,
   "id": "1efdb856-2592-4823-a457-d15767a8d31f",
   "metadata": {},
   "outputs": [
    {
     "name": "stdout",
     "output_type": "stream",
     "text": [
      "WARNING:tensorflow:From /home/mmi333/.local/lib/python3.8/site-packages/tensorflow/python/ops/array_ops.py:5043: calling gather (from tensorflow.python.ops.array_ops) with validate_indices is deprecated and will be removed in a future version.\n",
      "Instructions for updating:\n",
      "The `validate_indices` argument has no effect. Indices are always validated on CPU and never validated on GPU.\n"
     ]
    },
    {
     "name": "stderr",
     "output_type": "stream",
     "text": [
      "/home/mmi333/.local/lib/python3.8/site-packages/tensorflow/python/keras/engine/training.py:1940: UserWarning: `Model.fit_generator` is deprecated and will be removed in a future version. Please use `Model.fit`, which supports generators.\n",
      "  warnings.warn('`Model.fit_generator` is deprecated and '\n"
     ]
    },
    {
     "name": "stdout",
     "output_type": "stream",
     "text": [
      "Epoch 1/5\n",
      "20998/20998 [==============================] - 85s 4ms/step - loss: 0.0066\n",
      "Epoch 2/5\n",
      "20998/20998 [==============================] - 84s 4ms/step - loss: 0.0023\n",
      "Epoch 3/5\n",
      "20998/20998 [==============================] - 84s 4ms/step - loss: 0.0029\n",
      "Epoch 4/5\n",
      "20998/20998 [==============================] - 84s 4ms/step - loss: 0.0017\n",
      "Epoch 5/5\n",
      "20998/20998 [==============================] - 85s 4ms/step - loss: 0.0013\n"
     ]
    }
   ],
   "source": [
    "from models.W2V import W2V\n",
    "\n",
    "num_tokens = np.unique(np.array([y for x in sentences for y in x])).shape[0]\n",
    "vocab = [x for y in train.tweet.values for x in y ]\n",
    "vocab.extend([x for y in test.tweet.values for x in y ])\n",
    "vocab = np.unique(np.array(vocab))\n",
    "word_index = {w: i for i, w in enumerate(vocab)}\n",
    "\n",
    "index_word = {i: w for i, w in enumerate(vocab)}\n",
    "\n",
    "sentence_inds = []\n",
    "for s in sentences:\n",
    "    si = []\n",
    "    for t in s:\n",
    "        si.append(word_index[t])\n",
    "    sentence_inds.append(si)\n",
    "    \n",
    "cont_seq = [y for x in sentence_inds for y in x]    \n",
    "w2v_model = W2V()\n",
    "model = w2v_model.train(np.array(cont_seq), window_size=5, vocab_size=num_tokens+1, vector_dim=100, lr=0.05, negative_samples=2, batch_size=2048, epochs=5, verbose=1)\n"
   ]
  },
  {
   "cell_type": "code",
   "execution_count": 7,
   "id": "968ef8b5-8c66-4572-8e93-8c36476b2d21",
   "metadata": {},
   "outputs": [
    {
     "name": "stdout",
     "output_type": "stream",
     "text": [
      "Word Similarity (MSE):  0.5871207932232969\n",
      "Concept Categorization) (acc):  0.05228469636202186\n",
      "Epoch 1/5\n",
      "177/177 [==============================] - 17s 69ms/step - loss: 0.5586 - accuracy: 0.6958 - val_loss: 0.4670 - val_accuracy: 0.7551\n",
      "Epoch 2/5\n",
      "177/177 [==============================] - 11s 59ms/step - loss: 0.2747 - accuracy: 0.8883 - val_loss: 0.5404 - val_accuracy: 0.7513\n",
      "Epoch 3/5\n",
      "177/177 [==============================] - 11s 60ms/step - loss: 0.1300 - accuracy: 0.9538 - val_loss: 0.7165 - val_accuracy: 0.7539\n",
      "Epoch 4/5\n",
      "177/177 [==============================] - 11s 60ms/step - loss: 0.0721 - accuracy: 0.9768 - val_loss: 0.7856 - val_accuracy: 0.7573\n",
      "Epoch 5/5\n",
      "177/177 [==============================] - 11s 61ms/step - loss: 0.0614 - accuracy: 0.9788 - val_loss: 0.8238 - val_accuracy: 0.7587\n",
      "Sentiment Analysis (acc):  0.7587242689283505\n"
     ]
    }
   ],
   "source": [
    "\n",
    "embeddings_index = {}\n",
    "embeds = model.get_layer(\"word_embedding\").get_weights()[0]\n",
    "for idx in range(list(index_word.keys())[-1]):\n",
    "    embeddings_index[index_word[idx]] = embeds[idx]\n",
    "    \n",
    "wevaluator = evaluator(embeddings_index, preprocess)\n",
    "scores = wevaluator.evaluate()"
   ]
  },
  {
   "cell_type": "code",
   "execution_count": null,
   "id": "6f7a73e2-5684-4fe3-9651-8c21da219484",
   "metadata": {},
   "outputs": [],
   "source": []
  }
 ],
 "metadata": {
  "accelerator": "GPU",
  "colab": {
   "collapsed_sections": [],
   "name": "Demo.ipynb",
   "provenance": []
  },
  "kernelspec": {
   "display_name": "Python 3",
   "language": "python",
   "name": "python3"
  },
  "language_info": {
   "codemirror_mode": {
    "name": "ipython",
    "version": 3
   },
   "file_extension": ".py",
   "mimetype": "text/x-python",
   "name": "python",
   "nbconvert_exporter": "python",
   "pygments_lexer": "ipython3",
   "version": "3.8.5"
  },
  "widgets": {
   "application/vnd.jupyter.widget-state+json": {
    "1171428605b143d1bc00cee9e3ded25b": {
     "model_module": "@jupyter-widgets/base",
     "model_name": "LayoutModel",
     "state": {
      "_model_module": "@jupyter-widgets/base",
      "_model_module_version": "1.2.0",
      "_model_name": "LayoutModel",
      "_view_count": null,
      "_view_module": "@jupyter-widgets/base",
      "_view_module_version": "1.2.0",
      "_view_name": "LayoutView",
      "align_content": null,
      "align_items": null,
      "align_self": null,
      "border": null,
      "bottom": null,
      "display": null,
      "flex": null,
      "flex_flow": null,
      "grid_area": null,
      "grid_auto_columns": null,
      "grid_auto_flow": null,
      "grid_auto_rows": null,
      "grid_column": null,
      "grid_gap": null,
      "grid_row": null,
      "grid_template_areas": null,
      "grid_template_columns": null,
      "grid_template_rows": null,
      "height": null,
      "justify_content": null,
      "justify_items": null,
      "left": null,
      "margin": null,
      "max_height": null,
      "max_width": null,
      "min_height": null,
      "min_width": null,
      "object_fit": null,
      "object_position": null,
      "order": null,
      "overflow": null,
      "overflow_x": null,
      "overflow_y": null,
      "padding": null,
      "right": null,
      "top": null,
      "visibility": null,
      "width": null
     }
    },
    "252b6a14984545a684aeaff90818c2ae": {
     "model_module": "@jupyter-widgets/base",
     "model_name": "LayoutModel",
     "state": {
      "_model_module": "@jupyter-widgets/base",
      "_model_module_version": "1.2.0",
      "_model_name": "LayoutModel",
      "_view_count": null,
      "_view_module": "@jupyter-widgets/base",
      "_view_module_version": "1.2.0",
      "_view_name": "LayoutView",
      "align_content": null,
      "align_items": null,
      "align_self": null,
      "border": null,
      "bottom": null,
      "display": null,
      "flex": null,
      "flex_flow": null,
      "grid_area": null,
      "grid_auto_columns": null,
      "grid_auto_flow": null,
      "grid_auto_rows": null,
      "grid_column": null,
      "grid_gap": null,
      "grid_row": null,
      "grid_template_areas": null,
      "grid_template_columns": null,
      "grid_template_rows": null,
      "height": null,
      "justify_content": null,
      "justify_items": null,
      "left": null,
      "margin": null,
      "max_height": null,
      "max_width": null,
      "min_height": null,
      "min_width": null,
      "object_fit": null,
      "object_position": null,
      "order": null,
      "overflow": null,
      "overflow_x": null,
      "overflow_y": null,
      "padding": null,
      "right": null,
      "top": null,
      "visibility": null,
      "width": null
     }
    },
    "2dc4fa91529047369720a951d77e39e6": {
     "model_module": "@jupyter-widgets/controls",
     "model_name": "ProgressStyleModel",
     "state": {
      "_model_module": "@jupyter-widgets/controls",
      "_model_module_version": "1.5.0",
      "_model_name": "ProgressStyleModel",
      "_view_count": null,
      "_view_module": "@jupyter-widgets/base",
      "_view_module_version": "1.2.0",
      "_view_name": "StyleView",
      "bar_color": null,
      "description_width": "initial"
     }
    },
    "8a1c523e5a234220a6f0e1deab0e0083": {
     "model_module": "@jupyter-widgets/controls",
     "model_name": "HBoxModel",
     "state": {
      "_dom_classes": [],
      "_model_module": "@jupyter-widgets/controls",
      "_model_module_version": "1.5.0",
      "_model_name": "HBoxModel",
      "_view_count": null,
      "_view_module": "@jupyter-widgets/controls",
      "_view_module_version": "1.5.0",
      "_view_name": "HBoxView",
      "box_style": "",
      "children": [
       "IPY_MODEL_ede198ccc18446b3a021f8f0d21294ff",
       "IPY_MODEL_8fb5dd2f07cb4dcaad0a5d7dac81485f"
      ],
      "layout": "IPY_MODEL_252b6a14984545a684aeaff90818c2ae"
     }
    },
    "8fb5dd2f07cb4dcaad0a5d7dac81485f": {
     "model_module": "@jupyter-widgets/controls",
     "model_name": "HTMLModel",
     "state": {
      "_dom_classes": [],
      "_model_module": "@jupyter-widgets/controls",
      "_model_module_version": "1.5.0",
      "_model_name": "HTMLModel",
      "_view_count": null,
      "_view_module": "@jupyter-widgets/controls",
      "_view_module_version": "1.5.0",
      "_view_name": "HTMLView",
      "description": "",
      "description_tooltip": null,
      "layout": "IPY_MODEL_efd9a8f7521946f0b04681246bf6fb58",
      "placeholder": "​",
      "style": "IPY_MODEL_b670450c54df49c7959a58a55ccd977d",
      "value": " 170M/170M [00:09&lt;00:00, 18.5MB/s]"
     }
    },
    "b670450c54df49c7959a58a55ccd977d": {
     "model_module": "@jupyter-widgets/controls",
     "model_name": "DescriptionStyleModel",
     "state": {
      "_model_module": "@jupyter-widgets/controls",
      "_model_module_version": "1.5.0",
      "_model_name": "DescriptionStyleModel",
      "_view_count": null,
      "_view_module": "@jupyter-widgets/base",
      "_view_module_version": "1.2.0",
      "_view_name": "StyleView",
      "description_width": ""
     }
    },
    "ede198ccc18446b3a021f8f0d21294ff": {
     "model_module": "@jupyter-widgets/controls",
     "model_name": "FloatProgressModel",
     "state": {
      "_dom_classes": [],
      "_model_module": "@jupyter-widgets/controls",
      "_model_module_version": "1.5.0",
      "_model_name": "FloatProgressModel",
      "_view_count": null,
      "_view_module": "@jupyter-widgets/controls",
      "_view_module_version": "1.5.0",
      "_view_name": "ProgressView",
      "bar_style": "success",
      "description": "Downloading: 100%",
      "description_tooltip": null,
      "layout": "IPY_MODEL_1171428605b143d1bc00cee9e3ded25b",
      "max": 169735531,
      "min": 0,
      "orientation": "horizontal",
      "style": "IPY_MODEL_2dc4fa91529047369720a951d77e39e6",
      "value": 169735531
     }
    },
    "efd9a8f7521946f0b04681246bf6fb58": {
     "model_module": "@jupyter-widgets/base",
     "model_name": "LayoutModel",
     "state": {
      "_model_module": "@jupyter-widgets/base",
      "_model_module_version": "1.2.0",
      "_model_name": "LayoutModel",
      "_view_count": null,
      "_view_module": "@jupyter-widgets/base",
      "_view_module_version": "1.2.0",
      "_view_name": "LayoutView",
      "align_content": null,
      "align_items": null,
      "align_self": null,
      "border": null,
      "bottom": null,
      "display": null,
      "flex": null,
      "flex_flow": null,
      "grid_area": null,
      "grid_auto_columns": null,
      "grid_auto_flow": null,
      "grid_auto_rows": null,
      "grid_column": null,
      "grid_gap": null,
      "grid_row": null,
      "grid_template_areas": null,
      "grid_template_columns": null,
      "grid_template_rows": null,
      "height": null,
      "justify_content": null,
      "justify_items": null,
      "left": null,
      "margin": null,
      "max_height": null,
      "max_width": null,
      "min_height": null,
      "min_width": null,
      "object_fit": null,
      "object_position": null,
      "order": null,
      "overflow": null,
      "overflow_x": null,
      "overflow_y": null,
      "padding": null,
      "right": null,
      "top": null,
      "visibility": null,
      "width": null
     }
    }
   }
  }
 },
 "nbformat": 4,
 "nbformat_minor": 5
}
