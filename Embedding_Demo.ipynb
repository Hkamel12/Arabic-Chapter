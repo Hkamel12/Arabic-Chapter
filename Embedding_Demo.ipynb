{
 "cells": [
  {
   "cell_type": "code",
   "execution_count": 1,
   "id": "44dd0846-7c49-4358-a38a-43ce6c730c37",
   "metadata": {
    "colab": {
     "base_uri": "https://localhost:8080/"
    },
    "id": "44dd0846-7c49-4358-a38a-43ce6c730c37",
    "outputId": "6777836f-e59e-47f2-9ed2-798a9d92416e"
   },
   "outputs": [],
   "source": [
    "import gensim\n",
    "import zipfile\n",
    "import numpy as np\n",
    "import pandas as pd\n",
    "from pyarabic import araby\n",
    "from tensorflow.keras.utils import to_categorical\n",
    "from tensorflow.keras.preprocessing.sequence import pad_sequences\n",
    "\n",
    "\n",
    "from utils import helper\n",
    "from evaluator import evaluator\n",
    "from pretrained.AraVec import AraVec\n",
    "from utils.tokenizer import tokenization\n",
    "\n",
    "np.random.seed(0)"
   ]
  },
  {
   "cell_type": "code",
   "execution_count": 2,
   "id": "ec34d35c-034b-4d11-8ea6-6767653d47b6",
   "metadata": {
    "id": "ec34d35c-034b-4d11-8ea6-6767653d47b6"
   },
   "outputs": [],
   "source": [
    "def normalize(text):\n",
    "    text = araby.strip_harakat(text)\n",
    "    text = araby.strip_tashkeel(text)\n",
    "    text = araby.strip_small(text)\n",
    "    text = araby.strip_tatweel(text)\n",
    "    text = araby.strip_shadda(text)\n",
    "    text = araby.strip_diacritics(text)\n",
    "    text = araby.normalize_ligature(text)\n",
    "    text = araby.normalize_teh(text)\n",
    "    text = araby.normalize_alef(text)\n",
    "    return text\n",
    "\n",
    "def strip_all(text):\n",
    "    l = [' ', '0', '1', '2', '3', '4', '5', '6',\n",
    "       '7', '8', '9', '?', '.', '.'\n",
    "       '؟', 'ء', 'ؤ', 'ئ', 'ا', 'ب', 'ت', 'ث',\n",
    "       'ج', 'ح', 'خ', 'د', 'ذ', 'ر', 'ز', 'س', 'ش', 'ص', 'ض', 'ط', 'ظ',\n",
    "       'ع', 'غ', 'ف', 'ق', 'ك', 'ل', 'م', 'ن', 'ه', 'و', 'ي', '٠', '١',\n",
    "       '٢', '٣', '٤', '٥', '٦', '٧', '٨', '٩']\n",
    "    return \"\".join([x for x in text if x in l])\n",
    "def preprocess(text):\n",
    "    text = normalize(text)\n",
    "    text = strip_all(text)\n",
    "    return text\n",
    "\n",
    "\n",
    "def get_tokens(text):\n",
    "    return tokenization(text).tokens[0]\n"
   ]
  },
  {
   "cell_type": "code",
   "execution_count": 3,
   "id": "b6ba0efc-2a73-480a-ba4f-92839c6c0ca3",
   "metadata": {
    "id": "b6ba0efc-2a73-480a-ba4f-92839c6c0ca3"
   },
   "outputs": [],
   "source": [
    "train_pos = pd.read_csv(\"data/train_Arabic_tweets_positive_20190413.tsv\", sep='\\t', names=[\"label\", \"tweet\"])\n",
    "train_neg = pd.read_csv(\"data/train_Arabic_tweets_negative_20190413.tsv\", sep='\\t', names=[\"label\", \"tweet\"])\n",
    "train = pd.concat([train_pos, train_neg])\n",
    "test_pos = pd.read_csv(\"data/train_Arabic_tweets_positive_20190413.tsv\", sep='\\t', names=[\"label\", \"tweet\"])\n",
    "test_neg = pd.read_csv(\"data/train_Arabic_tweets_negative_20190413.tsv\", sep='\\t', names=[\"label\", \"tweet\"])\n",
    "test = pd.concat([test_pos, test_neg])\n",
    "\n",
    "train.tweet = train.tweet.apply(preprocess)\n",
    "test.tweet = test.tweet.apply(preprocess)\n",
    "\n",
    "data = pd.concat([train, test])\n",
    "tokens = data.tweet.apply(get_tokens).values"
   ]
  },
  {
   "cell_type": "code",
   "execution_count": 4,
   "id": "marine-leader",
   "metadata": {},
   "outputs": [
    {
     "name": "stdout",
     "output_type": "stream",
     "text": [
      "Word Analogy (acc):  0.10144927536231885\n",
      "Word Similarity (MSE):  0.2602355396083907\n",
      "Concept Categorization (purity):  0.31052141527001864\n",
      "Epoch 1/5\n",
      "177/177 [==============================] - 18s 65ms/step - loss: 0.6013 - accuracy: 0.6735 - val_loss: 0.5350 - val_accuracy: 0.7295\n",
      "Epoch 2/5\n",
      "177/177 [==============================] - 11s 60ms/step - loss: 0.4576 - accuracy: 0.7860 - val_loss: 0.5098 - val_accuracy: 0.7482\n",
      "Epoch 3/5\n",
      "177/177 [==============================] - 11s 60ms/step - loss: 0.3237 - accuracy: 0.8598 - val_loss: 0.5280 - val_accuracy: 0.7564\n",
      "Epoch 4/5\n",
      "177/177 [==============================] - 11s 60ms/step - loss: 0.2050 - accuracy: 0.9157 - val_loss: 0.6900 - val_accuracy: 0.7560\n",
      "Epoch 5/5\n",
      "177/177 [==============================] - 11s 61ms/step - loss: 0.1179 - accuracy: 0.9563 - val_loss: 0.7919 - val_accuracy: 0.7513\n",
      "Sentiment Analysis (acc):  0.7513472921636187\n"
     ]
    }
   ],
   "source": [
    "aravec = AraVec()\n",
    "model_path = aravec.get_model(\"Twitter_SkipGram_100\", unzip=True)\n",
    "model = aravec.load_model(model_path)\n",
    "\n",
    "embeddings_index = helper.get_embedding_matrix(model)\n",
    "wevaluator = evaluator(embeddings_index, preprocess, 100)\n",
    "scores = wevaluator.evaluate()"
   ]
  },
  {
   "cell_type": "code",
   "execution_count": 17,
   "id": "41c23575-80b2-49af-a9b5-1eb3b3d210c2",
   "metadata": {},
   "outputs": [],
   "source": [
    "with zipfile.ZipFile(\"pretrained/mottagah.zip\", 'r') as zipf:\n",
    "    zipf.extractall(\"pretrained/\")"
   ]
  },
  {
   "cell_type": "code",
   "execution_count": 18,
   "id": "ae805dbb-12fd-43f3-a95b-49189ccabc3c",
   "metadata": {},
   "outputs": [
    {
     "name": "stdout",
     "output_type": "stream",
     "text": [
      "Word Analogy (acc):  0.13043478260869565\n",
      "Word Similarity (MSE):  0.3292717506104365\n",
      "Concept Categorization) (purity):  0.313780260707635\n",
      "Epoch 1/5\n",
      "177/177 [==============================] - 39s 180ms/step - loss: 0.6015 - accuracy: 0.6657 - val_loss: 0.5314 - val_accuracy: 0.7234\n",
      "Epoch 2/5\n",
      "177/177 [==============================] - 31s 173ms/step - loss: 0.4047 - accuracy: 0.8157 - val_loss: 0.5122 - val_accuracy: 0.7537\n",
      "Epoch 3/5\n",
      "177/177 [==============================] - 30s 172ms/step - loss: 0.1996 - accuracy: 0.9214 - val_loss: 0.6474 - val_accuracy: 0.7431\n",
      "Epoch 4/5\n",
      "177/177 [==============================] - 31s 173ms/step - loss: 0.1093 - accuracy: 0.9602 - val_loss: 0.7887 - val_accuracy: 0.7452\n",
      "Epoch 5/5\n",
      "177/177 [==============================] - 31s 177ms/step - loss: 0.0667 - accuracy: 0.9754 - val_loss: 0.9223 - val_accuracy: 0.7438\n",
      "Sentiment Analysis (acc):  0.7437936213446418\n"
     ]
    }
   ],
   "source": [
    "model = gensim.models.Word2Vec.load(\"pretrained/mottagah/mottagah\")\n",
    "\n",
    "embeddings_index = helper.get_embedding_matrix(model)\n",
    "wevaluator = evaluator(embeddings_index, preprocess, 300)\n",
    "scores = wevaluator.evaluate()"
   ]
  },
  {
   "cell_type": "code",
   "execution_count": 8,
   "id": "9a09e61e-ecdc-4ac0-9ffb-69de6ba0bd14",
   "metadata": {},
   "outputs": [],
   "source": [
    "helper.save_embeddings(embeddings_index, \"mottagah.pkl\")"
   ]
  },
  {
   "cell_type": "code",
   "execution_count": 2,
   "id": "6c533b42-e04d-4835-b6df-d0436daefae7",
   "metadata": {},
   "outputs": [],
   "source": [
    "embeddings_index = helper.load_embeddings(\"mottagah.pkl\")"
   ]
  },
  {
   "cell_type": "code",
   "execution_count": 6,
   "id": "d0bd95b3-6211-4df9-9753-374f30fcb269",
   "metadata": {},
   "outputs": [
    {
     "data": {
      "image/png": "[encoded data removed]",
      "text/plain": [
       "<Figure size 1152x1152 with 1 Axes>"
      ]
     },
     "metadata": {
      "needs_background": "light"
     },
     "output_type": "display_data"
    }
   ],
   "source": [
    "helper.plot(embeddings_index, 'mottagah')"
   ]
  },
  {
   "cell_type": "code",
   "execution_count": 5,
   "id": "41b5df5e-4d37-47fa-a3c3-e964051c4fea",
   "metadata": {},
   "outputs": [
    {
     "data": {
      "text/plain": [
       "[('١٩', 0.6374679207801819),\n",
       " ('المستجد', 0.6315629482269287),\n",
       " ('19', 0.6102045774459839),\n",
       " ('كوفيد19', 0.5951632261276245),\n",
       " ('لكوفيد', 0.5279813408851624),\n",
       " ('فيروس', 0.5156537890434265),\n",
       " ('كوروناالمستجد', 0.509548008441925),\n",
       " ('مرض', 0.4992513060569763),\n",
       " ('كورنا', 0.4914577603340149),\n",
       " ('كرونا', 0.48930028080940247)]"
      ]
     },
     "execution_count": 5,
     "metadata": {},
     "output_type": "execute_result"
    }
   ],
   "source": [
    "model.wv.most_similar(\"كوفيد\")"
   ]
  },
  {
   "cell_type": "code",
   "execution_count": 4,
   "id": "d689b554-b3d7-4a43-9649-f071745a6a07",
   "metadata": {},
   "outputs": [
    {
     "name": "stdout",
     "output_type": "stream",
     "text": [
      "Word Analogy (acc):  0.021739130434782608\n",
      "Word Similarity (MSE):  0.37766943941602377\n",
      "Concept Categorization) (purity):  0.12243947858472998\n",
      "Epoch 1/5\n",
      "177/177 [==============================] - 17s 66ms/step - loss: 0.6217 - accuracy: 0.6406 - val_loss: 0.5601 - val_accuracy: 0.6974\n",
      "Epoch 2/5\n",
      "177/177 [==============================] - 10s 57ms/step - loss: 0.4676 - accuracy: 0.7739 - val_loss: 0.4871 - val_accuracy: 0.7585\n",
      "Epoch 3/5\n",
      "177/177 [==============================] - 10s 57ms/step - loss: 0.2605 - accuracy: 0.8936 - val_loss: 0.5334 - val_accuracy: 0.7566\n",
      "Epoch 4/5\n",
      "177/177 [==============================] - 10s 57ms/step - loss: 0.1377 - accuracy: 0.9496 - val_loss: 0.6549 - val_accuracy: 0.7564\n",
      "Epoch 5/5\n",
      "177/177 [==============================] - 10s 57ms/step - loss: 0.0810 - accuracy: 0.9712 - val_loss: 0.7855 - val_accuracy: 0.7631\n",
      "Sentiment Analysis (acc):  0.7630532732573548\n"
     ]
    }
   ],
   "source": [
    "word2vec_model_sg = gensim.models.Word2Vec(sentences=tokens, vector_size=100, window=5, min_count=1, workers=4, seed=0, sg=1)\n",
    "word2vec_model_sg.build_vocab(tokens) \n",
    "word2vec_model_sg.train(tokens, total_examples=word2vec_model_sg.corpus_count, epochs=5)\n",
    "\n",
    "embeddings_index = helper.get_embedding_matrix(word2vec_model_sg)\n",
    "wevaluator = evaluator(embeddings_index, preprocess, 100)\n",
    "scores = wevaluator.evaluate()"
   ]
  },
  {
   "cell_type": "code",
   "execution_count": 5,
   "id": "1efdb856-2592-4823-a457-d15767a8d31f",
   "metadata": {},
   "outputs": [
    {
     "name": "stdout",
     "output_type": "stream",
     "text": [
      "Epoch 1/5\n",
      "5148/5148 [==============================] - 21s 4ms/step - loss: 0.0362\n",
      "Epoch 2/5\n",
      "5148/5148 [==============================] - 21s 4ms/step - loss: 0.0170\n",
      "Epoch 3/5\n",
      "5148/5148 [==============================] - 21s 4ms/step - loss: 0.0128\n",
      "Epoch 4/5\n",
      "5148/5148 [==============================] - 21s 4ms/step - loss: 0.0129\n",
      "Epoch 5/5\n",
      "5148/5148 [==============================] - 21s 4ms/step - loss: 0.0134\n",
      "Word Analogy (acc):  0.028985507246376812\n",
      "Word Similarity (MSE):  0.5819037982332124\n",
      "Concept Categorization) (purity):  0.12523277467411545\n",
      "Epoch 1/5\n",
      "177/177 [==============================] - 16s 65ms/step - loss: 0.5805 - accuracy: 0.6667 - val_loss: 0.4929 - val_accuracy: 0.7369\n",
      "Epoch 2/5\n",
      "177/177 [==============================] - 10s 57ms/step - loss: 0.3084 - accuracy: 0.8728 - val_loss: 0.5219 - val_accuracy: 0.7517\n",
      "Epoch 3/5\n",
      "177/177 [==============================] - 10s 57ms/step - loss: 0.1438 - accuracy: 0.9464 - val_loss: 0.6549 - val_accuracy: 0.7484\n",
      "Epoch 4/5\n",
      "177/177 [==============================] - 10s 57ms/step - loss: 0.0803 - accuracy: 0.9728 - val_loss: 0.7866 - val_accuracy: 0.7495\n",
      "Epoch 5/5\n",
      "177/177 [==============================] - 10s 56ms/step - loss: 0.0667 - accuracy: 0.9753 - val_loss: 0.8744 - val_accuracy: 0.7492\n",
      "Sentiment Analysis (acc):  0.7492269635126778\n"
     ]
    }
   ],
   "source": [
    "from models.Word2Vec import Word2Vec\n",
    "\n",
    "sentence_inds, vocab, num_tokens, word_index, index_word = helper.encode_tokens(tokens)\n",
    "embedding_dims = 100\n",
    "word2vec_model = Word2Vec()\n",
    "model = word2vec_model.train(sentence_inds, window_size=5, vocab_size=num_tokens+1, vector_dim=embedding_dims, lr=0.05, negative_samples=2, batch_size=2048, epochs=5, verbose=1)\n",
    "embeddings_index = helper.get_embedding_matrix(model, index_word)    \n",
    "wevaluator = evaluator(embeddings_index, preprocess, embedding_dims)\n",
    "scores = wevaluator.evaluate()"
   ]
  },
  {
   "cell_type": "code",
   "execution_count": 6,
   "id": "fb307348-9f62-436c-98c2-c9c8b99ca72f",
   "metadata": {
    "tags": []
   },
   "outputs": [
    {
     "name": "stdout",
     "output_type": "stream",
     "text": [
      "Epoch 1/5\n",
      "653/653 [==============================] - 45s 68ms/step - loss: 0.1491\n",
      "Epoch 2/5\n",
      "653/653 [==============================] - 45s 69ms/step - loss: 0.0878\n",
      "Epoch 3/5\n",
      "653/653 [==============================] - 45s 68ms/step - loss: 0.0546\n",
      "Epoch 4/5\n",
      "653/653 [==============================] - 45s 70ms/step - loss: 0.0358\n",
      "Epoch 5/5\n",
      "653/653 [==============================] - 45s 68ms/step - loss: 0.0257\n",
      "Word Analogy (acc):  0.028985507246376812\n",
      "Word Similarity (MSE):  0.5608709344595465\n",
      "Concept Categorization) (purity):  0.12476722532588454\n",
      "Epoch 1/5\n",
      "177/177 [==============================] - 15s 62ms/step - loss: 0.6030 - accuracy: 0.6540 - val_loss: 0.5132 - val_accuracy: 0.7263\n",
      "Epoch 2/5\n",
      "177/177 [==============================] - 11s 59ms/step - loss: 0.3567 - accuracy: 0.8468 - val_loss: 0.5260 - val_accuracy: 0.7516\n",
      "Epoch 3/5\n",
      "177/177 [==============================] - 10s 59ms/step - loss: 0.1640 - accuracy: 0.9395 - val_loss: 0.6743 - val_accuracy: 0.7374\n",
      "Epoch 4/5\n",
      "177/177 [==============================] - 10s 58ms/step - loss: 0.0852 - accuracy: 0.9706 - val_loss: 0.7896 - val_accuracy: 0.7439\n",
      "Epoch 5/5\n",
      "177/177 [==============================] - 10s 58ms/step - loss: 0.0745 - accuracy: 0.9719 - val_loss: 0.8700 - val_accuracy: 0.7446\n",
      "Sentiment Analysis (acc):  0.7446329181023058\n"
     ]
    }
   ],
   "source": [
    "from models.Glove import Glove\n",
    "\n",
    "sentence_inds, vocab, num_tokens, word_index, index_word = helper.encode_tokens(tokens)\n",
    "    \n",
    "gmodel = Glove()\n",
    "model = gmodel.train(sentence_inds, num_tokens, 100, 5, 5, 2048)\n",
    "embeddings_index = helper.get_embedding_matrix(model, index_word)\n",
    "wevaluator = evaluator(embeddings_index, preprocess, 100)\n",
    "scores = wevaluator.evaluate()"
   ]
  },
  {
   "cell_type": "code",
   "execution_count": 12,
   "id": "b367a29f-dae5-44cc-8ce3-6f6e98f3402b",
   "metadata": {},
   "outputs": [
    {
     "name": "stdout",
     "output_type": "stream",
     "text": [
      "Epoch 1/5\n",
      "496/496 [==============================] - 30s 54ms/step - loss: 0.4504 - accuracy: 0.7732 - val_loss: 0.3200 - val_accuracy: 0.8568\n",
      "Epoch 2/5\n",
      "496/496 [==============================] - 26s 52ms/step - loss: 0.1843 - accuracy: 0.9258 - val_loss: 0.2523 - val_accuracy: 0.9000\n",
      "Epoch 3/5\n",
      "496/496 [==============================] - 25s 50ms/step - loss: 0.0921 - accuracy: 0.9631 - val_loss: 0.2634 - val_accuracy: 0.9096\n",
      "Epoch 4/5\n",
      "496/496 [==============================] - 25s 50ms/step - loss: 0.0592 - accuracy: 0.9758 - val_loss: 0.3052 - val_accuracy: 0.9149\n",
      "Word Analogy (acc):  0.007246376811594203\n",
      "Word Similarity (MSE):  0.6208373497168335\n",
      "Concept Categorization) (purity):  0.1270949720670391\n",
      "Epoch 1/5\n",
      "177/177 [==============================] - 16s 64ms/step - loss: 0.2846 - accuracy: 0.8928 - val_loss: 0.2104 - val_accuracy: 0.9183\n",
      "Epoch 2/5\n",
      "177/177 [==============================] - 10s 59ms/step - loss: 0.1315 - accuracy: 0.9510 - val_loss: 0.2249 - val_accuracy: 0.9115\n",
      "Epoch 3/5\n",
      "177/177 [==============================] - 11s 61ms/step - loss: 0.0865 - accuracy: 0.9661 - val_loss: 0.2836 - val_accuracy: 0.9009\n",
      "Epoch 4/5\n",
      "177/177 [==============================] - 10s 58ms/step - loss: 0.0596 - accuracy: 0.9749 - val_loss: 0.3041 - val_accuracy: 0.9064\n",
      "Epoch 5/5\n",
      "177/177 [==============================] - 10s 59ms/step - loss: 0.0538 - accuracy: 0.9767 - val_loss: 0.3286 - val_accuracy: 0.9065\n",
      "Sentiment Analysis (acc):  0.9064846717907943\n"
     ]
    }
   ],
   "source": [
    "from models.FastText import FastText\n",
    "\n",
    "a2c = {'pos': 0, 'neg' : 1}\n",
    "y = np.array([a2c[a] for a in data.label])\n",
    "y = to_categorical(y)\n",
    "\n",
    "maxlen = 128\n",
    "\n",
    "fmodel = FastText()\n",
    "embedding_dims = 100\n",
    "docs = list(data.tweet.values)\n",
    "docs = fmodel.create_docs(docs, n_gram_max=2)\n",
    "docs = [araby.tokenize(i) for i in docs]\n",
    "sentence_inds, vocab, num_tokens, word_index, index_word = helper.encode_tokens(docs)\n",
    "sentence_inds = pad_sequences(sequences=sentence_inds, maxlen=maxlen, padding='post', truncating='post')\n",
    "sentence_inds = np.array(sentence_inds)\n",
    "input_dim = np.max(sentence_inds) + 1\n",
    "\n",
    "\n",
    "model = fmodel.train(sentence_inds, y, input_dim)\n",
    "embeddings_index = helper.get_embedding_matrix(model, index_word)    \n",
    "wevaluator = evaluator(embeddings_index, preprocess, embedding_dims)\n",
    "scores = wevaluator.evaluate() #Sentiment analysis score has a data leak -- is useless here"
   ]
  },
  {
   "cell_type": "code",
   "execution_count": 4,
   "id": "1d1c86ca-a884-4e21-98ec-d7b227d6c096",
   "metadata": {},
   "outputs": [
    {
     "name": "stdout",
     "output_type": "stream",
     "text": [
      "Word Analogy (acc):  0.021739130434782608\n",
      "Word Similarity (MSE):  0.39865405146552174\n",
      "Concept Categorization) (purity):  0.1196461824953445\n",
      "Epoch 1/5\n",
      "177/177 [==============================] - 16s 64ms/step - loss: 0.6309 - accuracy: 0.6306 - val_loss: 0.5904 - val_accuracy: 0.6780\n",
      "Epoch 2/5\n",
      "177/177 [==============================] - 10s 58ms/step - loss: 0.5390 - accuracy: 0.7256 - val_loss: 0.5262 - val_accuracy: 0.7240\n",
      "Epoch 3/5\n",
      "177/177 [==============================] - 10s 58ms/step - loss: 0.3959 - accuracy: 0.8174 - val_loss: 0.5265 - val_accuracy: 0.7349\n",
      "Epoch 4/5\n",
      "177/177 [==============================] - 10s 58ms/step - loss: 0.2276 - accuracy: 0.9081 - val_loss: 0.6332 - val_accuracy: 0.7516\n",
      "Epoch 5/5\n",
      "177/177 [==============================] - 10s 58ms/step - loss: 0.1199 - accuracy: 0.9551 - val_loss: 0.7531 - val_accuracy: 0.7409\n",
      "Sentiment Analysis (acc):  0.7409223429631593\n"
     ]
    }
   ],
   "source": [
    "fasttext_model = gensim.models.FastText(sentences=tokens, vector_size=100, window=5, min_count=1, workers=4, seed=0)\n",
    "fasttext_model.build_vocab(tokens) \n",
    "fasttext_model.train(tokens, total_examples=fasttext_model.corpus_count, epochs=5)\n",
    "\n",
    "embeddings_index = helper.get_embedding_matrix(fasttext_model)\n",
    "wevaluator = evaluator(embeddings_index, preprocess, 100)\n",
    "scores = wevaluator.evaluate()"
   ]
  },
  {
   "cell_type": "code",
   "execution_count": null,
   "id": "3970636f-37e8-49ae-966c-8cf328c1261f",
   "metadata": {},
   "outputs": [],
   "source": []
  }
 ],
 "metadata": {
  "accelerator": "GPU",
  "colab": {
   "collapsed_sections": [],
   "name": "Demo.ipynb",
   "provenance": []
  },
  "kernelspec": {
   "display_name": "Python 3",
   "language": "python",
   "name": "python3"
  },
  "language_info": {
   "codemirror_mode": {
    "name": "ipython",
    "version": 3
   },
   "file_extension": ".py",
   "mimetype": "text/x-python",
   "name": "python",
   "nbconvert_exporter": "python",
   "pygments_lexer": "ipython3",
   "version": "3.8.10"
  },
  "widgets": {
   "application/vnd.jupyter.widget-state+json": {
    "1171428605b143d1bc00cee9e3ded25b": {
     "model_module": "@jupyter-widgets/base",
     "model_name": "LayoutModel",
     "state": {
      "_model_module": "@jupyter-widgets/base",
      "_model_module_version": "1.2.0",
      "_model_name": "LayoutModel",
      "_view_count": null,
      "_view_module": "@jupyter-widgets/base",
      "_view_module_version": "1.2.0",
      "_view_name": "LayoutView",
      "align_content": null,
      "align_items": null,
      "align_self": null,
      "border": null,
      "bottom": null,
      "display": null,
      "flex": null,
      "flex_flow": null,
      "grid_area": null,
      "grid_auto_columns": null,
      "grid_auto_flow": null,
      "grid_auto_rows": null,
      "grid_column": null,
      "grid_gap": null,
      "grid_row": null,
      "grid_template_areas": null,
      "grid_template_columns": null,
      "grid_template_rows": null,
      "height": null,
      "justify_content": null,
      "justify_items": null,
      "left": null,
      "margin": null,
      "max_height": null,
      "max_width": null,
      "min_height": null,
      "min_width": null,
      "object_fit": null,
      "object_position": null,
      "order": null,
      "overflow": null,
      "overflow_x": null,
      "overflow_y": null,
      "padding": null,
      "right": null,
      "top": null,
      "visibility": null,
      "width": null
     }
    },
    "252b6a14984545a684aeaff90818c2ae": {
     "model_module": "@jupyter-widgets/base",
     "model_name": "LayoutModel",
     "state": {
      "_model_module": "@jupyter-widgets/base",
      "_model_module_version": "1.2.0",
      "_model_name": "LayoutModel",
      "_view_count": null,
      "_view_module": "@jupyter-widgets/base",
      "_view_module_version": "1.2.0",
      "_view_name": "LayoutView",
      "align_content": null,
      "align_items": null,
      "align_self": null,
      "border": null,
      "bottom": null,
      "display": null,
      "flex": null,
      "flex_flow": null,
      "grid_area": null,
      "grid_auto_columns": null,
      "grid_auto_flow": null,
      "grid_auto_rows": null,
      "grid_column": null,
      "grid_gap": null,
      "grid_row": null,
      "grid_template_areas": null,
      "grid_template_columns": null,
      "grid_template_rows": null,
      "height": null,
      "justify_content": null,
      "justify_items": null,
      "left": null,
      "margin": null,
      "max_height": null,
      "max_width": null,
      "min_height": null,
      "min_width": null,
      "object_fit": null,
      "object_position": null,
      "order": null,
      "overflow": null,
      "overflow_x": null,
      "overflow_y": null,
      "padding": null,
      "right": null,
      "top": null,
      "visibility": null,
      "width": null
     }
    },
    "2dc4fa91529047369720a951d77e39e6": {
     "model_module": "@jupyter-widgets/controls",
     "model_name": "ProgressStyleModel",
     "state": {
      "_model_module": "@jupyter-widgets/controls",
      "_model_module_version": "1.5.0",
      "_model_name": "ProgressStyleModel",
      "_view_count": null,
      "_view_module": "@jupyter-widgets/base",
      "_view_module_version": "1.2.0",
      "_view_name": "StyleView",
      "bar_color": null,
      "description_width": "initial"
     }
    },
    "8a1c523e5a234220a6f0e1deab0e0083": {
     "model_module": "@jupyter-widgets/controls",
     "model_name": "HBoxModel",
     "state": {
      "_dom_classes": [],
      "_model_module": "@jupyter-widgets/controls",
      "_model_module_version": "1.5.0",
      "_model_name": "HBoxModel",
      "_view_count": null,
      "_view_module": "@jupyter-widgets/controls",
      "_view_module_version": "1.5.0",
      "_view_name": "HBoxView",
      "box_style": "",
      "children": [
       "IPY_MODEL_ede198ccc18446b3a021f8f0d21294ff",
       "IPY_MODEL_8fb5dd2f07cb4dcaad0a5d7dac81485f"
      ],
      "layout": "IPY_MODEL_252b6a14984545a684aeaff90818c2ae"
     }
    },
    "8fb5dd2f07cb4dcaad0a5d7dac81485f": {
     "model_module": "@jupyter-widgets/controls",
     "model_name": "HTMLModel",
     "state": {
      "_dom_classes": [],
      "_model_module": "@jupyter-widgets/controls",
      "_model_module_version": "1.5.0",
      "_model_name": "HTMLModel",
      "_view_count": null,
      "_view_module": "@jupyter-widgets/controls",
      "_view_module_version": "1.5.0",
      "_view_name": "HTMLView",
      "description": "",
      "description_tooltip": null,
      "layout": "IPY_MODEL_efd9a8f7521946f0b04681246bf6fb58",
      "placeholder": "​",
      "style": "IPY_MODEL_b670450c54df49c7959a58a55ccd977d",
      "value": " 170M/170M [00:09&lt;00:00, 18.5MB/s]"
     }
    },
    "b670450c54df49c7959a58a55ccd977d": {
     "model_module": "@jupyter-widgets/controls",
     "model_name": "DescriptionStyleModel",
     "state": {
      "_model_module": "@jupyter-widgets/controls",
      "_model_module_version": "1.5.0",
      "_model_name": "DescriptionStyleModel",
      "_view_count": null,
      "_view_module": "@jupyter-widgets/base",
      "_view_module_version": "1.2.0",
      "_view_name": "StyleView",
      "description_width": ""
     }
    },
    "ede198ccc18446b3a021f8f0d21294ff": {
     "model_module": "@jupyter-widgets/controls",
     "model_name": "FloatProgressModel",
     "state": {
      "_dom_classes": [],
      "_model_module": "@jupyter-widgets/controls",
      "_model_module_version": "1.5.0",
      "_model_name": "FloatProgressModel",
      "_view_count": null,
      "_view_module": "@jupyter-widgets/controls",
      "_view_module_version": "1.5.0",
      "_view_name": "ProgressView",
      "bar_style": "success",
      "description": "Downloading: 100%",
      "description_tooltip": null,
      "layout": "IPY_MODEL_1171428605b143d1bc00cee9e3ded25b",
      "max": 169735531,
      "min": 0,
      "orientation": "horizontal",
      "style": "IPY_MODEL_2dc4fa91529047369720a951d77e39e6",
      "value": 169735531
     }
    },
    "efd9a8f7521946f0b04681246bf6fb58": {
     "model_module": "@jupyter-widgets/base",
     "model_name": "LayoutModel",
     "state": {
      "_model_module": "@jupyter-widgets/base",
      "_model_module_version": "1.2.0",
      "_model_name": "LayoutModel",
      "_view_count": null,
      "_view_module": "@jupyter-widgets/base",
      "_view_module_version": "1.2.0",
      "_view_name": "LayoutView",
      "align_content": null,
      "align_items": null,
      "align_self": null,
      "border": null,
      "bottom": null,
      "display": null,
      "flex": null,
      "flex_flow": null,
      "grid_area": null,
      "grid_auto_columns": null,
      "grid_auto_flow": null,
      "grid_auto_rows": null,
      "grid_column": null,
      "grid_gap": null,
      "grid_row": null,
      "grid_template_areas": null,
      "grid_template_columns": null,
      "grid_template_rows": null,
      "height": null,
      "justify_content": null,
      "justify_items": null,
      "left": null,
      "margin": null,
      "max_height": null,
      "max_width": null,
      "min_height": null,
      "min_width": null,
      "object_fit": null,
      "object_position": null,
      "order": null,
      "overflow": null,
      "overflow_x": null,
      "overflow_y": null,
      "padding": null,
      "right": null,
      "top": null,
      "visibility": null,
      "width": null
     }
    }
   }
  }
 },
 "nbformat": 4,
 "nbformat_minor": 5
}
